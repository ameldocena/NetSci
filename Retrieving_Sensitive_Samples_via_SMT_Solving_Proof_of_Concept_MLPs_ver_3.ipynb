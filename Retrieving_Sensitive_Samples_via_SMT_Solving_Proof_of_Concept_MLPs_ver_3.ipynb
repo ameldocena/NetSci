{
  "nbformat": 4,
  "nbformat_minor": 0,
  "metadata": {
    "colab": {
      "name": "Retrieving Sensitive Samples via SMT Solving Proof of Concept - MLPs_ver 3.ipynb",
      "provenance": [],
      "collapsed_sections": [],
      "machine_shape": "hm",
      "include_colab_link": true
    },
    "kernelspec": {
      "name": "python3",
      "display_name": "Python 3"
    }
  },
  "cells": [
    {
      "cell_type": "markdown",
      "metadata": {
        "id": "view-in-github",
        "colab_type": "text"
      },
      "source": [
        "<a href=\"https://colab.research.google.com/github/ameldocena/NetSci/blob/master/Retrieving_Sensitive_Samples_via_SMT_Solving_Proof_of_Concept_MLPs_ver_3.ipynb\" target=\"_parent\"><img src=\"https://colab.research.google.com/assets/colab-badge.svg\" alt=\"Open In Colab\"/></a>"
      ]
    },
    {
      "cell_type": "markdown",
      "metadata": {
        "id": "H5SYJ1bpYVfV",
        "colab_type": "text"
      },
      "source": [
        "# Retrieving Sensitive Samples via SMT Solving Proof of Concept - MLPs\n",
        "We shall try experiments that will show the sensitivity of retrieved samples from different alternatives which we propose that an SMT solver can retrieve for us.  \n",
        "\n",
        "Body:  \n",
        "1. Simulate a DNN. Later on we can also take a real-world data set.\n",
        "2. Build a DNN by hand.\n",
        "3. Build a solver\n",
        "4. Alternative methods\n",
        "5. Graphs\n",
        "\n",
        "Author: Amel Docena  \n",
        "Date started: 30 Mar 2020  \n",
        "Updates: Mar 31. Apr 1. Apr 2. Apr 3. \n",
        "Date ended: \n"
      ]
    },
    {
      "cell_type": "code",
      "metadata": {
        "id": "oae_SCsBjLJc",
        "colab_type": "code",
        "outputId": "871039a9-9ed2-4506-f8dd-5997744ac8d1",
        "colab": {
          "base_uri": "https://localhost:8080/",
          "height": 1000
        }
      },
      "source": [
        "!cat /proc/cpuinfo"
      ],
      "execution_count": 0,
      "outputs": [
        {
          "output_type": "stream",
          "text": [
            "processor\t: 0\n",
            "vendor_id\t: GenuineIntel\n",
            "cpu family\t: 6\n",
            "model\t\t: 63\n",
            "model name\t: Intel(R) Xeon(R) CPU @ 2.30GHz\n",
            "stepping\t: 0\n",
            "microcode\t: 0x1\n",
            "cpu MHz\t\t: 2300.000\n",
            "cache size\t: 46080 KB\n",
            "physical id\t: 0\n",
            "siblings\t: 4\n",
            "core id\t\t: 0\n",
            "cpu cores\t: 2\n",
            "apicid\t\t: 0\n",
            "initial apicid\t: 0\n",
            "fpu\t\t: yes\n",
            "fpu_exception\t: yes\n",
            "cpuid level\t: 13\n",
            "wp\t\t: yes\n",
            "flags\t\t: fpu vme de pse tsc msr pae mce cx8 apic sep mtrr pge mca cmov pat pse36 clflush mmx fxsr sse sse2 ss ht syscall nx pdpe1gb rdtscp lm constant_tsc rep_good nopl xtopology nonstop_tsc cpuid tsc_known_freq pni pclmulqdq ssse3 fma cx16 pcid sse4_1 sse4_2 x2apic movbe popcnt aes xsave avx f16c rdrand hypervisor lahf_lm abm invpcid_single ssbd ibrs ibpb stibp fsgsbase tsc_adjust bmi1 avx2 smep bmi2 erms invpcid xsaveopt arat md_clear arch_capabilities\n",
            "bugs\t\t: cpu_meltdown spectre_v1 spectre_v2 spec_store_bypass l1tf mds swapgs itlb_multihit\n",
            "bogomips\t: 4600.00\n",
            "clflush size\t: 64\n",
            "cache_alignment\t: 64\n",
            "address sizes\t: 46 bits physical, 48 bits virtual\n",
            "power management:\n",
            "\n",
            "processor\t: 1\n",
            "vendor_id\t: GenuineIntel\n",
            "cpu family\t: 6\n",
            "model\t\t: 63\n",
            "model name\t: Intel(R) Xeon(R) CPU @ 2.30GHz\n",
            "stepping\t: 0\n",
            "microcode\t: 0x1\n",
            "cpu MHz\t\t: 2300.000\n",
            "cache size\t: 46080 KB\n",
            "physical id\t: 0\n",
            "siblings\t: 4\n",
            "core id\t\t: 1\n",
            "cpu cores\t: 2\n",
            "apicid\t\t: 2\n",
            "initial apicid\t: 2\n",
            "fpu\t\t: yes\n",
            "fpu_exception\t: yes\n",
            "cpuid level\t: 13\n",
            "wp\t\t: yes\n",
            "flags\t\t: fpu vme de pse tsc msr pae mce cx8 apic sep mtrr pge mca cmov pat pse36 clflush mmx fxsr sse sse2 ss ht syscall nx pdpe1gb rdtscp lm constant_tsc rep_good nopl xtopology nonstop_tsc cpuid tsc_known_freq pni pclmulqdq ssse3 fma cx16 pcid sse4_1 sse4_2 x2apic movbe popcnt aes xsave avx f16c rdrand hypervisor lahf_lm abm invpcid_single ssbd ibrs ibpb stibp fsgsbase tsc_adjust bmi1 avx2 smep bmi2 erms invpcid xsaveopt arat md_clear arch_capabilities\n",
            "bugs\t\t: cpu_meltdown spectre_v1 spectre_v2 spec_store_bypass l1tf mds swapgs itlb_multihit\n",
            "bogomips\t: 4600.00\n",
            "clflush size\t: 64\n",
            "cache_alignment\t: 64\n",
            "address sizes\t: 46 bits physical, 48 bits virtual\n",
            "power management:\n",
            "\n",
            "processor\t: 2\n",
            "vendor_id\t: GenuineIntel\n",
            "cpu family\t: 6\n",
            "model\t\t: 63\n",
            "model name\t: Intel(R) Xeon(R) CPU @ 2.30GHz\n",
            "stepping\t: 0\n",
            "microcode\t: 0x1\n",
            "cpu MHz\t\t: 2300.000\n",
            "cache size\t: 46080 KB\n",
            "physical id\t: 0\n",
            "siblings\t: 4\n",
            "core id\t\t: 0\n",
            "cpu cores\t: 2\n",
            "apicid\t\t: 1\n",
            "initial apicid\t: 1\n",
            "fpu\t\t: yes\n",
            "fpu_exception\t: yes\n",
            "cpuid level\t: 13\n",
            "wp\t\t: yes\n",
            "flags\t\t: fpu vme de pse tsc msr pae mce cx8 apic sep mtrr pge mca cmov pat pse36 clflush mmx fxsr sse sse2 ss ht syscall nx pdpe1gb rdtscp lm constant_tsc rep_good nopl xtopology nonstop_tsc cpuid tsc_known_freq pni pclmulqdq ssse3 fma cx16 pcid sse4_1 sse4_2 x2apic movbe popcnt aes xsave avx f16c rdrand hypervisor lahf_lm abm invpcid_single ssbd ibrs ibpb stibp fsgsbase tsc_adjust bmi1 avx2 smep bmi2 erms invpcid xsaveopt arat md_clear arch_capabilities\n",
            "bugs\t\t: cpu_meltdown spectre_v1 spectre_v2 spec_store_bypass l1tf mds swapgs itlb_multihit\n",
            "bogomips\t: 4600.00\n",
            "clflush size\t: 64\n",
            "cache_alignment\t: 64\n",
            "address sizes\t: 46 bits physical, 48 bits virtual\n",
            "power management:\n",
            "\n",
            "processor\t: 3\n",
            "vendor_id\t: GenuineIntel\n",
            "cpu family\t: 6\n",
            "model\t\t: 63\n",
            "model name\t: Intel(R) Xeon(R) CPU @ 2.30GHz\n",
            "stepping\t: 0\n",
            "microcode\t: 0x1\n",
            "cpu MHz\t\t: 2300.000\n",
            "cache size\t: 46080 KB\n",
            "physical id\t: 0\n",
            "siblings\t: 4\n",
            "core id\t\t: 1\n",
            "cpu cores\t: 2\n",
            "apicid\t\t: 3\n",
            "initial apicid\t: 3\n",
            "fpu\t\t: yes\n",
            "fpu_exception\t: yes\n",
            "cpuid level\t: 13\n",
            "wp\t\t: yes\n",
            "flags\t\t: fpu vme de pse tsc msr pae mce cx8 apic sep mtrr pge mca cmov pat pse36 clflush mmx fxsr sse sse2 ss ht syscall nx pdpe1gb rdtscp lm constant_tsc rep_good nopl xtopology nonstop_tsc cpuid tsc_known_freq pni pclmulqdq ssse3 fma cx16 pcid sse4_1 sse4_2 x2apic movbe popcnt aes xsave avx f16c rdrand hypervisor lahf_lm abm invpcid_single ssbd ibrs ibpb stibp fsgsbase tsc_adjust bmi1 avx2 smep bmi2 erms invpcid xsaveopt arat md_clear arch_capabilities\n",
            "bugs\t\t: cpu_meltdown spectre_v1 spectre_v2 spec_store_bypass l1tf mds swapgs itlb_multihit\n",
            "bogomips\t: 4600.00\n",
            "clflush size\t: 64\n",
            "cache_alignment\t: 64\n",
            "address sizes\t: 46 bits physical, 48 bits virtual\n",
            "power management:\n",
            "\n"
          ],
          "name": "stdout"
        }
      ]
    },
    {
      "cell_type": "code",
      "metadata": {
        "id": "N3_APM_K1gwC",
        "colab_type": "code",
        "colab": {}
      },
      "source": [
        "#!pip install -U --pre tensorflow-gpu"
      ],
      "execution_count": 0,
      "outputs": []
    },
    {
      "cell_type": "code",
      "metadata": {
        "id": "OBjwxhSjYUK1",
        "colab_type": "code",
        "outputId": "0299ac8a-8ae4-4d8f-9ee9-f70d3b289d20",
        "colab": {
          "base_uri": "https://localhost:8080/",
          "height": 122
        }
      },
      "source": [
        "!pip install z3-solver"
      ],
      "execution_count": 0,
      "outputs": [
        {
          "output_type": "stream",
          "text": [
            "Collecting z3-solver\n",
            "\u001b[?25l  Downloading https://files.pythonhosted.org/packages/a3/75/3a1d4c044082baf017e08df32c39974ec34fcfa068b6a7b0cd4bfbf1ccfb/z3_solver-4.8.7.0-py2.py3-none-manylinux1_x86_64.whl (19.3MB)\n",
            "\u001b[K     |████████████████████████████████| 19.3MB 1.3MB/s \n",
            "\u001b[?25hInstalling collected packages: z3-solver\n",
            "Successfully installed z3-solver-4.8.7.0\n"
          ],
          "name": "stdout"
        }
      ]
    },
    {
      "cell_type": "code",
      "metadata": {
        "id": "l5jnxsX6Fp-l",
        "colab_type": "code",
        "outputId": "4a4bd872-0d8d-4bfe-8d65-8e2da7336675",
        "colab": {
          "base_uri": "https://localhost:8080/",
          "height": 122
        }
      },
      "source": [
        "from google.colab import drive\n",
        "drive.mount('/content/gdrive')"
      ],
      "execution_count": 0,
      "outputs": [
        {
          "output_type": "stream",
          "text": [
            "Go to this URL in a browser: https://accounts.google.com/o/oauth2/auth?client_id=947318989803-6bn6qk8qdgf4n4g3pfee6491hc0brc4i.apps.googleusercontent.com&redirect_uri=urn%3aietf%3awg%3aoauth%3a2.0%3aoob&response_type=code&scope=email%20https%3a%2f%2fwww.googleapis.com%2fauth%2fdocs.test%20https%3a%2f%2fwww.googleapis.com%2fauth%2fdrive%20https%3a%2f%2fwww.googleapis.com%2fauth%2fdrive.photos.readonly%20https%3a%2f%2fwww.googleapis.com%2fauth%2fpeopleapi.readonly\n",
            "\n",
            "Enter your authorization code:\n",
            "··········\n",
            "Mounted at /content/gdrive\n"
          ],
          "name": "stdout"
        }
      ]
    },
    {
      "cell_type": "code",
      "metadata": {
        "id": "gRhKG2pjZRXF",
        "colab_type": "code",
        "colab": {}
      },
      "source": [
        "from z3 import *\n",
        "import tensorflow as tf\n",
        "import numpy as np\n",
        "import time\n",
        "import math as m\n",
        "import random as rn\n",
        "import pickle\n",
        "import matplotlib.pyplot as plt"
      ],
      "execution_count": 0,
      "outputs": []
    },
    {
      "cell_type": "code",
      "metadata": {
        "id": "weT3Kebld3Gh",
        "colab_type": "code",
        "colab": {}
      },
      "source": [
        "# import tensorflow as tf\n",
        "\n",
        "feats = 5 #number of input features\n",
        "# model = tf.keras.models.Sequential([tf.keras.layers.Dense(5, input_shape = (feats, ), activation = tf.nn.relu),\n",
        "#                                     tf.keras.layers.Dense(5, activation = tf.nn.relu),\n",
        "#                                     tf.keras.layers.Dense(1, activation = tf.nn.sigmoid)])\n",
        "# model.compile(optimizer='rmsprop', loss='binary_crossentropy', metrics=['accuracy'])\n",
        "              \n",
        "# Generate dummy data\n",
        "np.random.seed(1234)\n",
        "\n",
        "#Here we simulate pixel inputs between [0, 255]\n",
        "data = np.random.randint(0, 255, (10000, feats))/255 #we rescale the inputs between [0, 1]\n",
        "labels = np.random.randint(2, size=(10000, 1))\n",
        "\n",
        "# Train the model, iterating on the data in batches of 32 samples\n",
        "# model.fit(data, labels, epochs=10, batch_size=1000)\n",
        "# model.save(\"/content/gdrive/My Drive/simulated_mlp.h5\")              "
      ],
      "execution_count": 0,
      "outputs": []
    },
    {
      "cell_type": "code",
      "metadata": {
        "id": "aF4tbUavF1dk",
        "colab_type": "code",
        "outputId": "d2a7cca2-fabd-466d-81d4-862739946bf9",
        "colab": {
          "base_uri": "https://localhost:8080/",
          "height": 323
        }
      },
      "source": [
        "#Load the trained model\n",
        "model = tf.keras.models.load_model(\"/content/gdrive/My Drive/simulated_mlp.h5\")\n",
        "params = model.get_weights()\n",
        "print(\"Trained model weights:\", params)"
      ],
      "execution_count": 0,
      "outputs": [
        {
          "output_type": "stream",
          "text": [
            "WARNING:tensorflow:Error in loading the saved optimizer state. As a result, your model is starting with a freshly initialized optimizer.\n",
            "Trained model weights: [array([[ 0.37967074,  0.5596039 , -0.7366209 , -0.28183615, -0.38251448],\n",
            "       [ 0.4717966 ,  0.4437042 , -0.5648101 , -0.5899938 ,  0.5305186 ],\n",
            "       [ 0.43645683,  0.41250747, -0.4090513 ,  0.39053267, -0.12813646],\n",
            "       [ 0.3251615 ,  0.6047335 , -0.49429867, -0.05936195,  0.67315966],\n",
            "       [-0.26735654, -0.27181953,  0.3767387 , -0.37615106,  0.6860024 ]],\n",
            "      dtype=float32), array([-0.05240263,  0.05733198,  0.01772672, -0.01130863, -0.05929317],\n",
            "      dtype=float32), array([[ 0.24453026, -0.2242428 ,  0.5843106 ,  0.317849  ,  0.38699338],\n",
            "       [-0.06821752, -0.60588133, -0.4516444 ,  0.789883  , -0.69673383],\n",
            "       [-0.43143904,  0.16242248, -0.0687018 ,  0.55008376,  0.7060163 ],\n",
            "       [ 0.7079289 , -0.3274759 ,  0.7401523 ,  0.33462423,  0.49848706],\n",
            "       [ 0.49951464, -0.09326637, -0.403249  , -0.58855516,  0.03080926]],\n",
            "      dtype=float32), array([-0.05477079,  0.        , -0.00274935,  0.05645065,  0.02942853],\n",
            "      dtype=float32), array([[ 0.43646726],\n",
            "       [ 0.6791823 ],\n",
            "       [ 0.7737113 ],\n",
            "       [-0.155146  ],\n",
            "       [-0.33566788]], dtype=float32), array([-0.05474095], dtype=float32)]\n"
          ],
          "name": "stdout"
        }
      ]
    },
    {
      "cell_type": "markdown",
      "metadata": {
        "id": "LrTGBumJhR3V",
        "colab_type": "text"
      },
      "source": [
        "## Forward propagation\n",
        "We shall hand code fordward propagation of an MLP. This will come in handy for Alternative 1 where we approximate the optimal sensitivity.\n"
      ]
    },
    {
      "cell_type": "code",
      "metadata": {
        "id": "0cY3dwS3cZra",
        "colab_type": "code",
        "colab": {}
      },
      "source": [
        "def StoreParams(params):\n",
        "    \"\"\"\n",
        "    This function shall take in the parameters of Keras output and segregate the weights and biases, \n",
        "    storing them into separate containers.\n",
        "    \n",
        "    Inputs:\n",
        "    params - parameters output by Keras\n",
        "    \n",
        "    Return:\n",
        "    A dictionary which contains W, a container for the weights, and B, a container for the biases\n",
        "    \"\"\"\n",
        "    \n",
        "    #Store the weights and biases\n",
        "    W = dict()\n",
        "    B = dict()\n",
        "    params_dummy = params\n",
        "    for layer in range(int(len(params)/2)):\n",
        "        W['W'+str(layer+1)] = params_dummy[0]\n",
        "        B['B'+str(layer+1)] = params_dummy[1]\n",
        "        params_dummy = params_dummy[2:]\n",
        "\n",
        "    #print(\"Weights:\", W)\n",
        "    #print(\"Biases:\", B)\n",
        "    \n",
        "    #Output\n",
        "    output = dict()\n",
        "    output['W'] = W\n",
        "    output['B'] = B\n",
        "    \n",
        "    return output"
      ],
      "execution_count": 0,
      "outputs": []
    },
    {
      "cell_type": "code",
      "metadata": {
        "id": "oHuKU8HGsIzb",
        "colab_type": "code",
        "colab": {}
      },
      "source": [
        "def ReLU(x):\n",
        "  #Returns a ReLU activated\n",
        "  return x*(x>0)"
      ],
      "execution_count": 0,
      "outputs": []
    },
    {
      "cell_type": "code",
      "metadata": {
        "id": "DTSFhQ1QVsOp",
        "colab_type": "code",
        "colab": {}
      },
      "source": [
        "def Sigmoid(x):\n",
        "  #Returns sigmoid of x\n",
        "  return 1/(1+np.exp(-x))"
      ],
      "execution_count": 0,
      "outputs": []
    },
    {
      "cell_type": "code",
      "metadata": {
        "id": "LUkrzWOEigTE",
        "colab_type": "code",
        "colab": {}
      },
      "source": [
        "def ForwardProp(data, W, B):\n",
        "    \"\"\"\n",
        "    This function shall forward propagate the data/inputs through the DNN and compute output.\n",
        "    \n",
        "    Inputs:\n",
        "    data - input data\n",
        "    W - weights matrix\n",
        "    B - biases\n",
        "    \n",
        "    Return: A dictionary containing linear forward layers and activated layers, which include predictions\n",
        "    \"\"\"\n",
        "    \n",
        "    #Instantiate\n",
        "    Z = dict() #container for linear layers\n",
        "    A = dict() #container for activated layers\n",
        "    A['A0'] = data.T #training data\n",
        "    \n",
        "    #Do forward propagation\n",
        "    for layer in range(len(W)):\n",
        "        weight = np.vstack((W['W'+str(layer+1)], B['B'+str(layer+1)]))\n",
        "        variable = np.vstack((A['A'+str(layer)], np.ones(A['A'+str(layer)].shape[1])))\n",
        "        Z['Z'+str(layer+1)] = np.dot(weight.T, variable)\n",
        "        A['A'+str(layer+1)] = ReLU(Z['Z'+str(layer+1)])\n",
        "    A.pop('A'+str(len(W)))\n",
        "    #print(\"Linear layers:\", Z)\n",
        "    #print(\"Activated layers:\", A)\n",
        "    \n",
        "    yhat = Sigmoid(Z['Z'+str(len(W))])\n",
        "    \n",
        "    #Output\n",
        "    output = dict()\n",
        "    output['Z'] = Z\n",
        "    output['A'] = A\n",
        "    output['yhat'] = yhat\n",
        "    \n",
        "    return output"
      ],
      "execution_count": 0,
      "outputs": []
    },
    {
      "cell_type": "code",
      "metadata": {
        "id": "bw0aHM2JxRws",
        "colab_type": "code",
        "colab": {}
      },
      "source": [
        "#Compute the percentage change: Given a vector of percentage change in weight for each of the neurons of the last layer, we shall compute for the\n",
        "#unit change in the weights.\n",
        "\n",
        "def Delta(change, weight):\n",
        "    \"\"\"\n",
        "    Computes the corresponding unit change in weight for each of the neurons of the last layer given a vector\n",
        "    of percentage change.\n",
        "    \n",
        "    Inputs:\n",
        "    change - a vector of percentage change (+/-) for each of the neuron weights of the output layer\n",
        "    weights - weights of the output layer\n",
        "    \n",
        "    Return: a vector of corresponding unit weight change for the neurons of the output layer\n",
        "    \"\"\"\n",
        "    return np.multiply(weight, np.array([change]).T)"
      ],
      "execution_count": 0,
      "outputs": []
    },
    {
      "cell_type": "code",
      "metadata": {
        "id": "LME6xobVxSkw",
        "colab_type": "code",
        "colab": {}
      },
      "source": [
        "#Approximate mhat\n",
        "\n",
        "def Mhat(delta, weight, layer):\n",
        "    \"\"\"\n",
        "    Approximates the mhat that corresponds to the max sensitivity after a weight change in the output layer.\n",
        "    \n",
        "    Inputs:\n",
        "    #change - a vector of percent changes in the weights of the output layer\n",
        "    delta - unit weight change for the neurons in the output layer\n",
        "    weight - weight matrix of the output layer\n",
        "    layer - A[L-1] layer, i.e., the activated layer prior to the output layer\n",
        "    \n",
        "    Return: max sensitivity for a given weight change, delta\n",
        "    \"\"\"\n",
        "    m = np.dot(delta.T, layer) #sensitivity of all samples after a weight change, delta\n",
        "    mhat_index = np.argmax(np.abs(m)) #index that corresponds to the max sensitivity in absolute terms\n",
        "    mhat = m[0, mhat_index]\n",
        "    print(\"mhat:\", mhat)\n",
        "    return mhat"
      ],
      "execution_count": 0,
      "outputs": []
    },
    {
      "cell_type": "code",
      "metadata": {
        "id": "nO5BiH7rQbIp",
        "colab_type": "code",
        "colab": {}
      },
      "source": [
        "def simulateWeightChange(perc_change, target_shape):\n",
        "  \"\"\"\n",
        "  This function simulates a weight change by repeating perc_change by the length\n",
        "  of the target weight. Equivalently, this applies a uniform perc_change to each\n",
        "  of the neurons in the target layer.\n",
        "  Inputs:\n",
        "    perc_change - percent change applied to a neuron weight\n",
        "    target_shape - the number of neurons in target layer whose weight will be \n",
        "      applied with perc_change\n",
        "  Returns: the change vector\n",
        "  \"\"\"\n",
        "  change = np.repeat(perc_change, target_shape)\n",
        "  return change"
      ],
      "execution_count": 0,
      "outputs": []
    },
    {
      "cell_type": "markdown",
      "metadata": {
        "id": "qotiTHWJxZYm",
        "colab_type": "text"
      },
      "source": [
        "### Step 3. Develop a Tool that spells out the formulas to a Solver\n",
        "Given weights and bias matrices, can we spell out the formulas to a solver? Here we shall use the Z3 Python API."
      ]
    },
    {
      "cell_type": "code",
      "metadata": {
        "id": "7v2hGVsZQ0dG",
        "colab_type": "code",
        "colab": {}
      },
      "source": [
        "#Activation fcn: ReLU in Z3\n",
        "def ReLU_z3(x):\n",
        "    \"\"\"\n",
        "    This function defines ReLU in Z3.\n",
        "    \"\"\"\n",
        "    return If(x<=0, 0, x)"
      ],
      "execution_count": 0,
      "outputs": []
    },
    {
      "cell_type": "code",
      "metadata": {
        "id": "V4l0FGCjyAYh",
        "colab_type": "code",
        "colab": {}
      },
      "source": [
        "def SensitiveSample(S, inputs):\n",
        "    \"\"\"\n",
        "    This shall compile the sensitive sample, if any, into an array/list.\n",
        "    \n",
        "    Inputs:\n",
        "    S - solver\n",
        "    inputs - input variables\n",
        "    \n",
        "    Return: Sensitive sample, if any, stored in a list\n",
        "    \"\"\"\n",
        "    \n",
        "    if str(S.check())=='sat':\n",
        "        sensitive_sample = list()\n",
        "        for var in inputs:\n",
        "            sensitive_sample.append(S.model()[var])\n",
        "        return sensitive_sample\n",
        "    \n",
        "    else:\n",
        "        print(\"Model unsatisfiable\")\n",
        "        return None"
      ],
      "execution_count": 0,
      "outputs": []
    },
    {
      "cell_type": "code",
      "metadata": {
        "id": "-isgzO0lxv_S",
        "colab_type": "code",
        "colab": {}
      },
      "source": [
        "def CheckModel(s, check = False):\n",
        "    \"\"\"\n",
        "    Checks whether model is satisifiable. If yes, prints the model.\n",
        "    Otherwise, prints unsatisfiable.\n",
        "    \"\"\"\n",
        "    tic = time.process_time()\n",
        "    if str(s.check())=='sat':\n",
        "        print(s.check())\n",
        "        if check is True:\n",
        "          print(s.model())\n",
        "        toc = time.process_time()\n",
        "        runtime = str(1000*(toc - tic))\n",
        "        print (\"\\nComputation time = \" + runtime + \"ms\")\n",
        "\n",
        "    else:\n",
        "        print(s.check())\n",
        "        toc = time.process_time()\n",
        "        runtime = str(1000*(toc - tic))\n",
        "        print (\"\\nComputation time = \" + runtime + \"ms\")\n",
        "    return runtime"
      ],
      "execution_count": 0,
      "outputs": []
    },
    {
      "cell_type": "code",
      "metadata": {
        "id": "HEh349jzDQTF",
        "colab_type": "code",
        "colab": {}
      },
      "source": [
        "#We have to enforce a range for possible values of our inputs\n",
        "def MLPSolverBuilder1(W, B, change, input_range = None, check = False):\n",
        "  \"\"\"\n",
        "  This function builds a solver for an MLP type of DNN. The variables are declared as double-precision floating point numbers.\n",
        "  And the activation function in the hidden layers is ReLU. The final neuron that is computed is the linear forward in the output layer.\n",
        "  Inputs: \n",
        "    W, B - trained weight matrix and bias matrix,\n",
        "    input_range - a tuple of range of possible values of our sensitive sample\n",
        "    #mhat - approximated sensitivity\n",
        "    change - vector containing percent weight change applied in the output layer\n",
        "  Return: Solver for an MLP\n",
        "  \"\"\"\n",
        "\n",
        "  #Step 1: Instantiate Z3 variables as double-precision floating pt numbers\n",
        "  variables = dict()\n",
        "\n",
        "  #Linear forward variables\n",
        "  for layer in range(len(W)):\n",
        "      variables['z' + str(layer+1)] = list()\n",
        "      for neuron in range(W['W'+str(layer+1)].shape[0]):\n",
        "          variables['z' + str(layer+1)].append(Real('z' + str(layer+1) + \"_\" + str(neuron+1)))\n",
        "\n",
        "  #Activation variables\n",
        "  for layer in range(len(W)):\n",
        "      variables['a' + str(layer)] = list()\n",
        "      for neuron in range(W['W'+str(layer+1)].shape[0]):\n",
        "          variables['a' + str(layer)].append(Real('a' + str(layer) + \"_\" + str(neuron+1)))\n",
        "\n",
        "  #Dot product between the paramters and the z3 variables to spell out the formulas\n",
        "  formulas = dict()\n",
        "  for layer in range(len(W)):\n",
        "      weights = np.vstack((W['W'+str(layer+1)], B['B'+str(layer+1)]))\n",
        "      var = variables['a'+str(layer)].copy()\n",
        "      var.append(1)\n",
        "      formulas['z'+str(layer+1)] = np.dot(weights.T, var)\n",
        "\n",
        "  #Step 2. Set up the solver\n",
        "  S = Solver()\n",
        "\n",
        "  #Linear formulas\n",
        "  for layer in range(len(W)):\n",
        "      for neuron in range(len(formulas['z'+str(layer+1)])):\n",
        "          S.add(variables['z' + str(layer+1)][neuron] == formulas['z'+str(layer+1)][neuron])\n",
        "          \n",
        "  #Activation formulas\n",
        "  if len(W)>1:\n",
        "      for layer in range(1, len(W)):\n",
        "          for neuron in range(len(variables['a'+str(layer)])):\n",
        "              S.add(variables['a'+str(layer)][neuron] == ReLU_z3(variables['z'+str(layer)][neuron]))\n",
        "\n",
        "  #Range of each sensitive input\n",
        "  if input_range!=None:\n",
        "    xmin = input_range[0] #min delta\n",
        "    xmax = input_range[1] #max delta\n",
        "    for input in variables['a0']:\n",
        "        S.add(And(input>=xmin, input<=xmax))\n",
        "  else: print(\"No input range given.\")\n",
        "\n",
        "  #Optimal condition formula(s)\n",
        "  delta = Delta(change, W['W'+str(len(W))])\n",
        "  mhat = Mhat(delta, W['W'+str(len(W))], A['A'+str(len(W)-1)])\n",
        "  print(\"z-star:\", -mhat/2)\n",
        "  S.add(variables['z'+str(len(W))][0] == -mhat/2) #optimal condition for the output layer\n",
        "  S.add(np.dot(variables['a'+str(len(W)-1)], delta)[0] == mhat) #maximum sensitivity\n",
        "\n",
        "  #Check model\n",
        "  runtime = CheckModel(S, check)\n",
        "  if check is True:\n",
        "    S\n",
        "  #Store the samples if satisfiable\n",
        "  sens_sample = SensitiveSample(S, variables['a0'])\n",
        "  print(\"Solved sample:\", sens_sample)\n",
        "  \n",
        "  output = dict()\n",
        "  output['model'] = S\n",
        "  output['sens_sample'] = sens_sample\n",
        "  output['runtime'] = runtime\n",
        "  return output                   "
      ],
      "execution_count": 0,
      "outputs": []
    },
    {
      "cell_type": "code",
      "metadata": {
        "id": "JZSlV7kYl_en",
        "colab_type": "code",
        "colab": {}
      },
      "source": [
        "check = False\n",
        "if check==True:\n",
        "  print(True)\n",
        "if check is True:\n",
        "  print(True)"
      ],
      "execution_count": 0,
      "outputs": []
    },
    {
      "cell_type": "markdown",
      "metadata": {
        "id": "b0yBCnSyxo2e",
        "colab_type": "text"
      },
      "source": [
        "### Step 4. Solve for Sensitive Sample\n",
        "Here our conditions for the sensitive sample is that it should be around the decision boundary, such that after the tweaking the label will be misclassified than what it should have been."
      ]
    },
    {
      "cell_type": "code",
      "metadata": {
        "id": "vJNlW__GUmwe",
        "colab_type": "code",
        "colab": {}
      },
      "source": [
        "#Stored variables and parameters\n",
        "W = StoreParams(params)['W']\n",
        "B = StoreParams(params)['B']\n",
        "\n",
        "manual = ForwardProp(data, W, B)\n",
        "Z = manual['Z']\n",
        "A = manual['A']"
      ],
      "execution_count": 0,
      "outputs": []
    },
    {
      "cell_type": "code",
      "metadata": {
        "id": "YidEakmSiWEM",
        "colab_type": "code",
        "outputId": "e27f77f7-7bb5-4ee9-ede9-3d002a4e27a3",
        "colab": {
          "base_uri": "https://localhost:8080/",
          "height": 119
        }
      },
      "source": [
        "#Sanity Check\n",
        "#We ensure that our forward propagation is correct. We can compare our predictions to the predictions made by Tensorflow\n",
        "manual = ForwardProp(data, W, B) #manual predictions\n",
        "predict = model.predict(data) #predictions made by Tensorflow\n",
        "print(\"Sanity check, (pred, manual): Should be the same\\n\", np.concatenate((predict, manual['yhat'].T), axis = 1)[0:5, :])"
      ],
      "execution_count": 0,
      "outputs": [
        {
          "output_type": "stream",
          "text": [
            "Sanity check, (pred, manual): Should be the same\n",
            " [[0.53862649 0.53862649]\n",
            " [0.50971961 0.5097196 ]\n",
            " [0.5269596  0.5269596 ]\n",
            " [0.49266088 0.49266089]\n",
            " [0.48871589 0.48871589]]\n"
          ],
          "name": "stdout"
        }
      ]
    },
    {
      "cell_type": "code",
      "metadata": {
        "id": "7iq_1vXpn8jq",
        "colab_type": "code",
        "outputId": "b3da349e-46cc-4fd4-e74a-14afeb282dcf",
        "colab": {
          "base_uri": "https://localhost:8080/",
          "height": 581
        }
      },
      "source": [
        "#Solve for sensitive sample\n",
        "change = [0, 0, 0, 0, -0.5]\n",
        "S1 = MLPSolverBuilder1(W, B, change, input_range=(0, 1), check = True)"
      ],
      "execution_count": 0,
      "outputs": [
        {
          "output_type": "stream",
          "text": [
            "mhat: 0.03335245107937848\n",
            "z-star: -0.01667622553968924\n",
            "sat\n",
            "[a1_3 = 5759759532785879594704626184001356703770749532419932507545881429/27924874399451924053323962618454808963101169572600678744440856773,\n",
            " z3_1 = -416905638492231/25000000000000000,\n",
            " z1_3 = 5759759532785879594704626184001356703770749532419932507545881429/27924874399451924053323962618454808963101169572600678744440856773,\n",
            " a2_4 = 0,\n",
            " a0_2 = 5728228255396425370021240824467576469060508657909797203509080737862966752159649246059254467230319/20202395816022861727515286640721496321637181447639041445790599859858737600319587931521630216849905,\n",
            " a2_5 = 555874184656308/2797232319911321,\n",
            " z2_1 = 29306497660467424237818534162359/122090032659723699478975862924320,\n",
            " a0_4 = 0,\n",
            " a0_1 = 0,\n",
            " z2_3 = -364982196787168897240308026150875525775477606834074533643698441959052564047859929/1116994975978076962132958504738192358524046782904027149777634270920000000000000000,\n",
            " z2_5 = 555874184656308/2797232319911321,\n",
            " a2_2 = 0,\n",
            " z1_4 = -1066603862655793405691921490419708551409264158696872558474717812077391748808094976709948745606832720510517277495231/2020239581602286172751528664072149632163718144763904144579059985985873760031958793152163021684990500000000000000000,\n",
            " z1_2 = -121987675876182878876401332749649875162875616060924083517161676596180149456287257617240189920253534820740980348489/2020239581602286172751528664072149632163718144763904144579059985985873760031958793152163021684990500000000000000000,\n",
            " a1_5 = 21455909390744142090210244999059562684145538727035652186627195657/27924874399451924053323962618454808963101169572600678744440856773,\n",
            " a1_4 = 0,\n",
            " a0_3 = 1385785159127762058534562586262514768984239800013790816995899362646960481082930502145087042528769/20202395816022861727515286640721496321637181447639041445790599859858737600319587931521630216849905,\n",
            " z2_2 = -106560032198452784625060395641476620322171801117975388978069906043436010362702859/2792487439945192405332396261845480896310116957260067874444085677300000000000000000,\n",
            " a2_3 = 0,\n",
            " z2_4 = -394162937715718399163319176092414754154457521734204059069011948008268413538383609/1396243719972596202666198130922740448155058478630033937222042838650000000000000000,\n",
            " z1_5 = 21455909390744142090210244999059562684145538727035652186627195657/27924874399451924053323962618454808963101169572600678744440856773,\n",
            " z1_1 = -157625369986226523996098110297023153369665865048272045419981146208780333880001744434760138000902827506166329816759/1010119790801143086375764332036074816081859072381952072289529992992936880015979396576081510842495250000000000000000,\n",
            " a1_2 = 0,\n",
            " a0_5 = 1,\n",
            " a2_1 = 29306497660467424237818534162359/122090032659723699478975862924320,\n",
            " a1_1 = 0]\n",
            "\n",
            "Computation time = 1365.9733339999996ms\n",
            "Solved sample: [0, 5728228255396425370021240824467576469060508657909797203509080737862966752159649246059254467230319/20202395816022861727515286640721496321637181447639041445790599859858737600319587931521630216849905, 1385785159127762058534562586262514768984239800013790816995899362646960481082930502145087042528769/20202395816022861727515286640721496321637181447639041445790599859858737600319587931521630216849905, 0, 1]\n"
          ],
          "name": "stdout"
        }
      ]
    },
    {
      "cell_type": "code",
      "metadata": {
        "id": "GFr66dV2rAJ9",
        "colab_type": "code",
        "outputId": "466cbff5-ce48-4d1d-e3a5-db053aebc395",
        "colab": {
          "base_uri": "https://localhost:8080/",
          "height": 34
        }
      },
      "source": [
        "#Sensitive sample\n",
        "sensitive_sample1 = np.array([[0, 5728228255396425370021240824467576469060508657909797203509080737862966752159649246059254467230319/20202395816022861727515286640721496321637181447639041445790599859858737600319587931521630216849905, 1385785159127762058534562586262514768984239800013790816995899362646960481082930502145087042528769/20202395816022861727515286640721496321637181447639041445790599859858737600319587931521630216849905, 0, 1]])\n",
        "print(\"Sensitive sample 1:\", sensitive_sample1.shape, sensitive_sample1)"
      ],
      "execution_count": 0,
      "outputs": [
        {
          "output_type": "stream",
          "text": [
            "Sensitive sample 1: (1, 5) [[0.         0.28354203 0.06859509 0.         1.        ]]\n"
          ],
          "name": "stdout"
        }
      ]
    },
    {
      "cell_type": "code",
      "metadata": {
        "id": "53oOEW5hBayl",
        "colab_type": "code",
        "colab": {}
      },
      "source": [
        ""
      ],
      "execution_count": 0,
      "outputs": []
    },
    {
      "cell_type": "markdown",
      "metadata": {
        "id": "a4vBX5Pn8--L",
        "colab_type": "text"
      },
      "source": [
        "### Graph 1. Show the sensitivity of the sample is equal to or greater than other training samples"
      ]
    },
    {
      "cell_type": "code",
      "metadata": {
        "id": "mJOL4_r5Zva1",
        "colab_type": "code",
        "colab": {}
      },
      "source": [
        "def TweakOutputWeights(W, change):\n",
        "    \"\"\"\n",
        "    This function shall tweak the output weights given a weight matrix and a change-vector, \n",
        "    which contains percentage change (could be 0) to each of the neurons in the output layer. \n",
        "    Note that the dimensions of the change-vector must be congruent to the output layer.\n",
        "    \n",
        "    Inputs:\n",
        "    W - a dictionary containing the weights of each layer\n",
        "    change - a vector/list containing percentage change to each of the neurons in the output layer\n",
        "    \"\"\"\n",
        "    \n",
        "    tweaked_W = W.copy()\n",
        "    tweaked_W['W'+str(len(W))] = tweaked_W['W'+str(len(W))] + np.multiply(W['W'+str(len(W))], np.array([change]).T)\n",
        "    \n",
        "    #print(\"Tweaked Weights:\", tweaked_W)\n",
        "    return tweaked_W"
      ],
      "execution_count": 0,
      "outputs": []
    },
    {
      "cell_type": "code",
      "metadata": {
        "id": "EYhXmVIP4iib",
        "colab_type": "code",
        "colab": {}
      },
      "source": [
        "def TweakInnerWeights(W, layer, change):\n",
        "  \"\"\"\n",
        "  This function tweaks the weight in layer by the percentage change\n",
        "  Inputs:\n",
        "    W - weight matrix\n",
        "    layer - inner weight layer\n",
        "    change - percentage change, has the same dimension as W[layer]\n",
        "  Returns:\n",
        "    tweaked_W - tweaked weights\n",
        "  \"\"\"\n",
        "  tweaked_W = W.copy()\n",
        "  tweaked_W['W'+str(layer)] = tweaked_W['W'+str(layer)] + np.multiply(W['W'+str(layer)], change)\n",
        "\n",
        "  return tweaked_W"
      ],
      "execution_count": 0,
      "outputs": []
    },
    {
      "cell_type": "code",
      "metadata": {
        "id": "OLSnUY2q9ACe",
        "colab_type": "code",
        "outputId": "b609c531-0e95-4878-dedb-f8591ef17045",
        "colab": {
          "base_uri": "https://localhost:8080/",
          "height": 34
        }
      },
      "source": [
        "W['W2'].shape"
      ],
      "execution_count": 0,
      "outputs": [
        {
          "output_type": "execute_result",
          "data": {
            "text/plain": [
              "(5, 5)"
            ]
          },
          "metadata": {
            "tags": []
          },
          "execution_count": 26
        }
      ]
    },
    {
      "cell_type": "code",
      "metadata": {
        "id": "ThmuhHqg80Kd",
        "colab_type": "code",
        "outputId": "01e8995a-c81c-4b91-fa8f-12279bb9e29d",
        "colab": {
          "base_uri": "https://localhost:8080/",
          "height": 136
        }
      },
      "source": [
        "#First-cut\n",
        "zeros = np.repeat(0, W['W2'].shape[0])\n",
        "ones = np.repeat(1, W['W2'].shape[0])\n",
        "c = np.repeat(-0.5, W['W2'].shape[0])\n",
        "print(zeros.shape, zeros)\n",
        "print(c.shape, c)\n",
        "cmat = np.array([zeros, zeros, zeros, zeros, c]).T\n",
        "print(cmat.shape, cmat)"
      ],
      "execution_count": 0,
      "outputs": [
        {
          "output_type": "stream",
          "text": [
            "(5,) [0 0 0 0 0]\n",
            "(5,) [-0.5 -0.5 -0.5 -0.5 -0.5]\n",
            "(5, 5) [[ 0.   0.   0.   0.  -0.5]\n",
            " [ 0.   0.   0.   0.  -0.5]\n",
            " [ 0.   0.   0.   0.  -0.5]\n",
            " [ 0.   0.   0.   0.  -0.5]\n",
            " [ 0.   0.   0.   0.  -0.5]]\n"
          ],
          "name": "stdout"
        }
      ]
    },
    {
      "cell_type": "code",
      "metadata": {
        "id": "OOEykojgMRPg",
        "colab_type": "code",
        "outputId": "f780ff70-8df5-4f5f-9a02-e5250d0f30ee",
        "colab": {
          "base_uri": "https://localhost:8080/",
          "height": 187
        }
      },
      "source": [
        "#verification\n",
        "d = np.array([ones, ones, ones, ones, ones])\n",
        "print(d)\n",
        "d + np.multiply(d, cmat)"
      ],
      "execution_count": 0,
      "outputs": [
        {
          "output_type": "stream",
          "text": [
            "[[1 1 1 1 1]\n",
            " [1 1 1 1 1]\n",
            " [1 1 1 1 1]\n",
            " [1 1 1 1 1]\n",
            " [1 1 1 1 1]]\n"
          ],
          "name": "stdout"
        },
        {
          "output_type": "execute_result",
          "data": {
            "text/plain": [
              "array([[1. , 1. , 1. , 1. , 0.5],\n",
              "       [1. , 1. , 1. , 1. , 0.5],\n",
              "       [1. , 1. , 1. , 1. , 0.5],\n",
              "       [1. , 1. , 1. , 1. , 0.5],\n",
              "       [1. , 1. , 1. , 1. , 0.5]])"
            ]
          },
          "metadata": {
            "tags": []
          },
          "execution_count": 28
        }
      ]
    },
    {
      "cell_type": "code",
      "metadata": {
        "id": "u9czxKNVMDBl",
        "colab_type": "code",
        "outputId": "a91e2a8e-75bf-43af-e6df-2843f1aa9838",
        "colab": {
          "base_uri": "https://localhost:8080/",
          "height": 238
        }
      },
      "source": [
        "tweaked_inner = W.copy()\n",
        "tweaked_inner['W2'] = tweaked_inner['W2'] + np.multiply(tweaked_inner['W2'], cmat)\n",
        "print(\"orig:\\n\", W['W2'])\n",
        "print(\"tweaked:\\n\", tweaked_inner['W2'])\n",
        "sens_inner = np.abs(ForwardProp(sensitive_sample1, W, B)['yhat'] - ForwardProp(sensitive_sample1, tweaked_inner, B)['yhat'])\n",
        "sens_inner"
      ],
      "execution_count": 0,
      "outputs": [
        {
          "output_type": "stream",
          "text": [
            "orig:\n",
            " [[ 0.24453026 -0.2242428   0.5843106   0.317849    0.38699338]\n",
            " [-0.06821752 -0.60588133 -0.4516444   0.789883   -0.69673383]\n",
            " [-0.43143904  0.16242248 -0.0687018   0.55008376  0.7060163 ]\n",
            " [ 0.7079289  -0.3274759   0.7401523   0.33462423  0.49848706]\n",
            " [ 0.49951464 -0.09326637 -0.403249   -0.58855516  0.03080926]]\n",
            "tweaked:\n",
            " [[ 0.24453026 -0.22424281  0.58431059  0.31784901  0.19349669]\n",
            " [-0.06821752 -0.60588133 -0.45164439  0.78988302 -0.34836692]\n",
            " [-0.43143904  0.16242248 -0.0687018   0.55008376  0.35300815]\n",
            " [ 0.7079289  -0.32747591  0.7401523   0.33462423  0.24924353]\n",
            " [ 0.49951464 -0.09326637 -0.403249   -0.58855516  0.01540463]]\n"
          ],
          "name": "stdout"
        },
        {
          "output_type": "execute_result",
          "data": {
            "text/plain": [
              "array([[0.00710321]])"
            ]
          },
          "metadata": {
            "tags": []
          },
          "execution_count": 29
        }
      ]
    },
    {
      "cell_type": "code",
      "metadata": {
        "id": "GqEnv33u8j9a",
        "colab_type": "code",
        "colab": {}
      },
      "source": [
        "def Sensitivity(data, W, B, change):\n",
        "  \"\"\"\n",
        "  This function computes the sensitivty of the data to a given percent weight change\n",
        "  Inputs: \n",
        "    data - input samples\n",
        "    W, B - trained parameters\n",
        "    change - vector of percentage change\n",
        "  \"\"\"\n",
        "  tweaked_W = TweakOutputWeights(W, change)\n",
        "  sensitivity = np.abs(ForwardProp(data, W, B)['yhat'] - ForwardProp(data, tweaked_W, B)['yhat'])\n",
        "  \n",
        "  return sensitivity"
      ],
      "execution_count": 0,
      "outputs": []
    },
    {
      "cell_type": "code",
      "metadata": {
        "id": "bEabXsNy8eOo",
        "colab_type": "code",
        "outputId": "312939a5-592f-4cdb-cdc3-860a1803426c",
        "colab": {
          "base_uri": "https://localhost:8080/",
          "height": 85
        }
      },
      "source": [
        "#Check for the sensitivity of the data\n",
        "print(\"change:\", change)\n",
        "opt_sens = Sensitivity(sensitive_sample1, W, B, change) #optimal sensitivity\n",
        "train_sens = Sensitivity(data, W, B, change) #sensitivity of our training samples\n",
        "\n",
        "print(\"Sensitivity of sensitive sample >= among training samples:\", opt_sens >= np.max(train_sens))\n",
        "print(\"Optimal sensitivity:\", opt_sens, \"Max sensitivity among training samples:\", np.max(train_sens))\n",
        "print(\"Count sensitive training samples:\", np.count_nonzero(train_sens), \". Ratio:\", np.count_nonzero(train_sens)/train_sens.shape[1])"
      ],
      "execution_count": 0,
      "outputs": [
        {
          "output_type": "stream",
          "text": [
            "change: [0, 0, 0, 0, -0.5]\n",
            "Sensitivity of sensitive sample >= among training samples: [[ True]]\n",
            "Optimal sensitivity: [[0.00833792]] Max sensitivity among training samples: 0.00833537994484257\n",
            "Count sensitive training samples: 10 . Ratio: 0.001\n"
          ],
          "name": "stdout"
        }
      ]
    },
    {
      "cell_type": "code",
      "metadata": {
        "id": "I1tsJwBk-FJs",
        "colab_type": "code",
        "outputId": "3ebfc3a0-21fd-45b2-ebb2-56174999aa01",
        "colab": {
          "base_uri": "https://localhost:8080/",
          "height": 51
        }
      },
      "source": [
        "#L2 norm of our inputs\n",
        "opt_norm = np.linalg.norm(sensitive_sample1) #norm of our sensitive sample\n",
        "train_norm = np.linalg.norm(data, axis = 1) #norm of training samples\n",
        "print(\"Norm of sensitive sample:\", opt_norm.shape, opt_norm)\n",
        "print(\"Norm of training samples:\", train_norm.shape, train_norm)"
      ],
      "execution_count": 0,
      "outputs": [
        {
          "output_type": "stream",
          "text": [
            "Norm of sensitive sample: () 1.041681989533985\n",
            "Norm of training samples: (10000,) [1.19333662 1.52053229 1.29278006 ... 0.88563225 1.3733667  1.00276435]\n"
          ],
          "name": "stdout"
        }
      ]
    },
    {
      "cell_type": "code",
      "metadata": {
        "id": "lzok2-cH88fW",
        "colab_type": "code",
        "outputId": "950dcc81-50e1-43a2-8b05-b56fa8730c16",
        "colab": {
          "base_uri": "https://localhost:8080/",
          "height": 279
        }
      },
      "source": [
        "#Graph norm of the inputs paired with their sensitivity\n",
        "axis_sens = np.hstack((train_sens, opt_sens))\n",
        "axis_norm = np.hstack((train_norm, opt_norm))\n",
        " \n",
        "plt.scatter(axis_norm, axis_sens, color = 'g')\n",
        "plt.scatter(opt_norm, opt_sens, color = 'r')\n",
        "plt.xlabel('L2-norm of samples')\n",
        "plt.ylabel('Sensitivity in Output')\n",
        "plt.ylim(0, axis_sens.max()+0.005)\n",
        "#plt.axhline(y = thresh, color = 'black', linestyle = \"--\")\n",
        "plt.show()\n",
        "\n",
        "#TBC: Print the title\n",
        "#Save the object as a file"
      ],
      "execution_count": 0,
      "outputs": [
        {
          "output_type": "display_data",
          "data": {
            "image/png": "[encoded data removed]",
            "text/plain": [
              "<Figure size 432x288 with 1 Axes>"
            ]
          },
          "metadata": {
            "tags": []
          }
        }
      ]
    },
    {
      "cell_type": "markdown",
      "metadata": {
        "id": "BeF4Plk49N_0",
        "colab_type": "text"
      },
      "source": [
        "### Graph 2. Sensitivity of our sample as the actual deltas deviate from the presumed one\n",
        "What we want to show here is how our sample, which corresponds to a weight neuron and change delta, reacts to other levels of delta and applied to other weight neurons, either of the same layer or previous layers.\n",
        "\n",
        "Experiments  \n",
        "**Same layer**  \n",
        "We take a change on just one neuron weight and retrieve a sensitive sample for that. We then test for its sensitivity if we change:  \n",
        "  a. vary the magnitude of the change for the same target weight, same layer  \n",
        "  b. vary the magnitude of the change but different target weight, same layer  \n",
        "\n",
        "**Previous layer**  \n",
        "  c. vary the magnitude of the change connected to the target weight, previous layer  \n",
        "  d. vary the magnitude of the change not connected to the target weight, previous layer  "
      ]
    },
    {
      "cell_type": "markdown",
      "metadata": {
        "id": "EmPNwpx7WO2G",
        "colab_type": "text"
      },
      "source": [
        "#### Experiment 1a\n",
        "Vary the magnitude of the change for different target weights in the same layer"
      ]
    },
    {
      "cell_type": "code",
      "metadata": {
        "id": "lWW4VoMP9z1M",
        "colab_type": "code",
        "outputId": "3cca0d00-a3be-4bdd-e188-1dcd0c80be90",
        "colab": {
          "base_uri": "https://localhost:8080/",
          "height": 34
        }
      },
      "source": [
        "#Graph norm of the deltas paired with their sensitivity, fixed sensitive sample from our presumed delta\n",
        "#What do we need from here?\n",
        "#Sensitivity of our sensitive sample for different levels of delta\n",
        "#Cut 1: We provide a different level of deltas manually and then test the sensitivity\n",
        "\n",
        "shape = W['W3'].shape[0]\n",
        "c1 = simulateWeightChange(0.01, shape)\n",
        "Sensitivity(sensitive_sample1, W, B, c1)"
      ],
      "execution_count": 0,
      "outputs": [
        {
          "output_type": "execute_result",
          "data": {
            "text/plain": [
              "array([[9.51553371e-05]])"
            ]
          },
          "metadata": {
            "tags": []
          },
          "execution_count": 34
        }
      ]
    },
    {
      "cell_type": "code",
      "metadata": {
        "id": "lC_gvCHvkn7Q",
        "colab_type": "code",
        "outputId": "b1cd1038-bbb0-441a-d620-d7badbaff82b",
        "colab": {
          "base_uri": "https://localhost:8080/",
          "height": 34
        }
      },
      "source": [
        "opt_sens"
      ],
      "execution_count": 0,
      "outputs": [
        {
          "output_type": "execute_result",
          "data": {
            "text/plain": [
              "array([[0.00833792]])"
            ]
          },
          "metadata": {
            "tags": []
          },
          "execution_count": 35
        }
      ]
    },
    {
      "cell_type": "code",
      "metadata": {
        "id": "CFAC_R3_ZXKk",
        "colab_type": "code",
        "colab": {}
      },
      "source": [
        "def varyWeightChangeExp(sens_sample, sens_change, W, B, trials, target_weight, plot_size = (8, 6)):\n",
        "  \"\"\"\n",
        "  This function varies the magnitude of the weight change of the target weight\n",
        "  for the number of trials, and then measures the sensitivity of sens_sample\n",
        "  for each of those varied weight change.\n",
        "  Inputs:\n",
        "    sens_sample - sensitive sample\n",
        "    sens_change - the weight change on which sens_sample was drawn\n",
        "    W, B - trained parameters\n",
        "    trials - number of trials/simulation of the weight change\n",
        "    target_weight - the target neuron represented by a boolean vector\n",
        "  Returns:\n",
        "    A table for each of the trials and the corresponding sensitivity of sens_sample\n",
        "    A graph of this table\n",
        "  \"\"\"\n",
        "  #Percent norm and sensitivity of our sample\n",
        "  percnorm_sample = np.linalg.norm(sens_change)\n",
        "  opt_sens = Sensitivity(sens_sample, W, B, sens_change)\n",
        "\n",
        "  #Step 1. We sample different levels of weight change\n",
        "  table = np.empty((trials, 2))\n",
        "  for i in range(trials):\n",
        "    c = np.array(target_weight)*(-(i+1)*10**-1) #the percentage weight change for each of the neurons in the target layer\n",
        "    #print(\"Change:\", c)\n",
        "    norm = np.linalg.norm(c)\n",
        "    #print(\"Norm of change:\", norm)\n",
        "\n",
        "    #Step 2. For each of the change we measure our sample's sensitivity wrt it\n",
        "    sens = Sensitivity(sens_sample, W, B, c)\n",
        "    #print(\"Sensitivity of our sample:\", sens)\n",
        "    #print(\"\")\n",
        "    table[i, 0] = norm\n",
        "    table[i, 1] = sens\n",
        "  #print(\"Table sensitivity of our sample for diff norm change:\\n\", table)\n",
        "\n",
        "  #Plot the graph\n",
        "  plt.figure(figsize = plot_size)\n",
        "  plt.plot(table[:, 0], table[:, 1], color = \"red\")\n",
        "  #plt.scatter(table[:, 0], table[:, 1])\n",
        "  #plt.scatter(percnorm_sample, float(opt_sens), color = \"r\")\n",
        "  plt.ylim(0)\n",
        "  plt.xlabel(\"Norm of percent change\")\n",
        "  plt.ylabel(\"Sensitivity of our sample\")\n",
        "  plt.title(\"The sensitivity of our sample as the actual deltas deviate from our presumed deltas\")\n",
        "  plt.show()\n",
        "  return table"
      ],
      "execution_count": 0,
      "outputs": []
    },
    {
      "cell_type": "code",
      "metadata": {
        "id": "kuuGzqLKqMmz",
        "colab_type": "code",
        "colab": {}
      },
      "source": [
        "change_exp = dict()\n",
        "change_exp['exp1'] = [1, 0, 0, 0, 0]\n",
        "change_exp['exp2'] = [0, 1, 0, 0, 0]\n",
        "change_exp['exp3'] = [0, 0, 1, 0, 0]\n",
        "change_exp['exp4'] = [0, 0, 0, 1, 0]\n",
        "change_exp['exp5'] = [0, 0, 0, 0, 1]"
      ],
      "execution_count": 0,
      "outputs": []
    },
    {
      "cell_type": "code",
      "metadata": {
        "id": "BPUbQFNIqqgo",
        "colab_type": "code",
        "outputId": "85e68af5-e846-4872-d12d-f7cc4367d333",
        "colab": {
          "base_uri": "https://localhost:8080/",
          "height": 1000
        }
      },
      "source": [
        "for i in range(5):\n",
        "  print(\"Target weight:\", change_exp['exp'+str(i+1)])\n",
        "  varyWeightChangeExp(sensitive_sample1, change, W, B, 1000, change_exp['exp'+str(i+1)])"
      ],
      "execution_count": 0,
      "outputs": [
        {
          "output_type": "stream",
          "text": [
            "Target weight: [1, 0, 0, 0, 0]\n"
          ],
          "name": "stdout"
        },
        {
          "output_type": "display_data",
          "data": {
            "image/png": "[encoded data removed]",
            "text/plain": [
              "<Figure size 576x432 with 1 Axes>"
            ]
          },
          "metadata": {
            "tags": []
          }
        },
        {
          "output_type": "stream",
          "text": [
            "Target weight: [0, 1, 0, 0, 0]\n"
          ],
          "name": "stdout"
        },
        {
          "output_type": "display_data",
          "data": {
            "image/png": "[encoded data removed]",
            "text/plain": [
              "<Figure size 576x432 with 1 Axes>"
            ]
          },
          "metadata": {
            "tags": []
          }
        },
        {
          "output_type": "stream",
          "text": [
            "Target weight: [0, 0, 1, 0, 0]\n"
          ],
          "name": "stdout"
        },
        {
          "output_type": "display_data",
          "data": {
            "image/png": "[encoded data removed]",
            "text/plain": [
              "<Figure size 576x432 with 1 Axes>"
            ]
          },
          "metadata": {
            "tags": []
          }
        },
        {
          "output_type": "stream",
          "text": [
            "Target weight: [0, 0, 0, 1, 0]\n"
          ],
          "name": "stdout"
        },
        {
          "output_type": "display_data",
          "data": {
            "image/png": "[encoded data removed]",
            "text/plain": [
              "<Figure size 576x432 with 1 Axes>"
            ]
          },
          "metadata": {
            "tags": []
          }
        },
        {
          "output_type": "stream",
          "text": [
            "Target weight: [0, 0, 0, 0, 1]\n"
          ],
          "name": "stdout"
        },
        {
          "output_type": "display_data",
          "data": {
            "image/png": "[encoded data removed]",
            "text/plain": [
              "<Figure size 576x432 with 1 Axes>"
            ]
          },
          "metadata": {
            "tags": []
          }
        }
      ]
    },
    {
      "cell_type": "code",
      "metadata": {
        "id": "gfFhSMKRG8Y1",
        "colab_type": "code",
        "outputId": "46bc875e-3f05-4452-db46-86b3a5510a22",
        "colab": {
          "base_uri": "https://localhost:8080/",
          "height": 1000
        }
      },
      "source": [
        "#Percent norm and sensitivity of our sample\n",
        "percnorm_sample = np.linalg.norm(change)\n",
        "#opt_sens computed above\n",
        "\n",
        "#Step 1. We sample different levels of weight change\n",
        "trials = 10\n",
        "graph2a = np.empty((trials, 2))\n",
        "for i in range(trials):\n",
        "  c = np.array([0, 0, 0, 0, 1])*(-(i+1)*10**-1) #the percentage weight change for each of the neurons in the target layer\n",
        "  print(\"Change:\", c)\n",
        "  norm = np.linalg.norm(c)\n",
        "  print(\"Norm of change:\", norm)\n",
        "\n",
        "  #Step 2. For each of the change we measure our sample's sensitivity wrt it\n",
        "  sens = Sensitivity(sensitive_sample1, W, B, c)\n",
        "  print(\"Sensitivity of our sample:\", sens)\n",
        "  print(\"\")\n",
        "  graph2a[i, 0] = norm\n",
        "  graph2a[i, 1] = sens\n",
        "print(\"Table Norm of change vs sensitivity of our sample:\\n\", graph2a)\n",
        "\n",
        "#Plot the graph\n",
        "plt.plot(graph2a[:, 0], graph2a[:, 1], color = \"black\")\n",
        "plt.scatter(graph2a[:, 0], graph2a[:, 1])\n",
        "plt.scatter(percnorm_sample, float(opt_sens), color = \"r\")\n",
        "plt.xlabel(\"Norm of percent change\")\n",
        "plt.ylabel(\"Sensitivity of our sample\")\n",
        "plt.show()"
      ],
      "execution_count": 0,
      "outputs": [
        {
          "output_type": "stream",
          "text": [
            "Change: [-0.  -0.  -0.  -0.  -0.1]\n",
            "Norm of change: 0.1\n",
            "Sensitivity of our sample: [[0.00166755]]\n",
            "\n",
            "Change: [-0.  -0.  -0.  -0.  -0.2]\n",
            "Norm of change: 0.2\n",
            "Sensitivity of our sample: [[0.00333515]]\n",
            "\n",
            "Change: [-0.  -0.  -0.  -0.  -0.3]\n",
            "Norm of change: 0.30000000000000004\n",
            "Sensitivity of our sample: [[0.00500277]]\n",
            "\n",
            "Change: [-0.  -0.  -0.  -0.  -0.4]\n",
            "Norm of change: 0.4\n",
            "Sensitivity of our sample: [[0.00667037]]\n",
            "\n",
            "Change: [-0.  -0.  -0.  -0.  -0.5]\n",
            "Norm of change: 0.5\n",
            "Sensitivity of our sample: [[0.00833792]]\n",
            "\n",
            "Change: [-0.  -0.  -0.  -0.  -0.6]\n",
            "Norm of change: 0.6000000000000001\n",
            "Sensitivity of our sample: [[0.01000537]]\n",
            "\n",
            "Change: [-0.  -0.  -0.  -0.  -0.7]\n",
            "Norm of change: 0.7000000000000001\n",
            "Sensitivity of our sample: [[0.0116727]]\n",
            "\n",
            "Change: [-0.  -0.  -0.  -0.  -0.8]\n",
            "Norm of change: 0.8\n",
            "Sensitivity of our sample: [[0.01333986]]\n",
            "\n",
            "Change: [-0.  -0.  -0.  -0.  -0.9]\n",
            "Norm of change: 0.9\n",
            "Sensitivity of our sample: [[0.01500681]]\n",
            "\n",
            "Change: [-0. -0. -0. -0. -1.]\n",
            "Norm of change: 1.0\n",
            "Sensitivity of our sample: [[0.01667352]]\n",
            "\n",
            "Table Norm of change vs sensitivity of our sample:\n",
            " [[0.1        0.00166755]\n",
            " [0.2        0.00333515]\n",
            " [0.3        0.00500277]\n",
            " [0.4        0.00667037]\n",
            " [0.5        0.00833792]\n",
            " [0.6        0.01000537]\n",
            " [0.7        0.0116727 ]\n",
            " [0.8        0.01333986]\n",
            " [0.9        0.01500681]\n",
            " [1.         0.01667352]]\n"
          ],
          "name": "stdout"
        },
        {
          "output_type": "display_data",
          "data": {
            "image/png": "[encoded data removed]",
            "text/plain": [
              "<Figure size 432x288 with 1 Axes>"
            ]
          },
          "metadata": {
            "tags": []
          }
        }
      ]
    },
    {
      "cell_type": "markdown",
      "metadata": {
        "id": "RWEeuRvR3quQ",
        "colab_type": "text"
      },
      "source": [
        "#### Experiment 1b\n",
        "Vary the magnitude of the change of different target weights but in different layer"
      ]
    },
    {
      "cell_type": "code",
      "metadata": {
        "id": "oXipvMgs3qV6",
        "colab_type": "code",
        "colab": {}
      },
      "source": [
        "#Sens 2\n",
        "#First-cut\n",
        "trials = 1000\n",
        "sens_inner_mat = dict() #Dictionary containing sensitivity of sample to inner weight changes\n",
        "norm_inner_mat = dict() #Norm of the percent change applied in the inner weights\n",
        "\n",
        "for i in range(5):\n",
        "  sens_inner_mat['sens_' + str(i+1)] = list()\n",
        "  norm_inner_mat['norm_' + str(i+1)] = list()\n",
        "\n",
        "for i in range(trials):\n",
        "  #print(\"\\nTrial:\", i+1)\n",
        "  zeros = np.repeat(0, W['W2'].shape[0])\n",
        "  ones = np.repeat(1, W['W2'].shape[0])\n",
        "  c = np.repeat((-(i+1)*10**-1), W['W2'].shape[0])\n",
        "  norm_c = np.linalg.norm(c)\n",
        "  #print(\"Norm of c:\", norm_c)\n",
        "  cmat = dict()\n",
        "  cmat['cmat1'] = np.array([c, zeros, zeros, zeros, zeros]).T\n",
        "  cmat['cmat2'] = np.array([zeros, c, zeros, zeros, zeros]).T\n",
        "  cmat['cmat3'] = np.array([zeros, zeros, c, zeros, zeros]).T\n",
        "  cmat['cmat4'] = np.array([zeros, zeros, zeros, c, zeros]).T\n",
        "  cmat['cmat5'] = np.array([zeros, zeros, zeros, zeros, c]).T\n",
        "  #print(cmat)\n",
        "\n",
        "  for i in range(5):\n",
        "    #print(\"Processing target weight:\", i+1)\n",
        "    tweaked_inner = W.copy()\n",
        "    tweaked_inner['W2'] = tweaked_inner['W2'] + np.multiply(tweaked_inner['W2'], cmat['cmat'+str(i+1)])\n",
        "    #print(\"orig:\\n\", W['W2'])\n",
        "    #print(\"tweaked:\\n\", tweaked_inner['W2'])\n",
        "    sens_inner = np.abs(ForwardProp(sensitive_sample1, W, B)['yhat'][0] - ForwardProp(sensitive_sample1, tweaked_inner, B)['yhat'][0])[0]\n",
        "    sens_inner_mat['sens_' + str(i+1)].append(sens_inner)\n",
        "    norm_inner_mat['norm_' + str(i+1)].append(norm_c)\n",
        "    #print(\"norm of change:\", norm_c)\n",
        "    #print(\"sensitivity:\", sens_inner)"
      ],
      "execution_count": 0,
      "outputs": []
    },
    {
      "cell_type": "code",
      "metadata": {
        "id": "G8QCyTwGS2vW",
        "colab_type": "code",
        "outputId": "2451d4a9-0cb6-4d4c-e156-8f582ed9282c",
        "colab": {
          "base_uri": "https://localhost:8080/",
          "height": 1000
        }
      },
      "source": [
        "print(\"Sensitivity matrix:\", sens_inner_mat)\n",
        "print(\"Norm matrix:\", norm_inner_mat)\n",
        "\n",
        "for i in range(5):\n",
        "  plt.plot(norm_inner_mat['norm_'+str(i+1)], sens_inner_mat['sens_'+str(i+1)], color = \"red\")\n",
        "  #plt.scatter(table[:, 0], table[:, 1])\n",
        "  #plt.scatter(percnorm_sample, float(opt_sens), color = \"r\")\n",
        "  plt.ylim(0)\n",
        "  plt.xlabel(\"Norm of percent change\")\n",
        "  plt.ylabel(\"Sensitivity of our sample\")\n",
        "  plt.title(\"The sensitivity of our sample as the actual deltas deviate from our presumed deltas applied in inner layer\")\n",
        "  plt.show()"
      ],
      "execution_count": 0,
      "outputs": [
        {
          "output_type": "stream",
          "text": [
            "Sensitivity matrix: {'sens_1': [0.003216441436972417, 0.00643227161166382, 0.009647224564775236, 0.012861034627274559, 0.016073436508126704, 0.019284165381758145, 0.022492956975194156, 0.025699547654809862, 0.026155240405334013, 0.026155240405334013, 0.026155240405334013, 0.026155240405334013, 0.026155240405334013, 0.026155240405334013, 0.026155240405334013, 0.026155240405334013, 0.026155240405334013, 0.026155240405334013, 0.026155240405334013, 0.026155240405334013, 0.026155240405334013, 0.026155240405334013, 0.026155240405334013, 0.026155240405334013, 0.026155240405334013, 0.026155240405334013, 0.026155240405334013, 0.026155240405334013, 0.026155240405334013, 0.026155240405334013, 0.026155240405334013, 0.026155240405334013, 0.026155240405334013, 0.026155240405334013, 0.026155240405334013, 0.026155240405334013, 0.026155240405334013, 0.026155240405334013, 0.026155240405334013, 0.026155240405334013, 0.026155240405334013, 0.026155240405334013, 0.026155240405334013, 0.026155240405334013, 0.026155240405334013, 0.026155240405334013, 0.026155240405334013, 0.026155240405334013, 0.026155240405334013, 0.026155240405334013, 0.026155240405334013, 0.026155240405334013, 0.026155240405334013, 0.026155240405334013, 0.026155240405334013, 0.026155240405334013, 0.026155240405334013, 0.026155240405334013, 0.026155240405334013, 0.026155240405334013, 0.026155240405334013, 0.026155240405334013, 0.026155240405334013, 0.026155240405334013, 0.026155240405334013, 0.026155240405334013, 0.026155240405334013, 0.026155240405334013, 0.026155240405334013, 0.026155240405334013, 0.026155240405334013, 0.026155240405334013, 0.026155240405334013, 0.026155240405334013, 0.026155240405334013, 0.026155240405334013, 0.026155240405334013, 0.026155240405334013, 0.026155240405334013, 0.026155240405334013, 0.026155240405334013, 0.026155240405334013, 0.026155240405334013, 0.026155240405334013, 0.026155240405334013, 0.026155240405334013, 0.026155240405334013, 0.026155240405334013, 0.026155240405334013, 0.026155240405334013, 0.026155240405334013, 0.026155240405334013, 0.026155240405334013, 0.026155240405334013, 0.026155240405334013, 0.026155240405334013, 0.026155240405334013, 0.026155240405334013, 0.026155240405334013, 0.026155240405334013, 0.026155240405334013, 0.026155240405334013, 0.026155240405334013, 0.026155240405334013, 0.026155240405334013, 0.026155240405334013, 0.026155240405334013, 0.026155240405334013, 0.026155240405334013, 0.026155240405334013, 0.026155240405334013, 0.026155240405334013, 0.026155240405334013, 0.026155240405334013, 0.026155240405334013, 0.026155240405334013, 0.026155240405334013, 0.026155240405334013, 0.026155240405334013, 0.026155240405334013, 0.026155240405334013, 0.026155240405334013, 0.026155240405334013, 0.026155240405334013, 0.026155240405334013, 0.026155240405334013, 0.026155240405334013, 0.026155240405334013, 0.026155240405334013, 0.026155240405334013, 0.026155240405334013, 0.026155240405334013, 0.026155240405334013, 0.026155240405334013, 0.026155240405334013, 0.026155240405334013, 0.026155240405334013, 0.026155240405334013, 0.026155240405334013, 0.026155240405334013, 0.026155240405334013, 0.026155240405334013, 0.026155240405334013, 0.026155240405334013, 0.026155240405334013, 0.026155240405334013, 0.026155240405334013, 0.026155240405334013, 0.026155240405334013, 0.026155240405334013, 0.026155240405334013, 0.026155240405334013, 0.026155240405334013, 0.026155240405334013, 0.026155240405334013, 0.026155240405334013, 0.026155240405334013, 0.026155240405334013, 0.026155240405334013, 0.026155240405334013, 0.026155240405334013, 0.026155240405334013, 0.026155240405334013, 0.026155240405334013, 0.026155240405334013, 0.026155240405334013, 0.026155240405334013, 0.026155240405334013, 0.026155240405334013, 0.026155240405334013, 0.026155240405334013, 0.026155240405334013, 0.026155240405334013, 0.026155240405334013, 0.026155240405334013, 0.026155240405334013, 0.026155240405334013, 0.026155240405334013, 0.026155240405334013, 0.026155240405334013, 0.026155240405334013, 0.026155240405334013, 0.026155240405334013, 0.026155240405334013, 0.026155240405334013, 0.026155240405334013, 0.026155240405334013, 0.026155240405334013, 0.026155240405334013, 0.026155240405334013, 0.026155240405334013, 0.026155240405334013, 0.026155240405334013, 0.026155240405334013, 0.026155240405334013, 0.026155240405334013, 0.026155240405334013, 0.026155240405334013, 0.026155240405334013, 0.026155240405334013, 0.026155240405334013, 0.026155240405334013, 0.026155240405334013, 0.026155240405334013, 0.026155240405334013, 0.026155240405334013, 0.026155240405334013, 0.026155240405334013, 0.026155240405334013, 0.026155240405334013, 0.026155240405334013, 0.026155240405334013, 0.026155240405334013, 0.026155240405334013, 0.026155240405334013, 0.026155240405334013, 0.026155240405334013, 0.026155240405334013, 0.026155240405334013, 0.026155240405334013, 0.026155240405334013, 0.026155240405334013, 0.026155240405334013, 0.026155240405334013, 0.026155240405334013, 0.026155240405334013, 0.026155240405334013, 0.026155240405334013, 0.026155240405334013, 0.026155240405334013, 0.026155240405334013, 0.026155240405334013, 0.026155240405334013, 0.026155240405334013, 0.026155240405334013, 0.026155240405334013, 0.026155240405334013, 0.026155240405334013, 0.026155240405334013, 0.026155240405334013, 0.026155240405334013, 0.026155240405334013, 0.026155240405334013, 0.026155240405334013, 0.026155240405334013, 0.026155240405334013, 0.026155240405334013, 0.026155240405334013, 0.026155240405334013, 0.026155240405334013, 0.026155240405334013, 0.026155240405334013, 0.026155240405334013, 0.026155240405334013, 0.026155240405334013, 0.026155240405334013, 0.026155240405334013, 0.026155240405334013, 0.026155240405334013, 0.026155240405334013, 0.026155240405334013, 0.026155240405334013, 0.026155240405334013, 0.026155240405334013, 0.026155240405334013, 0.026155240405334013, 0.026155240405334013, 0.026155240405334013, 0.026155240405334013, 0.026155240405334013, 0.026155240405334013, 0.026155240405334013, 0.026155240405334013, 0.026155240405334013, 0.026155240405334013, 0.026155240405334013, 0.026155240405334013, 0.026155240405334013, 0.026155240405334013, 0.026155240405334013, 0.026155240405334013, 0.026155240405334013, 0.026155240405334013, 0.026155240405334013, 0.026155240405334013, 0.026155240405334013, 0.026155240405334013, 0.026155240405334013, 0.026155240405334013, 0.026155240405334013, 0.026155240405334013, 0.026155240405334013, 0.026155240405334013, 0.026155240405334013, 0.026155240405334013, 0.026155240405334013, 0.026155240405334013, 0.026155240405334013, 0.026155240405334013, 0.026155240405334013, 0.026155240405334013, 0.026155240405334013, 0.026155240405334013, 0.026155240405334013, 0.026155240405334013, 0.026155240405334013, 0.026155240405334013, 0.026155240405334013, 0.026155240405334013, 0.026155240405334013, 0.026155240405334013, 0.026155240405334013, 0.026155240405334013, 0.026155240405334013, 0.026155240405334013, 0.026155240405334013, 0.026155240405334013, 0.026155240405334013, 0.026155240405334013, 0.026155240405334013, 0.026155240405334013, 0.026155240405334013, 0.026155240405334013, 0.026155240405334013, 0.026155240405334013, 0.026155240405334013, 0.026155240405334013, 0.026155240405334013, 0.026155240405334013, 0.026155240405334013, 0.026155240405334013, 0.026155240405334013, 0.026155240405334013, 0.026155240405334013, 0.026155240405334013, 0.026155240405334013, 0.026155240405334013, 0.026155240405334013, 0.026155240405334013, 0.026155240405334013, 0.026155240405334013, 0.026155240405334013, 0.026155240405334013, 0.026155240405334013, 0.026155240405334013, 0.026155240405334013, 0.026155240405334013, 0.026155240405334013, 0.026155240405334013, 0.026155240405334013, 0.026155240405334013, 0.026155240405334013, 0.026155240405334013, 0.026155240405334013, 0.026155240405334013, 0.026155240405334013, 0.026155240405334013, 0.026155240405334013, 0.026155240405334013, 0.026155240405334013, 0.026155240405334013, 0.026155240405334013, 0.026155240405334013, 0.026155240405334013, 0.026155240405334013, 0.026155240405334013, 0.026155240405334013, 0.026155240405334013, 0.026155240405334013, 0.026155240405334013, 0.026155240405334013, 0.026155240405334013, 0.026155240405334013, 0.026155240405334013, 0.026155240405334013, 0.026155240405334013, 0.026155240405334013, 0.026155240405334013, 0.026155240405334013, 0.026155240405334013, 0.026155240405334013, 0.026155240405334013, 0.026155240405334013, 0.026155240405334013, 0.026155240405334013, 0.026155240405334013, 0.026155240405334013, 0.026155240405334013, 0.026155240405334013, 0.026155240405334013, 0.026155240405334013, 0.026155240405334013, 0.026155240405334013, 0.026155240405334013, 0.026155240405334013, 0.026155240405334013, 0.026155240405334013, 0.026155240405334013, 0.026155240405334013, 0.026155240405334013, 0.026155240405334013, 0.026155240405334013, 0.026155240405334013, 0.026155240405334013, 0.026155240405334013, 0.026155240405334013, 0.026155240405334013, 0.026155240405334013, 0.026155240405334013, 0.026155240405334013, 0.026155240405334013, 0.026155240405334013, 0.026155240405334013, 0.026155240405334013, 0.026155240405334013, 0.026155240405334013, 0.026155240405334013, 0.026155240405334013, 0.026155240405334013, 0.026155240405334013, 0.026155240405334013, 0.026155240405334013, 0.026155240405334013, 0.026155240405334013, 0.026155240405334013, 0.026155240405334013, 0.026155240405334013, 0.026155240405334013, 0.026155240405334013, 0.026155240405334013, 0.026155240405334013, 0.026155240405334013, 0.026155240405334013, 0.026155240405334013, 0.026155240405334013, 0.026155240405334013, 0.026155240405334013, 0.026155240405334013, 0.026155240405334013, 0.026155240405334013, 0.026155240405334013, 0.026155240405334013, 0.026155240405334013, 0.026155240405334013, 0.026155240405334013, 0.026155240405334013, 0.026155240405334013, 0.026155240405334013, 0.026155240405334013, 0.026155240405334013, 0.026155240405334013, 0.026155240405334013, 0.026155240405334013, 0.026155240405334013, 0.026155240405334013, 0.026155240405334013, 0.026155240405334013, 0.026155240405334013, 0.026155240405334013, 0.026155240405334013, 0.026155240405334013, 0.026155240405334013, 0.026155240405334013, 0.026155240405334013, 0.026155240405334013, 0.026155240405334013, 0.026155240405334013, 0.026155240405334013, 0.026155240405334013, 0.026155240405334013, 0.026155240405334013, 0.026155240405334013, 0.026155240405334013, 0.026155240405334013, 0.026155240405334013, 0.026155240405334013, 0.026155240405334013, 0.026155240405334013, 0.026155240405334013, 0.026155240405334013, 0.026155240405334013, 0.026155240405334013, 0.026155240405334013, 0.026155240405334013, 0.026155240405334013, 0.026155240405334013, 0.026155240405334013, 0.026155240405334013, 0.026155240405334013, 0.026155240405334013, 0.026155240405334013, 0.026155240405334013, 0.026155240405334013, 0.026155240405334013, 0.026155240405334013, 0.026155240405334013, 0.026155240405334013, 0.026155240405334013, 0.026155240405334013, 0.026155240405334013, 0.026155240405334013, 0.026155240405334013, 0.026155240405334013, 0.026155240405334013, 0.026155240405334013, 0.026155240405334013, 0.026155240405334013, 0.026155240405334013, 0.026155240405334013, 0.026155240405334013, 0.026155240405334013, 0.026155240405334013, 0.026155240405334013, 0.026155240405334013, 0.026155240405334013, 0.026155240405334013, 0.026155240405334013, 0.026155240405334013, 0.026155240405334013, 0.026155240405334013, 0.026155240405334013, 0.026155240405334013, 0.026155240405334013, 0.026155240405334013, 0.026155240405334013, 0.026155240405334013, 0.026155240405334013, 0.026155240405334013, 0.026155240405334013, 0.026155240405334013, 0.026155240405334013, 0.026155240405334013, 0.026155240405334013, 0.026155240405334013, 0.026155240405334013, 0.026155240405334013, 0.026155240405334013, 0.026155240405334013, 0.026155240405334013, 0.026155240405334013, 0.026155240405334013, 0.026155240405334013, 0.026155240405334013, 0.026155240405334013, 0.026155240405334013, 0.026155240405334013, 0.026155240405334013, 0.026155240405334013, 0.026155240405334013, 0.026155240405334013, 0.026155240405334013, 0.026155240405334013, 0.026155240405334013, 0.026155240405334013, 0.026155240405334013, 0.026155240405334013, 0.026155240405334013, 0.026155240405334013, 0.026155240405334013, 0.026155240405334013, 0.026155240405334013, 0.026155240405334013, 0.026155240405334013, 0.026155240405334013, 0.026155240405334013, 0.026155240405334013, 0.026155240405334013, 0.026155240405334013, 0.026155240405334013, 0.026155240405334013, 0.026155240405334013, 0.026155240405334013, 0.026155240405334013, 0.026155240405334013, 0.026155240405334013, 0.026155240405334013, 0.026155240405334013, 0.026155240405334013, 0.026155240405334013, 0.026155240405334013, 0.026155240405334013, 0.026155240405334013, 0.026155240405334013, 0.026155240405334013, 0.026155240405334013, 0.026155240405334013, 0.026155240405334013, 0.026155240405334013, 0.026155240405334013, 0.026155240405334013, 0.026155240405334013, 0.026155240405334013, 0.026155240405334013, 0.026155240405334013, 0.026155240405334013, 0.026155240405334013, 0.026155240405334013, 0.026155240405334013, 0.026155240405334013, 0.026155240405334013, 0.026155240405334013, 0.026155240405334013, 0.026155240405334013, 0.026155240405334013, 0.026155240405334013, 0.026155240405334013, 0.026155240405334013, 0.026155240405334013, 0.026155240405334013, 0.026155240405334013, 0.026155240405334013, 0.026155240405334013, 0.026155240405334013, 0.026155240405334013, 0.026155240405334013, 0.026155240405334013, 0.026155240405334013, 0.026155240405334013, 0.026155240405334013, 0.026155240405334013, 0.026155240405334013, 0.026155240405334013, 0.026155240405334013, 0.026155240405334013, 0.026155240405334013, 0.026155240405334013, 0.026155240405334013, 0.026155240405334013, 0.026155240405334013, 0.026155240405334013, 0.026155240405334013, 0.026155240405334013, 0.026155240405334013, 0.026155240405334013, 0.026155240405334013, 0.026155240405334013, 0.026155240405334013, 0.026155240405334013, 0.026155240405334013, 0.026155240405334013, 0.026155240405334013, 0.026155240405334013, 0.026155240405334013, 0.026155240405334013, 0.026155240405334013, 0.026155240405334013, 0.026155240405334013, 0.026155240405334013, 0.026155240405334013, 0.026155240405334013, 0.026155240405334013, 0.026155240405334013, 0.026155240405334013, 0.026155240405334013, 0.026155240405334013, 0.026155240405334013, 0.026155240405334013, 0.026155240405334013, 0.026155240405334013, 0.026155240405334013, 0.026155240405334013, 0.026155240405334013, 0.026155240405334013, 0.026155240405334013, 0.026155240405334013, 0.026155240405334013, 0.026155240405334013, 0.026155240405334013, 0.026155240405334013, 0.026155240405334013, 0.026155240405334013, 0.026155240405334013, 0.026155240405334013, 0.026155240405334013, 0.026155240405334013, 0.026155240405334013, 0.026155240405334013, 0.026155240405334013, 0.026155240405334013, 0.026155240405334013, 0.026155240405334013, 0.026155240405334013, 0.026155240405334013, 0.026155240405334013, 0.026155240405334013, 0.026155240405334013, 0.026155240405334013, 0.026155240405334013, 0.026155240405334013, 0.026155240405334013, 0.026155240405334013, 0.026155240405334013, 0.026155240405334013, 0.026155240405334013, 0.026155240405334013, 0.026155240405334013, 0.026155240405334013, 0.026155240405334013, 0.026155240405334013, 0.026155240405334013, 0.026155240405334013, 0.026155240405334013, 0.026155240405334013, 0.026155240405334013, 0.026155240405334013, 0.026155240405334013, 0.026155240405334013, 0.026155240405334013, 0.026155240405334013, 0.026155240405334013, 0.026155240405334013, 0.026155240405334013, 0.026155240405334013, 0.026155240405334013, 0.026155240405334013, 0.026155240405334013, 0.026155240405334013, 0.026155240405334013, 0.026155240405334013, 0.026155240405334013, 0.026155240405334013, 0.026155240405334013, 0.026155240405334013, 0.026155240405334013, 0.026155240405334013, 0.026155240405334013, 0.026155240405334013, 0.026155240405334013, 0.026155240405334013, 0.026155240405334013, 0.026155240405334013, 0.026155240405334013, 0.026155240405334013, 0.026155240405334013, 0.026155240405334013, 0.026155240405334013, 0.026155240405334013, 0.026155240405334013, 0.026155240405334013, 0.026155240405334013, 0.026155240405334013, 0.026155240405334013, 0.026155240405334013, 0.026155240405334013, 0.026155240405334013, 0.026155240405334013, 0.026155240405334013, 0.026155240405334013, 0.026155240405334013, 0.026155240405334013, 0.026155240405334013, 0.026155240405334013, 0.026155240405334013, 0.026155240405334013, 0.026155240405334013, 0.026155240405334013, 0.026155240405334013, 0.026155240405334013, 0.026155240405334013, 0.026155240405334013, 0.026155240405334013, 0.026155240405334013, 0.026155240405334013, 0.026155240405334013, 0.026155240405334013, 0.026155240405334013, 0.026155240405334013, 0.026155240405334013, 0.026155240405334013, 0.026155240405334013, 0.026155240405334013, 0.026155240405334013, 0.026155240405334013, 0.026155240405334013, 0.026155240405334013, 0.026155240405334013, 0.026155240405334013, 0.026155240405334013, 0.026155240405334013, 0.026155240405334013, 0.026155240405334013, 0.026155240405334013, 0.026155240405334013, 0.026155240405334013, 0.026155240405334013, 0.026155240405334013, 0.026155240405334013, 0.026155240405334013, 0.026155240405334013, 0.026155240405334013, 0.026155240405334013, 0.026155240405334013, 0.026155240405334013, 0.026155240405334013, 0.026155240405334013, 0.026155240405334013, 0.026155240405334013, 0.026155240405334013, 0.026155240405334013, 0.026155240405334013, 0.026155240405334013, 0.026155240405334013, 0.026155240405334013, 0.026155240405334013, 0.026155240405334013, 0.026155240405334013, 0.026155240405334013, 0.026155240405334013, 0.026155240405334013, 0.026155240405334013, 0.026155240405334013, 0.026155240405334013, 0.026155240405334013, 0.026155240405334013, 0.026155240405334013, 0.026155240405334013, 0.026155240405334013, 0.026155240405334013, 0.026155240405334013, 0.026155240405334013, 0.026155240405334013, 0.026155240405334013, 0.026155240405334013, 0.026155240405334013, 0.026155240405334013, 0.026155240405334013, 0.026155240405334013, 0.026155240405334013, 0.026155240405334013, 0.026155240405334013, 0.026155240405334013, 0.026155240405334013, 0.026155240405334013, 0.026155240405334013, 0.026155240405334013, 0.026155240405334013, 0.026155240405334013, 0.026155240405334013, 0.026155240405334013, 0.026155240405334013, 0.026155240405334013, 0.026155240405334013, 0.026155240405334013, 0.026155240405334013, 0.026155240405334013, 0.026155240405334013, 0.026155240405334013, 0.026155240405334013, 0.026155240405334013, 0.026155240405334013, 0.026155240405334013, 0.026155240405334013, 0.026155240405334013, 0.026155240405334013, 0.026155240405334013, 0.026155240405334013, 0.026155240405334013, 0.026155240405334013, 0.026155240405334013, 0.026155240405334013, 0.026155240405334013, 0.026155240405334013, 0.026155240405334013, 0.026155240405334013, 0.026155240405334013, 0.026155240405334013, 0.026155240405334013, 0.026155240405334013, 0.026155240405334013, 0.026155240405334013, 0.026155240405334013, 0.026155240405334013, 0.026155240405334013, 0.026155240405334013, 0.026155240405334013, 0.026155240405334013, 0.026155240405334013, 0.026155240405334013, 0.026155240405334013, 0.026155240405334013, 0.026155240405334013, 0.026155240405334013, 0.026155240405334013, 0.026155240405334013, 0.026155240405334013, 0.026155240405334013, 0.026155240405334013, 0.026155240405334013, 0.026155240405334013, 0.026155240405334013, 0.026155240405334013, 0.026155240405334013, 0.026155240405334013, 0.026155240405334013, 0.026155240405334013, 0.026155240405334013, 0.026155240405334013, 0.026155240405334013, 0.026155240405334013, 0.026155240405334013, 0.026155240405334013, 0.026155240405334013, 0.026155240405334013, 0.026155240405334013, 0.026155240405334013, 0.026155240405334013, 0.026155240405334013, 0.026155240405334013, 0.026155240405334013, 0.026155240405334013, 0.026155240405334013, 0.026155240405334013, 0.026155240405334013, 0.026155240405334013, 0.026155240405334013, 0.026155240405334013, 0.026155240405334013, 0.026155240405334013, 0.026155240405334013, 0.026155240405334013, 0.026155240405334013, 0.026155240405334013, 0.026155240405334013, 0.026155240405334013, 0.026155240405334013, 0.026155240405334013, 0.026155240405334013, 0.026155240405334013, 0.026155240405334013, 0.026155240405334013, 0.026155240405334013, 0.026155240405334013, 0.026155240405334013, 0.026155240405334013, 0.026155240405334013, 0.026155240405334013, 0.026155240405334013, 0.026155240405334013, 0.026155240405334013, 0.026155240405334013, 0.026155240405334013, 0.026155240405334013, 0.026155240405334013, 0.026155240405334013, 0.026155240405334013, 0.026155240405334013, 0.026155240405334013, 0.026155240405334013, 0.026155240405334013, 0.026155240405334013, 0.026155240405334013, 0.026155240405334013, 0.026155240405334013, 0.026155240405334013, 0.026155240405334013, 0.026155240405334013, 0.026155240405334013, 0.026155240405334013, 0.026155240405334013, 0.026155240405334013, 0.026155240405334013, 0.026155240405334013, 0.026155240405334013, 0.026155240405334013, 0.026155240405334013, 0.026155240405334013, 0.026155240405334013, 0.026155240405334013, 0.026155240405334013, 0.026155240405334013, 0.026155240405334013, 0.026155240405334013, 0.026155240405334013, 0.026155240405334013, 0.026155240405334013, 0.026155240405334013, 0.026155240405334013, 0.026155240405334013, 0.026155240405334013, 0.026155240405334013, 0.026155240405334013, 0.026155240405334013, 0.026155240405334013, 0.026155240405334013, 0.026155240405334013, 0.026155240405334013, 0.026155240405334013, 0.026155240405334013, 0.026155240405334013, 0.026155240405334013, 0.026155240405334013, 0.026155240405334013, 0.026155240405334013, 0.026155240405334013, 0.026155240405334013, 0.026155240405334013, 0.026155240405334013, 0.026155240405334013, 0.026155240405334013, 0.026155240405334013], 'sens_2': [0.0, 0.0, 0.0, 0.0, 0.0, 0.0, 0.0, 0.0, 0.0, 0.0, 0.0006478936638192323, 0.001295799152637056, 0.0019437142907150484, 0.0025916369021853902, 0.003239564811079565, 0.003887495841358446, 0.004535427816940163, 0.005183358561731022, 0.005831285899653094, 0.00647920765467469, 0.007127121650839063, 0.007775025712293604, 0.00842291766331904, 0.009070795328358972, 0.009718656532048953, 0.010366499099245474, 0.011014320855055382, 0.011662119624865075, 0.012309893234369595, 0.012957639509602048, 0.013605356276962355, 0.01425304136324701, 0.01490069259567739, 0.01554830780192995, 0.016195884810164318, 0.016843421449053153, 0.017490915547810792, 0.018138364936222673, 0.018785767444674306, 0.019433120904179813, 0.020080423146411785, 0.020727672003729936, 0.021374865309209845, 0.022022000896672278, 0.022669076600712046, 0.02331609025672665, 0.02396303970094582, 0.024609922770459813, 0.0252567373032484, 0.02590348113820984, 0.02655015211518963, 0.02719674807500927, 0.02784326685949501, 0.028489706311506602, 0.029136064274965956, 0.02978233859488577, 0.030428527117398407, 0.031074627689783862, 0.031720638160499304, 0.03236655637920671, 0.03301238019680186, 0.03365810746544273, 0.034303736038577726, 0.03494926377097429, 0.035594688518747364, 0.0362400081393871, 0.036885220491787885, 0.03753032343627627, 0.038175314834639096, 0.03882019255015157, 0.03946495444760567, 0.040109598393338275, 0.04075412225525854, 0.04139852390287657, 0.04204280120733117, 0.04268695204141759, 0.04333097427961563, 0.04397486579811705, 0.04461862447485365, 0.045262248189524845, 0.045905734823625366, 0.04654908226047305, 0.04719228838523559, 0.04783535108495929, 0.04847826824859536, 0.04912103776702803, 0.04976365753310141, 0.050406125441647354, 0.05104843938951209, 0.05169059727558356, 0.052332597000818826, 0.052974436468270714, 0.05361611358311513, 0.054257626252677826, 0.05489897238646135, 0.05554014989617173, 0.056181156695745305, 0.0568219907013755, 0.05746264983153937, 0.05810313200702444, 0.05874343515095426, 0.05938355718881627, 0.060023496048487224, 0.060663249660259155, 0.06130281595686693, 0.0619421928735131, 0.06258137834789468, 0.0632203703202292, 0.06385916673328018, 0.06449776553238351, 0.06513616466547312, 0.06577436208310661, 0.06641235573849102, 0.06705014358750849, 0.06768772358874153, 0.06832509370349882, 0.06896225189584038, 0.06959919613260268, 0.0702359243834243, 0.07087243462077109, 0.07150872481996051, 0.0721447929591873, 0.0727806370195484, 0.07341625498506732, 0.07405164484271931, 0.07468680458245569, 0.07532173219722893, 0.07595642568301653, 0.07659088303884587, 0.07722510226681845, 0.07785908137213415, 0.07849281836311517, 0.07912631125123071, 0.07975955805112, 0.08039255678061752, 0.08102530546077535, 0.08165780211588813, 0.0822900447735162, 0.08292203146450883, 0.0835537602230284, 0.08418522908657344, 0.08481643609600154, 0.08544737929555324, 0.08607805673287483, 0.08670846645904129, 0.08733860652857905, 0.08796847499948934, 0.08859806993327057, 0.08922738939494101, 0.08985643145306121, 0.09048519417975687, 0.0911136756507408, 0.09174187394533528, 0.09236978714649435, 0.09299741334082556, 0.09362475061861264, 0.09425179707383613, 0.09487855080419672, 0.09550500991113564, 0.0961311724998567, 0.0967570366793481, 0.09738260056240311, 0.09800786226564184, 0.09863281990953243, 0.0992574716184117, 0.09988181552050635, 0.10050584974795418, 0.10112957243682419, 0.10175298172713787, 0.10237607576288899, 0.10299885269206477, 0.10362131066666602, 0.1042434478427271, 0.10486526238033633, 0.10548675244365602, 0.10610791620094218, 0.10672875182456454, 0.10734925749102586, 0.10796943138098214, 0.1085892716792618, 0.10920877657488481, 0.10982794426108222, 0.11044677293531546, 0.11106526079929513, 0.11168340605899985, 0.11230120692469547, 0.11291866161095343, 0.11353576833666967, 0.11415252532508269, 0.11476893080379247, 0.11538498300477829, 0.11600068016441711, 0.11661602052350162, 0.11723100232725803, 0.11784562382536401, 0.11845988327196644, 0.11907377892569848, 0.11968730904969827, 0.12030047191162485, 0.12091326578367612, 0.12152568894260618, 0.12213773966974173, 0.12274941625099955, 0.1233607169769031, 0.12397164014259865, 0.12458218404787269, 0.12519234699716786, 0.1258021272995994, 0.1264115232689712, 0.12702053322379203, 0.1276291554872916, 0.1282373883874357, 0.1288452302569435, 0.1294526794333013, 0.13005973425877881, 0.13066639308044503, 0.13127265425018309, 0.1318785161247047, 0.13248397706556614, 0.13308903543918305, 0.13369368961684425, 0.13429793797472778, 0.13490177889391408, 0.13550521076040167, 0.13610823196512023, 0.13671084090394547, 0.1373130359777135, 0.1379148155922335, 0.13851617815830286, 0.13911712209172034, 0.13971764581329915, 0.14031774774888128, 0.14091742632935012, 0.14151667999064377, 0.14211550717376886, 0.14271390632481207, 0.14331187589495442, 0.14390941434048277, 0.1445065201228033, 0.14510319170845354, 0.1456994275691147, 0.14629522618162405, 0.14689058602798666, 0.1474855055953881, 0.14807998337620543, 0.14867401786801926, 0.14926760757362556, 0.14986075100104668, 0.15045344666354332, 0.15104569307962534, 0.1516374887730627, 0.15222883227289663, 0.15281972211345063, 0.15341015683434134, 0.1540001349804886, 0.15458965510212597, 0.1551787157548118, 0.15576731549943879, 0.1563554529022445, 0.156943126534821, 0.15753033497412472, 0.15811707680248666, 0.15870335060762164, 0.15928915498263763, 0.1598744885260458, 0.1604593498417688, 0.1610437375391508, 0.16162765023296577, 0.1622110865434272, 0.16279404509619555, 0.16337652452238827, 0.1639585234585874, 0.16454004054684845, 0.16512107443470814, 0.16570162377519293, 0.16628168722682712, 0.16686126345364072, 0.1674403511251763, 0.16801894891649816, 0.1685970555081987, 0.16917466958640626, 0.16975178984279238, 0.17032841497457862, 0.17090454368454455, 0.17148017468103316, 0.17205530667795887, 0.17262993839481355, 0.17320406855667358, 0.17377769589420589, 0.17435081914367423, 0.17492343704694535, 0.1754955483514954, 0.17606715181041532, 0.1766382461824174, 0.1772088302318401, 0.17777890272865415, 0.1783484624484678, 0.17891750817253227, 0.17948603868774704, 0.18005405278666464, 0.18062154926749585, 0.18118852693411436, 0.18175498459606165, 0.1823209210685517, 0.1828863351724752, 0.18345122573440387, 0.18401559158659508, 0.18457943156699574, 0.1851427445192464, 0.18570552929268502, 0.18626778474235062, 0.1868295097289875, 0.18739070311904804, 0.18795136378469668, 0.18851149060381311, 0.18907108245999515, 0.18963013824256203, 0.19018865684655728, 0.1907466371727521, 0.19130407812764705, 0.1918609786234754, 0.19241733757820556, 0.19297315391554282, 0.19352842656493274, 0.19408315446156232, 0.1946373365463624, 0.1951909717660094, 0.19574405907292736, 0.1962965974252895, 0.19684858578701958, 0.19740002312779392, 0.1979509084230423, 0.19850124065394892, 0.19905101880745402, 0.19960024187625502, 0.20014890885880698, 0.20069701875932333, 0.20124457058777678, 0.20179156335990012, 0.20233799609718606, 0.20288386782688805, 0.20342917758202028, 0.20397392440135775, 0.20451810732943665, 0.20506172541655354, 0.20560477771876606, 0.20614726329789224, 0.20668918122150914, 0.20723053056295404, 0.20777131040132235, 0.20831151982146767, 0.20885115791400055, 0.20939022377528782, 0.20992871650745082, 0.2104666352183655, 0.21100397902165968, 0.21154074703671288, 0.21207693838865405, 0.21261255220836017, 0.21314758763245456, 0.2136820438033057, 0.214215919869024, 0.2147492149834609, 0.21528192830620618, 0.2158140590025861, 0.21634560624366117, 0.21687656920622278, 0.21740694707279207, 0.21793673903161603, 0.2184659442766662, 0.218994562007634, 0.21952259142992947, 0.2200500317546774, 0.22057688219871452, 0.2211031419845858, 0.22162881034054172, 0.22215388650053502, 0.22267836970421573, 0.22320225919692993, 0.2237255542297134, 0.2242482540592904, 0.22477035794806755, 0.22529186516413124, 0.22581277498124297, 0.22633308667883534, 0.22685279954200777, 0.2273719128615218, 0.22789042593379738, 0.22840833806090732, 0.2289256485505734, 0.22944235671616164, 0.22995846187667668, 0.2304739633567574, 0.23098886048667255, 0.23150315260231435, 0.23201683904519388, 0.23252991916243626, 0.23304239230677448, 0.23355425783654438, 0.23406551511567897, 0.23457616351370292, 0.23508620240572697, 0.23559563117244142, 0.23610444920011087, 0.23661265588056812, 0.237120250611208, 0.2376272327949812, 0.23813360184038812, 0.23863935716147255, 0.23914449817781513, 0.23964902431452673, 0.24015293500224277, 0.24065622967711486, 0.24115890778080573, 0.2416609687604815, 0.2421624120688053, 0.2426632371639298, 0.24316344350949004, 0.24366303057459682, 0.24416199783382975, 0.24466034476722864, 0.2451580708602873, 0.24565517560394556, 0.24615165849458231, 0.24664751903400672, 0.24714275672945174, 0.24763737109356598, 0.24813136164440552, 0.2486247279054261, 0.24911746940547552, 0.24960958567878533, 0.2501010762649627, 0.25059194070898183, 0.25108217856117654, 0.2515717893772307, 0.2520607727181713, 0.25254912815035857, 0.25303685524547825, 0.2535239535805326, 0.25401042273783137, 0.25449626230498457, 0.25498147187489095, 0.2554660510457316, 0.25594999942096, 0.2564333166092919, 0.2569160022246987, 0.25739805588639564, 0.2578794772188341, 0.25836026585169203, 0.25884042141986374, 0.259319943563452, 0.2597988319277571, 0.26027708616326806, 0.2607547059256524, 0.26123169087574716, 0.2617080406795482, 0.262183755008202, 0.26265883353799324, 0.26313327595033764, 0.2636070819317695, 0.26408025117393363, 0.2645527833735738, 0.2650246782325232, 0.2654959354576941, 0.26596655476106745, 0.26643653585968285, 0.2669058784756273, 0.26737458233602585, 0.2678426471730303, 0.26831007272380847, 0.2687768587305346, 0.26924300494037723, 0.26970851110548955, 0.27017337698299815, 0.2706376023349921, 0.27110118692851226, 0.2715641305355403, 0.2720264329329872, 0.27248809390268314, 0.27294911323136506, 0.273409490710667, 0.27386922613710774, 0.2743283193120798, 0.2747867700418385, 0.27524457813749004, 0.27570174341498044, 0.2761582656950844, 0.27661414480339275, 0.27706938057030206, 0.27752397283100194, 0.2779779214254645, 0.27843122619843197, 0.27888388699940514, 0.2793359036826314, 0.27978727610709275, 0.28023800413649524, 0.2806880876392548, 0.28113752648848733, 0.28158632056199595, 0.2820344697422583, 0.2824819739164156, 0.28292883297626004, 0.2833750468182221, 0.28382061534335945, 0.28426553845734337, 0.284709816070448, 0.2851534480975364, 0.2855964344580495, 0.2860387750759933, 0.28648046987992604, 0.28692151880294614, 0.2873619217826795, 0.2878016787612675, 0.2882407896853535, 0.2886792545060707, 0.2891170731790299, 0.2895542456643062, 0.28999077192642664, 0.29042665193435724, 0.2908618856614904, 0.2912964730856319, 0.2917304141889884, 0.292163708958154, 0.2925963573840984, 0.29302835946215244, 0.29345971519199643, 0.29389042457764647, 0.2943204876274418, 0.2947499043540317, 0.2951786747743619, 0.29560679890966235, 0.2960342767854336, 0.2964611084314329, 0.29688729388166335, 0.2973128331743574, 0.2977377263519664, 0.29816197346114603, 0.29858557455274315, 0.29900852968178293, 0.2994308389074547, 0.29985250229309945, 0.3002735199061961, 0.30069389181834794, 0.30111361810526915, 0.3015326988467719, 0.30195113412675245, 0.3023689240331777, 0.30278606865807167, 0.30320256809750223, 0.303618422451567, 0.3040336318243806, 0.30444819632405973, 0.30486211606271185, 0.30527539115641855, 0.3056880217252248, 0.30610000789312297, 0.30651134978804095, 0.30692204754182717, 0.3073321012902377, 0.3077415111729217, 0.30815027733340916, 0.3085583999190953, 0.30896587908122797, 0.30937271497489394, 0.30977890775900396, 0.31018445759628055, 0.31058936465324316, 0.3109936291001941, 0.31139725111120586, 0.3118002308641058, 0.3122025685404636, 0.3126042643255764, 0.3130053184084556, 0.31340573098181246, 0.3138055022420443, 0.3142046323892209, 0.31460312162707016, 0.3150009701629647, 0.31539817820790683, 0.3157947459765158, 0.31619067368701337, 0.31658596156120977, 0.3169806098244895, 0.317374618705798, 0.31776798843762677, 0.31816071925600053, 0.318552811400462, 0.3189442651140586, 0.31933508064332883, 0.31972525823828657, 0.3201147981524092, 0.320503700642622, 0.3208919659692854, 0.3212795943961795, 0.3216665861904908, 0.32205294162279885, 0.32243866096706086, 0.3228237445005986, 0.32320819250408384, 0.32359200526152454, 0.3239751830602514, 0.3243577261909023, 0.32473963494740965, 0.3251209096269859, 0.32550155053010954, 0.32588155796051044, 0.32626093222515695, 0.32663967363424085, 0.3270177825011641, 0.3273952591425241, 0.32777210387809974, 0.32814831703083847, 0.32852389892684075, 0.3288988498953467, 0.32927317026872205, 0.3296468603824444, 0.3300199205750889, 0.3303923511883138, 0.33076415256684777, 0.3311353250584743, 0.3315058690140188, 0.33187578478733437, 0.33224507273528747, 0.33261373321774446, 0.3329817665975572, 0.33334917324054913, 0.3337159535155021, 0.33408210779414094, 0.3344476364511213, 0.3348125398640136, 0.3351768184132913, 0.33554047248231567, 0.3359035024573218, 0.3362659087274057, 0.33662769168450957, 0.336988851723408, 0.33734938924169433, 0.3377093046397671, 0.3380685983208155, 0.3384272706908058, 0.3387853221584677, 0.33914275313528064, 0.33949956403545956, 0.33985575527594114, 0.3402113272763708, 0.340566280459088, 0.34092061524911255, 0.3412743320741317, 0.34162743136448537, 0.3419799135531534, 0.3423317790757414, 0.3426830283704667, 0.3430336618781452, 0.3433836800421777, 0.3437330833085357, 0.3440818721257487, 0.3444300469448899, 0.3447776082195626, 0.345124556405887, 0.3454708919624865, 0.3458166153504737, 0.3461617270334377, 0.34650622747743, 0.3468501171509508, 0.3471933965249361, 0.34753606607274434, 0.34787812627014203, 0.3482195775952913, 0.3485604205287359, 0.3489006555533877, 0.34924028315451383, 0.34957930381972324, 0.34991771803895333, 0.35025552630445567, 0.3505927291107842, 0.35092932695478163, 0.35126532033556457, 0.35160070975451274, 0.35193549571525373, 0.3522696787236512, 0.3526032592877909, 0.3529362379179669, 0.35326861512667085, 0.353600391428576, 0.35393156734052544, 0.3542621433815193, 0.35459212007270124, 0.3549214979373454, 0.35525027750084337, 0.35557845929069143, 0.3559060438364777, 0.3562330316698681, 0.3565594233245951, 0.35688521933644346, 0.3572104202432381, 0.3575350265848313, 0.35785903890308834, 0.3581824577418772, 0.3585052836470536, 0.3588275171664499, 0.35914915884986065, 0.3594702092490313, 0.3597906689176449, 0.36011053841130947, 0.3604298182875454, 0.36074850910577283, 0.36106661142729846, 0.36138412581530466, 0.36170105283483467, 0.362017393052782, 0.3623331470378769, 0.36264831536067366, 0.3629628985935396, 0.3632768973106406, 0.3635903120879306, 0.3639031435031378, 0.3642153921357535, 0.3645270585670185, 0.3648381433799125, 0.3651486471591394, 0.3654585704911181, 0.3657679139639676, 0.36607667816749634, 0.36638486369318923, 0.3666924711341961, 0.3669995010853201, 0.3673059541430035, 0.367611830905318, 0.36791713197195175, 0.3682218579441968, 0.3685260094249384, 0.36882958701864166, 0.36913259133134113, 0.369435022970627, 0.3697368825456354, 0.37003817066703515, 0.3703388879470163, 0.3706390349992784, 0.3709386124390187, 0.3712376208829209, 0.37153606094914293, 0.37183393325730474, 0.3721312384284783, 0.3724279770851746, 0.37272414985133273, 0.3730197573523084, 0.3733148002148614, 0.3736092790671456, 0.373903194538697, 0.3741965472604213, 0.37448933786458427, 0.3747815669847988, 0.37507323525601455, 0.3753643433145063, 0.3756548917978627, 0.37594488134497484, 0.3762343125960258, 0.37652318619247815, 0.37681150277706454, 0.3770992629937745, 0.37738646748784543, 0.37767311690575, 0.377959211895186, 0.3782447531050649, 0.37852974118550087, 0.3788141767878007, 0.3790980605644513, 0.37938139316911035, 0.3796641752565948, 0.3799464074828698, 0.3802280905050388, 0.3805092249813312, 0.3807898115710938, 0.38106985093477874, 0.38134934373393237, 0.3816282906311862, 0.3819066922902451, 0.3821845493758772, 0.38246186255390335, 0.3827386324911861, 0.38301485985562056, 0.3832905453161223, 0.38356568954261805, 0.3838402932060351, 0.3841143569782909, 0.38438788153228265, 0.3846608675418772, 0.38493331568190103, 0.3852052266281293, 0.3854766010572762, 0.38574743964698543, 0.38601774307581826, 0.38628751202324607, 0.3865567471696373, 0.38682544919625017, 0.3870936187852212, 0.3873612566195552, 0.3876283633831161, 0.38789493976061673, 0.38816098643760877, 0.3884265041004733, 0.3886914934364104, 0.3889559551334305, 0.3892198898803434, 0.38948329836674955, 0.38974618128303007, 0.3900085393203365, 0.39027037317058266, 0.3905316835264331, 0.3907924710812958, 0.3910527365293113, 0.39131248056534285, 0.39157170388496854, 0.3918304071844706, 0.3920885911608265, 0.39234625651169985, 0.39260340393543036, 0.39286003413102566, 0.39311614779815096, 0.39337174563712096, 0.3936268283488895, 0.3938813966350414, 0.39413545119778315, 0.39438899273993344, 0.3946420219649144, 0.3948945395767428, 0.3951465462800209, 0.3953980427799272, 0.3956490297822082, 0.395899507993169, 0.39614947811966483, 0.3963989408690919, 0.39664789694937896, 0.39689634706897836, 0.3971442919368575, 0.39739173226249, 0.39763866875584697, 0.39788510212738915, 0.3981310330880572, 0.3983764623492636, 0.3986213906228854, 0.39886581862125314, 0.3991097470571452, 0.39935317664377723, 0.3995961080947954, 0.3998385421242667, 0.40008047944667136, 0.4003219207768949, 0.400562866830219, 0.4008033183223141, 0.4010432759692305, 0.4012827404873909, 0.4015217125935824, 0.40176019300494703, 0.4019981824389752, 0.4022356816134979, 0.4024726912466765, 0.40270921205699794, 0.4029452447632639, 0.40318079008458485, 0.4034158487403716, 0.40365042145032726, 0.4038845089344397, 0.40411811191297353, 0.4043512311064633, 0.4045838672357043, 0.4048160210217461, 0.40504769318588496, 0.40527888444965476, 0.4055095955348216, 0.40573982716337453, 0.4059695800575195, 0.4061988549396701, 0.40642765253244173, 0.4066559735586437, 0.406883818741272, 0.40711118880350106, 0.4073380844686777, 0.40756450646031317, 0.4077904555020765, 0.408015932317786, 0.40824093763140357, 0.40846547216702733, 0.40868953664888297, 0.40891313180131916, 0.40913625834879797, 0.40935891701589044, 0.4095811085272669, 0.409802833607692, 0.41002409298201736, 0.41024488737517406, 0.41046521751216647, 0.4106850841180649, 0.4109044879179994, 0.4111234296371523, 0.4113419100007524, 0.4115599297340671, 0.4117774895623967, 0.4119945902110673, 0.4122112324054249, 0.41242741687082707, 0.4126431443326388, 0.41285841551622404, 0.41307323114693995, 0.4132875919501312, 0.41350149865112185, 0.4137149519752107, 0.41392795264766347, 0.41414050139370795, 0.41435259893852616, 0.4145642460072495, 0.4147754433249511, 0.4149861916166413, 0.4151964916072598, 0.41540634402167065, 0.41561574958465564, 0.4158247090209082, 0.4160332230550279, 0.41624129241151364, 0.416448917814758, 0.41665609998904174, 0.416862839658527, 0.4170691375472523, 0.4172749943791251, 0.41748041087791876, 0.4176853877672636, 0.4178899257706433, 0.4180940256113881, 0.4182976880126694, 0.4185009136974944, 0.4187037033886992, 0.4189060578089452, 0.4191079776807113, 0.41930946372628997, 0.4195105166677807, 0.41971113722708553, 0.4199113261259019, 0.4201110840857192, 0.4203104118278115, 0.42050931007323367, 0.4207077795428146, 0.42090582095715345, 0.4211034350366125, 0.4213006225013135, 0.4214973840711316, 0.4216937204656901, 0.4218896324043553, 0.42208512060623193, 0.4222801857901566, 0.42247482867469455, 0.42266904997813315, 0.42286285041847704, 0.4230562307134439, 0.4232491915804585, 0.42344173373664806, 0.4236338578988378, 0.42382556478354494, 0.42401685510697495, 0.42420772958501585, 0.4243981889332339, 0.4245882338668684, 0.4247778651008276, 0.4249670833496825, 0.4251558893276639, 0.4253442837486566, 0.42553226732619465, 0.4257198407734577, 0.42590700480326504, 0.4260937601280719, 0.42628010745996525, 0.42646604751065753, 0.4266515809914845, 0.4268367086133986, 0.4270214310869659, 0.4272057491223612, 0.42738966342936335, 0.4275731747173518, 0.4277562836953006, 0.4279389910717758, 0.4281212975549302, 0.4283032038524993, 0.42848471067179716, 0.42866581871971177, 0.42884652870270124, 0.4290268413267899, 0.4292067572975633, 0.42938627732016477, 0.4295654020992913, 0.42974413233918884, 0.42992246874364926, 0.4301004120160056, 0.4302779628591281, 0.4304551219754207, 0.43063189006681635, 0.4308082678347742, 0.4309842559802748, 0.43115985520381583, 0.4313350662054103, 0.4315098896845797, 0.43168432634035325], 'sens_3': [0.0, 0.0, 0.0, 0.0, 0.0, 0.0, 0.0, 0.0, 0.0, 0.0, 0.0057352434073624226, 0.012001752857148884, 0.018265801972823792, 0.024525425606768403, 0.030778664165088787, 0.03702356605641732, 0.04325819011942822, 0.04948060802267418, 0.05568890663048198, 0.06188119032879247, 0.06805558330501738, 0.07421023177618558, 0.08034330615988505, 0.08645300318276039, 0.09253754792159496, 0.0985951957723068, 0.10462423434248935, 0.11062298526346126, 0.1165898059181214, 0.12252309108125936, 0.12842127446932727, 0.13428283019704468, 0.1401062741385769, 0.14589016519139908, 0.15163310644133332, 0.15733374622760865, 0.16299077910716886, 0.1686029467178074, 0.17416903854006527, 0.17968789255816797, 0.18515839582061644, 0.19057948490136067, 0.1959501462627975, 0.20126941652212316, 0.20653638262285146, 0.211750181913561, 0.21691000213618883, 0.22201508132640002, 0.22706470762877695, 0.23205821902975465, 0.23699500301139986, 0.24187449612927425, 0.24669618351775924, 0.2514595983263225, 0.2561643210903052, 0.26080997903987735, 0.2653962453508656, 0.26992283834119934, 0.27438952061673705, 0.2787960981702462, 0.28314241943729823, 0.28742837431281354, 0.2916538931319633, 0.2958189456190726, 0.29992353980812003, 0.30396772093834734, 0.30795157032841713, 0.3118752042324616, 0.3157387726812667, 0.31954245831173467, 0.3232864751876453, 0.3269710676146331, 0.3305965089521614, 0.33416310042515673, 0.3376711699378385, 0.3411210708921443, 0.34451318101302075, 0.3478479011827197, 0.351125654286103, 0.3543468840688293, 0.35751205401016306, 0.3606216462120183, 0.3636761603057229, 0.366676112377857, 0.36962203391640824, 0.37251447077835576, 0.3753539821796871, 0.37814113970873486, 0.3808765263636166, 0.38356073561445037, 0.3861943704909252, 0.38877804269570737, 0.39131237174406874, 0.39379798413004397, 0.3962355125193332, 0.398625594969095, 0.40096887417469873, 0.40326599674343544, 0.4055176124951251, 0.40772437378949455, 0.40988693488014916, 0.41200595129490336, 0.4140820792421941, 0.41611597504325337, 0.4181082945896777, 0.42005969282599775, 0.4219708232568127, 0.4238423374780358, 0.42567488473175863, 0.4274691114842294, 0.4292256610264147, 0.43094517309659786, 0.4326282835244565, 0.434275623896044, 0.43588782123909486, 0.43746549772806353, 0.43900927040830307, 0.44051975093878637, 0.4419975453527686, 0.44344325383579386, 0.4448574705204452, 0.4462407832972497, 0.44759377364113995, 0.4489170164528947, 0.4502110799149769, 0.4514765253612004, 0.4527139071596621, 0.4539237726083889, 0.45510666184315607, 0.45626310775694445, 0.45739363593051807, 0.45849876457361016, 0.45957900447622224, 0.4606348589695535, 0.46166682389608327, 0.4626753875883518, 0.4636610308559922, 0.46462422698057837, 0.4655654417178712, 0.4664851333070541, 0.4673837524865674, 0.4682617425161558, 0.46911953920476734, 0.46995757094394364, 0.47077625874636464, 0.47157601628921375, 0.4723572499620512, 0.47312035891888626, 0.47386573513416186, 0.4745937634623629, 0.4753048217009874, 0.4759992806566168, 0.4766775042138409, 0.47733984940680063, 0.47798666649312394, 0.4786182990300385, 0.47923508395245695, 0.47983735165283703, 0.48042542606263117, 0.4809996247351499, 0.4815602589296679, 0.482107633696612, 0.4826420479636844, 0.4831637946227696, 0.48367316061749654, 0.4841704270313193, 0.48465586917600223, 0.48512975668038816, 0.4855923535793458, 0.4860439184027897, 0.48648470426468315, 0.4869149589519278, 0.487334925013058, 0.48774483984666084, 0.4881449357894484, 0.48853544020390993, 0.4889165755654846, 0.4892885595491885, 0.48965160511564676, 0.49000592059647374, 0.49035170977895814, 0.4906891719900034, 0.4910185021792899, 0.49133989100161624, 0.49165352489838776, 0.4919595861782228, 0.4922582530966453, 0.4925496999348431, 0.49283409707746484, 0.4931116110894386, 0.49338240479179196, 0.49364663733646175, 0.4939044642800733, 0.49415603765668625, 0.49440150604948896, 0.4946410146614397, 0.49487470538484435, 0.4951027168698692, 0.4953251845919814, 0.49554224091832066, 0.4957540151729951, 0.4959606337013087, 0.49616221993291443, 0.496358894443904, 0.4965507750178314, 0.49673797670567776, 0.49692061188476244, 0.497098790316607, 0.49727261920375887, 0.49744220324558197, 0.497607644693022, 0.49776904340235806, 0.4979264968879462, 0.4980801003739669, 0.4982299468451875, 0.49837612709674706, 0.4985187297829795, 0.49865784146528125, 0.4987935466590382, 0.49892592787962453, 0.49905506568748237, 0.4991810387322968, 0.49930392379627897, 0.4994237958365686, 0.49954072802677085, 0.49965479179763606, 0.4997660568769011, 0.49987459132830114, 0.4999804615897655, 0.5000837325108127, 0.500184467389156, 0.5002827280065321, 0.500378574663767, 0.5004720662150934, 0.5005632601017292, 0.5006522123847325, 0.5007389777771458, 0.5008236096754407, 0.5009061601902778, 0.5009866801765924, 0.5010652192630198, 0.5011418258806725, 0.5012165472912794, 0.5012894296147038, 0.5013605178558461, 0.501429855930949, 0.5014974866933117, 0.5015634519584288, 0.5016277925285632, 0.5016905482167635, 0.5017517578703407, 0.5018114593938106, 0.501869689771315, 0.5019264850885333, 0.5019818805540944, 0.5020359105204952, 0.5020886085045441, 0.5021400072073319, 0.5021901385337446, 0.502239033611524, 0.5022867228098908, 0.5023332357577345, 0.5023786013613815, 0.5024228478219512, 0.5024660026523092, 0.502508092693622, 0.5025491441315293, 0.5025891825119346, 0.5026282327564292, 0.5026663191773523, 0.5027034654924973, 0.5027396948394751, 0.5027750297897349, 0.5028094923622582, 0.502843104036928, 0.5028758857675809, 0.5029078579947521, 0.5029390406581185, 0.5029694532086438, 0.5029991146204393, 0.5030280434023402, 0.5030562576092055, 0.5030837748529526, 0.503110612313324, 0.5031367867484011, 0.5031623145048641, 0.5031872115280078, 0.5032114933715169, 0.5032351752070096, 0.5032582718333471, 0.5032807976857266, 0.5033027668445502, 0.5033241930440836, 0.5033450896809056, 0.503365469822155, 0.5033853462135779, 0.5034047312873815, 0.5034236371698986, 0.5034420756890673, 0.5034600583817289, 0.5034775965007513, 0.5034947010219786, 0.5035113826510127, 0.5035276518298324, 0.5035435187432491, 0.50355899332521, 0.5035740852649441, 0.503588804012963, 0.5036031587869131, 0.5036171585772878, 0.5036308121529997, 0.5036441280668167, 0.5036571146606686, 0.5036697800708213, 0.5036821322329271, 0.5036941788869517, 0.5037059275819805, 0.5037173856809083, 0.503728560365015, 0.5037394586384282, 0.5037500873324791, 0.5037604531099503, 0.5037705624692207, 0.5037804217483083, 0.5037900371288159, 0.503799414639779, 0.5038085601614193, 0.5038174794288078, 0.5038261780354368, 0.5038346614367062, 0.5038429349533224, 0.5038510037746159, 0.5038588729617756, 0.5038665474510062, 0.5038740320566067, 0.5038813314739736, 0.5038884502825305, 0.5038953929485864, 0.503902163828123, 0.5039087671695145, 0.5039152071161802, 0.5039214877091719, 0.5039276128896977, 0.5039335865015848, 0.5039394122936796, 0.5039450939221917, 0.5039506349529783, 0.5039560388637727, 0.5039613090463593, 0.5039664488086928, 0.5039714613769676, 0.5039763498976356, 0.5039811174393733, 0.5039857669950016, 0.5039903014833589, 0.503994723751126, 0.5039990365746081, 0.5040032426614726, 0.5040073446524429, 0.5040113451229516, 0.5040152465847537, 0.5040190514874971, 0.5040227622202585, 0.5040263811130375, 0.5040299104382172, 0.5040333524119864, 0.504036709195729, 0.5040399828973757, 0.5040431755727263, 0.5040462892267373, 0.5040493258147777, 0.5040522872438546, 0.5040551753738076, 0.5040579920184751, 0.5040607389468308, 0.5040634178840921, 0.5040660305128021, 0.5040685784738838, 0.5040710633676687, 0.5040734867549008, 0.5040758501577146, 0.5040781550605896, 0.5040804029112808, 0.5040825951217275, 0.5040847330689374, 0.5040868180958514, 0.5040888515121854, 0.5040908345952517, 0.5040927685907601, 0.5040946547135994, 0.5040964941485998, 0.5040982880512754, 0.5041000375485507, 0.5041017437394653, 0.5041034076958655, 0.5041050304630756, 0.5041066130605549, 0.504108156482536, 0.5041096616986497, 0.5041111296545333, 0.5041125612724239, 0.5041139574517373, 0.5041153190696321, 0.5041166469815613, 0.5041179420218073, 0.5041192050040076, 0.5041204367216645, 0.5041216379486435, 0.5041228094396579, 0.5041239519307448, 0.504125066139725, 0.5041261527666548, 0.504127212494266, 0.5041282459883925, 0.5041292538983905, 0.5041302368575444, 0.5041311954834667, 0.5041321303784829, 0.5041330421300122, 0.5041339313109348, 0.5041347984799524, 0.5041356441819385, 0.5041364689482809, 0.5041372732972158, 0.5041380577341521, 0.5041388227519894, 0.5041395688314285, 0.504140296441271, 0.5041410060387163, 0.5041416980696465, 0.5041423729689084, 0.5041430311605847, 0.504143673058262, 0.5041442990652895, 0.5041449095750327, 0.5041455049711207, 0.5041460856276866, 0.5041466519096031, 0.5041472041727112, 0.5041477427640436, 0.5041482680220439, 0.5041487802767777, 0.5041492798501401, 0.5041497670560591, 0.5041502422006914, 0.5041507055826158, 0.50415115749302, 0.504151598215884, 0.5041520280281581, 0.5041524471999369, 0.5041528559946299, 0.5041532546691255, 0.5041536434739537, 0.5041540226534422, 0.5041543924458716, 0.5041547530836229, 0.5041551047933257, 0.5041554477959993, 0.5041557823071913, 0.5041561085371145, 0.5041564266907771, 0.5041567369681133, 0.5041570395641071, 0.5041573346689163, 0.5041576224679916, 0.5041579031421926, 0.5041581768679014, 0.5041584438171347, 0.5041587041576504, 0.5041589580530532, 0.5041592056628988, 0.5041594471427921, 0.5041596826444865, 0.5041599123159788, 0.5041601363016016, 0.5041603547421152, 0.5041605677747946, 0.5041607755335172, 0.5041609781488456, 0.5041611757481113, 0.5041613684554921, 0.5041615563920931, 0.5041617396760208, 0.504161918422458, 0.5041620927437361, 0.5041622627494053, 0.5041624285463047, 0.5041625902386274, 0.5041627479279881, 0.5041629017134853, 0.5041630516917648, 0.5041631979570792, 0.5041633406013487, 0.5041634797142168, 0.5041636153831087, 0.5041637476932849, 0.5041638767278954, 0.5041640025680317, 0.5041641252927774, 0.5041642449792589, 0.5041643617026933, 0.5041644755364348, 0.5041645865520223, 0.5041646948192238, 0.5041648004060797, 0.5041649033789461, 0.5041650038025363, 0.5041651017399619, 0.5041651972527718, 0.5041652904009912, 0.5041653812431593, 0.5041654698363663, 0.5041655562362886, 0.5041656404972248, 0.5041657226721291, 0.5041658028126443, 0.5041658809691354, 0.5041659571907201, 0.5041660315253003, 0.5041661040195918, 0.5041661747191543, 0.5041662436684193, 0.5041663109107183, 0.5041663764883102, 0.5041664404424079, 0.5041665028132033, 0.5041665636398942, 0.5041666229607076, 0.5041666808129239, 0.504166737232901, 0.5041667922560963, 0.5041668459170896, 0.5041668982496048, 0.5041669492865304, 0.5041669990599412, 0.5041670476011182, 0.5041670949405667, 0.5041671411080384, 0.5041671861325471, 0.5041672300423891, 0.5041672728651602, 0.5041673146277725, 0.5041673553564725, 0.5041673950768564, 0.5041674338138866, 0.5041674715919082, 0.5041675084346632, 0.5041675443653054, 0.5041675794064164, 0.5041676135800178, 0.5041676469075868, 0.504167679410068, 0.5041677111078882, 0.5041677420209681, 0.5041677721687357, 0.5041678015701377, 0.5041678302436514, 0.5041678582072975, 0.5041678854786497, 0.5041679120748473, 0.5041679380126048, 0.5041679633082234, 0.5041679879776002, 0.5041680120362391, 0.50416803549926, 0.5041680583814085, 0.5041680806970655, 0.5041681024602551, 0.5041681236846549, 0.5041681443836039, 0.5041681645701104, 0.5041681842568607, 0.5041682034562274, 0.5041682221802768, 0.504168240440776, 0.504168258249201, 0.504168275616744, 0.5041682925543198, 0.5041683090725733, 0.504168325181885, 0.5041683408923796, 0.5041683562139302, 0.5041683711561663, 0.504168385728478, 0.504168399940024, 0.5041684137997354, 0.5041684273163227, 0.5041684404982808, 0.5041684533538935, 0.5041684658912405, 0.5041684781182012, 0.5041684900424596, 0.5041685016715098, 0.5041685130126601, 0.504168524073038, 0.5041685348595948, 0.5041685453791093, 0.5041685556381926, 0.5041685656432923, 0.5041685754006963, 0.5041685849165367, 0.5041685941967937, 0.5041686032473, 0.5041686120737431, 0.5041686206816705, 0.5041686290764916, 0.5041686372634827, 0.5041686452477886, 0.5041686530344275, 0.5041686606282931, 0.5041686680341574, 0.5041686752566751, 0.5041686823003851, 0.5041686891697146, 0.50416869586898, 0.5041687024023923, 0.5041687087740571, 0.5041687149879788, 0.5041687210480624, 0.504168726958117, 0.5041687327218567, 0.5041687383429037, 0.5041687438247904, 0.5041687491709624, 0.5041687543847795, 0.5041687594695182, 0.5041687644283743, 0.504168769264464, 0.504168773980827, 0.5041687785804272, 0.5041687830661551, 0.5041687874408299, 0.5041687917072013, 0.5041687958679502, 0.5041687999256914, 0.5041688038829756, 0.5041688077422892, 0.5041688115060579, 0.5041688151766472, 0.5041688187563639, 0.5041688222474574, 0.5041688256521222, 0.5041688289724979, 0.5041688322106711, 0.504168835368677, 0.5041688384485002, 0.5041688414520762, 0.5041688443812931, 0.504168847237991, 0.504168850023966, 0.5041688527409688, 0.5041688553907067, 0.5041688579748452, 0.5041688604950082, 0.5041688629527796, 0.5041688653497041, 0.504168867687288, 0.5041688699670005, 0.5041688721902741, 0.5041688743585062, 0.5041688764730594, 0.5041688785352626, 0.5041688805464121, 0.5041688825077717, 0.5041688844205737, 0.5041688862860206, 0.5041688881052848, 0.5041688898795096, 0.5041688916098097, 0.504168893297273, 0.5041688949429597, 0.5041688965479043, 0.5041688981131154, 0.5041688996395765, 0.504168901128247, 0.5041689025800625, 0.5041689039959356, 0.5041689053767558, 0.5041689067233913, 0.504168908036688, 0.5041689093174716, 0.5041689105665468, 0.5041689117846987, 0.5041689129726927, 0.5041689141312758, 0.5041689152611757, 0.5041689163631028, 0.5041689174377495, 0.5041689184857913, 0.5041689195078868, 0.504168920504678, 0.5041689214767918, 0.5041689224248392, 0.5041689233494155, 0.5041689242511024, 0.5041689251304661, 0.5041689259880595, 0.5041689268244214, 0.5041689276400775, 0.5041689284355405, 0.5041689292113103, 0.5041689299678742, 0.504168930705708, 0.5041689314252752, 0.5041689321270283, 0.504168932811408, 0.5041689334788444, 0.5041689341297573, 0.5041689347645553, 0.5041689353836377, 0.5041689359873937, 0.5041689365762024, 0.504168937150434, 0.5041689377104492, 0.5041689382566004, 0.5041689387892303, 0.5041689393086741, 0.504168939815258, 0.5041689403093003, 0.5041689407911117, 0.5041689412609948, 0.5041689417192451, 0.5041689421661507, 0.5041689426019921, 0.5041689430270434, 0.5041689434415715, 0.5041689438458374, 0.5041689442400947, 0.5041689446245916, 0.5041689449995694, 0.504168945365264, 0.504168945721905, 0.5041689460697167, 0.5041689464089176, 0.504168946739721, 0.5041689470623344, 0.5041689473769612, 0.5041689476837986, 0.5041689479830399, 0.5041689482748727, 0.5041689485594806, 0.5041689488370426, 0.5041689491077329, 0.5041689493717217, 0.5041689496291749, 0.5041689498802545, 0.504168950125118, 0.5041689503639194, 0.5041689505968089, 0.5041689508239328, 0.5041689510454336, 0.5041689512614508, 0.50416895147212, 0.5041689516775739, 0.5041689518779412, 0.5041689520733482, 0.5041689522639173, 0.5041689524497683, 0.5041689526310187, 0.5041689528077815, 0.5041689529801683, 0.5041689531482874, 0.5041689533122444, 0.5041689534721421, 0.5041689536280816, 0.5041689537801601, 0.5041689539284737, 0.5041689540731158, 0.5041689542141767, 0.5041689543517454, 0.5041689544859083, 0.5041689546167498, 0.5041689547443522, 0.5041689548687953, 0.5041689549901576, 0.5041689551085156, 0.504168955223943, 0.504168955336513, 0.5041689554462963, 0.5041689555533613, 0.504168955657776, 0.5041689557596054, 0.5041689558589142, 0.504168955955764, 0.5041689560502165, 0.5041689561423304, 0.5041689562321638, 0.5041689563197733, 0.5041689564052139, 0.5041689564885392, 0.5041689565698015, 0.5041689566490521, 0.5041689567263408, 0.504168956801716, 0.504168956875225, 0.5041689569469143, 0.5041689570168286, 0.5041689570850123, 0.5041689571515078, 0.504168957216357, 0.5041689572796009, 0.5041689573412791, 0.5041689574014303, 0.5041689574600923, 0.5041689575173018, 0.5041689575730952, 0.5041689576275072, 0.5041689576805723, 0.5041689577323236, 0.5041689577827937, 0.5041689578320143, 0.5041689578800164, 0.50416895792683, 0.5041689579724846, 0.504168958017009, 0.5041689580604312, 0.5041689581027782, 0.5041689581440769, 0.5041689581843534, 0.5041689582236326, 0.5041689582619393, 0.5041689582992976, 0.5041689583357312, 0.5041689583712627, 0.5041689584059146, 0.5041689584397087, 0.5041689584726659, 0.5041689585048073, 0.5041689585361531, 0.5041689585667228, 0.5041689585965357, 0.5041689586256104, 0.5041689586539655, 0.5041689586816185, 0.5041689587085869, 0.5041689587348877, 0.5041689587605371, 0.5041689587855518, 0.5041689588099472, 0.5041689588337386, 0.5041689588569409, 0.5041689588795688, 0.5041689589016365, 0.5041689589231579, 0.5041689589441467, 0.5041689589646157, 0.5041689589845779, 0.5041689590040459, 0.504168959023032, 0.5041689590415481, 0.5041689590596057, 0.5041689590772163, 0.5041689590943907, 0.5041689591111402, 0.504168959127475, 0.5041689591434053, 0.5041689591589413, 0.5041689591740925, 0.504168959188869, 0.5041689592032792, 0.5041689592173328, 0.5041689592310388, 0.5041689592444052, 0.5041689592574405, 0.5041689592701535, 0.5041689592825516, 0.5041689592946426, 0.5041689593064345, 0.5041689593179342, 0.5041689593291494, 0.5041689593400869, 0.5041689593507537, 0.5041689593611562, 0.5041689593713012, 0.5041689593811953, 0.5041689593908443, 0.5041689594002543, 0.5041689594094316, 0.5041689594183816, 0.5041689594271099, 0.5041689594356222, 0.5041689594439238, 0.5041689594520198, 0.5041689594599152, 0.5041689594676155, 0.5041689594751251, 0.5041689594824486, 0.5041689594895908, 0.5041689594965564, 0.5041689595033494, 0.5041689595099741, 0.5041689595164349, 0.5041689595227359, 0.5041689595288807, 0.5041689595348735, 0.5041689595407179, 0.5041689595464176, 0.504168959551976, 0.504168959557397, 0.5041689595626839, 0.5041689595678398, 0.504168959572868, 0.5041689595777719, 0.5041689595825543, 0.5041689595872181, 0.5041689595917667, 0.5041689595962024, 0.5041689596005285, 0.5041689596047476, 0.5041689596088621, 0.5041689596128747, 0.504168959616788, 0.5041689596206045, 0.5041689596243264, 0.5041689596279562, 0.5041689596314962, 0.5041689596349486, 0.5041689596383154, 0.5041689596415988, 0.5041689596448009, 0.504168959647924, 0.5041689596509695, 0.5041689596539398, 0.5041689596568364, 0.5041689596596615, 0.5041689596624164, 0.5041689596651031, 0.5041689596677235, 0.504168959670279, 0.5041689596727712, 0.5041689596752015, 0.5041689596775718, 0.5041689596798835, 0.5041689596821379, 0.5041689596843364, 0.5041689596864805, 0.5041689596885717, 0.5041689596906109, 0.5041689596925998, 0.5041689596945393, 0.5041689596964309, 0.5041689596982755, 0.5041689597000747, 0.5041689597018291, 0.5041689597035401, 0.5041689597052088, 0.5041689597068364, 0.5041689597084233, 0.5041689597099712, 0.5041689597114807, 0.5041689597129528, 0.5041689597143886, 0.5041689597157888, 0.5041689597171541, 0.5041689597184857, 0.5041689597197845, 0.504168959721051, 0.5041689597222863, 0.5041689597234909, 0.5041689597246657, 0.5041689597258114, 0.5041689597269288, 0.5041689597280186, 0.5041689597290813, 0.5041689597301175, 0.5041689597311283, 0.504168959732114, 0.5041689597330754, 0.5041689597340129, 0.504168959734927, 0.5041689597358188, 0.5041689597366885, 0.5041689597375365, 0.5041689597383636, 0.5041689597391701, 0.5041689597399568, 0.504168959740724, 0.504168959741472, 0.5041689597422017, 0.5041689597429133, 0.5041689597436072, 0.504168959744284, 0.5041689597449441, 0.5041689597455876, 0.5041689597462156, 0.5041689597468277, 0.5041689597474248, 0.504168959748007, 0.5041689597485748, 0.5041689597491286, 0.5041689597496688, 0.5041689597501955, 0.5041689597507091, 0.50416895975121, 0.5041689597516985, 0.504168959752175, 0.5041689597526398, 0.504168959753093, 0.5041689597535348, 0.5041689597539658], 'sens_4': [0.0, 0.0, 0.0, 0.0, 0.0, 0.0, 0.0, 0.0, 0.0008755439973603396, 0.002189276887879732, 0.003502921980922946, 0.004816461144881656, 0.0061298762539964136, 0.007443149189358567, 0.008756261839907575, 0.010069196103430711, 0.011381933887559592, 0.012694457110766943, 0.014006747703360689, 0.015318787608478102, 0.01663055878307762, 0.01794204319892867, 0.01925322284360148, 0.02056407972145252, 0.021874595854609935, 0.023184753283956916, 0.024494534070110596, 0.02580392029440237, 0.0271128940598519, 0.028421437492141488, 0.029729532740586206, 0.031037161979102335, 0.03234430740717198, 0.03365095125080492, 0.034957075763498324, 0.03626266322719207, 0.037567695953221125, 0.03887215628326518, 0.040176026590293346, 0.041479289279507225, 0.042781926789278, 0.044083921592081576, 0.04538525619542916, 0.0466859131427928, 0.0479858750145285, 0.04928512442879379, 0.05058364404246196, 0.05188141655203071, 0.05317842469452688, 0.05447465124840706, 0.05577007903445236, 0.05706469091665928, 0.05835846980312476, 0.05965139864692737, 0.06094346044700233, 0.06223463824901165, 0.06352491514620917, 0.06481427428030029, 0.0661026988422953, 0.06739017207335857, 0.06867667726565108, 0.06996219776316714, 0.07124671696256629, 0.0725302183139977, 0.07381268532192037, 0.07509410154591578, 0.07637445060149506, 0.0776537161609, 0.07893188195389722, 0.08020893176856675, 0.08148484945208306, 0.0827596189114907, 0.0840332241144725, 0.08530564909011129, 0.08657687792964536, 0.08784689478721575, 0.08911568388060859, 0.09038322949198868, 0.09164951596862697, 0.09291452772362091, 0.09417824923660723, 0.09544066505446774, 0.09670175979202822, 0.097961518132749, 0.09921992482940928, 0.10047696470478296, 0.10173262265230765, 0.10298688363674602, 0.104239732694839, 0.10549115493595251, 0.1067411355427143, 0.10798965977164598, 0.10923671295378418, 0.1104822804952964, 0.11172634787808722, 0.1129689006603975, 0.11420992447739481, 0.11544940504175699, 0.11668732814424648, 0.1179236796542768, 0.11915844552047172, 0.12039161177121482, 0.1216231645151924, 0.12285308994192667, 0.12408137432230193, 0.12530800400908143, 0.12653296543741638, 0.12775624512534695, 0.128977829674294, 0.13019770576954304, 0.13141586018071977, 0.1326322797622566, 0.13384695145385178, 0.13505986228091843, 0.13627099935502662, 0.13748034987433638, 0.13868790112402135, 0.13989364047668562, 0.14109755539276986, 0.14229963342095114, 0.1434998621985324, 0.14469822945182365, 0.14589472299651612, 0.14708933073804514, 0.148282040671947, 0.14947284088420543, 0.15066171955159025, 0.15184866494198768, 0.15303366541472097, 0.1542167094208638, 0.15539778550354394, 0.15657688229823907, 0.15775398853306338, 0.1589290930290464, 0.16010218470040244, 0.1612732525547923, 0.16244228569357505, 0.16360927331205355, 0.1647742046997091, 0.1659370692404289, 0.1670978564127249, 0.1682565557899438, 0.16941315704046905, 0.17056764992791407, 0.17172002431130723, 0.1728702701452683, 0.1740183774801769, 0.1751643364623322, 0.17630813733410466, 0.1774497704340789, 0.17858922619718937, 0.1797264951548464, 0.18086156793505564, 0.1819944352625278, 0.18312508795878135, 0.18425351694223663, 0.18537971322830188, 0.18650366792945156, 0.18762537225529669, 0.188744817512646, 0.18986199510556168, 0.19097689653540434, 0.19208951340087255, 0.19319983739803298, 0.19430786032034353, 0.19541357405866877, 0.19651697060128698, 0.19761804203389072, 0.19871678053957886, 0.19981317839884133, 0.20090722798953642, 0.20199892178686102, 0.20308825236331257, 0.20417521238864467, 0.20525979462981442, 0.20634199195092334, 0.20742179731315064, 0.20849920377467923, 0.2095742044906153, 0.21064679271289982, 0.2117169617902141, 0.21278470516787756, 0.21385001638773932, 0.21491288908806255, 0.21597331700340178, 0.21703129396447435, 0.21808681389802448, 0.21913987082668068, 0.22019045886880761, 0.22123857223834997, 0.22228420524467124, 0.2233273522923852, 0.22436800788118172, 0.22540616660564627, 0.22644182315507244, 0.22747497231326957, 0.22850560895836336, 0.2295337280625907, 0.23055932469208934, 0.23158239400668018, 0.2326029312596452, 0.2336209317974985, 0.2346363910597528, 0.2356493045786795, 0.23665966797906302, 0.2376674769779505, 0.23867272738439532, 0.23967541509919543, 0.24067553611462716, 0.24167308651417224, 0.24266806247224126, 0.24366046025389065, 0.24465027621453578, 0.24563750679965857, 0.24662214854451012, 0.24760419807380848, 0.24858365210143205, 0.24956050743010763, 0.25053476095109517, 0.2515064096438656, 0.2524754505757769, 0.2534418809017433, 0.2544056978639022, 0.25536689879127517, 0.2563254810994256, 0.25728144229011213, 0.25823477995093713, 0.2591854917549927, 0.2601335754605014, 0.2610790289104534, 0.26202185003224016, 0.26296203683728403, 0.26389958742066427, 0.2648344999607393, 0.2657667727187657, 0.26669640403851336, 0.2676233923458773, 0.26854773614848637, 0.2694694340353085, 0.2703884846762524, 0.2713048868217669, 0.2722186393024359, 0.273129741028572, 0.27403819098980564, 0.27494398825467214, 0.27584713197019556, 0.27674762136147024, 0.277645455731239, 0.2785406344594692, 0.27943315700292604, 0.2803230228947434, 0.28121023174399223, 0.28209478323524606, 0.28297667712814545, 0.28385591325695875, 0.28473249153014135, 0.285606411929893, 0.2864776745117126, 0.28734627940395113, 0.2882122268073628, 0.28907551699465417, 0.28993615031003117, 0.29079412716874486, 0.29164944805663545, 0.2925021135296739, 0.2933521242135031, 0.29419948080297653, 0.29504418406169575, 0.29588623482154713, 0.29672563398223595, 0.29756238251082034, 0.2983964814412434, 0.2992279318738645, 0.3000567349749885, 0.3008828919763957, 0.30170640417486877, 0.3025272729317201, 0.30334549967231766, 0.3041610858856101, 0.3049740331236511, 0.30578434300112295, 0.30659201719485946, 0.307397057443368, 0.30819946554635136, 0.3089992433642288, 0.3097963928176566, 0.31059091588704835, 0.3113828146120943, 0.3121720910912817, 0.31295874748141295, 0.31374278599712513, 0.31452420891040855, 0.3153030185501254, 0.3160792173015278, 0.31685280760577716, 0.31762379195946167, 0.31839217291411503, 0.31915795307573513, 0.31992113510430287, 0.32068172171330067, 0.3214397156692316, 0.3221951197911389, 0.32294793695012536, 0.3236981700688737, 0.3244458221211665, 0.3251908961314074, 0.3259333951741421, 0.32667332237358004, 0.32741068090311704, 0.3281454739848583, 0.3288777048891418, 0.32960737693406217, 0.3303344934849963, 0.3310590579541287, 0.33178107379997773, 0.33250054452692346, 0.3332174736847352, 0.33393186486810084, 0.33464372171615686, 0.33535304791201903, 0.3360598471823144, 0.3367641232967144, 0.33746588006746836, 0.33816512134893906, 0.3388618510371388, 0.33955607306926644, 0.34024779142324657, 0.3409370101172685, 0.341623733209328, 0.34230796479676884, 0.34298970901582715, 0.3436689700411757, 0.34434575208547036, 0.34502005939889807, 0.34569189626872543, 0.3463612670188496, 0.34702817600935026, 0.3476926276360427, 0.3483546263300333, 0.34901417655727596, 0.3496712828181301, 0.35032594964692065, 0.35097818161149874, 0.35162798331280565, 0.35227535938443655, 0.3529203144922073, 0.3535628533337225, 0.354202980637945, 0.3548407011647673, 0.35547601970458537, 0.3561089410778732, 0.35673947013475993, 0.3573676117546083, 0.35799337084559535, 0.3586167523442949, 0.3592377612152615, 0.3598564024506173, 0.3604726810696389, 0.36108660211834886, 0.3616981706691066, 0.36230739182020266, 0.3629142706954548, 0.36351881244380546, 0.36412102223892223, 0.3647209052787991, 0.3653184667853612, 0.3659137120040701, 0.36650664620353235, 0.3670972746751094, 0.3676856027325298, 0.3682716357115039, 0.3688553789693396, 0.36943683788456144, 0.37001601785653115, 0.3705929243050705, 0.371167562670086, 0.3717399384111964, 0.37231005700736186, 0.372877923956515, 0.3734435447751954, 0.3740069249981845, 0.3745680701781445, 0.37512698588525784, 0.3756836777068703, 0.3762381512471352, 0.37679041212666087, 0.3773404659821592, 0.3778883184660971, 0.3784339752463509, 0.3789774420058609, 0.379518724442291, 0.3800578282676879, 0.38059475920814406, 0.38112952300346337, 0.381662125406827, 0.3821925721844642, 0.3827208691153232, 0.3832470219907453, 0.3837710366141418, 0.3842929188006716, 0.38481267437692324, 0.3853303091805969, 0.38584582906019066, 0.38635923987468795, 0.38687054749324734, 0.38737975779489553, 0.3878868766682214, 0.38839191001107287, 0.3888948637302565, 0.38939574374123864, 0.3898945559678495, 0.39039130634198876, 0.3908860008033345, 0.3913786452990533, 0.3918692457835135, 0.39235780821800026, 0.39284433857043316, 0.39332884281508584, 0.39381132693230814, 0.39429179690825017, 0.3947702587345894, 0.3952467184082588, 0.3957211819311788, 0.39619365530998973, 0.39666414455578825, 0.3971326556838648, 0.39759919471344407, 0.3980637676674265, 0.3985263805721344, 0.3989870394570573, 0.39944575035460195, 0.39990251929984333, 0.400357352330278, 0.4008102554855803, 0.40126123480735976, 0.4017102963389218, 0.4021574461250297, 0.40260269021166895, 0.403046034645815, 0.4034874854752006, 0.4039270487480884, 0.4043647305130431, 0.4048005368187074, 0.4052344737135798, 0.4056665472457932, 0.4060967634628983, 0.40652512841164623, 0.40695164813777557, 0.4073763286858, 0.40779917609879873, 0.4082201964182094, 0.408639395683622, 0.4090567799325758, 0.4094723552003579, 0.40988612751980413, 0.4102981029211018, 0.4107082874315946, 0.41111668707558957, 0.4115233078741658, 0.41192815584498577, 0.41233123700210816, 0.412732557355803, 0.41313212291236834, 0.4135299396739499, 0.4139260136383613, 0.4143203507989076, 0.41471295714421014, 0.415103838658033, 0.41549300131911265, 0.4158804511009878, 0.4162661939718328, 0.41665023589429195, 0.4170325828253161, 0.41741324071600105, 0.4177922155114278, 0.41816951315050516, 0.418545139565813, 0.418919100683449, 0.41929140242287616, 0.41966205069677187, 0.4200310514108805, 0.42039841046386545, 0.420764133747165, 0.4211282271448489, 0.42149069653347704, 0.4218515477819602, 0.42221078675142165, 0.42256841929506167, 0.42292445125802297, 0.42327888847725814, 0.4236317367813991, 0.4239830019906279, 0.4243326899165489, 0.4246808063620637, 0.4250273571212466, 0.42537234797922274, 0.425715784712047, 0.4260576730865852, 0.42639801886039663, 0.42673682778161826, 0.4270741055888508, 0.42740985801104614, 0.42774409076739606, 0.42807680956722344, 0.42840802010987417, 0.42873772808461114, 0.4290659391705095, 0.42939265903635343, 0.4297178933405352, 0.4300416477309543, 0.4303639278449197, 0.4306847393090526, 0.43100408773919047, 0.4313219787402938, 0.43163841790635293, 0.4319534108202975, 0.43226696305390616, 0.43257908016771907, 0.43288976771095067, 0.4331990312214043, 0.43350687622538886, 0.4338133082376354, 0.43411833276121675, 0.4344219552874671, 0.43472418129590407, 0.4350250162541514, 0.4353244656178635, 0.4356225348306505, 0.43591922932400595, 0.4362145545172345, 0.43650851581738176, 0.43680111861916526, 0.43709236830490594, 0.43738227024446247, 0.43767082979516525, 0.43795805230175266, 0.4382439430963081, 0.4385285074981984, 0.43881175081401347, 0.439093678337507, 0.43937429534953876, 0.43965360711801765, 0.43993161889784593, 0.44020833593086506, 0.4404837634458023, 0.4407579066582186, 0.4410307707704577, 0.4413023609715961, 0.4415726824373944, 0.44184174033024964, 0.442109539799149, 0.44237608597962413, 0.44264138399370684, 0.44290543894988577, 0.4431682559430642, 0.44342984005451913, 0.4436901963518607, 0.4439493298889934, 0.444207245706078, 0.4444639488294942, 0.444719444271805, 0.4449737370317212, 0.44522683209406777, 0.4454787344297504, 0.4457294489957232, 0.4459789807349583, 0.4462273345764147, 0.4464745154350097, 0.44672052821159, 0.4469653777929044, 0.4472090690515777, 0.4474516068460843, 0.4476929960207243, 0.4479332414055988, 0.4481723478165877, 0.4484103200553271, 0.4486471629091881, 0.4488828811512567, 0.4491174795403139, 0.449350962820817, 0.44958333572288206, 0.44981460296226633, 0.45004476924035225, 0.450273839244132, 0.4505018176461924, 0.45072870910470164, 0.4509545182633956, 0.4511792497515658, 0.45140290818404755, 0.45162549816120906, 0.45184702426894174, 0.45206749107865024, 0.4522869031472442, 0.45250526501712984, 0.45272258121620323, 0.4529388562578436, 0.453154094640907, 0.4533683008497219, 0.4535814793540841, 0.45379363460925315, 0.4540047710559493, 0.45421489312035046, 0.4544240052140913, 0.45463211173426105, 0.45483921706340336, 0.4550453255695165, 0.45525044160605355, 0.4554545695119242, 0.4556577136114961, 0.4558598782145978, 0.4560610676165214, 0.45626128609802635, 0.45646053792534386, 0.45665882735018126, 0.4568561586097276, 0.45705253592665973, 0.4572479635091481, 0.45744244555086455, 0.45763598623098906, 0.4578285897142184, 0.4580202601507744, 0.4582110016764129, 0.4584008184124336, 0.45858971446569, 0.45877769392860007, 0.45896476087915716, 0.45915091938094155, 0.4593361734831327, 0.4595205272205215, 0.4597039846135233, 0.4598865496681913, 0.4600682263762305, 0.46024901871501184, 0.4604289306475871, 0.4606079661227038, 0.4607861290748214, 0.4609634234241265, 0.46113985307655, 0.46131542192378333, 0.4614901338432963, 0.46166399269835423, 0.46183700233803643, 0.4620091665972542, 0.46218048929676986, 0.46235097424321603, 0.4625206252291149, 0.4626894460328984, 0.4628574404189284, 0.46302461213751717, 0.4631909649249486, 0.4633565025034994, 0.46352122858146083, 0.4636851468531605, 0.4638482609989849, 0.464010574685402, 0.4641720915649842, 0.4643328152764314, 0.464492749444595, 0.46465189768050136, 0.4648102635813763, 0.4649678507306693, 0.4651246626980786, 0.46528070303957597, 0.46543597529743197, 0.46559048300024203, 0.4657442296629518, 0.4658972187868835, 0.46604945385976243, 0.46620093835574344, 0.4663516757354378, 0.46650166944594074, 0.46665092292085836, 0.4667994395803357, 0.4669472228310842, 0.4670942760664102, 0.467240602666243, 0.4673862059971636, 0.46753108941243327, 0.4676752562520228, 0.4678187098426414, 0.46796145349776647, 0.46810349051767286, 0.4682448241894629, 0.4683854577870963, 0.46852539457142034, 0.4686646377902004, 0.4688031906781503, 0.4689410564569632, 0.46907823833534257, 0.4692147395090329, 0.46935056316085166, 0.46948571246072, 0.4696201905656949, 0.4697540006200003, 0.46988714575505985, 0.47001962908952816, 0.4701514537293235, 0.47028262276765986, 0.4704131392850797, 0.4705430063494862, 0.47067222701617656, 0.47080080432787424, 0.47092874131476264, 0.4710560409945177, 0.47118270637234144, 0.4713087404409954, 0.471434146180834, 0.47155892655983805, 0.4716830845336488, 0.4718066230456015, 0.47192954502675943, 0.47205185339594796, 0.47217355105978875, 0.4722946409127336, 0.4724151258370993, 0.47253500870310183, 0.47265429236889067, 0.47277297968058374, 0.4728910734723016, 0.47300857656620265, 0.4731254917725179, 0.4732418218895854, 0.4733575697038859, 0.4734727379900773, 0.47358732951103, 0.47370134701786215, 0.4738147932499747, 0.47392767093508675, 0.474039982789271, 0.474151731516989, 0.4742629198111265, 0.47437355035302936, 0.4744836258125387, 0.4745931488480266, 0.47470212210643187, 0.4748105482232955, 0.47491842982279653, 0.4750257695177878, 0.4751325699098316, 0.47523883358923574, 0.475344563135089, 0.47544976111529735, 0.4755544300866199, 0.47565857259470434, 0.4757621911741235, 0.47586528834841074, 0.47596786663009644, 0.4760699285207437, 0.47617147651098446, 0.47627251308055535, 0.476373040698334, 0.476473061822375, 0.4765725788999457, 0.47667159436756273, 0.47677011065102765, 0.47686813016546326, 0.4769656553153494, 0.4770626884945595, 0.4771592320863961, 0.4772552884636272, 0.47735085998852217, 0.4774459490128879, 0.47754055787810495, 0.47763468891516325, 0.4777283444446982, 0.4778215267770269, 0.4779142382121839, 0.4780064810399572, 0.4780982575399242, 0.4781895699814877, 0.47828042062391163, 0.4783708117163572, 0.47846074549791845, 0.47855022419765814, 0.4786392500346438, 0.4787278252179833, 0.4788159519468605, 0.4789036324105712, 0.47899086878855873, 0.4790776632504494, 0.47916401795608854, 0.47924993505557567, 0.4793354166893002, 0.4794204649879769, 0.47950508207268167, 0.47958927005488633, 0.4796730310364947, 0.47975636710987735, 0.4798392803579073, 0.47992177285399507, 0.48000384666212403, 0.48008550383688553, 0.48016674642351376, 0.4802475764579212, 0.4803279959667335, 0.48040800696732416, 0.48048761146784996, 0.48056681146728547, 0.4806456089554579, 0.48072400591308184, 0.48080200431179426, 0.4808796061141886, 0.4809568132738499, 0.481033627735389, 0.4811100514344771, 0.4811860862978802, 0.4812617342434934, 0.4813369971803752, 0.4814118770087818, 0.4814863756202012, 0.48156049489738734, 0.481634236714394, 0.48170760293660897, 0.4817805954207878, 0.48185321601508785, 0.48192546655910184, 0.4819973488838916, 0.4820688648120218, 0.48214001615759355, 0.48221080472627775, 0.4822812323153485, 0.48235130071371674, 0.48242101170196333, 0.4824903670523722, 0.48255936852896364, 0.48262801788752735, 0.48269631687565534, 0.48276426723277505, 0.48283187069018185, 0.4828991289710723, 0.4829660437905764, 0.48303261685579046, 0.4830988498658097, 0.4831647445117603, 0.4832303024768324, 0.483295525436312, 0.4833604150576131, 0.4834249730003105, 0.483489200916171, 0.4835531004491859, 0.48361667323560315, 0.48367992090395845, 0.4837428450751078, 0.4838054473622585, 0.48386772937100114, 0.48392969269934116, 0.48399133893772983, 0.4840526696690962, 0.4841136864688778, 0.4841743909050521, 0.48423478453816776, 0.48429486892137513, 0.4843546456004577, 0.4844141161138627, 0.4844732819927317, 0.4845321447609317, 0.4845907059350852, 0.4846489670246012, 0.4847069295317052, 0.48476459495146973, 0.4848219647718446, 0.48487904047368685, 0.4849358235307912, 0.48499231540991944, 0.485048517570831, 0.4851044314663122, 0.48516005854220634, 0.48521540023744286, 0.4852704579840674, 0.48532523320727106, 0.48537972732541956, 0.4854339417500827, 0.4854878778860635, 0.48554153713142734, 0.4855949208775308, 0.48564803050905087, 0.4857008674040134, 0.48575343293382217, 0.4858057284632872, 0.4858577553506537, 0.4859095149476301, 0.48596100859941677, 0.4860122376447342, 0.4860632034158511, 0.4861139072386124, 0.48616435043246786, 0.4862145343104991, 0.4862644601794482, 0.4863141293397448, 0.4863635430855345, 0.48641270270470555, 0.48646160947891703, 0.4865102646836259, 0.4865586695881142, 0.4866068254555167, 0.4866547335428473, 0.48670239510102653, 0.4867498113749085, 0.4867969836033076, 0.4868439130190249, 0.48689060084887553, 0.48693704831371465, 0.486983256628464, 0.4870292270021386, 0.4870749606378725, 0.48712045873294557, 0.4871657224788091, 0.4872107530611123, 0.4872555516597274, 0.4873001194487766, 0.4873444575966568, 0.48738856726606583, 0.48743244961402793, 0.48747610579191886, 0.4875195369454918, 0.48756274421490226, 0.48760572873473323, 0.4876484916340208, 0.4876910340362784, 0.4877333570595224, 0.48777546181629655, 0.4878173494136969, 0.4878590209533964, 0.48790047753166926, 0.48794172023941584, 0.48798275016218673, 0.4880235683802071, 0.48806417596840085, 0.4881045739964148, 0.48814476352864283, 0.48818474562424957, 0.4882245213371943, 0.48826409171625484, 0.48830345780505113, 0.48834262064206874, 0.48838158126068254, 0.48842034068917983, 0.48845889995078395, 0.4884972600636773, 0.48853542204102446, 0.4885733868909954, 0.4886111556167883, 0.48864872921665253, 0.4886861086839112, 0.4887232950069842, 0.4887602891694105, 0.4887970921498709, 0.48883370492221023, 0.4888701284554599, 0.48890636371386015, 0.48894241165688196, 0.48897827323924953, 0.48901394941096193, 0.4890494411173152, 0.4890847492989242, 0.4891198748917442, 0.48915481882709266, 0.48918958203167073, 0.4892241654275848, 0.4892585699323679, 0.48929279645900087, 0.48932684591593373, 0.4893607192071069, 0.48939441723197197, 0.489427940885513, 0.4894612910582672, 0.48949446863634577, 0.4895274745014548, 0.4895603095309156, 0.48959297459768547, 0.48962547057037825, 0.4896577983132844, 0.4896899586863916, 0.4897219525454049, 0.48975378074176673, 0.48978544412267716, 0.4898169435311137, 0.48984827980585144, 0.4898794537814824, 0.4899104662884359, 0.4899413181529977, 0.48997201019732967, 0.4900025432394896, 0.49003291809345023, 0.4900631355691187, 0.49009319647235583, 0.49012310160499534, 0.4901528517648628, 0.4901824477457948, 0.4902118903376577, 0.49024118032636665, 0.49027031849390434, 0.4902993056183395, 0.49032814247384576, 0.49035682983072015, 0.4903853684554013, 0.49041375911048823, 0.4904420025547583, 0.49047009954318566, 0.4904980508269593], 'sens_5': [0.0014205983259573673, 0.0028412410263785604, 0.004261905164363089, 0.00568256780162546, 0.007103205999977602, 0.00852379682280957, 0.009944317336570974, 0.011364744612251787, 0.012785055726862393, 0.014205227764913286, 0.015625237819893, 0.01667352092849761, 0.01667352092849761, 0.01667352092849761, 0.01667352092849761, 0.01667352092849761, 0.01667352092849761, 0.01667352092849761, 0.01667352092849761, 0.01667352092849761, 0.01667352092849761, 0.01667352092849761, 0.01667352092849761, 0.01667352092849761, 0.01667352092849761, 0.01667352092849761, 0.01667352092849761, 0.01667352092849761, 0.01667352092849761, 0.01667352092849761, 0.01667352092849761, 0.01667352092849761, 0.01667352092849761, 0.01667352092849761, 0.01667352092849761, 0.01667352092849761, 0.01667352092849761, 0.01667352092849761, 0.01667352092849761, 0.01667352092849761, 0.01667352092849761, 0.01667352092849761, 0.01667352092849761, 0.01667352092849761, 0.01667352092849761, 0.01667352092849761, 0.01667352092849761, 0.01667352092849761, 0.01667352092849761, 0.01667352092849761, 0.01667352092849761, 0.01667352092849761, 0.01667352092849761, 0.01667352092849761, 0.01667352092849761, 0.01667352092849761, 0.01667352092849761, 0.01667352092849761, 0.01667352092849761, 0.01667352092849761, 0.01667352092849761, 0.01667352092849761, 0.01667352092849761, 0.01667352092849761, 0.01667352092849761, 0.01667352092849761, 0.01667352092849761, 0.01667352092849761, 0.01667352092849761, 0.01667352092849761, 0.01667352092849761, 0.01667352092849761, 0.01667352092849761, 0.01667352092849761, 0.01667352092849761, 0.01667352092849761, 0.01667352092849761, 0.01667352092849761, 0.01667352092849761, 0.01667352092849761, 0.01667352092849761, 0.01667352092849761, 0.01667352092849761, 0.01667352092849761, 0.01667352092849761, 0.01667352092849761, 0.01667352092849761, 0.01667352092849761, 0.01667352092849761, 0.01667352092849761, 0.01667352092849761, 0.01667352092849761, 0.01667352092849761, 0.01667352092849761, 0.01667352092849761, 0.01667352092849761, 0.01667352092849761, 0.01667352092849761, 0.01667352092849761, 0.01667352092849761, 0.01667352092849761, 0.01667352092849761, 0.01667352092849761, 0.01667352092849761, 0.01667352092849761, 0.01667352092849761, 0.01667352092849761, 0.01667352092849761, 0.01667352092849761, 0.01667352092849761, 0.01667352092849761, 0.01667352092849761, 0.01667352092849761, 0.01667352092849761, 0.01667352092849761, 0.01667352092849761, 0.01667352092849761, 0.01667352092849761, 0.01667352092849761, 0.01667352092849761, 0.01667352092849761, 0.01667352092849761, 0.01667352092849761, 0.01667352092849761, 0.01667352092849761, 0.01667352092849761, 0.01667352092849761, 0.01667352092849761, 0.01667352092849761, 0.01667352092849761, 0.01667352092849761, 0.01667352092849761, 0.01667352092849761, 0.01667352092849761, 0.01667352092849761, 0.01667352092849761, 0.01667352092849761, 0.01667352092849761, 0.01667352092849761, 0.01667352092849761, 0.01667352092849761, 0.01667352092849761, 0.01667352092849761, 0.01667352092849761, 0.01667352092849761, 0.01667352092849761, 0.01667352092849761, 0.01667352092849761, 0.01667352092849761, 0.01667352092849761, 0.01667352092849761, 0.01667352092849761, 0.01667352092849761, 0.01667352092849761, 0.01667352092849761, 0.01667352092849761, 0.01667352092849761, 0.01667352092849761, 0.01667352092849761, 0.01667352092849761, 0.01667352092849761, 0.01667352092849761, 0.01667352092849761, 0.01667352092849761, 0.01667352092849761, 0.01667352092849761, 0.01667352092849761, 0.01667352092849761, 0.01667352092849761, 0.01667352092849761, 0.01667352092849761, 0.01667352092849761, 0.01667352092849761, 0.01667352092849761, 0.01667352092849761, 0.01667352092849761, 0.01667352092849761, 0.01667352092849761, 0.01667352092849761, 0.01667352092849761, 0.01667352092849761, 0.01667352092849761, 0.01667352092849761, 0.01667352092849761, 0.01667352092849761, 0.01667352092849761, 0.01667352092849761, 0.01667352092849761, 0.01667352092849761, 0.01667352092849761, 0.01667352092849761, 0.01667352092849761, 0.01667352092849761, 0.01667352092849761, 0.01667352092849761, 0.01667352092849761, 0.01667352092849761, 0.01667352092849761, 0.01667352092849761, 0.01667352092849761, 0.01667352092849761, 0.01667352092849761, 0.01667352092849761, 0.01667352092849761, 0.01667352092849761, 0.01667352092849761, 0.01667352092849761, 0.01667352092849761, 0.01667352092849761, 0.01667352092849761, 0.01667352092849761, 0.01667352092849761, 0.01667352092849761, 0.01667352092849761, 0.01667352092849761, 0.01667352092849761, 0.01667352092849761, 0.01667352092849761, 0.01667352092849761, 0.01667352092849761, 0.01667352092849761, 0.01667352092849761, 0.01667352092849761, 0.01667352092849761, 0.01667352092849761, 0.01667352092849761, 0.01667352092849761, 0.01667352092849761, 0.01667352092849761, 0.01667352092849761, 0.01667352092849761, 0.01667352092849761, 0.01667352092849761, 0.01667352092849761, 0.01667352092849761, 0.01667352092849761, 0.01667352092849761, 0.01667352092849761, 0.01667352092849761, 0.01667352092849761, 0.01667352092849761, 0.01667352092849761, 0.01667352092849761, 0.01667352092849761, 0.01667352092849761, 0.01667352092849761, 0.01667352092849761, 0.01667352092849761, 0.01667352092849761, 0.01667352092849761, 0.01667352092849761, 0.01667352092849761, 0.01667352092849761, 0.01667352092849761, 0.01667352092849761, 0.01667352092849761, 0.01667352092849761, 0.01667352092849761, 0.01667352092849761, 0.01667352092849761, 0.01667352092849761, 0.01667352092849761, 0.01667352092849761, 0.01667352092849761, 0.01667352092849761, 0.01667352092849761, 0.01667352092849761, 0.01667352092849761, 0.01667352092849761, 0.01667352092849761, 0.01667352092849761, 0.01667352092849761, 0.01667352092849761, 0.01667352092849761, 0.01667352092849761, 0.01667352092849761, 0.01667352092849761, 0.01667352092849761, 0.01667352092849761, 0.01667352092849761, 0.01667352092849761, 0.01667352092849761, 0.01667352092849761, 0.01667352092849761, 0.01667352092849761, 0.01667352092849761, 0.01667352092849761, 0.01667352092849761, 0.01667352092849761, 0.01667352092849761, 0.01667352092849761, 0.01667352092849761, 0.01667352092849761, 0.01667352092849761, 0.01667352092849761, 0.01667352092849761, 0.01667352092849761, 0.01667352092849761, 0.01667352092849761, 0.01667352092849761, 0.01667352092849761, 0.01667352092849761, 0.01667352092849761, 0.01667352092849761, 0.01667352092849761, 0.01667352092849761, 0.01667352092849761, 0.01667352092849761, 0.01667352092849761, 0.01667352092849761, 0.01667352092849761, 0.01667352092849761, 0.01667352092849761, 0.01667352092849761, 0.01667352092849761, 0.01667352092849761, 0.01667352092849761, 0.01667352092849761, 0.01667352092849761, 0.01667352092849761, 0.01667352092849761, 0.01667352092849761, 0.01667352092849761, 0.01667352092849761, 0.01667352092849761, 0.01667352092849761, 0.01667352092849761, 0.01667352092849761, 0.01667352092849761, 0.01667352092849761, 0.01667352092849761, 0.01667352092849761, 0.01667352092849761, 0.01667352092849761, 0.01667352092849761, 0.01667352092849761, 0.01667352092849761, 0.01667352092849761, 0.01667352092849761, 0.01667352092849761, 0.01667352092849761, 0.01667352092849761, 0.01667352092849761, 0.01667352092849761, 0.01667352092849761, 0.01667352092849761, 0.01667352092849761, 0.01667352092849761, 0.01667352092849761, 0.01667352092849761, 0.01667352092849761, 0.01667352092849761, 0.01667352092849761, 0.01667352092849761, 0.01667352092849761, 0.01667352092849761, 0.01667352092849761, 0.01667352092849761, 0.01667352092849761, 0.01667352092849761, 0.01667352092849761, 0.01667352092849761, 0.01667352092849761, 0.01667352092849761, 0.01667352092849761, 0.01667352092849761, 0.01667352092849761, 0.01667352092849761, 0.01667352092849761, 0.01667352092849761, 0.01667352092849761, 0.01667352092849761, 0.01667352092849761, 0.01667352092849761, 0.01667352092849761, 0.01667352092849761, 0.01667352092849761, 0.01667352092849761, 0.01667352092849761, 0.01667352092849761, 0.01667352092849761, 0.01667352092849761, 0.01667352092849761, 0.01667352092849761, 0.01667352092849761, 0.01667352092849761, 0.01667352092849761, 0.01667352092849761, 0.01667352092849761, 0.01667352092849761, 0.01667352092849761, 0.01667352092849761, 0.01667352092849761, 0.01667352092849761, 0.01667352092849761, 0.01667352092849761, 0.01667352092849761, 0.01667352092849761, 0.01667352092849761, 0.01667352092849761, 0.01667352092849761, 0.01667352092849761, 0.01667352092849761, 0.01667352092849761, 0.01667352092849761, 0.01667352092849761, 0.01667352092849761, 0.01667352092849761, 0.01667352092849761, 0.01667352092849761, 0.01667352092849761, 0.01667352092849761, 0.01667352092849761, 0.01667352092849761, 0.01667352092849761, 0.01667352092849761, 0.01667352092849761, 0.01667352092849761, 0.01667352092849761, 0.01667352092849761, 0.01667352092849761, 0.01667352092849761, 0.01667352092849761, 0.01667352092849761, 0.01667352092849761, 0.01667352092849761, 0.01667352092849761, 0.01667352092849761, 0.01667352092849761, 0.01667352092849761, 0.01667352092849761, 0.01667352092849761, 0.01667352092849761, 0.01667352092849761, 0.01667352092849761, 0.01667352092849761, 0.01667352092849761, 0.01667352092849761, 0.01667352092849761, 0.01667352092849761, 0.01667352092849761, 0.01667352092849761, 0.01667352092849761, 0.01667352092849761, 0.01667352092849761, 0.01667352092849761, 0.01667352092849761, 0.01667352092849761, 0.01667352092849761, 0.01667352092849761, 0.01667352092849761, 0.01667352092849761, 0.01667352092849761, 0.01667352092849761, 0.01667352092849761, 0.01667352092849761, 0.01667352092849761, 0.01667352092849761, 0.01667352092849761, 0.01667352092849761, 0.01667352092849761, 0.01667352092849761, 0.01667352092849761, 0.01667352092849761, 0.01667352092849761, 0.01667352092849761, 0.01667352092849761, 0.01667352092849761, 0.01667352092849761, 0.01667352092849761, 0.01667352092849761, 0.01667352092849761, 0.01667352092849761, 0.01667352092849761, 0.01667352092849761, 0.01667352092849761, 0.01667352092849761, 0.01667352092849761, 0.01667352092849761, 0.01667352092849761, 0.01667352092849761, 0.01667352092849761, 0.01667352092849761, 0.01667352092849761, 0.01667352092849761, 0.01667352092849761, 0.01667352092849761, 0.01667352092849761, 0.01667352092849761, 0.01667352092849761, 0.01667352092849761, 0.01667352092849761, 0.01667352092849761, 0.01667352092849761, 0.01667352092849761, 0.01667352092849761, 0.01667352092849761, 0.01667352092849761, 0.01667352092849761, 0.01667352092849761, 0.01667352092849761, 0.01667352092849761, 0.01667352092849761, 0.01667352092849761, 0.01667352092849761, 0.01667352092849761, 0.01667352092849761, 0.01667352092849761, 0.01667352092849761, 0.01667352092849761, 0.01667352092849761, 0.01667352092849761, 0.01667352092849761, 0.01667352092849761, 0.01667352092849761, 0.01667352092849761, 0.01667352092849761, 0.01667352092849761, 0.01667352092849761, 0.01667352092849761, 0.01667352092849761, 0.01667352092849761, 0.01667352092849761, 0.01667352092849761, 0.01667352092849761, 0.01667352092849761, 0.01667352092849761, 0.01667352092849761, 0.01667352092849761, 0.01667352092849761, 0.01667352092849761, 0.01667352092849761, 0.01667352092849761, 0.01667352092849761, 0.01667352092849761, 0.01667352092849761, 0.01667352092849761, 0.01667352092849761, 0.01667352092849761, 0.01667352092849761, 0.01667352092849761, 0.01667352092849761, 0.01667352092849761, 0.01667352092849761, 0.01667352092849761, 0.01667352092849761, 0.01667352092849761, 0.01667352092849761, 0.01667352092849761, 0.01667352092849761, 0.01667352092849761, 0.01667352092849761, 0.01667352092849761, 0.01667352092849761, 0.01667352092849761, 0.01667352092849761, 0.01667352092849761, 0.01667352092849761, 0.01667352092849761, 0.01667352092849761, 0.01667352092849761, 0.01667352092849761, 0.01667352092849761, 0.01667352092849761, 0.01667352092849761, 0.01667352092849761, 0.01667352092849761, 0.01667352092849761, 0.01667352092849761, 0.01667352092849761, 0.01667352092849761, 0.01667352092849761, 0.01667352092849761, 0.01667352092849761, 0.01667352092849761, 0.01667352092849761, 0.01667352092849761, 0.01667352092849761, 0.01667352092849761, 0.01667352092849761, 0.01667352092849761, 0.01667352092849761, 0.01667352092849761, 0.01667352092849761, 0.01667352092849761, 0.01667352092849761, 0.01667352092849761, 0.01667352092849761, 0.01667352092849761, 0.01667352092849761, 0.01667352092849761, 0.01667352092849761, 0.01667352092849761, 0.01667352092849761, 0.01667352092849761, 0.01667352092849761, 0.01667352092849761, 0.01667352092849761, 0.01667352092849761, 0.01667352092849761, 0.01667352092849761, 0.01667352092849761, 0.01667352092849761, 0.01667352092849761, 0.01667352092849761, 0.01667352092849761, 0.01667352092849761, 0.01667352092849761, 0.01667352092849761, 0.01667352092849761, 0.01667352092849761, 0.01667352092849761, 0.01667352092849761, 0.01667352092849761, 0.01667352092849761, 0.01667352092849761, 0.01667352092849761, 0.01667352092849761, 0.01667352092849761, 0.01667352092849761, 0.01667352092849761, 0.01667352092849761, 0.01667352092849761, 0.01667352092849761, 0.01667352092849761, 0.01667352092849761, 0.01667352092849761, 0.01667352092849761, 0.01667352092849761, 0.01667352092849761, 0.01667352092849761, 0.01667352092849761, 0.01667352092849761, 0.01667352092849761, 0.01667352092849761, 0.01667352092849761, 0.01667352092849761, 0.01667352092849761, 0.01667352092849761, 0.01667352092849761, 0.01667352092849761, 0.01667352092849761, 0.01667352092849761, 0.01667352092849761, 0.01667352092849761, 0.01667352092849761, 0.01667352092849761, 0.01667352092849761, 0.01667352092849761, 0.01667352092849761, 0.01667352092849761, 0.01667352092849761, 0.01667352092849761, 0.01667352092849761, 0.01667352092849761, 0.01667352092849761, 0.01667352092849761, 0.01667352092849761, 0.01667352092849761, 0.01667352092849761, 0.01667352092849761, 0.01667352092849761, 0.01667352092849761, 0.01667352092849761, 0.01667352092849761, 0.01667352092849761, 0.01667352092849761, 0.01667352092849761, 0.01667352092849761, 0.01667352092849761, 0.01667352092849761, 0.01667352092849761, 0.01667352092849761, 0.01667352092849761, 0.01667352092849761, 0.01667352092849761, 0.01667352092849761, 0.01667352092849761, 0.01667352092849761, 0.01667352092849761, 0.01667352092849761, 0.01667352092849761, 0.01667352092849761, 0.01667352092849761, 0.01667352092849761, 0.01667352092849761, 0.01667352092849761, 0.01667352092849761, 0.01667352092849761, 0.01667352092849761, 0.01667352092849761, 0.01667352092849761, 0.01667352092849761, 0.01667352092849761, 0.01667352092849761, 0.01667352092849761, 0.01667352092849761, 0.01667352092849761, 0.01667352092849761, 0.01667352092849761, 0.01667352092849761, 0.01667352092849761, 0.01667352092849761, 0.01667352092849761, 0.01667352092849761, 0.01667352092849761, 0.01667352092849761, 0.01667352092849761, 0.01667352092849761, 0.01667352092849761, 0.01667352092849761, 0.01667352092849761, 0.01667352092849761, 0.01667352092849761, 0.01667352092849761, 0.01667352092849761, 0.01667352092849761, 0.01667352092849761, 0.01667352092849761, 0.01667352092849761, 0.01667352092849761, 0.01667352092849761, 0.01667352092849761, 0.01667352092849761, 0.01667352092849761, 0.01667352092849761, 0.01667352092849761, 0.01667352092849761, 0.01667352092849761, 0.01667352092849761, 0.01667352092849761, 0.01667352092849761, 0.01667352092849761, 0.01667352092849761, 0.01667352092849761, 0.01667352092849761, 0.01667352092849761, 0.01667352092849761, 0.01667352092849761, 0.01667352092849761, 0.01667352092849761, 0.01667352092849761, 0.01667352092849761, 0.01667352092849761, 0.01667352092849761, 0.01667352092849761, 0.01667352092849761, 0.01667352092849761, 0.01667352092849761, 0.01667352092849761, 0.01667352092849761, 0.01667352092849761, 0.01667352092849761, 0.01667352092849761, 0.01667352092849761, 0.01667352092849761, 0.01667352092849761, 0.01667352092849761, 0.01667352092849761, 0.01667352092849761, 0.01667352092849761, 0.01667352092849761, 0.01667352092849761, 0.01667352092849761, 0.01667352092849761, 0.01667352092849761, 0.01667352092849761, 0.01667352092849761, 0.01667352092849761, 0.01667352092849761, 0.01667352092849761, 0.01667352092849761, 0.01667352092849761, 0.01667352092849761, 0.01667352092849761, 0.01667352092849761, 0.01667352092849761, 0.01667352092849761, 0.01667352092849761, 0.01667352092849761, 0.01667352092849761, 0.01667352092849761, 0.01667352092849761, 0.01667352092849761, 0.01667352092849761, 0.01667352092849761, 0.01667352092849761, 0.01667352092849761, 0.01667352092849761, 0.01667352092849761, 0.01667352092849761, 0.01667352092849761, 0.01667352092849761, 0.01667352092849761, 0.01667352092849761, 0.01667352092849761, 0.01667352092849761, 0.01667352092849761, 0.01667352092849761, 0.01667352092849761, 0.01667352092849761, 0.01667352092849761, 0.01667352092849761, 0.01667352092849761, 0.01667352092849761, 0.01667352092849761, 0.01667352092849761, 0.01667352092849761, 0.01667352092849761, 0.01667352092849761, 0.01667352092849761, 0.01667352092849761, 0.01667352092849761, 0.01667352092849761, 0.01667352092849761, 0.01667352092849761, 0.01667352092849761, 0.01667352092849761, 0.01667352092849761, 0.01667352092849761, 0.01667352092849761, 0.01667352092849761, 0.01667352092849761, 0.01667352092849761, 0.01667352092849761, 0.01667352092849761, 0.01667352092849761, 0.01667352092849761, 0.01667352092849761, 0.01667352092849761, 0.01667352092849761, 0.01667352092849761, 0.01667352092849761, 0.01667352092849761, 0.01667352092849761, 0.01667352092849761, 0.01667352092849761, 0.01667352092849761, 0.01667352092849761, 0.01667352092849761, 0.01667352092849761, 0.01667352092849761, 0.01667352092849761, 0.01667352092849761, 0.01667352092849761, 0.01667352092849761, 0.01667352092849761, 0.01667352092849761, 0.01667352092849761, 0.01667352092849761, 0.01667352092849761, 0.01667352092849761, 0.01667352092849761, 0.01667352092849761, 0.01667352092849761, 0.01667352092849761, 0.01667352092849761, 0.01667352092849761, 0.01667352092849761, 0.01667352092849761, 0.01667352092849761, 0.01667352092849761, 0.01667352092849761, 0.01667352092849761, 0.01667352092849761, 0.01667352092849761, 0.01667352092849761, 0.01667352092849761, 0.01667352092849761, 0.01667352092849761, 0.01667352092849761, 0.01667352092849761, 0.01667352092849761, 0.01667352092849761, 0.01667352092849761, 0.01667352092849761, 0.01667352092849761, 0.01667352092849761, 0.01667352092849761, 0.01667352092849761, 0.01667352092849761, 0.01667352092849761, 0.01667352092849761, 0.01667352092849761, 0.01667352092849761, 0.01667352092849761, 0.01667352092849761, 0.01667352092849761, 0.01667352092849761, 0.01667352092849761, 0.01667352092849761, 0.01667352092849761, 0.01667352092849761, 0.01667352092849761, 0.01667352092849761, 0.01667352092849761, 0.01667352092849761, 0.01667352092849761, 0.01667352092849761, 0.01667352092849761, 0.01667352092849761, 0.01667352092849761, 0.01667352092849761, 0.01667352092849761, 0.01667352092849761, 0.01667352092849761, 0.01667352092849761, 0.01667352092849761, 0.01667352092849761, 0.01667352092849761, 0.01667352092849761, 0.01667352092849761, 0.01667352092849761, 0.01667352092849761, 0.01667352092849761, 0.01667352092849761, 0.01667352092849761, 0.01667352092849761, 0.01667352092849761, 0.01667352092849761, 0.01667352092849761, 0.01667352092849761, 0.01667352092849761, 0.01667352092849761, 0.01667352092849761, 0.01667352092849761, 0.01667352092849761, 0.01667352092849761, 0.01667352092849761, 0.01667352092849761, 0.01667352092849761, 0.01667352092849761, 0.01667352092849761, 0.01667352092849761, 0.01667352092849761, 0.01667352092849761, 0.01667352092849761, 0.01667352092849761, 0.01667352092849761, 0.01667352092849761, 0.01667352092849761, 0.01667352092849761, 0.01667352092849761, 0.01667352092849761, 0.01667352092849761, 0.01667352092849761, 0.01667352092849761, 0.01667352092849761, 0.01667352092849761, 0.01667352092849761, 0.01667352092849761, 0.01667352092849761, 0.01667352092849761, 0.01667352092849761, 0.01667352092849761, 0.01667352092849761, 0.01667352092849761, 0.01667352092849761, 0.01667352092849761, 0.01667352092849761, 0.01667352092849761, 0.01667352092849761, 0.01667352092849761, 0.01667352092849761, 0.01667352092849761, 0.01667352092849761, 0.01667352092849761, 0.01667352092849761, 0.01667352092849761, 0.01667352092849761, 0.01667352092849761, 0.01667352092849761, 0.01667352092849761, 0.01667352092849761, 0.01667352092849761, 0.01667352092849761, 0.01667352092849761, 0.01667352092849761, 0.01667352092849761, 0.01667352092849761, 0.01667352092849761, 0.01667352092849761, 0.01667352092849761, 0.01667352092849761, 0.01667352092849761, 0.01667352092849761, 0.01667352092849761, 0.01667352092849761, 0.01667352092849761, 0.01667352092849761, 0.01667352092849761, 0.01667352092849761, 0.01667352092849761, 0.01667352092849761, 0.01667352092849761, 0.01667352092849761, 0.01667352092849761, 0.01667352092849761, 0.01667352092849761, 0.01667352092849761]}\n",
            "Norm matrix: {'norm_1': [0.223606797749979, 0.447213595499958, 0.670820393249937, 0.894427190999916, 1.118033988749895, 1.341640786499874, 1.565247584249853, 1.788854381999832, 2.012461179749811, 2.23606797749979, 2.459674775249769, 2.683281572999748, 2.906888370749727, 3.130495168499706, 3.3541019662496847, 3.577708763999664, 3.801315561749643, 4.024922359499622, 4.2485291572496005, 4.47213595499958, 4.695742752749559, 4.919349550499538, 5.142956348249516, 5.366563145999496, 5.5901699437494745, 5.813776741499454, 6.037383539249433, 6.260990336999412, 6.484597134749391, 6.708203932499369, 6.931810730249349, 7.155417527999328, 7.379024325749307, 7.602631123499286, 7.826237921249264, 8.049844718999244, 8.273451516749223, 8.497058314499201, 8.720665112249181, 8.94427190999916, 9.16787870774914, 9.391485505499118, 9.615092303249096, 9.838699100999076, 10.062305898749054, 10.285912696499032, 10.509519494249012, 10.733126291998992, 10.95673308974897, 11.180339887498949, 11.403946685248927, 11.627553482998907, 11.851160280748887, 12.074767078498866, 12.298373876248844, 12.521980673998824, 12.745587471748802, 12.969194269498782, 13.192801067248759, 13.416407864998739, 13.640014662748719, 13.863621460498697, 14.087228258248677, 14.310835055998655, 14.534441853748634, 14.758048651498614, 14.98165544924859, 15.205262246998572, 15.42886904474855, 15.652475842498529, 15.876082640248509, 16.09968943799849, 16.323296235748465, 16.546903033498445, 16.77050983124842, 16.994116628998402, 17.217723426748382, 17.441330224498362, 17.66493702224834, 17.88854381999832, 18.1121506177483, 18.33575741549828, 18.559364213248255, 18.782971010998235, 19.00657780874821, 19.23018460649819, 19.45379140424817, 19.67739820199815, 19.90100499974813, 20.12461179749811, 20.348218595248085, 20.571825392998065, 20.795432190748045, 21.019038988498025, 21.242645786248, 21.466252583997985, 21.68985938174796, 21.91346617949794, 22.137072977247918, 22.360679774997898, 22.58428657274788, 22.807893370497855, 23.031500168247835, 23.255106965997815, 23.47871376374779, 23.702320561497775, 23.925927359247755, 24.14953415699773, 24.373140954747708, 24.596747752497688, 24.820354550247668, 25.043961347997648, 25.267568145747624, 25.491174943497604, 25.71478174124758, 25.938388538997565, 26.16199533674754, 26.385602134497518, 26.609208932247498, 26.832815729997478, 27.056422527747458, 27.280029325497438, 27.503636123247414, 27.727242920997394, 27.95084971874737, 28.174456516497354, 28.39806331424733, 28.62167011199731, 28.845276909747287, 29.068883707497267, 29.292490505247248, 29.516097302997228, 29.739704100747204, 29.96331089849718, 30.18691769624716, 30.410524493997144, 30.63413129174712, 30.8577380894971, 31.081344887247077, 31.304951684997057, 31.528558482747037, 31.752165280497017, 31.975772078246994, 32.19937887599698, 32.42298567374695, 32.64659247149693, 32.87019926924691, 33.09380606699689, 33.31741286474687, 33.54101966249684, 33.764626460246824, 33.988233257996804, 34.211840055746784, 34.435446853496764, 34.659053651246744, 34.882660448996724, 35.106267246746704, 35.32987404449668, 35.55348084224666, 35.77708763999664, 36.00069443774662, 36.2243012354966, 36.44790803324657, 36.67151483099656, 36.89512162874653, 37.11872842649651, 37.34233522424648, 37.56594202199647, 37.78954881974645, 38.01315561749642, 38.2367624152464, 38.46036921299638, 38.68397601074636, 38.90758280849634, 39.131189606246316, 39.3547964039963, 39.578403201746276, 39.80200999949626, 40.02561679724624, 40.24922359499622, 40.4728303927462, 40.69643719049617, 40.92004398824616, 41.14365078599613, 41.36725758374611, 41.59086438149609, 41.81447117924607, 42.03807797699605, 42.26168477474603, 42.485291572496, 42.70889837024598, 42.93250516799597, 43.15611196574594, 43.37971876349592, 43.603325561245896, 43.82693235899588, 44.05053915674586, 44.274145954495836, 44.49775275224582, 44.721359549995796, 44.944966347745776, 45.16857314549576, 45.392179943245736, 45.61578674099571, 45.83939353874569, 46.06300033649567, 46.286607134245656, 46.51021393199563, 46.73382072974561, 46.95742752749558, 47.18103432524556, 47.40464112299555, 47.62824792074552, 47.85185471849551, 48.075461516245475, 48.29906831399546, 48.52267511174544, 48.746281909495416, 48.969888707245396, 49.193495504995376, 49.417102302745356, 49.640709100495336, 49.864315898245316, 50.087922695995296, 50.31152949374527, 50.53513629149525, 50.75874308924523, 50.98234988699521, 51.20595668474519, 51.42956348249516, 51.65317028024514, 51.87677707799513, 52.100383875745095, 52.32399067349508, 52.547597471245055, 52.771204268995035, 52.99481106674502, 53.218417864494995, 53.44202466224498, 53.665631459994955, 53.889238257744935, 54.112845055494915, 54.33645185324489, 54.560058650994876, 54.78366544874485, 55.00727224649483, 55.23087904424481, 55.45448584199479, 55.67809263974477, 55.90169943749474, 56.12530623524473, 56.34891303299471, 56.57251983074468, 56.79612662849466, 57.019733426244635, 57.24334022399462, 57.4669470217446, 57.690553819494575, 57.914160617244555, 58.137767414994535, 58.361374212744515, 58.584981010494495, 58.80858780824447, 59.032194605994455, 59.25580140374443, 59.47940820149441, 59.70301499924439, 59.92662179699436, 60.15022859474435, 60.37383539249432, 60.5974421902443, 60.82104898799429, 61.04465578574426, 61.26826258349424, 61.491869381244214, 61.7154761789942, 61.93908297674418, 62.162689774494154, 62.386296572244134, 62.609903369994115, 62.833510167744095, 63.057116965494075, 63.28072376324405, 63.504330560994035, 63.72793735874401, 63.95154415649399, 64.17515095424397, 64.39875775199395, 64.62236454974393, 64.8459713474939, 65.06957814524388, 65.29318494299386, 65.51679174074384, 65.74039853849382, 65.9640053362438, 66.18761213399378, 66.41121893174376, 66.63482572949374, 66.8584325272437, 67.08203932499369, 67.30564612274367, 67.52925292049365, 67.75285971824363, 67.97646651599361, 68.20007331374359, 68.42368011149357, 68.64728690924355, 68.87089370699353, 69.09450050474351, 69.31810730249349, 69.54171410024347, 69.76532089799345, 69.98892769574343, 70.21253449349341, 70.43614129124337, 70.65974808899335, 70.88335488674333, 71.10696168449331, 71.3305684822433, 71.55417527999327, 71.77778207774325, 72.00138887549323, 72.22499567324321, 72.4486024709932, 72.67220926874316, 72.89581606649314, 73.11942286424313, 73.34302966199311, 73.56663645974308, 73.79024325749306, 74.01385005524304, 74.23745685299302, 74.46106365074301, 74.68467044849297, 74.90827724624296, 75.13188404399294, 75.35549084174292, 75.5790976394929, 75.80270443724287, 76.02631123499285, 76.24991803274284, 76.4735248304928, 76.69713162824279, 76.92073842599277, 77.14434522374275, 77.36795202149273, 77.5915588192427, 77.81516561699269, 78.03877241474267, 78.26237921249263, 78.48598601024261, 78.7095928079926, 78.93319960574259, 79.15680640349255, 79.38041320124253, 79.60401999899253, 79.82762679674249, 80.05123359449249, 80.27484039224244, 80.49844718999243, 80.72205398774241, 80.9456607854924, 81.16926758324237, 81.39287438099234, 81.61648117874232, 81.84008797649231, 82.0636947742423, 82.28730157199226, 82.51090836974224, 82.73451516749222, 82.9581219652422, 83.18172876299218, 83.40533556074217, 83.62894235849214, 83.85254915624212, 84.0761559539921, 84.29976275174208, 84.52336954949206, 84.74697634724203, 84.970583144992, 85.194189942742, 85.41779674049197, 85.64140353824196, 85.86501033599194, 86.0886171337419, 86.31222393149189, 86.53583072924187, 86.75943752699185, 86.98304432474184, 87.20665112249179, 87.43025792024179, 87.65386471799177, 87.87747151574175, 88.10107831349173, 88.32468511124169, 88.54829190899167, 88.77189870674165, 88.99550550449165, 89.21911230224163, 89.44271909999159, 89.66632589774157, 89.88993269549155, 90.11353949324153, 90.33714629099153, 90.56075308874148, 90.78435988649147, 91.00796668424144, 91.23157348199142, 91.45518027974141, 91.67878707749138, 91.90239387524136, 92.12600067299134, 92.34960747074132, 92.57321426849131, 92.79682106624128, 93.02042786399126, 93.24403466174124, 93.46764145949122, 93.6912482572412, 93.91485505499116, 94.13846185274116, 94.36206865049112, 94.58567544824112, 94.8092822459911, 95.03288904374106, 95.25649584149104, 95.48010263924103, 95.70370943699102, 95.927316234741, 96.15092303249095, 96.37452983024095, 96.59813662799093, 96.82174342574089, 97.04535022349089, 97.26895702124085, 97.49256381899083, 97.71617061674081, 97.93977741449079, 98.16338421224079, 98.38699100999075, 98.61059780774073, 98.83420460549071, 99.05781140324069, 99.28141820099067, 99.50502499874064, 99.72863179649063, 99.9522385942406, 100.17584539199059, 100.39945218974057, 100.62305898749054, 100.84666578524052, 101.0702725829905, 101.29387938074049, 101.51748617849046, 101.74109297624044, 101.96469977399042, 102.1883065717404, 102.41191336949038, 102.63552016724036, 102.85912696499032, 103.0827337627403, 103.30634056049028, 103.52994735824028, 103.75355415599026, 103.97716095374022, 104.20076775149019, 104.42437454924018, 104.64798134699016, 104.87158814474014, 105.09519494249011, 105.3188017402401, 105.54240853799007, 105.76601533574006, 105.98962213349004, 106.21322893124001, 106.43683572898999, 106.66044252673998, 106.88404932448996, 107.10765612223994, 107.33126291998991, 107.55486971773989, 107.77847651548987, 108.00208331323985, 108.22569011098983, 108.4492969087398, 108.67290370648978, 108.89651050423976, 109.12011730198975, 109.34372409973973, 109.5673308974897, 109.79093769523968, 110.01454449298966, 110.23815129073964, 110.46175808848962, 110.68536488623958, 110.90897168398958, 111.13257848173956, 111.35618527948954, 111.57979207723952, 111.80339887498948, 112.02700567273946, 112.25061247048946, 112.47421926823944, 112.69782606598942, 112.92143286373938, 113.14503966148936, 113.36864645923934, 113.59225325698932, 113.8158600547393, 114.03946685248927, 114.26307365023925, 114.48668044798924, 114.71028724573922, 114.9338940434892, 115.15750084123917, 115.38110763898915, 115.60471443673913, 115.82832123448911, 116.0519280322391, 116.27553482998907, 116.49914162773905, 116.72274842548903, 116.94635522323901, 117.16996202098899, 117.39356881873896, 117.61717561648894, 117.84078241423893, 118.06438921198891, 118.28799600973889, 118.51160280748886, 118.73520960523884, 118.95881640298882, 119.1824232007388, 119.40602999848878, 119.62963679623874, 119.85324359398872, 120.07685039173872, 120.3004571894887, 120.52406398723868, 120.74767078498864, 120.97127758273862, 121.1948843804886, 121.41849117823858, 121.64209797598858, 121.86570477373854, 122.08931157148852, 122.3129183692385, 122.53652516698848, 122.76013196473846, 122.98373876248843, 123.20734556023842, 123.4309523579884, 123.65455915573838, 123.87816595348836, 124.10177275123833, 124.32537954898831, 124.54898634673829, 124.77259314448827, 124.99619994223826, 125.21980673998823, 125.4434135377382, 125.66702033548819, 125.89062713323817, 126.11423393098815, 126.33784072873812, 126.5614475264881, 126.78505432423808, 127.00866112198807, 127.23226791973805, 127.45587471748802, 127.679481515238, 127.90308831298798, 128.12669511073796, 128.35030190848795, 128.57390870623792, 128.7975155039879, 129.02112230173788, 129.24472909948787, 129.46833589723784, 129.6919426949878, 129.91554949273777, 130.13915629048776, 130.36276308823776, 130.58636988598772, 130.8099766837377, 131.03358348148768, 131.25719027923768, 131.48079707698764, 131.70440387473764, 131.9280106724876, 132.15161747023757, 132.37522426798756, 132.59883106573756, 132.82243786348752, 133.0460446612375, 133.26965145898748, 133.49325825673745, 133.7168650544874, 133.9404718522374, 134.16407864998737, 134.38768544773737, 134.61129224548733, 134.83489904323733, 135.0585058409873, 135.2821126387373, 135.50571943648725, 135.72932623423725, 135.95293303198721, 136.1765398297372, 136.40014662748717, 136.62375342523714, 136.84736022298713, 137.07096702073713, 137.2945738184871, 137.51818061623706, 137.74178741398705, 137.96539421173702, 138.18900100948701, 138.41260780723698, 138.63621460498698, 138.85982140273694, 139.08342820048694, 139.3070349982369, 139.5306417959869, 139.75424859373686, 139.97785539148686, 140.20146218923682, 140.42506898698682, 140.64867578473678, 140.87228258248675, 141.09588938023674, 141.3194961779867, 141.5431029757367, 141.76670977348667, 141.99031657123663, 142.21392336898663, 142.43753016673662, 142.6611369644866, 142.88474376223658, 143.10835055998655, 143.33195735773654, 143.5555641554865, 143.77917095323647, 144.00277775098647, 144.22638454873643, 144.44999134648643, 144.6735981442364, 144.8972049419864, 145.12081173973638, 145.34441853748632, 145.56802533523634, 145.79163213298628, 146.01523893073625, 146.23884572848627, 146.46245252623623, 146.68605932398623, 146.9096661217362, 147.13327291948616, 147.35687971723615, 147.58048651498612, 147.80409331273611, 148.02770011048608, 148.25130690823605, 148.47491370598604, 148.698520503736, 148.92212730148603, 149.14573409923597, 149.36934089698593, 149.59294769473593, 149.81655449248592, 150.0401612902359, 150.26376808798588, 150.48737488573585, 150.71098168348584, 150.9345884812358, 151.1581952789858, 151.38180207673577, 151.60540887448573, 151.82901567223573, 152.0526224699857, 152.2762292677357, 152.49983606548568, 152.72344286323562, 152.9470496609856, 153.1706564587356, 153.39426325648557, 153.61787005423557, 153.84147685198553, 154.06508364973553, 154.2886904474855, 154.5122972452355, 154.73590404298545, 154.95951084073542, 155.1831176384854, 155.40672443623538, 155.63033123398537, 155.85393803173534, 156.07754482948533, 156.30115162723533, 156.52475842498527, 156.7483652227353, 156.97197202048523, 157.19557881823522, 157.4191856159852, 157.64279241373518, 157.86639921148517, 158.09000600923514, 158.3136128069851, 158.5372196047351, 158.76082640248507, 158.98443320023506, 159.20803999798505, 159.431646795735, 159.65525359348499, 159.87886039123495, 160.10246718898497, 160.3260739867349, 160.54968078448488, 160.7732875822349, 160.99689437998487, 161.22050117773486, 161.44410797548483, 161.6677147732348, 161.8913215709848, 162.11492836873475, 162.33853516648475, 162.5621419642347, 162.78574876198468, 163.00935555973467, 163.23296235748464, 163.45656915523466, 163.68017595298463, 163.90378275073456, 164.1273895484846, 164.35099634623455, 164.57460314398452, 164.7982099417345, 165.02181673948448, 165.24542353723447, 165.46903033498444, 165.69263713273443, 165.9162439304844, 166.13985072823436, 166.36345752598436, 166.58706432373432, 166.81067112148435, 167.03427791923428, 167.25788471698428, 167.48149151473427, 167.70509831248424, 167.92870511023423, 168.1523119079842, 168.37591870573416, 168.59952550348416, 168.82313230123412, 169.04673909898412, 169.27034589673409, 169.49395269448405, 169.71755949223405, 169.941166289984, 170.164773087734, 170.388379885484, 170.61198668323394, 170.83559348098393, 171.05920027873393, 171.28280707648392, 171.50641387423389, 171.73002067198388, 171.95362746973385, 172.1772342674838, 172.4008410652338, 172.62444786298377, 172.84805466073377, 173.07166145848373, 173.2952682562337, 173.5188750539837, 173.7424818517337, 173.96608864948368, 174.18969544723362, 174.41330224498358, 174.6369090427336, 174.86051584048357, 175.08412263823357, 175.30772943598353, 175.5313362337335, 175.7549430314835, 175.97854982923346, 176.20215662698345, 176.42576342473342, 176.64937022248338, 176.87297702023338, 177.09658381798334, 177.32019061573334, 177.5437974134833, 177.76740421123327, 177.9910110089833, 178.21461780673323, 178.43822460448325, 178.66183140223322, 178.88543819998318, 179.10904499773318, 179.33265179548314, 179.55625859323314, 179.7798653909831, 180.00347218873307, 180.22707898648306, 180.45068578423303, 180.67429258198305, 180.897899379733, 181.12150617748296, 181.34511297523295, 181.56871977298294, 181.7923265707329, 182.01593336848288, 182.23954016623287, 182.46314696398284, 182.68675376173283, 182.91036055948283, 183.1339673572328, 183.35757415498276, 183.58118095273275, 183.80478775048272, 184.0283945482327, 184.25200134598268, 184.47560814373264, 184.69921494148264, 184.92282173923263, 185.14642853698263, 185.37003533473256, 185.59364213248256, 185.81724893023255, 186.04085572798252, 186.2644625257325, 186.48806932348248, 186.71167612123244, 186.93528291898244, 187.1588897167324, 187.3824965144824, 187.60610331223236, 187.82971010998233, 188.05331690773232, 188.27692370548232, 188.5005305032323, 188.72413730098225, 188.94774409873222, 189.17135089648224, 189.39495769423218, 189.6185644919822, 189.84217128973216, 190.06577808748213, 190.28938488523212, 190.5129916829821, 190.73659848073208, 190.96020527848205, 191.18381207623202, 191.40741887398204, 191.63102567173198, 191.854632469482, 192.07823926723194, 192.3018460649819, 192.52545286273192, 192.7490596604819, 192.97266645823188, 193.19627325598185, 193.41988005373182, 193.64348685148178, 193.86709364923178, 194.09070044698177, 194.31430724473174, 194.5379140424817, 194.7615208402317, 194.98512763798166, 195.20873443573166, 195.43234123348162, 195.6559480312316, 195.87955482898158, 196.10316162673158, 196.32676842448157, 196.5503752222315, 196.7739820199815, 196.9975888177315, 197.22119561548146, 197.44480241323146, 197.66840921098142, 197.8920160087314, 198.11562280648138, 198.33922960423135, 198.56283640198134, 198.7864431997313, 199.01004999748127, 199.23365679523127, 199.45726359298126, 199.68087039073126, 199.9044771884812, 200.1280839862312, 200.35169078398118, 200.57529758173112, 200.79890437948114, 201.0225111772311, 201.24611797498108, 201.46972477273107, 201.69333157048104, 201.91693836823103, 202.140545165981, 202.36415196373096, 202.58775876148098, 202.81136555923092, 203.03497235698092, 203.25857915473088, 203.48218595248088, 203.70579275023084, 203.92939954798084, 204.15300634573083, 204.3766131434808, 204.60021994123076, 204.82382673898076, 205.04743353673072, 205.27104033448072, 205.49464713223068, 205.71825392998065, 205.94186072773064, 206.1654675254806, 206.38907432323063, 206.61268112098057, 206.83628791873053, 207.05989471648056, 207.28350151423052, 207.50710831198052, 207.73071510973048, 207.95432190748045, 208.17792870523044, 208.40153550298038, 208.6251423007304, 208.84874909848037, 209.07235589623033, 209.29596269398033, 209.5195694917303, 209.7431762894803, 209.96678308723025, 210.19038988498022, 210.41399668273021, 210.6376034804802, 210.8612102782302, 211.08481707598014, 211.30842387373013, 211.53203067148013, 211.75563746923007, 211.9792442669801, 212.20285106473005, 212.42645786248002, 212.65006466023002, 212.87367145797998, 213.09727825572998, 213.32088505347997, 213.5444918512299, 213.76809864897993, 213.99170544672987, 214.2153122444799, 214.43891904222983, 214.66252583997982, 214.8861326377298, 215.10973943547978, 215.33334623322978, 215.55695303097974, 215.7805598287297, 216.0041666264797, 216.22777342422967, 216.45138022197966, 216.67498701972963, 216.8985938174796, 217.12220061522962, 217.34580741297955, 217.56941421072958, 217.7930210084795, 218.0166278062295, 218.2402346039795, 218.46384140172947, 218.68744819947946, 218.91105499722943, 219.1346617949794, 219.3582685927294, 219.58187539047935, 219.80548218822935, 220.0290889859793, 220.25269578372928, 220.47630258147927, 220.69990937922924, 220.92351617697923, 221.1471229747292, 221.37072977247917, 221.59433657022916, 221.81794336797915, 222.04155016572915, 222.26515696347911, 222.48876376122908, 222.71237055897907, 222.93597735672904, 223.15958415447903, 223.383190952229, 223.60679774997897], 'norm_2': [0.223606797749979, 0.447213595499958, 0.670820393249937, 0.894427190999916, 1.118033988749895, 1.341640786499874, 1.565247584249853, 1.788854381999832, 2.012461179749811, 2.23606797749979, 2.459674775249769, 2.683281572999748, 2.906888370749727, 3.130495168499706, 3.3541019662496847, 3.577708763999664, 3.801315561749643, 4.024922359499622, 4.2485291572496005, 4.47213595499958, 4.695742752749559, 4.919349550499538, 5.142956348249516, 5.366563145999496, 5.5901699437494745, 5.813776741499454, 6.037383539249433, 6.260990336999412, 6.484597134749391, 6.708203932499369, 6.931810730249349, 7.155417527999328, 7.379024325749307, 7.602631123499286, 7.826237921249264, 8.049844718999244, 8.273451516749223, 8.497058314499201, 8.720665112249181, 8.94427190999916, 9.16787870774914, 9.391485505499118, 9.615092303249096, 9.838699100999076, 10.062305898749054, 10.285912696499032, 10.509519494249012, 10.733126291998992, 10.95673308974897, 11.180339887498949, 11.403946685248927, 11.627553482998907, 11.851160280748887, 12.074767078498866, 12.298373876248844, 12.521980673998824, 12.745587471748802, 12.969194269498782, 13.192801067248759, 13.416407864998739, 13.640014662748719, 13.863621460498697, 14.087228258248677, 14.310835055998655, 14.534441853748634, 14.758048651498614, 14.98165544924859, 15.205262246998572, 15.42886904474855, 15.652475842498529, 15.876082640248509, 16.09968943799849, 16.323296235748465, 16.546903033498445, 16.77050983124842, 16.994116628998402, 17.217723426748382, 17.441330224498362, 17.66493702224834, 17.88854381999832, 18.1121506177483, 18.33575741549828, 18.559364213248255, 18.782971010998235, 19.00657780874821, 19.23018460649819, 19.45379140424817, 19.67739820199815, 19.90100499974813, 20.12461179749811, 20.348218595248085, 20.571825392998065, 20.795432190748045, 21.019038988498025, 21.242645786248, 21.466252583997985, 21.68985938174796, 21.91346617949794, 22.137072977247918, 22.360679774997898, 22.58428657274788, 22.807893370497855, 23.031500168247835, 23.255106965997815, 23.47871376374779, 23.702320561497775, 23.925927359247755, 24.14953415699773, 24.373140954747708, 24.596747752497688, 24.820354550247668, 25.043961347997648, 25.267568145747624, 25.491174943497604, 25.71478174124758, 25.938388538997565, 26.16199533674754, 26.385602134497518, 26.609208932247498, 26.832815729997478, 27.056422527747458, 27.280029325497438, 27.503636123247414, 27.727242920997394, 27.95084971874737, 28.174456516497354, 28.39806331424733, 28.62167011199731, 28.845276909747287, 29.068883707497267, 29.292490505247248, 29.516097302997228, 29.739704100747204, 29.96331089849718, 30.18691769624716, 30.410524493997144, 30.63413129174712, 30.8577380894971, 31.081344887247077, 31.304951684997057, 31.528558482747037, 31.752165280497017, 31.975772078246994, 32.19937887599698, 32.42298567374695, 32.64659247149693, 32.87019926924691, 33.09380606699689, 33.31741286474687, 33.54101966249684, 33.764626460246824, 33.988233257996804, 34.211840055746784, 34.435446853496764, 34.659053651246744, 34.882660448996724, 35.106267246746704, 35.32987404449668, 35.55348084224666, 35.77708763999664, 36.00069443774662, 36.2243012354966, 36.44790803324657, 36.67151483099656, 36.89512162874653, 37.11872842649651, 37.34233522424648, 37.56594202199647, 37.78954881974645, 38.01315561749642, 38.2367624152464, 38.46036921299638, 38.68397601074636, 38.90758280849634, 39.131189606246316, 39.3547964039963, 39.578403201746276, 39.80200999949626, 40.02561679724624, 40.24922359499622, 40.4728303927462, 40.69643719049617, 40.92004398824616, 41.14365078599613, 41.36725758374611, 41.59086438149609, 41.81447117924607, 42.03807797699605, 42.26168477474603, 42.485291572496, 42.70889837024598, 42.93250516799597, 43.15611196574594, 43.37971876349592, 43.603325561245896, 43.82693235899588, 44.05053915674586, 44.274145954495836, 44.49775275224582, 44.721359549995796, 44.944966347745776, 45.16857314549576, 45.392179943245736, 45.61578674099571, 45.83939353874569, 46.06300033649567, 46.286607134245656, 46.51021393199563, 46.73382072974561, 46.95742752749558, 47.18103432524556, 47.40464112299555, 47.62824792074552, 47.85185471849551, 48.075461516245475, 48.29906831399546, 48.52267511174544, 48.746281909495416, 48.969888707245396, 49.193495504995376, 49.417102302745356, 49.640709100495336, 49.864315898245316, 50.087922695995296, 50.31152949374527, 50.53513629149525, 50.75874308924523, 50.98234988699521, 51.20595668474519, 51.42956348249516, 51.65317028024514, 51.87677707799513, 52.100383875745095, 52.32399067349508, 52.547597471245055, 52.771204268995035, 52.99481106674502, 53.218417864494995, 53.44202466224498, 53.665631459994955, 53.889238257744935, 54.112845055494915, 54.33645185324489, 54.560058650994876, 54.78366544874485, 55.00727224649483, 55.23087904424481, 55.45448584199479, 55.67809263974477, 55.90169943749474, 56.12530623524473, 56.34891303299471, 56.57251983074468, 56.79612662849466, 57.019733426244635, 57.24334022399462, 57.4669470217446, 57.690553819494575, 57.914160617244555, 58.137767414994535, 58.361374212744515, 58.584981010494495, 58.80858780824447, 59.032194605994455, 59.25580140374443, 59.47940820149441, 59.70301499924439, 59.92662179699436, 60.15022859474435, 60.37383539249432, 60.5974421902443, 60.82104898799429, 61.04465578574426, 61.26826258349424, 61.491869381244214, 61.7154761789942, 61.93908297674418, 62.162689774494154, 62.386296572244134, 62.609903369994115, 62.833510167744095, 63.057116965494075, 63.28072376324405, 63.504330560994035, 63.72793735874401, 63.95154415649399, 64.17515095424397, 64.39875775199395, 64.62236454974393, 64.8459713474939, 65.06957814524388, 65.29318494299386, 65.51679174074384, 65.74039853849382, 65.9640053362438, 66.18761213399378, 66.41121893174376, 66.63482572949374, 66.8584325272437, 67.08203932499369, 67.30564612274367, 67.52925292049365, 67.75285971824363, 67.97646651599361, 68.20007331374359, 68.42368011149357, 68.64728690924355, 68.87089370699353, 69.09450050474351, 69.31810730249349, 69.54171410024347, 69.76532089799345, 69.98892769574343, 70.21253449349341, 70.43614129124337, 70.65974808899335, 70.88335488674333, 71.10696168449331, 71.3305684822433, 71.55417527999327, 71.77778207774325, 72.00138887549323, 72.22499567324321, 72.4486024709932, 72.67220926874316, 72.89581606649314, 73.11942286424313, 73.34302966199311, 73.56663645974308, 73.79024325749306, 74.01385005524304, 74.23745685299302, 74.46106365074301, 74.68467044849297, 74.90827724624296, 75.13188404399294, 75.35549084174292, 75.5790976394929, 75.80270443724287, 76.02631123499285, 76.24991803274284, 76.4735248304928, 76.69713162824279, 76.92073842599277, 77.14434522374275, 77.36795202149273, 77.5915588192427, 77.81516561699269, 78.03877241474267, 78.26237921249263, 78.48598601024261, 78.7095928079926, 78.93319960574259, 79.15680640349255, 79.38041320124253, 79.60401999899253, 79.82762679674249, 80.05123359449249, 80.27484039224244, 80.49844718999243, 80.72205398774241, 80.9456607854924, 81.16926758324237, 81.39287438099234, 81.61648117874232, 81.84008797649231, 82.0636947742423, 82.28730157199226, 82.51090836974224, 82.73451516749222, 82.9581219652422, 83.18172876299218, 83.40533556074217, 83.62894235849214, 83.85254915624212, 84.0761559539921, 84.29976275174208, 84.52336954949206, 84.74697634724203, 84.970583144992, 85.194189942742, 85.41779674049197, 85.64140353824196, 85.86501033599194, 86.0886171337419, 86.31222393149189, 86.53583072924187, 86.75943752699185, 86.98304432474184, 87.20665112249179, 87.43025792024179, 87.65386471799177, 87.87747151574175, 88.10107831349173, 88.32468511124169, 88.54829190899167, 88.77189870674165, 88.99550550449165, 89.21911230224163, 89.44271909999159, 89.66632589774157, 89.88993269549155, 90.11353949324153, 90.33714629099153, 90.56075308874148, 90.78435988649147, 91.00796668424144, 91.23157348199142, 91.45518027974141, 91.67878707749138, 91.90239387524136, 92.12600067299134, 92.34960747074132, 92.57321426849131, 92.79682106624128, 93.02042786399126, 93.24403466174124, 93.46764145949122, 93.6912482572412, 93.91485505499116, 94.13846185274116, 94.36206865049112, 94.58567544824112, 94.8092822459911, 95.03288904374106, 95.25649584149104, 95.48010263924103, 95.70370943699102, 95.927316234741, 96.15092303249095, 96.37452983024095, 96.59813662799093, 96.82174342574089, 97.04535022349089, 97.26895702124085, 97.49256381899083, 97.71617061674081, 97.93977741449079, 98.16338421224079, 98.38699100999075, 98.61059780774073, 98.83420460549071, 99.05781140324069, 99.28141820099067, 99.50502499874064, 99.72863179649063, 99.9522385942406, 100.17584539199059, 100.39945218974057, 100.62305898749054, 100.84666578524052, 101.0702725829905, 101.29387938074049, 101.51748617849046, 101.74109297624044, 101.96469977399042, 102.1883065717404, 102.41191336949038, 102.63552016724036, 102.85912696499032, 103.0827337627403, 103.30634056049028, 103.52994735824028, 103.75355415599026, 103.97716095374022, 104.20076775149019, 104.42437454924018, 104.64798134699016, 104.87158814474014, 105.09519494249011, 105.3188017402401, 105.54240853799007, 105.76601533574006, 105.98962213349004, 106.21322893124001, 106.43683572898999, 106.66044252673998, 106.88404932448996, 107.10765612223994, 107.33126291998991, 107.55486971773989, 107.77847651548987, 108.00208331323985, 108.22569011098983, 108.4492969087398, 108.67290370648978, 108.89651050423976, 109.12011730198975, 109.34372409973973, 109.5673308974897, 109.79093769523968, 110.01454449298966, 110.23815129073964, 110.46175808848962, 110.68536488623958, 110.90897168398958, 111.13257848173956, 111.35618527948954, 111.57979207723952, 111.80339887498948, 112.02700567273946, 112.25061247048946, 112.47421926823944, 112.69782606598942, 112.92143286373938, 113.14503966148936, 113.36864645923934, 113.59225325698932, 113.8158600547393, 114.03946685248927, 114.26307365023925, 114.48668044798924, 114.71028724573922, 114.9338940434892, 115.15750084123917, 115.38110763898915, 115.60471443673913, 115.82832123448911, 116.0519280322391, 116.27553482998907, 116.49914162773905, 116.72274842548903, 116.94635522323901, 117.16996202098899, 117.39356881873896, 117.61717561648894, 117.84078241423893, 118.06438921198891, 118.28799600973889, 118.51160280748886, 118.73520960523884, 118.95881640298882, 119.1824232007388, 119.40602999848878, 119.62963679623874, 119.85324359398872, 120.07685039173872, 120.3004571894887, 120.52406398723868, 120.74767078498864, 120.97127758273862, 121.1948843804886, 121.41849117823858, 121.64209797598858, 121.86570477373854, 122.08931157148852, 122.3129183692385, 122.53652516698848, 122.76013196473846, 122.98373876248843, 123.20734556023842, 123.4309523579884, 123.65455915573838, 123.87816595348836, 124.10177275123833, 124.32537954898831, 124.54898634673829, 124.77259314448827, 124.99619994223826, 125.21980673998823, 125.4434135377382, 125.66702033548819, 125.89062713323817, 126.11423393098815, 126.33784072873812, 126.5614475264881, 126.78505432423808, 127.00866112198807, 127.23226791973805, 127.45587471748802, 127.679481515238, 127.90308831298798, 128.12669511073796, 128.35030190848795, 128.57390870623792, 128.7975155039879, 129.02112230173788, 129.24472909948787, 129.46833589723784, 129.6919426949878, 129.91554949273777, 130.13915629048776, 130.36276308823776, 130.58636988598772, 130.8099766837377, 131.03358348148768, 131.25719027923768, 131.48079707698764, 131.70440387473764, 131.9280106724876, 132.15161747023757, 132.37522426798756, 132.59883106573756, 132.82243786348752, 133.0460446612375, 133.26965145898748, 133.49325825673745, 133.7168650544874, 133.9404718522374, 134.16407864998737, 134.38768544773737, 134.61129224548733, 134.83489904323733, 135.0585058409873, 135.2821126387373, 135.50571943648725, 135.72932623423725, 135.95293303198721, 136.1765398297372, 136.40014662748717, 136.62375342523714, 136.84736022298713, 137.07096702073713, 137.2945738184871, 137.51818061623706, 137.74178741398705, 137.96539421173702, 138.18900100948701, 138.41260780723698, 138.63621460498698, 138.85982140273694, 139.08342820048694, 139.3070349982369, 139.5306417959869, 139.75424859373686, 139.97785539148686, 140.20146218923682, 140.42506898698682, 140.64867578473678, 140.87228258248675, 141.09588938023674, 141.3194961779867, 141.5431029757367, 141.76670977348667, 141.99031657123663, 142.21392336898663, 142.43753016673662, 142.6611369644866, 142.88474376223658, 143.10835055998655, 143.33195735773654, 143.5555641554865, 143.77917095323647, 144.00277775098647, 144.22638454873643, 144.44999134648643, 144.6735981442364, 144.8972049419864, 145.12081173973638, 145.34441853748632, 145.56802533523634, 145.79163213298628, 146.01523893073625, 146.23884572848627, 146.46245252623623, 146.68605932398623, 146.9096661217362, 147.13327291948616, 147.35687971723615, 147.58048651498612, 147.80409331273611, 148.02770011048608, 148.25130690823605, 148.47491370598604, 148.698520503736, 148.92212730148603, 149.14573409923597, 149.36934089698593, 149.59294769473593, 149.81655449248592, 150.0401612902359, 150.26376808798588, 150.48737488573585, 150.71098168348584, 150.9345884812358, 151.1581952789858, 151.38180207673577, 151.60540887448573, 151.82901567223573, 152.0526224699857, 152.2762292677357, 152.49983606548568, 152.72344286323562, 152.9470496609856, 153.1706564587356, 153.39426325648557, 153.61787005423557, 153.84147685198553, 154.06508364973553, 154.2886904474855, 154.5122972452355, 154.73590404298545, 154.95951084073542, 155.1831176384854, 155.40672443623538, 155.63033123398537, 155.85393803173534, 156.07754482948533, 156.30115162723533, 156.52475842498527, 156.7483652227353, 156.97197202048523, 157.19557881823522, 157.4191856159852, 157.64279241373518, 157.86639921148517, 158.09000600923514, 158.3136128069851, 158.5372196047351, 158.76082640248507, 158.98443320023506, 159.20803999798505, 159.431646795735, 159.65525359348499, 159.87886039123495, 160.10246718898497, 160.3260739867349, 160.54968078448488, 160.7732875822349, 160.99689437998487, 161.22050117773486, 161.44410797548483, 161.6677147732348, 161.8913215709848, 162.11492836873475, 162.33853516648475, 162.5621419642347, 162.78574876198468, 163.00935555973467, 163.23296235748464, 163.45656915523466, 163.68017595298463, 163.90378275073456, 164.1273895484846, 164.35099634623455, 164.57460314398452, 164.7982099417345, 165.02181673948448, 165.24542353723447, 165.46903033498444, 165.69263713273443, 165.9162439304844, 166.13985072823436, 166.36345752598436, 166.58706432373432, 166.81067112148435, 167.03427791923428, 167.25788471698428, 167.48149151473427, 167.70509831248424, 167.92870511023423, 168.1523119079842, 168.37591870573416, 168.59952550348416, 168.82313230123412, 169.04673909898412, 169.27034589673409, 169.49395269448405, 169.71755949223405, 169.941166289984, 170.164773087734, 170.388379885484, 170.61198668323394, 170.83559348098393, 171.05920027873393, 171.28280707648392, 171.50641387423389, 171.73002067198388, 171.95362746973385, 172.1772342674838, 172.4008410652338, 172.62444786298377, 172.84805466073377, 173.07166145848373, 173.2952682562337, 173.5188750539837, 173.7424818517337, 173.96608864948368, 174.18969544723362, 174.41330224498358, 174.6369090427336, 174.86051584048357, 175.08412263823357, 175.30772943598353, 175.5313362337335, 175.7549430314835, 175.97854982923346, 176.20215662698345, 176.42576342473342, 176.64937022248338, 176.87297702023338, 177.09658381798334, 177.32019061573334, 177.5437974134833, 177.76740421123327, 177.9910110089833, 178.21461780673323, 178.43822460448325, 178.66183140223322, 178.88543819998318, 179.10904499773318, 179.33265179548314, 179.55625859323314, 179.7798653909831, 180.00347218873307, 180.22707898648306, 180.45068578423303, 180.67429258198305, 180.897899379733, 181.12150617748296, 181.34511297523295, 181.56871977298294, 181.7923265707329, 182.01593336848288, 182.23954016623287, 182.46314696398284, 182.68675376173283, 182.91036055948283, 183.1339673572328, 183.35757415498276, 183.58118095273275, 183.80478775048272, 184.0283945482327, 184.25200134598268, 184.47560814373264, 184.69921494148264, 184.92282173923263, 185.14642853698263, 185.37003533473256, 185.59364213248256, 185.81724893023255, 186.04085572798252, 186.2644625257325, 186.48806932348248, 186.71167612123244, 186.93528291898244, 187.1588897167324, 187.3824965144824, 187.60610331223236, 187.82971010998233, 188.05331690773232, 188.27692370548232, 188.5005305032323, 188.72413730098225, 188.94774409873222, 189.17135089648224, 189.39495769423218, 189.6185644919822, 189.84217128973216, 190.06577808748213, 190.28938488523212, 190.5129916829821, 190.73659848073208, 190.96020527848205, 191.18381207623202, 191.40741887398204, 191.63102567173198, 191.854632469482, 192.07823926723194, 192.3018460649819, 192.52545286273192, 192.7490596604819, 192.97266645823188, 193.19627325598185, 193.41988005373182, 193.64348685148178, 193.86709364923178, 194.09070044698177, 194.31430724473174, 194.5379140424817, 194.7615208402317, 194.98512763798166, 195.20873443573166, 195.43234123348162, 195.6559480312316, 195.87955482898158, 196.10316162673158, 196.32676842448157, 196.5503752222315, 196.7739820199815, 196.9975888177315, 197.22119561548146, 197.44480241323146, 197.66840921098142, 197.8920160087314, 198.11562280648138, 198.33922960423135, 198.56283640198134, 198.7864431997313, 199.01004999748127, 199.23365679523127, 199.45726359298126, 199.68087039073126, 199.9044771884812, 200.1280839862312, 200.35169078398118, 200.57529758173112, 200.79890437948114, 201.0225111772311, 201.24611797498108, 201.46972477273107, 201.69333157048104, 201.91693836823103, 202.140545165981, 202.36415196373096, 202.58775876148098, 202.81136555923092, 203.03497235698092, 203.25857915473088, 203.48218595248088, 203.70579275023084, 203.92939954798084, 204.15300634573083, 204.3766131434808, 204.60021994123076, 204.82382673898076, 205.04743353673072, 205.27104033448072, 205.49464713223068, 205.71825392998065, 205.94186072773064, 206.1654675254806, 206.38907432323063, 206.61268112098057, 206.83628791873053, 207.05989471648056, 207.28350151423052, 207.50710831198052, 207.73071510973048, 207.95432190748045, 208.17792870523044, 208.40153550298038, 208.6251423007304, 208.84874909848037, 209.07235589623033, 209.29596269398033, 209.5195694917303, 209.7431762894803, 209.96678308723025, 210.19038988498022, 210.41399668273021, 210.6376034804802, 210.8612102782302, 211.08481707598014, 211.30842387373013, 211.53203067148013, 211.75563746923007, 211.9792442669801, 212.20285106473005, 212.42645786248002, 212.65006466023002, 212.87367145797998, 213.09727825572998, 213.32088505347997, 213.5444918512299, 213.76809864897993, 213.99170544672987, 214.2153122444799, 214.43891904222983, 214.66252583997982, 214.8861326377298, 215.10973943547978, 215.33334623322978, 215.55695303097974, 215.7805598287297, 216.0041666264797, 216.22777342422967, 216.45138022197966, 216.67498701972963, 216.8985938174796, 217.12220061522962, 217.34580741297955, 217.56941421072958, 217.7930210084795, 218.0166278062295, 218.2402346039795, 218.46384140172947, 218.68744819947946, 218.91105499722943, 219.1346617949794, 219.3582685927294, 219.58187539047935, 219.80548218822935, 220.0290889859793, 220.25269578372928, 220.47630258147927, 220.69990937922924, 220.92351617697923, 221.1471229747292, 221.37072977247917, 221.59433657022916, 221.81794336797915, 222.04155016572915, 222.26515696347911, 222.48876376122908, 222.71237055897907, 222.93597735672904, 223.15958415447903, 223.383190952229, 223.60679774997897], 'norm_3': [0.223606797749979, 0.447213595499958, 0.670820393249937, 0.894427190999916, 1.118033988749895, 1.341640786499874, 1.565247584249853, 1.788854381999832, 2.012461179749811, 2.23606797749979, 2.459674775249769, 2.683281572999748, 2.906888370749727, 3.130495168499706, 3.3541019662496847, 3.577708763999664, 3.801315561749643, 4.024922359499622, 4.2485291572496005, 4.47213595499958, 4.695742752749559, 4.919349550499538, 5.142956348249516, 5.366563145999496, 5.5901699437494745, 5.813776741499454, 6.037383539249433, 6.260990336999412, 6.484597134749391, 6.708203932499369, 6.931810730249349, 7.155417527999328, 7.379024325749307, 7.602631123499286, 7.826237921249264, 8.049844718999244, 8.273451516749223, 8.497058314499201, 8.720665112249181, 8.94427190999916, 9.16787870774914, 9.391485505499118, 9.615092303249096, 9.838699100999076, 10.062305898749054, 10.285912696499032, 10.509519494249012, 10.733126291998992, 10.95673308974897, 11.180339887498949, 11.403946685248927, 11.627553482998907, 11.851160280748887, 12.074767078498866, 12.298373876248844, 12.521980673998824, 12.745587471748802, 12.969194269498782, 13.192801067248759, 13.416407864998739, 13.640014662748719, 13.863621460498697, 14.087228258248677, 14.310835055998655, 14.534441853748634, 14.758048651498614, 14.98165544924859, 15.205262246998572, 15.42886904474855, 15.652475842498529, 15.876082640248509, 16.09968943799849, 16.323296235748465, 16.546903033498445, 16.77050983124842, 16.994116628998402, 17.217723426748382, 17.441330224498362, 17.66493702224834, 17.88854381999832, 18.1121506177483, 18.33575741549828, 18.559364213248255, 18.782971010998235, 19.00657780874821, 19.23018460649819, 19.45379140424817, 19.67739820199815, 19.90100499974813, 20.12461179749811, 20.348218595248085, 20.571825392998065, 20.795432190748045, 21.019038988498025, 21.242645786248, 21.466252583997985, 21.68985938174796, 21.91346617949794, 22.137072977247918, 22.360679774997898, 22.58428657274788, 22.807893370497855, 23.031500168247835, 23.255106965997815, 23.47871376374779, 23.702320561497775, 23.925927359247755, 24.14953415699773, 24.373140954747708, 24.596747752497688, 24.820354550247668, 25.043961347997648, 25.267568145747624, 25.491174943497604, 25.71478174124758, 25.938388538997565, 26.16199533674754, 26.385602134497518, 26.609208932247498, 26.832815729997478, 27.056422527747458, 27.280029325497438, 27.503636123247414, 27.727242920997394, 27.95084971874737, 28.174456516497354, 28.39806331424733, 28.62167011199731, 28.845276909747287, 29.068883707497267, 29.292490505247248, 29.516097302997228, 29.739704100747204, 29.96331089849718, 30.18691769624716, 30.410524493997144, 30.63413129174712, 30.8577380894971, 31.081344887247077, 31.304951684997057, 31.528558482747037, 31.752165280497017, 31.975772078246994, 32.19937887599698, 32.42298567374695, 32.64659247149693, 32.87019926924691, 33.09380606699689, 33.31741286474687, 33.54101966249684, 33.764626460246824, 33.988233257996804, 34.211840055746784, 34.435446853496764, 34.659053651246744, 34.882660448996724, 35.106267246746704, 35.32987404449668, 35.55348084224666, 35.77708763999664, 36.00069443774662, 36.2243012354966, 36.44790803324657, 36.67151483099656, 36.89512162874653, 37.11872842649651, 37.34233522424648, 37.56594202199647, 37.78954881974645, 38.01315561749642, 38.2367624152464, 38.46036921299638, 38.68397601074636, 38.90758280849634, 39.131189606246316, 39.3547964039963, 39.578403201746276, 39.80200999949626, 40.02561679724624, 40.24922359499622, 40.4728303927462, 40.69643719049617, 40.92004398824616, 41.14365078599613, 41.36725758374611, 41.59086438149609, 41.81447117924607, 42.03807797699605, 42.26168477474603, 42.485291572496, 42.70889837024598, 42.93250516799597, 43.15611196574594, 43.37971876349592, 43.603325561245896, 43.82693235899588, 44.05053915674586, 44.274145954495836, 44.49775275224582, 44.721359549995796, 44.944966347745776, 45.16857314549576, 45.392179943245736, 45.61578674099571, 45.83939353874569, 46.06300033649567, 46.286607134245656, 46.51021393199563, 46.73382072974561, 46.95742752749558, 47.18103432524556, 47.40464112299555, 47.62824792074552, 47.85185471849551, 48.075461516245475, 48.29906831399546, 48.52267511174544, 48.746281909495416, 48.969888707245396, 49.193495504995376, 49.417102302745356, 49.640709100495336, 49.864315898245316, 50.087922695995296, 50.31152949374527, 50.53513629149525, 50.75874308924523, 50.98234988699521, 51.20595668474519, 51.42956348249516, 51.65317028024514, 51.87677707799513, 52.100383875745095, 52.32399067349508, 52.547597471245055, 52.771204268995035, 52.99481106674502, 53.218417864494995, 53.44202466224498, 53.665631459994955, 53.889238257744935, 54.112845055494915, 54.33645185324489, 54.560058650994876, 54.78366544874485, 55.00727224649483, 55.23087904424481, 55.45448584199479, 55.67809263974477, 55.90169943749474, 56.12530623524473, 56.34891303299471, 56.57251983074468, 56.79612662849466, 57.019733426244635, 57.24334022399462, 57.4669470217446, 57.690553819494575, 57.914160617244555, 58.137767414994535, 58.361374212744515, 58.584981010494495, 58.80858780824447, 59.032194605994455, 59.25580140374443, 59.47940820149441, 59.70301499924439, 59.92662179699436, 60.15022859474435, 60.37383539249432, 60.5974421902443, 60.82104898799429, 61.04465578574426, 61.26826258349424, 61.491869381244214, 61.7154761789942, 61.93908297674418, 62.162689774494154, 62.386296572244134, 62.609903369994115, 62.833510167744095, 63.057116965494075, 63.28072376324405, 63.504330560994035, 63.72793735874401, 63.95154415649399, 64.17515095424397, 64.39875775199395, 64.62236454974393, 64.8459713474939, 65.06957814524388, 65.29318494299386, 65.51679174074384, 65.74039853849382, 65.9640053362438, 66.18761213399378, 66.41121893174376, 66.63482572949374, 66.8584325272437, 67.08203932499369, 67.30564612274367, 67.52925292049365, 67.75285971824363, 67.97646651599361, 68.20007331374359, 68.42368011149357, 68.64728690924355, 68.87089370699353, 69.09450050474351, 69.31810730249349, 69.54171410024347, 69.76532089799345, 69.98892769574343, 70.21253449349341, 70.43614129124337, 70.65974808899335, 70.88335488674333, 71.10696168449331, 71.3305684822433, 71.55417527999327, 71.77778207774325, 72.00138887549323, 72.22499567324321, 72.4486024709932, 72.67220926874316, 72.89581606649314, 73.11942286424313, 73.34302966199311, 73.56663645974308, 73.79024325749306, 74.01385005524304, 74.23745685299302, 74.46106365074301, 74.68467044849297, 74.90827724624296, 75.13188404399294, 75.35549084174292, 75.5790976394929, 75.80270443724287, 76.02631123499285, 76.24991803274284, 76.4735248304928, 76.69713162824279, 76.92073842599277, 77.14434522374275, 77.36795202149273, 77.5915588192427, 77.81516561699269, 78.03877241474267, 78.26237921249263, 78.48598601024261, 78.7095928079926, 78.93319960574259, 79.15680640349255, 79.38041320124253, 79.60401999899253, 79.82762679674249, 80.05123359449249, 80.27484039224244, 80.49844718999243, 80.72205398774241, 80.9456607854924, 81.16926758324237, 81.39287438099234, 81.61648117874232, 81.84008797649231, 82.0636947742423, 82.28730157199226, 82.51090836974224, 82.73451516749222, 82.9581219652422, 83.18172876299218, 83.40533556074217, 83.62894235849214, 83.85254915624212, 84.0761559539921, 84.29976275174208, 84.52336954949206, 84.74697634724203, 84.970583144992, 85.194189942742, 85.41779674049197, 85.64140353824196, 85.86501033599194, 86.0886171337419, 86.31222393149189, 86.53583072924187, 86.75943752699185, 86.98304432474184, 87.20665112249179, 87.43025792024179, 87.65386471799177, 87.87747151574175, 88.10107831349173, 88.32468511124169, 88.54829190899167, 88.77189870674165, 88.99550550449165, 89.21911230224163, 89.44271909999159, 89.66632589774157, 89.88993269549155, 90.11353949324153, 90.33714629099153, 90.56075308874148, 90.78435988649147, 91.00796668424144, 91.23157348199142, 91.45518027974141, 91.67878707749138, 91.90239387524136, 92.12600067299134, 92.34960747074132, 92.57321426849131, 92.79682106624128, 93.02042786399126, 93.24403466174124, 93.46764145949122, 93.6912482572412, 93.91485505499116, 94.13846185274116, 94.36206865049112, 94.58567544824112, 94.8092822459911, 95.03288904374106, 95.25649584149104, 95.48010263924103, 95.70370943699102, 95.927316234741, 96.15092303249095, 96.37452983024095, 96.59813662799093, 96.82174342574089, 97.04535022349089, 97.26895702124085, 97.49256381899083, 97.71617061674081, 97.93977741449079, 98.16338421224079, 98.38699100999075, 98.61059780774073, 98.83420460549071, 99.05781140324069, 99.28141820099067, 99.50502499874064, 99.72863179649063, 99.9522385942406, 100.17584539199059, 100.39945218974057, 100.62305898749054, 100.84666578524052, 101.0702725829905, 101.29387938074049, 101.51748617849046, 101.74109297624044, 101.96469977399042, 102.1883065717404, 102.41191336949038, 102.63552016724036, 102.85912696499032, 103.0827337627403, 103.30634056049028, 103.52994735824028, 103.75355415599026, 103.97716095374022, 104.20076775149019, 104.42437454924018, 104.64798134699016, 104.87158814474014, 105.09519494249011, 105.3188017402401, 105.54240853799007, 105.76601533574006, 105.98962213349004, 106.21322893124001, 106.43683572898999, 106.66044252673998, 106.88404932448996, 107.10765612223994, 107.33126291998991, 107.55486971773989, 107.77847651548987, 108.00208331323985, 108.22569011098983, 108.4492969087398, 108.67290370648978, 108.89651050423976, 109.12011730198975, 109.34372409973973, 109.5673308974897, 109.79093769523968, 110.01454449298966, 110.23815129073964, 110.46175808848962, 110.68536488623958, 110.90897168398958, 111.13257848173956, 111.35618527948954, 111.57979207723952, 111.80339887498948, 112.02700567273946, 112.25061247048946, 112.47421926823944, 112.69782606598942, 112.92143286373938, 113.14503966148936, 113.36864645923934, 113.59225325698932, 113.8158600547393, 114.03946685248927, 114.26307365023925, 114.48668044798924, 114.71028724573922, 114.9338940434892, 115.15750084123917, 115.38110763898915, 115.60471443673913, 115.82832123448911, 116.0519280322391, 116.27553482998907, 116.49914162773905, 116.72274842548903, 116.94635522323901, 117.16996202098899, 117.39356881873896, 117.61717561648894, 117.84078241423893, 118.06438921198891, 118.28799600973889, 118.51160280748886, 118.73520960523884, 118.95881640298882, 119.1824232007388, 119.40602999848878, 119.62963679623874, 119.85324359398872, 120.07685039173872, 120.3004571894887, 120.52406398723868, 120.74767078498864, 120.97127758273862, 121.1948843804886, 121.41849117823858, 121.64209797598858, 121.86570477373854, 122.08931157148852, 122.3129183692385, 122.53652516698848, 122.76013196473846, 122.98373876248843, 123.20734556023842, 123.4309523579884, 123.65455915573838, 123.87816595348836, 124.10177275123833, 124.32537954898831, 124.54898634673829, 124.77259314448827, 124.99619994223826, 125.21980673998823, 125.4434135377382, 125.66702033548819, 125.89062713323817, 126.11423393098815, 126.33784072873812, 126.5614475264881, 126.78505432423808, 127.00866112198807, 127.23226791973805, 127.45587471748802, 127.679481515238, 127.90308831298798, 128.12669511073796, 128.35030190848795, 128.57390870623792, 128.7975155039879, 129.02112230173788, 129.24472909948787, 129.46833589723784, 129.6919426949878, 129.91554949273777, 130.13915629048776, 130.36276308823776, 130.58636988598772, 130.8099766837377, 131.03358348148768, 131.25719027923768, 131.48079707698764, 131.70440387473764, 131.9280106724876, 132.15161747023757, 132.37522426798756, 132.59883106573756, 132.82243786348752, 133.0460446612375, 133.26965145898748, 133.49325825673745, 133.7168650544874, 133.9404718522374, 134.16407864998737, 134.38768544773737, 134.61129224548733, 134.83489904323733, 135.0585058409873, 135.2821126387373, 135.50571943648725, 135.72932623423725, 135.95293303198721, 136.1765398297372, 136.40014662748717, 136.62375342523714, 136.84736022298713, 137.07096702073713, 137.2945738184871, 137.51818061623706, 137.74178741398705, 137.96539421173702, 138.18900100948701, 138.41260780723698, 138.63621460498698, 138.85982140273694, 139.08342820048694, 139.3070349982369, 139.5306417959869, 139.75424859373686, 139.97785539148686, 140.20146218923682, 140.42506898698682, 140.64867578473678, 140.87228258248675, 141.09588938023674, 141.3194961779867, 141.5431029757367, 141.76670977348667, 141.99031657123663, 142.21392336898663, 142.43753016673662, 142.6611369644866, 142.88474376223658, 143.10835055998655, 143.33195735773654, 143.5555641554865, 143.77917095323647, 144.00277775098647, 144.22638454873643, 144.44999134648643, 144.6735981442364, 144.8972049419864, 145.12081173973638, 145.34441853748632, 145.56802533523634, 145.79163213298628, 146.01523893073625, 146.23884572848627, 146.46245252623623, 146.68605932398623, 146.9096661217362, 147.13327291948616, 147.35687971723615, 147.58048651498612, 147.80409331273611, 148.02770011048608, 148.25130690823605, 148.47491370598604, 148.698520503736, 148.92212730148603, 149.14573409923597, 149.36934089698593, 149.59294769473593, 149.81655449248592, 150.0401612902359, 150.26376808798588, 150.48737488573585, 150.71098168348584, 150.9345884812358, 151.1581952789858, 151.38180207673577, 151.60540887448573, 151.82901567223573, 152.0526224699857, 152.2762292677357, 152.49983606548568, 152.72344286323562, 152.9470496609856, 153.1706564587356, 153.39426325648557, 153.61787005423557, 153.84147685198553, 154.06508364973553, 154.2886904474855, 154.5122972452355, 154.73590404298545, 154.95951084073542, 155.1831176384854, 155.40672443623538, 155.63033123398537, 155.85393803173534, 156.07754482948533, 156.30115162723533, 156.52475842498527, 156.7483652227353, 156.97197202048523, 157.19557881823522, 157.4191856159852, 157.64279241373518, 157.86639921148517, 158.09000600923514, 158.3136128069851, 158.5372196047351, 158.76082640248507, 158.98443320023506, 159.20803999798505, 159.431646795735, 159.65525359348499, 159.87886039123495, 160.10246718898497, 160.3260739867349, 160.54968078448488, 160.7732875822349, 160.99689437998487, 161.22050117773486, 161.44410797548483, 161.6677147732348, 161.8913215709848, 162.11492836873475, 162.33853516648475, 162.5621419642347, 162.78574876198468, 163.00935555973467, 163.23296235748464, 163.45656915523466, 163.68017595298463, 163.90378275073456, 164.1273895484846, 164.35099634623455, 164.57460314398452, 164.7982099417345, 165.02181673948448, 165.24542353723447, 165.46903033498444, 165.69263713273443, 165.9162439304844, 166.13985072823436, 166.36345752598436, 166.58706432373432, 166.81067112148435, 167.03427791923428, 167.25788471698428, 167.48149151473427, 167.70509831248424, 167.92870511023423, 168.1523119079842, 168.37591870573416, 168.59952550348416, 168.82313230123412, 169.04673909898412, 169.27034589673409, 169.49395269448405, 169.71755949223405, 169.941166289984, 170.164773087734, 170.388379885484, 170.61198668323394, 170.83559348098393, 171.05920027873393, 171.28280707648392, 171.50641387423389, 171.73002067198388, 171.95362746973385, 172.1772342674838, 172.4008410652338, 172.62444786298377, 172.84805466073377, 173.07166145848373, 173.2952682562337, 173.5188750539837, 173.7424818517337, 173.96608864948368, 174.18969544723362, 174.41330224498358, 174.6369090427336, 174.86051584048357, 175.08412263823357, 175.30772943598353, 175.5313362337335, 175.7549430314835, 175.97854982923346, 176.20215662698345, 176.42576342473342, 176.64937022248338, 176.87297702023338, 177.09658381798334, 177.32019061573334, 177.5437974134833, 177.76740421123327, 177.9910110089833, 178.21461780673323, 178.43822460448325, 178.66183140223322, 178.88543819998318, 179.10904499773318, 179.33265179548314, 179.55625859323314, 179.7798653909831, 180.00347218873307, 180.22707898648306, 180.45068578423303, 180.67429258198305, 180.897899379733, 181.12150617748296, 181.34511297523295, 181.56871977298294, 181.7923265707329, 182.01593336848288, 182.23954016623287, 182.46314696398284, 182.68675376173283, 182.91036055948283, 183.1339673572328, 183.35757415498276, 183.58118095273275, 183.80478775048272, 184.0283945482327, 184.25200134598268, 184.47560814373264, 184.69921494148264, 184.92282173923263, 185.14642853698263, 185.37003533473256, 185.59364213248256, 185.81724893023255, 186.04085572798252, 186.2644625257325, 186.48806932348248, 186.71167612123244, 186.93528291898244, 187.1588897167324, 187.3824965144824, 187.60610331223236, 187.82971010998233, 188.05331690773232, 188.27692370548232, 188.5005305032323, 188.72413730098225, 188.94774409873222, 189.17135089648224, 189.39495769423218, 189.6185644919822, 189.84217128973216, 190.06577808748213, 190.28938488523212, 190.5129916829821, 190.73659848073208, 190.96020527848205, 191.18381207623202, 191.40741887398204, 191.63102567173198, 191.854632469482, 192.07823926723194, 192.3018460649819, 192.52545286273192, 192.7490596604819, 192.97266645823188, 193.19627325598185, 193.41988005373182, 193.64348685148178, 193.86709364923178, 194.09070044698177, 194.31430724473174, 194.5379140424817, 194.7615208402317, 194.98512763798166, 195.20873443573166, 195.43234123348162, 195.6559480312316, 195.87955482898158, 196.10316162673158, 196.32676842448157, 196.5503752222315, 196.7739820199815, 196.9975888177315, 197.22119561548146, 197.44480241323146, 197.66840921098142, 197.8920160087314, 198.11562280648138, 198.33922960423135, 198.56283640198134, 198.7864431997313, 199.01004999748127, 199.23365679523127, 199.45726359298126, 199.68087039073126, 199.9044771884812, 200.1280839862312, 200.35169078398118, 200.57529758173112, 200.79890437948114, 201.0225111772311, 201.24611797498108, 201.46972477273107, 201.69333157048104, 201.91693836823103, 202.140545165981, 202.36415196373096, 202.58775876148098, 202.81136555923092, 203.03497235698092, 203.25857915473088, 203.48218595248088, 203.70579275023084, 203.92939954798084, 204.15300634573083, 204.3766131434808, 204.60021994123076, 204.82382673898076, 205.04743353673072, 205.27104033448072, 205.49464713223068, 205.71825392998065, 205.94186072773064, 206.1654675254806, 206.38907432323063, 206.61268112098057, 206.83628791873053, 207.05989471648056, 207.28350151423052, 207.50710831198052, 207.73071510973048, 207.95432190748045, 208.17792870523044, 208.40153550298038, 208.6251423007304, 208.84874909848037, 209.07235589623033, 209.29596269398033, 209.5195694917303, 209.7431762894803, 209.96678308723025, 210.19038988498022, 210.41399668273021, 210.6376034804802, 210.8612102782302, 211.08481707598014, 211.30842387373013, 211.53203067148013, 211.75563746923007, 211.9792442669801, 212.20285106473005, 212.42645786248002, 212.65006466023002, 212.87367145797998, 213.09727825572998, 213.32088505347997, 213.5444918512299, 213.76809864897993, 213.99170544672987, 214.2153122444799, 214.43891904222983, 214.66252583997982, 214.8861326377298, 215.10973943547978, 215.33334623322978, 215.55695303097974, 215.7805598287297, 216.0041666264797, 216.22777342422967, 216.45138022197966, 216.67498701972963, 216.8985938174796, 217.12220061522962, 217.34580741297955, 217.56941421072958, 217.7930210084795, 218.0166278062295, 218.2402346039795, 218.46384140172947, 218.68744819947946, 218.91105499722943, 219.1346617949794, 219.3582685927294, 219.58187539047935, 219.80548218822935, 220.0290889859793, 220.25269578372928, 220.47630258147927, 220.69990937922924, 220.92351617697923, 221.1471229747292, 221.37072977247917, 221.59433657022916, 221.81794336797915, 222.04155016572915, 222.26515696347911, 222.48876376122908, 222.71237055897907, 222.93597735672904, 223.15958415447903, 223.383190952229, 223.60679774997897], 'norm_4': [0.223606797749979, 0.447213595499958, 0.670820393249937, 0.894427190999916, 1.118033988749895, 1.341640786499874, 1.565247584249853, 1.788854381999832, 2.012461179749811, 2.23606797749979, 2.459674775249769, 2.683281572999748, 2.906888370749727, 3.130495168499706, 3.3541019662496847, 3.577708763999664, 3.801315561749643, 4.024922359499622, 4.2485291572496005, 4.47213595499958, 4.695742752749559, 4.919349550499538, 5.142956348249516, 5.366563145999496, 5.5901699437494745, 5.813776741499454, 6.037383539249433, 6.260990336999412, 6.484597134749391, 6.708203932499369, 6.931810730249349, 7.155417527999328, 7.379024325749307, 7.602631123499286, 7.826237921249264, 8.049844718999244, 8.273451516749223, 8.497058314499201, 8.720665112249181, 8.94427190999916, 9.16787870774914, 9.391485505499118, 9.615092303249096, 9.838699100999076, 10.062305898749054, 10.285912696499032, 10.509519494249012, 10.733126291998992, 10.95673308974897, 11.180339887498949, 11.403946685248927, 11.627553482998907, 11.851160280748887, 12.074767078498866, 12.298373876248844, 12.521980673998824, 12.745587471748802, 12.969194269498782, 13.192801067248759, 13.416407864998739, 13.640014662748719, 13.863621460498697, 14.087228258248677, 14.310835055998655, 14.534441853748634, 14.758048651498614, 14.98165544924859, 15.205262246998572, 15.42886904474855, 15.652475842498529, 15.876082640248509, 16.09968943799849, 16.323296235748465, 16.546903033498445, 16.77050983124842, 16.994116628998402, 17.217723426748382, 17.441330224498362, 17.66493702224834, 17.88854381999832, 18.1121506177483, 18.33575741549828, 18.559364213248255, 18.782971010998235, 19.00657780874821, 19.23018460649819, 19.45379140424817, 19.67739820199815, 19.90100499974813, 20.12461179749811, 20.348218595248085, 20.571825392998065, 20.795432190748045, 21.019038988498025, 21.242645786248, 21.466252583997985, 21.68985938174796, 21.91346617949794, 22.137072977247918, 22.360679774997898, 22.58428657274788, 22.807893370497855, 23.031500168247835, 23.255106965997815, 23.47871376374779, 23.702320561497775, 23.925927359247755, 24.14953415699773, 24.373140954747708, 24.596747752497688, 24.820354550247668, 25.043961347997648, 25.267568145747624, 25.491174943497604, 25.71478174124758, 25.938388538997565, 26.16199533674754, 26.385602134497518, 26.609208932247498, 26.832815729997478, 27.056422527747458, 27.280029325497438, 27.503636123247414, 27.727242920997394, 27.95084971874737, 28.174456516497354, 28.39806331424733, 28.62167011199731, 28.845276909747287, 29.068883707497267, 29.292490505247248, 29.516097302997228, 29.739704100747204, 29.96331089849718, 30.18691769624716, 30.410524493997144, 30.63413129174712, 30.8577380894971, 31.081344887247077, 31.304951684997057, 31.528558482747037, 31.752165280497017, 31.975772078246994, 32.19937887599698, 32.42298567374695, 32.64659247149693, 32.87019926924691, 33.09380606699689, 33.31741286474687, 33.54101966249684, 33.764626460246824, 33.988233257996804, 34.211840055746784, 34.435446853496764, 34.659053651246744, 34.882660448996724, 35.106267246746704, 35.32987404449668, 35.55348084224666, 35.77708763999664, 36.00069443774662, 36.2243012354966, 36.44790803324657, 36.67151483099656, 36.89512162874653, 37.11872842649651, 37.34233522424648, 37.56594202199647, 37.78954881974645, 38.01315561749642, 38.2367624152464, 38.46036921299638, 38.68397601074636, 38.90758280849634, 39.131189606246316, 39.3547964039963, 39.578403201746276, 39.80200999949626, 40.02561679724624, 40.24922359499622, 40.4728303927462, 40.69643719049617, 40.92004398824616, 41.14365078599613, 41.36725758374611, 41.59086438149609, 41.81447117924607, 42.03807797699605, 42.26168477474603, 42.485291572496, 42.70889837024598, 42.93250516799597, 43.15611196574594, 43.37971876349592, 43.603325561245896, 43.82693235899588, 44.05053915674586, 44.274145954495836, 44.49775275224582, 44.721359549995796, 44.944966347745776, 45.16857314549576, 45.392179943245736, 45.61578674099571, 45.83939353874569, 46.06300033649567, 46.286607134245656, 46.51021393199563, 46.73382072974561, 46.95742752749558, 47.18103432524556, 47.40464112299555, 47.62824792074552, 47.85185471849551, 48.075461516245475, 48.29906831399546, 48.52267511174544, 48.746281909495416, 48.969888707245396, 49.193495504995376, 49.417102302745356, 49.640709100495336, 49.864315898245316, 50.087922695995296, 50.31152949374527, 50.53513629149525, 50.75874308924523, 50.98234988699521, 51.20595668474519, 51.42956348249516, 51.65317028024514, 51.87677707799513, 52.100383875745095, 52.32399067349508, 52.547597471245055, 52.771204268995035, 52.99481106674502, 53.218417864494995, 53.44202466224498, 53.665631459994955, 53.889238257744935, 54.112845055494915, 54.33645185324489, 54.560058650994876, 54.78366544874485, 55.00727224649483, 55.23087904424481, 55.45448584199479, 55.67809263974477, 55.90169943749474, 56.12530623524473, 56.34891303299471, 56.57251983074468, 56.79612662849466, 57.019733426244635, 57.24334022399462, 57.4669470217446, 57.690553819494575, 57.914160617244555, 58.137767414994535, 58.361374212744515, 58.584981010494495, 58.80858780824447, 59.032194605994455, 59.25580140374443, 59.47940820149441, 59.70301499924439, 59.92662179699436, 60.15022859474435, 60.37383539249432, 60.5974421902443, 60.82104898799429, 61.04465578574426, 61.26826258349424, 61.491869381244214, 61.7154761789942, 61.93908297674418, 62.162689774494154, 62.386296572244134, 62.609903369994115, 62.833510167744095, 63.057116965494075, 63.28072376324405, 63.504330560994035, 63.72793735874401, 63.95154415649399, 64.17515095424397, 64.39875775199395, 64.62236454974393, 64.8459713474939, 65.06957814524388, 65.29318494299386, 65.51679174074384, 65.74039853849382, 65.9640053362438, 66.18761213399378, 66.41121893174376, 66.63482572949374, 66.8584325272437, 67.08203932499369, 67.30564612274367, 67.52925292049365, 67.75285971824363, 67.97646651599361, 68.20007331374359, 68.42368011149357, 68.64728690924355, 68.87089370699353, 69.09450050474351, 69.31810730249349, 69.54171410024347, 69.76532089799345, 69.98892769574343, 70.21253449349341, 70.43614129124337, 70.65974808899335, 70.88335488674333, 71.10696168449331, 71.3305684822433, 71.55417527999327, 71.77778207774325, 72.00138887549323, 72.22499567324321, 72.4486024709932, 72.67220926874316, 72.89581606649314, 73.11942286424313, 73.34302966199311, 73.56663645974308, 73.79024325749306, 74.01385005524304, 74.23745685299302, 74.46106365074301, 74.68467044849297, 74.90827724624296, 75.13188404399294, 75.35549084174292, 75.5790976394929, 75.80270443724287, 76.02631123499285, 76.24991803274284, 76.4735248304928, 76.69713162824279, 76.92073842599277, 77.14434522374275, 77.36795202149273, 77.5915588192427, 77.81516561699269, 78.03877241474267, 78.26237921249263, 78.48598601024261, 78.7095928079926, 78.93319960574259, 79.15680640349255, 79.38041320124253, 79.60401999899253, 79.82762679674249, 80.05123359449249, 80.27484039224244, 80.49844718999243, 80.72205398774241, 80.9456607854924, 81.16926758324237, 81.39287438099234, 81.61648117874232, 81.84008797649231, 82.0636947742423, 82.28730157199226, 82.51090836974224, 82.73451516749222, 82.9581219652422, 83.18172876299218, 83.40533556074217, 83.62894235849214, 83.85254915624212, 84.0761559539921, 84.29976275174208, 84.52336954949206, 84.74697634724203, 84.970583144992, 85.194189942742, 85.41779674049197, 85.64140353824196, 85.86501033599194, 86.0886171337419, 86.31222393149189, 86.53583072924187, 86.75943752699185, 86.98304432474184, 87.20665112249179, 87.43025792024179, 87.65386471799177, 87.87747151574175, 88.10107831349173, 88.32468511124169, 88.54829190899167, 88.77189870674165, 88.99550550449165, 89.21911230224163, 89.44271909999159, 89.66632589774157, 89.88993269549155, 90.11353949324153, 90.33714629099153, 90.56075308874148, 90.78435988649147, 91.00796668424144, 91.23157348199142, 91.45518027974141, 91.67878707749138, 91.90239387524136, 92.12600067299134, 92.34960747074132, 92.57321426849131, 92.79682106624128, 93.02042786399126, 93.24403466174124, 93.46764145949122, 93.6912482572412, 93.91485505499116, 94.13846185274116, 94.36206865049112, 94.58567544824112, 94.8092822459911, 95.03288904374106, 95.25649584149104, 95.48010263924103, 95.70370943699102, 95.927316234741, 96.15092303249095, 96.37452983024095, 96.59813662799093, 96.82174342574089, 97.04535022349089, 97.26895702124085, 97.49256381899083, 97.71617061674081, 97.93977741449079, 98.16338421224079, 98.38699100999075, 98.61059780774073, 98.83420460549071, 99.05781140324069, 99.28141820099067, 99.50502499874064, 99.72863179649063, 99.9522385942406, 100.17584539199059, 100.39945218974057, 100.62305898749054, 100.84666578524052, 101.0702725829905, 101.29387938074049, 101.51748617849046, 101.74109297624044, 101.96469977399042, 102.1883065717404, 102.41191336949038, 102.63552016724036, 102.85912696499032, 103.0827337627403, 103.30634056049028, 103.52994735824028, 103.75355415599026, 103.97716095374022, 104.20076775149019, 104.42437454924018, 104.64798134699016, 104.87158814474014, 105.09519494249011, 105.3188017402401, 105.54240853799007, 105.76601533574006, 105.98962213349004, 106.21322893124001, 106.43683572898999, 106.66044252673998, 106.88404932448996, 107.10765612223994, 107.33126291998991, 107.55486971773989, 107.77847651548987, 108.00208331323985, 108.22569011098983, 108.4492969087398, 108.67290370648978, 108.89651050423976, 109.12011730198975, 109.34372409973973, 109.5673308974897, 109.79093769523968, 110.01454449298966, 110.23815129073964, 110.46175808848962, 110.68536488623958, 110.90897168398958, 111.13257848173956, 111.35618527948954, 111.57979207723952, 111.80339887498948, 112.02700567273946, 112.25061247048946, 112.47421926823944, 112.69782606598942, 112.92143286373938, 113.14503966148936, 113.36864645923934, 113.59225325698932, 113.8158600547393, 114.03946685248927, 114.26307365023925, 114.48668044798924, 114.71028724573922, 114.9338940434892, 115.15750084123917, 115.38110763898915, 115.60471443673913, 115.82832123448911, 116.0519280322391, 116.27553482998907, 116.49914162773905, 116.72274842548903, 116.94635522323901, 117.16996202098899, 117.39356881873896, 117.61717561648894, 117.84078241423893, 118.06438921198891, 118.28799600973889, 118.51160280748886, 118.73520960523884, 118.95881640298882, 119.1824232007388, 119.40602999848878, 119.62963679623874, 119.85324359398872, 120.07685039173872, 120.3004571894887, 120.52406398723868, 120.74767078498864, 120.97127758273862, 121.1948843804886, 121.41849117823858, 121.64209797598858, 121.86570477373854, 122.08931157148852, 122.3129183692385, 122.53652516698848, 122.76013196473846, 122.98373876248843, 123.20734556023842, 123.4309523579884, 123.65455915573838, 123.87816595348836, 124.10177275123833, 124.32537954898831, 124.54898634673829, 124.77259314448827, 124.99619994223826, 125.21980673998823, 125.4434135377382, 125.66702033548819, 125.89062713323817, 126.11423393098815, 126.33784072873812, 126.5614475264881, 126.78505432423808, 127.00866112198807, 127.23226791973805, 127.45587471748802, 127.679481515238, 127.90308831298798, 128.12669511073796, 128.35030190848795, 128.57390870623792, 128.7975155039879, 129.02112230173788, 129.24472909948787, 129.46833589723784, 129.6919426949878, 129.91554949273777, 130.13915629048776, 130.36276308823776, 130.58636988598772, 130.8099766837377, 131.03358348148768, 131.25719027923768, 131.48079707698764, 131.70440387473764, 131.9280106724876, 132.15161747023757, 132.37522426798756, 132.59883106573756, 132.82243786348752, 133.0460446612375, 133.26965145898748, 133.49325825673745, 133.7168650544874, 133.9404718522374, 134.16407864998737, 134.38768544773737, 134.61129224548733, 134.83489904323733, 135.0585058409873, 135.2821126387373, 135.50571943648725, 135.72932623423725, 135.95293303198721, 136.1765398297372, 136.40014662748717, 136.62375342523714, 136.84736022298713, 137.07096702073713, 137.2945738184871, 137.51818061623706, 137.74178741398705, 137.96539421173702, 138.18900100948701, 138.41260780723698, 138.63621460498698, 138.85982140273694, 139.08342820048694, 139.3070349982369, 139.5306417959869, 139.75424859373686, 139.97785539148686, 140.20146218923682, 140.42506898698682, 140.64867578473678, 140.87228258248675, 141.09588938023674, 141.3194961779867, 141.5431029757367, 141.76670977348667, 141.99031657123663, 142.21392336898663, 142.43753016673662, 142.6611369644866, 142.88474376223658, 143.10835055998655, 143.33195735773654, 143.5555641554865, 143.77917095323647, 144.00277775098647, 144.22638454873643, 144.44999134648643, 144.6735981442364, 144.8972049419864, 145.12081173973638, 145.34441853748632, 145.56802533523634, 145.79163213298628, 146.01523893073625, 146.23884572848627, 146.46245252623623, 146.68605932398623, 146.9096661217362, 147.13327291948616, 147.35687971723615, 147.58048651498612, 147.80409331273611, 148.02770011048608, 148.25130690823605, 148.47491370598604, 148.698520503736, 148.92212730148603, 149.14573409923597, 149.36934089698593, 149.59294769473593, 149.81655449248592, 150.0401612902359, 150.26376808798588, 150.48737488573585, 150.71098168348584, 150.9345884812358, 151.1581952789858, 151.38180207673577, 151.60540887448573, 151.82901567223573, 152.0526224699857, 152.2762292677357, 152.49983606548568, 152.72344286323562, 152.9470496609856, 153.1706564587356, 153.39426325648557, 153.61787005423557, 153.84147685198553, 154.06508364973553, 154.2886904474855, 154.5122972452355, 154.73590404298545, 154.95951084073542, 155.1831176384854, 155.40672443623538, 155.63033123398537, 155.85393803173534, 156.07754482948533, 156.30115162723533, 156.52475842498527, 156.7483652227353, 156.97197202048523, 157.19557881823522, 157.4191856159852, 157.64279241373518, 157.86639921148517, 158.09000600923514, 158.3136128069851, 158.5372196047351, 158.76082640248507, 158.98443320023506, 159.20803999798505, 159.431646795735, 159.65525359348499, 159.87886039123495, 160.10246718898497, 160.3260739867349, 160.54968078448488, 160.7732875822349, 160.99689437998487, 161.22050117773486, 161.44410797548483, 161.6677147732348, 161.8913215709848, 162.11492836873475, 162.33853516648475, 162.5621419642347, 162.78574876198468, 163.00935555973467, 163.23296235748464, 163.45656915523466, 163.68017595298463, 163.90378275073456, 164.1273895484846, 164.35099634623455, 164.57460314398452, 164.7982099417345, 165.02181673948448, 165.24542353723447, 165.46903033498444, 165.69263713273443, 165.9162439304844, 166.13985072823436, 166.36345752598436, 166.58706432373432, 166.81067112148435, 167.03427791923428, 167.25788471698428, 167.48149151473427, 167.70509831248424, 167.92870511023423, 168.1523119079842, 168.37591870573416, 168.59952550348416, 168.82313230123412, 169.04673909898412, 169.27034589673409, 169.49395269448405, 169.71755949223405, 169.941166289984, 170.164773087734, 170.388379885484, 170.61198668323394, 170.83559348098393, 171.05920027873393, 171.28280707648392, 171.50641387423389, 171.73002067198388, 171.95362746973385, 172.1772342674838, 172.4008410652338, 172.62444786298377, 172.84805466073377, 173.07166145848373, 173.2952682562337, 173.5188750539837, 173.7424818517337, 173.96608864948368, 174.18969544723362, 174.41330224498358, 174.6369090427336, 174.86051584048357, 175.08412263823357, 175.30772943598353, 175.5313362337335, 175.7549430314835, 175.97854982923346, 176.20215662698345, 176.42576342473342, 176.64937022248338, 176.87297702023338, 177.09658381798334, 177.32019061573334, 177.5437974134833, 177.76740421123327, 177.9910110089833, 178.21461780673323, 178.43822460448325, 178.66183140223322, 178.88543819998318, 179.10904499773318, 179.33265179548314, 179.55625859323314, 179.7798653909831, 180.00347218873307, 180.22707898648306, 180.45068578423303, 180.67429258198305, 180.897899379733, 181.12150617748296, 181.34511297523295, 181.56871977298294, 181.7923265707329, 182.01593336848288, 182.23954016623287, 182.46314696398284, 182.68675376173283, 182.91036055948283, 183.1339673572328, 183.35757415498276, 183.58118095273275, 183.80478775048272, 184.0283945482327, 184.25200134598268, 184.47560814373264, 184.69921494148264, 184.92282173923263, 185.14642853698263, 185.37003533473256, 185.59364213248256, 185.81724893023255, 186.04085572798252, 186.2644625257325, 186.48806932348248, 186.71167612123244, 186.93528291898244, 187.1588897167324, 187.3824965144824, 187.60610331223236, 187.82971010998233, 188.05331690773232, 188.27692370548232, 188.5005305032323, 188.72413730098225, 188.94774409873222, 189.17135089648224, 189.39495769423218, 189.6185644919822, 189.84217128973216, 190.06577808748213, 190.28938488523212, 190.5129916829821, 190.73659848073208, 190.96020527848205, 191.18381207623202, 191.40741887398204, 191.63102567173198, 191.854632469482, 192.07823926723194, 192.3018460649819, 192.52545286273192, 192.7490596604819, 192.97266645823188, 193.19627325598185, 193.41988005373182, 193.64348685148178, 193.86709364923178, 194.09070044698177, 194.31430724473174, 194.5379140424817, 194.7615208402317, 194.98512763798166, 195.20873443573166, 195.43234123348162, 195.6559480312316, 195.87955482898158, 196.10316162673158, 196.32676842448157, 196.5503752222315, 196.7739820199815, 196.9975888177315, 197.22119561548146, 197.44480241323146, 197.66840921098142, 197.8920160087314, 198.11562280648138, 198.33922960423135, 198.56283640198134, 198.7864431997313, 199.01004999748127, 199.23365679523127, 199.45726359298126, 199.68087039073126, 199.9044771884812, 200.1280839862312, 200.35169078398118, 200.57529758173112, 200.79890437948114, 201.0225111772311, 201.24611797498108, 201.46972477273107, 201.69333157048104, 201.91693836823103, 202.140545165981, 202.36415196373096, 202.58775876148098, 202.81136555923092, 203.03497235698092, 203.25857915473088, 203.48218595248088, 203.70579275023084, 203.92939954798084, 204.15300634573083, 204.3766131434808, 204.60021994123076, 204.82382673898076, 205.04743353673072, 205.27104033448072, 205.49464713223068, 205.71825392998065, 205.94186072773064, 206.1654675254806, 206.38907432323063, 206.61268112098057, 206.83628791873053, 207.05989471648056, 207.28350151423052, 207.50710831198052, 207.73071510973048, 207.95432190748045, 208.17792870523044, 208.40153550298038, 208.6251423007304, 208.84874909848037, 209.07235589623033, 209.29596269398033, 209.5195694917303, 209.7431762894803, 209.96678308723025, 210.19038988498022, 210.41399668273021, 210.6376034804802, 210.8612102782302, 211.08481707598014, 211.30842387373013, 211.53203067148013, 211.75563746923007, 211.9792442669801, 212.20285106473005, 212.42645786248002, 212.65006466023002, 212.87367145797998, 213.09727825572998, 213.32088505347997, 213.5444918512299, 213.76809864897993, 213.99170544672987, 214.2153122444799, 214.43891904222983, 214.66252583997982, 214.8861326377298, 215.10973943547978, 215.33334623322978, 215.55695303097974, 215.7805598287297, 216.0041666264797, 216.22777342422967, 216.45138022197966, 216.67498701972963, 216.8985938174796, 217.12220061522962, 217.34580741297955, 217.56941421072958, 217.7930210084795, 218.0166278062295, 218.2402346039795, 218.46384140172947, 218.68744819947946, 218.91105499722943, 219.1346617949794, 219.3582685927294, 219.58187539047935, 219.80548218822935, 220.0290889859793, 220.25269578372928, 220.47630258147927, 220.69990937922924, 220.92351617697923, 221.1471229747292, 221.37072977247917, 221.59433657022916, 221.81794336797915, 222.04155016572915, 222.26515696347911, 222.48876376122908, 222.71237055897907, 222.93597735672904, 223.15958415447903, 223.383190952229, 223.60679774997897], 'norm_5': [0.223606797749979, 0.447213595499958, 0.670820393249937, 0.894427190999916, 1.118033988749895, 1.341640786499874, 1.565247584249853, 1.788854381999832, 2.012461179749811, 2.23606797749979, 2.459674775249769, 2.683281572999748, 2.906888370749727, 3.130495168499706, 3.3541019662496847, 3.577708763999664, 3.801315561749643, 4.024922359499622, 4.2485291572496005, 4.47213595499958, 4.695742752749559, 4.919349550499538, 5.142956348249516, 5.366563145999496, 5.5901699437494745, 5.813776741499454, 6.037383539249433, 6.260990336999412, 6.484597134749391, 6.708203932499369, 6.931810730249349, 7.155417527999328, 7.379024325749307, 7.602631123499286, 7.826237921249264, 8.049844718999244, 8.273451516749223, 8.497058314499201, 8.720665112249181, 8.94427190999916, 9.16787870774914, 9.391485505499118, 9.615092303249096, 9.838699100999076, 10.062305898749054, 10.285912696499032, 10.509519494249012, 10.733126291998992, 10.95673308974897, 11.180339887498949, 11.403946685248927, 11.627553482998907, 11.851160280748887, 12.074767078498866, 12.298373876248844, 12.521980673998824, 12.745587471748802, 12.969194269498782, 13.192801067248759, 13.416407864998739, 13.640014662748719, 13.863621460498697, 14.087228258248677, 14.310835055998655, 14.534441853748634, 14.758048651498614, 14.98165544924859, 15.205262246998572, 15.42886904474855, 15.652475842498529, 15.876082640248509, 16.09968943799849, 16.323296235748465, 16.546903033498445, 16.77050983124842, 16.994116628998402, 17.217723426748382, 17.441330224498362, 17.66493702224834, 17.88854381999832, 18.1121506177483, 18.33575741549828, 18.559364213248255, 18.782971010998235, 19.00657780874821, 19.23018460649819, 19.45379140424817, 19.67739820199815, 19.90100499974813, 20.12461179749811, 20.348218595248085, 20.571825392998065, 20.795432190748045, 21.019038988498025, 21.242645786248, 21.466252583997985, 21.68985938174796, 21.91346617949794, 22.137072977247918, 22.360679774997898, 22.58428657274788, 22.807893370497855, 23.031500168247835, 23.255106965997815, 23.47871376374779, 23.702320561497775, 23.925927359247755, 24.14953415699773, 24.373140954747708, 24.596747752497688, 24.820354550247668, 25.043961347997648, 25.267568145747624, 25.491174943497604, 25.71478174124758, 25.938388538997565, 26.16199533674754, 26.385602134497518, 26.609208932247498, 26.832815729997478, 27.056422527747458, 27.280029325497438, 27.503636123247414, 27.727242920997394, 27.95084971874737, 28.174456516497354, 28.39806331424733, 28.62167011199731, 28.845276909747287, 29.068883707497267, 29.292490505247248, 29.516097302997228, 29.739704100747204, 29.96331089849718, 30.18691769624716, 30.410524493997144, 30.63413129174712, 30.8577380894971, 31.081344887247077, 31.304951684997057, 31.528558482747037, 31.752165280497017, 31.975772078246994, 32.19937887599698, 32.42298567374695, 32.64659247149693, 32.87019926924691, 33.09380606699689, 33.31741286474687, 33.54101966249684, 33.764626460246824, 33.988233257996804, 34.211840055746784, 34.435446853496764, 34.659053651246744, 34.882660448996724, 35.106267246746704, 35.32987404449668, 35.55348084224666, 35.77708763999664, 36.00069443774662, 36.2243012354966, 36.44790803324657, 36.67151483099656, 36.89512162874653, 37.11872842649651, 37.34233522424648, 37.56594202199647, 37.78954881974645, 38.01315561749642, 38.2367624152464, 38.46036921299638, 38.68397601074636, 38.90758280849634, 39.131189606246316, 39.3547964039963, 39.578403201746276, 39.80200999949626, 40.02561679724624, 40.24922359499622, 40.4728303927462, 40.69643719049617, 40.92004398824616, 41.14365078599613, 41.36725758374611, 41.59086438149609, 41.81447117924607, 42.03807797699605, 42.26168477474603, 42.485291572496, 42.70889837024598, 42.93250516799597, 43.15611196574594, 43.37971876349592, 43.603325561245896, 43.82693235899588, 44.05053915674586, 44.274145954495836, 44.49775275224582, 44.721359549995796, 44.944966347745776, 45.16857314549576, 45.392179943245736, 45.61578674099571, 45.83939353874569, 46.06300033649567, 46.286607134245656, 46.51021393199563, 46.73382072974561, 46.95742752749558, 47.18103432524556, 47.40464112299555, 47.62824792074552, 47.85185471849551, 48.075461516245475, 48.29906831399546, 48.52267511174544, 48.746281909495416, 48.969888707245396, 49.193495504995376, 49.417102302745356, 49.640709100495336, 49.864315898245316, 50.087922695995296, 50.31152949374527, 50.53513629149525, 50.75874308924523, 50.98234988699521, 51.20595668474519, 51.42956348249516, 51.65317028024514, 51.87677707799513, 52.100383875745095, 52.32399067349508, 52.547597471245055, 52.771204268995035, 52.99481106674502, 53.218417864494995, 53.44202466224498, 53.665631459994955, 53.889238257744935, 54.112845055494915, 54.33645185324489, 54.560058650994876, 54.78366544874485, 55.00727224649483, 55.23087904424481, 55.45448584199479, 55.67809263974477, 55.90169943749474, 56.12530623524473, 56.34891303299471, 56.57251983074468, 56.79612662849466, 57.019733426244635, 57.24334022399462, 57.4669470217446, 57.690553819494575, 57.914160617244555, 58.137767414994535, 58.361374212744515, 58.584981010494495, 58.80858780824447, 59.032194605994455, 59.25580140374443, 59.47940820149441, 59.70301499924439, 59.92662179699436, 60.15022859474435, 60.37383539249432, 60.5974421902443, 60.82104898799429, 61.04465578574426, 61.26826258349424, 61.491869381244214, 61.7154761789942, 61.93908297674418, 62.162689774494154, 62.386296572244134, 62.609903369994115, 62.833510167744095, 63.057116965494075, 63.28072376324405, 63.504330560994035, 63.72793735874401, 63.95154415649399, 64.17515095424397, 64.39875775199395, 64.62236454974393, 64.8459713474939, 65.06957814524388, 65.29318494299386, 65.51679174074384, 65.74039853849382, 65.9640053362438, 66.18761213399378, 66.41121893174376, 66.63482572949374, 66.8584325272437, 67.08203932499369, 67.30564612274367, 67.52925292049365, 67.75285971824363, 67.97646651599361, 68.20007331374359, 68.42368011149357, 68.64728690924355, 68.87089370699353, 69.09450050474351, 69.31810730249349, 69.54171410024347, 69.76532089799345, 69.98892769574343, 70.21253449349341, 70.43614129124337, 70.65974808899335, 70.88335488674333, 71.10696168449331, 71.3305684822433, 71.55417527999327, 71.77778207774325, 72.00138887549323, 72.22499567324321, 72.4486024709932, 72.67220926874316, 72.89581606649314, 73.11942286424313, 73.34302966199311, 73.56663645974308, 73.79024325749306, 74.01385005524304, 74.23745685299302, 74.46106365074301, 74.68467044849297, 74.90827724624296, 75.13188404399294, 75.35549084174292, 75.5790976394929, 75.80270443724287, 76.02631123499285, 76.24991803274284, 76.4735248304928, 76.69713162824279, 76.92073842599277, 77.14434522374275, 77.36795202149273, 77.5915588192427, 77.81516561699269, 78.03877241474267, 78.26237921249263, 78.48598601024261, 78.7095928079926, 78.93319960574259, 79.15680640349255, 79.38041320124253, 79.60401999899253, 79.82762679674249, 80.05123359449249, 80.27484039224244, 80.49844718999243, 80.72205398774241, 80.9456607854924, 81.16926758324237, 81.39287438099234, 81.61648117874232, 81.84008797649231, 82.0636947742423, 82.28730157199226, 82.51090836974224, 82.73451516749222, 82.9581219652422, 83.18172876299218, 83.40533556074217, 83.62894235849214, 83.85254915624212, 84.0761559539921, 84.29976275174208, 84.52336954949206, 84.74697634724203, 84.970583144992, 85.194189942742, 85.41779674049197, 85.64140353824196, 85.86501033599194, 86.0886171337419, 86.31222393149189, 86.53583072924187, 86.75943752699185, 86.98304432474184, 87.20665112249179, 87.43025792024179, 87.65386471799177, 87.87747151574175, 88.10107831349173, 88.32468511124169, 88.54829190899167, 88.77189870674165, 88.99550550449165, 89.21911230224163, 89.44271909999159, 89.66632589774157, 89.88993269549155, 90.11353949324153, 90.33714629099153, 90.56075308874148, 90.78435988649147, 91.00796668424144, 91.23157348199142, 91.45518027974141, 91.67878707749138, 91.90239387524136, 92.12600067299134, 92.34960747074132, 92.57321426849131, 92.79682106624128, 93.02042786399126, 93.24403466174124, 93.46764145949122, 93.6912482572412, 93.91485505499116, 94.13846185274116, 94.36206865049112, 94.58567544824112, 94.8092822459911, 95.03288904374106, 95.25649584149104, 95.48010263924103, 95.70370943699102, 95.927316234741, 96.15092303249095, 96.37452983024095, 96.59813662799093, 96.82174342574089, 97.04535022349089, 97.26895702124085, 97.49256381899083, 97.71617061674081, 97.93977741449079, 98.16338421224079, 98.38699100999075, 98.61059780774073, 98.83420460549071, 99.05781140324069, 99.28141820099067, 99.50502499874064, 99.72863179649063, 99.9522385942406, 100.17584539199059, 100.39945218974057, 100.62305898749054, 100.84666578524052, 101.0702725829905, 101.29387938074049, 101.51748617849046, 101.74109297624044, 101.96469977399042, 102.1883065717404, 102.41191336949038, 102.63552016724036, 102.85912696499032, 103.0827337627403, 103.30634056049028, 103.52994735824028, 103.75355415599026, 103.97716095374022, 104.20076775149019, 104.42437454924018, 104.64798134699016, 104.87158814474014, 105.09519494249011, 105.3188017402401, 105.54240853799007, 105.76601533574006, 105.98962213349004, 106.21322893124001, 106.43683572898999, 106.66044252673998, 106.88404932448996, 107.10765612223994, 107.33126291998991, 107.55486971773989, 107.77847651548987, 108.00208331323985, 108.22569011098983, 108.4492969087398, 108.67290370648978, 108.89651050423976, 109.12011730198975, 109.34372409973973, 109.5673308974897, 109.79093769523968, 110.01454449298966, 110.23815129073964, 110.46175808848962, 110.68536488623958, 110.90897168398958, 111.13257848173956, 111.35618527948954, 111.57979207723952, 111.80339887498948, 112.02700567273946, 112.25061247048946, 112.47421926823944, 112.69782606598942, 112.92143286373938, 113.14503966148936, 113.36864645923934, 113.59225325698932, 113.8158600547393, 114.03946685248927, 114.26307365023925, 114.48668044798924, 114.71028724573922, 114.9338940434892, 115.15750084123917, 115.38110763898915, 115.60471443673913, 115.82832123448911, 116.0519280322391, 116.27553482998907, 116.49914162773905, 116.72274842548903, 116.94635522323901, 117.16996202098899, 117.39356881873896, 117.61717561648894, 117.84078241423893, 118.06438921198891, 118.28799600973889, 118.51160280748886, 118.73520960523884, 118.95881640298882, 119.1824232007388, 119.40602999848878, 119.62963679623874, 119.85324359398872, 120.07685039173872, 120.3004571894887, 120.52406398723868, 120.74767078498864, 120.97127758273862, 121.1948843804886, 121.41849117823858, 121.64209797598858, 121.86570477373854, 122.08931157148852, 122.3129183692385, 122.53652516698848, 122.76013196473846, 122.98373876248843, 123.20734556023842, 123.4309523579884, 123.65455915573838, 123.87816595348836, 124.10177275123833, 124.32537954898831, 124.54898634673829, 124.77259314448827, 124.99619994223826, 125.21980673998823, 125.4434135377382, 125.66702033548819, 125.89062713323817, 126.11423393098815, 126.33784072873812, 126.5614475264881, 126.78505432423808, 127.00866112198807, 127.23226791973805, 127.45587471748802, 127.679481515238, 127.90308831298798, 128.12669511073796, 128.35030190848795, 128.57390870623792, 128.7975155039879, 129.02112230173788, 129.24472909948787, 129.46833589723784, 129.6919426949878, 129.91554949273777, 130.13915629048776, 130.36276308823776, 130.58636988598772, 130.8099766837377, 131.03358348148768, 131.25719027923768, 131.48079707698764, 131.70440387473764, 131.9280106724876, 132.15161747023757, 132.37522426798756, 132.59883106573756, 132.82243786348752, 133.0460446612375, 133.26965145898748, 133.49325825673745, 133.7168650544874, 133.9404718522374, 134.16407864998737, 134.38768544773737, 134.61129224548733, 134.83489904323733, 135.0585058409873, 135.2821126387373, 135.50571943648725, 135.72932623423725, 135.95293303198721, 136.1765398297372, 136.40014662748717, 136.62375342523714, 136.84736022298713, 137.07096702073713, 137.2945738184871, 137.51818061623706, 137.74178741398705, 137.96539421173702, 138.18900100948701, 138.41260780723698, 138.63621460498698, 138.85982140273694, 139.08342820048694, 139.3070349982369, 139.5306417959869, 139.75424859373686, 139.97785539148686, 140.20146218923682, 140.42506898698682, 140.64867578473678, 140.87228258248675, 141.09588938023674, 141.3194961779867, 141.5431029757367, 141.76670977348667, 141.99031657123663, 142.21392336898663, 142.43753016673662, 142.6611369644866, 142.88474376223658, 143.10835055998655, 143.33195735773654, 143.5555641554865, 143.77917095323647, 144.00277775098647, 144.22638454873643, 144.44999134648643, 144.6735981442364, 144.8972049419864, 145.12081173973638, 145.34441853748632, 145.56802533523634, 145.79163213298628, 146.01523893073625, 146.23884572848627, 146.46245252623623, 146.68605932398623, 146.9096661217362, 147.13327291948616, 147.35687971723615, 147.58048651498612, 147.80409331273611, 148.02770011048608, 148.25130690823605, 148.47491370598604, 148.698520503736, 148.92212730148603, 149.14573409923597, 149.36934089698593, 149.59294769473593, 149.81655449248592, 150.0401612902359, 150.26376808798588, 150.48737488573585, 150.71098168348584, 150.9345884812358, 151.1581952789858, 151.38180207673577, 151.60540887448573, 151.82901567223573, 152.0526224699857, 152.2762292677357, 152.49983606548568, 152.72344286323562, 152.9470496609856, 153.1706564587356, 153.39426325648557, 153.61787005423557, 153.84147685198553, 154.06508364973553, 154.2886904474855, 154.5122972452355, 154.73590404298545, 154.95951084073542, 155.1831176384854, 155.40672443623538, 155.63033123398537, 155.85393803173534, 156.07754482948533, 156.30115162723533, 156.52475842498527, 156.7483652227353, 156.97197202048523, 157.19557881823522, 157.4191856159852, 157.64279241373518, 157.86639921148517, 158.09000600923514, 158.3136128069851, 158.5372196047351, 158.76082640248507, 158.98443320023506, 159.20803999798505, 159.431646795735, 159.65525359348499, 159.87886039123495, 160.10246718898497, 160.3260739867349, 160.54968078448488, 160.7732875822349, 160.99689437998487, 161.22050117773486, 161.44410797548483, 161.6677147732348, 161.8913215709848, 162.11492836873475, 162.33853516648475, 162.5621419642347, 162.78574876198468, 163.00935555973467, 163.23296235748464, 163.45656915523466, 163.68017595298463, 163.90378275073456, 164.1273895484846, 164.35099634623455, 164.57460314398452, 164.7982099417345, 165.02181673948448, 165.24542353723447, 165.46903033498444, 165.69263713273443, 165.9162439304844, 166.13985072823436, 166.36345752598436, 166.58706432373432, 166.81067112148435, 167.03427791923428, 167.25788471698428, 167.48149151473427, 167.70509831248424, 167.92870511023423, 168.1523119079842, 168.37591870573416, 168.59952550348416, 168.82313230123412, 169.04673909898412, 169.27034589673409, 169.49395269448405, 169.71755949223405, 169.941166289984, 170.164773087734, 170.388379885484, 170.61198668323394, 170.83559348098393, 171.05920027873393, 171.28280707648392, 171.50641387423389, 171.73002067198388, 171.95362746973385, 172.1772342674838, 172.4008410652338, 172.62444786298377, 172.84805466073377, 173.07166145848373, 173.2952682562337, 173.5188750539837, 173.7424818517337, 173.96608864948368, 174.18969544723362, 174.41330224498358, 174.6369090427336, 174.86051584048357, 175.08412263823357, 175.30772943598353, 175.5313362337335, 175.7549430314835, 175.97854982923346, 176.20215662698345, 176.42576342473342, 176.64937022248338, 176.87297702023338, 177.09658381798334, 177.32019061573334, 177.5437974134833, 177.76740421123327, 177.9910110089833, 178.21461780673323, 178.43822460448325, 178.66183140223322, 178.88543819998318, 179.10904499773318, 179.33265179548314, 179.55625859323314, 179.7798653909831, 180.00347218873307, 180.22707898648306, 180.45068578423303, 180.67429258198305, 180.897899379733, 181.12150617748296, 181.34511297523295, 181.56871977298294, 181.7923265707329, 182.01593336848288, 182.23954016623287, 182.46314696398284, 182.68675376173283, 182.91036055948283, 183.1339673572328, 183.35757415498276, 183.58118095273275, 183.80478775048272, 184.0283945482327, 184.25200134598268, 184.47560814373264, 184.69921494148264, 184.92282173923263, 185.14642853698263, 185.37003533473256, 185.59364213248256, 185.81724893023255, 186.04085572798252, 186.2644625257325, 186.48806932348248, 186.71167612123244, 186.93528291898244, 187.1588897167324, 187.3824965144824, 187.60610331223236, 187.82971010998233, 188.05331690773232, 188.27692370548232, 188.5005305032323, 188.72413730098225, 188.94774409873222, 189.17135089648224, 189.39495769423218, 189.6185644919822, 189.84217128973216, 190.06577808748213, 190.28938488523212, 190.5129916829821, 190.73659848073208, 190.96020527848205, 191.18381207623202, 191.40741887398204, 191.63102567173198, 191.854632469482, 192.07823926723194, 192.3018460649819, 192.52545286273192, 192.7490596604819, 192.97266645823188, 193.19627325598185, 193.41988005373182, 193.64348685148178, 193.86709364923178, 194.09070044698177, 194.31430724473174, 194.5379140424817, 194.7615208402317, 194.98512763798166, 195.20873443573166, 195.43234123348162, 195.6559480312316, 195.87955482898158, 196.10316162673158, 196.32676842448157, 196.5503752222315, 196.7739820199815, 196.9975888177315, 197.22119561548146, 197.44480241323146, 197.66840921098142, 197.8920160087314, 198.11562280648138, 198.33922960423135, 198.56283640198134, 198.7864431997313, 199.01004999748127, 199.23365679523127, 199.45726359298126, 199.68087039073126, 199.9044771884812, 200.1280839862312, 200.35169078398118, 200.57529758173112, 200.79890437948114, 201.0225111772311, 201.24611797498108, 201.46972477273107, 201.69333157048104, 201.91693836823103, 202.140545165981, 202.36415196373096, 202.58775876148098, 202.81136555923092, 203.03497235698092, 203.25857915473088, 203.48218595248088, 203.70579275023084, 203.92939954798084, 204.15300634573083, 204.3766131434808, 204.60021994123076, 204.82382673898076, 205.04743353673072, 205.27104033448072, 205.49464713223068, 205.71825392998065, 205.94186072773064, 206.1654675254806, 206.38907432323063, 206.61268112098057, 206.83628791873053, 207.05989471648056, 207.28350151423052, 207.50710831198052, 207.73071510973048, 207.95432190748045, 208.17792870523044, 208.40153550298038, 208.6251423007304, 208.84874909848037, 209.07235589623033, 209.29596269398033, 209.5195694917303, 209.7431762894803, 209.96678308723025, 210.19038988498022, 210.41399668273021, 210.6376034804802, 210.8612102782302, 211.08481707598014, 211.30842387373013, 211.53203067148013, 211.75563746923007, 211.9792442669801, 212.20285106473005, 212.42645786248002, 212.65006466023002, 212.87367145797998, 213.09727825572998, 213.32088505347997, 213.5444918512299, 213.76809864897993, 213.99170544672987, 214.2153122444799, 214.43891904222983, 214.66252583997982, 214.8861326377298, 215.10973943547978, 215.33334623322978, 215.55695303097974, 215.7805598287297, 216.0041666264797, 216.22777342422967, 216.45138022197966, 216.67498701972963, 216.8985938174796, 217.12220061522962, 217.34580741297955, 217.56941421072958, 217.7930210084795, 218.0166278062295, 218.2402346039795, 218.46384140172947, 218.68744819947946, 218.91105499722943, 219.1346617949794, 219.3582685927294, 219.58187539047935, 219.80548218822935, 220.0290889859793, 220.25269578372928, 220.47630258147927, 220.69990937922924, 220.92351617697923, 221.1471229747292, 221.37072977247917, 221.59433657022916, 221.81794336797915, 222.04155016572915, 222.26515696347911, 222.48876376122908, 222.71237055897907, 222.93597735672904, 223.15958415447903, 223.383190952229, 223.60679774997897]}\n"
          ],
          "name": "stdout"
        },
        {
          "output_type": "display_data",
          "data": {
            "image/png": "[encoded data removed]",
            "text/plain": [
              "<Figure size 432x288 with 1 Axes>"
            ]
          },
          "metadata": {
            "tags": []
          }
        },
        {
          "output_type": "display_data",
          "data": {
            "image/png": "[encoded data removed]",
            "text/plain": [
              "<Figure size 432x288 with 1 Axes>"
            ]
          },
          "metadata": {
            "tags": []
          }
        },
        {
          "output_type": "display_data",
          "data": {
            "image/png": "[encoded data removed]",
            "text/plain": [
              "<Figure size 432x288 with 1 Axes>"
            ]
          },
          "metadata": {
            "tags": []
          }
        },
        {
          "output_type": "display_data",
          "data": {
            "image/png": "[encoded data removed]",
            "text/plain": [
              "<Figure size 432x288 with 1 Axes>"
            ]
          },
          "metadata": {
            "tags": []
          }
        },
        {
          "output_type": "display_data",
          "data": {
            "image/png": "[encoded data removed]",
            "text/plain": [
              "<Figure size 432x288 with 1 Axes>"
            ]
          },
          "metadata": {
            "tags": []
          }
        }
      ]
    },
    {
      "cell_type": "markdown",
      "metadata": {
        "id": "2HOpgMQ897f2",
        "colab_type": "text"
      },
      "source": [
        "### Graph 3. Runtime of retrieving sensitive samples as the number of neurons in the network grow\n"
      ]
    },
    {
      "cell_type": "code",
      "metadata": {
        "id": "W5VzgyOF-GUU",
        "colab_type": "code",
        "colab": {}
      },
      "source": [
        "#Scalability\n",
        "#Measure runtime as we grow the neurons"
      ],
      "execution_count": 0,
      "outputs": []
    },
    {
      "cell_type": "code",
      "metadata": {
        "id": "TGFZqr5So7VF",
        "colab_type": "code",
        "colab": {}
      },
      "source": [
        "#Simulate models with different number of neurons in the network\n",
        "numfeats = [5, 10, 20, 30, 40, 45, 50, 100]\n",
        "nobs = 10000 #no. of observations\n",
        "data = dict()\n",
        "np.random.seed(1234)\n",
        "# models = dict()\n",
        "# for feats in numfeats:\n",
        "#   print(\"Number of featurs per layer:\", feats)\n",
        "#   print(\"Total no. of parameters in network:\", 2*feats**2 + 3*feats + 1)\n",
        "#   models['model_'+str(feats)] = tf.keras.models.Sequential([tf.keras.layers.Dense(feats, input_shape = (feats, ), activation = tf.nn.relu),\n",
        "#                                       tf.keras.layers.Dense(feats, activation = tf.nn.relu),\n",
        "#                                       tf.keras.layers.Dense(1, activation = tf.nn.sigmoid)])\n",
        "#   models['model_'+str(feats)].compile(optimizer='rmsprop', loss='binary_crossentropy', metrics=['accuracy'])\n",
        "                \n",
        "  #Generate dummy data\n",
        "  #Here we simulate pixel inputs between [0, 255]\n",
        "for feats in numfeats:\n",
        "  data['feats_' + str(feats)] = np.random.randint(0, 255, (nobs, feats))/255 #we rescale the inputs between [0, 1]\n",
        "  labels = np.random.randint(2, size=(nobs, 1))\n",
        "\n",
        "  #Train the model, iterating on the data in batches of 32 samples\n",
        "  # models['model_'+str(feats)].fit(data['feats_' + str(feats)], labels, epochs=10, batch_size=1000)\n",
        "  # models['model_'+str(feats)].save(\"/content/gdrive/My Drive/simulated_mlp_feats\" + str(feats) + \".h5\")"
      ],
      "execution_count": 0,
      "outputs": []
    },
    {
      "cell_type": "code",
      "metadata": {
        "id": "8WZpCK5n3ofL",
        "colab_type": "code",
        "outputId": "cc7a8d1c-870e-496b-eb0a-75a6a8ac69aa",
        "colab": {
          "base_uri": "https://localhost:8080/",
          "height": 1000
        }
      },
      "source": [
        "data"
      ],
      "execution_count": 0,
      "outputs": [
        {
          "output_type": "execute_result",
          "data": {
            "text/plain": [
              "{'feats_10': array([[0.87843137, 0.6       , 0.59607843, ..., 0.17254902, 0.9372549 ,\n",
              "         0.51764706],\n",
              "        [0.42352941, 0.88235294, 0.52156863, ..., 0.55294118, 0.16862745,\n",
              "         0.31372549],\n",
              "        [0.40784314, 0.16862745, 0.58039216, ..., 0.10980392, 0.76862745,\n",
              "         0.1254902 ],\n",
              "        ...,\n",
              "        [0.79215686, 0.54509804, 0.82745098, ..., 0.70980392, 0.39607843,\n",
              "         0.49411765],\n",
              "        [0.76470588, 0.90980392, 0.76078431, ..., 0.76470588, 0.08235294,\n",
              "         0.05098039],\n",
              "        [0.73333333, 0.23921569, 0.36078431, ..., 0.07058824, 0.03529412,\n",
              "         0.10980392]]),\n",
              " 'feats_100': array([[0.43921569, 0.36078431, 0.5254902 , ..., 0.6627451 , 0.98431373,\n",
              "         0.49803922],\n",
              "        [0.6       , 0.28627451, 0.94117647, ..., 0.14117647, 0.34117647,\n",
              "         0.72156863],\n",
              "        [0.76078431, 0.14117647, 0.37647059, ..., 0.94901961, 0.80784314,\n",
              "         0.81960784],\n",
              "        ...,\n",
              "        [0.47843137, 0.31372549, 0.40392157, ..., 0.41568627, 0.7254902 ,\n",
              "         0.76078431],\n",
              "        [0.89411765, 0.07058824, 0.68235294, ..., 0.32941176, 0.78823529,\n",
              "         0.47843137],\n",
              "        [0.        , 0.7372549 , 0.74901961, ..., 0.61176471, 0.04313725,\n",
              "         0.12941176]]),\n",
              " 'feats_20': array([[0.56078431, 0.01960784, 0.42745098, ..., 0.83529412, 0.93333333,\n",
              "         0.45882353],\n",
              "        [0.94117647, 0.69803922, 0.03529412, ..., 0.76862745, 0.78039216,\n",
              "         0.38431373],\n",
              "        [0.30588235, 0.88235294, 0.52156863, ..., 0.44705882, 0.8627451 ,\n",
              "         0.23529412],\n",
              "        ...,\n",
              "        [0.3372549 , 0.53333333, 0.09411765, ..., 0.89803922, 0.62352941,\n",
              "         0.78823529],\n",
              "        [0.53333333, 0.08627451, 0.90196078, ..., 0.09411765, 0.27843137,\n",
              "         0.56078431],\n",
              "        [0.49411765, 0.43529412, 0.43137255, ..., 0.95686275, 0.6627451 ,\n",
              "         0.22352941]]),\n",
              " 'feats_30': array([[0.48627451, 0.38431373, 0.82352941, ..., 0.89411765, 0.17647059,\n",
              "         0.90980392],\n",
              "        [0.72156863, 0.11372549, 0.69803922, ..., 0.80392157, 0.99607843,\n",
              "         0.96862745],\n",
              "        [0.3254902 , 0.81568627, 0.25098039, ..., 0.88235294, 0.29803922,\n",
              "         0.32941176],\n",
              "        ...,\n",
              "        [0.54117647, 0.58039216, 0.91764706, ..., 0.14901961, 0.29019608,\n",
              "         0.56470588],\n",
              "        [0.56470588, 0.98823529, 0.36078431, ..., 0.60784314, 0.2627451 ,\n",
              "         0.63921569],\n",
              "        [0.57254902, 0.16078431, 0.58431373, ..., 0.63921569, 0.09803922,\n",
              "         0.01960784]]),\n",
              " 'feats_40': array([[0.15294118, 0.69803922, 0.25882353, ..., 0.20784314, 0.57254902,\n",
              "         0.57647059],\n",
              "        [0.29803922, 0.63921569, 0.69411765, ..., 0.72156863, 0.37254902,\n",
              "         0.23137255],\n",
              "        [0.25098039, 0.03137255, 0.48235294, ..., 0.49019608, 0.78431373,\n",
              "         0.63921569],\n",
              "        ...,\n",
              "        [0.28235294, 0.42745098, 0.78431373, ..., 0.80784314, 0.91764706,\n",
              "         0.11764706],\n",
              "        [0.11372549, 0.13333333, 0.57254902, ..., 0.43921569, 0.87843137,\n",
              "         0.8745098 ],\n",
              "        [0.76862745, 0.10980392, 0.22745098, ..., 0.89803922, 0.17647059,\n",
              "         0.57254902]]),\n",
              " 'feats_45': array([[0.31764706, 0.83137255, 0.38039216, ..., 0.33333333, 0.60392157,\n",
              "         0.35294118],\n",
              "        [0.26666667, 0.61176471, 0.96470588, ..., 0.73333333, 0.23137255,\n",
              "         0.70196078],\n",
              "        [0.84705882, 0.28627451, 0.07843137, ..., 0.47843137, 0.45098039,\n",
              "         0.51764706],\n",
              "        ...,\n",
              "        [0.79607843, 0.19607843, 0.96078431, ..., 0.88627451, 0.55294118,\n",
              "         0.40392157],\n",
              "        [0.2       , 0.56470588, 0.25490196, ..., 0.33333333, 0.95294118,\n",
              "         0.34117647],\n",
              "        [0.05490196, 0.97647059, 0.08627451, ..., 0.84313725, 0.22745098,\n",
              "         0.9372549 ]]),\n",
              " 'feats_5': array([[0.18431373, 0.82745098, 0.14901961, 0.20784314, 0.8       ],\n",
              "        [0.45490196, 0.59607843, 0.97647059, 0.56078431, 0.69411765],\n",
              "        [0.09019608, 0.91372549, 0.60392157, 0.11764706, 0.67058824],\n",
              "        ...,\n",
              "        [0.00392157, 0.25490196, 0.66666667, 0.48627451, 0.19607843],\n",
              "        [0.70588235, 0.78431373, 0.05882353, 0.25490196, 0.83921569],\n",
              "        [0.79215686, 0.37647059, 0.05882353, 0.47843137, 0.0627451 ]]),\n",
              " 'feats_50': array([[0.13333333, 0.50980392, 0.        , ..., 0.5372549 , 0.04705882,\n",
              "         0.82352941],\n",
              "        [0.81960784, 0.54901961, 0.37254902, ..., 0.10588235, 0.65882353,\n",
              "         0.48627451],\n",
              "        [0.2       , 0.30196078, 0.76470588, ..., 0.61960784, 0.34117647,\n",
              "         0.5372549 ],\n",
              "        ...,\n",
              "        [0.33333333, 0.52156863, 0.47058824, ..., 0.65098039, 0.05490196,\n",
              "         0.4       ],\n",
              "        [0.42352941, 0.60784314, 0.48627451, ..., 0.21568627, 0.80784314,\n",
              "         0.62745098],\n",
              "        [0.54117647, 0.10196078, 0.52156863, ..., 0.80784314, 0.38823529,\n",
              "         0.19607843]])}"
            ]
          },
          "metadata": {
            "tags": []
          },
          "execution_count": 44
        }
      ]
    },
    {
      "cell_type": "markdown",
      "metadata": {
        "id": "MF__AAR2zKCX",
        "colab_type": "text"
      },
      "source": [
        "## Alternative 2. Target value for a decision boundary and set a sensitivity threshold"
      ]
    },
    {
      "cell_type": "code",
      "metadata": {
        "id": "rTggi5YP1ZWH",
        "colab_type": "code",
        "colab": {}
      },
      "source": [
        "#Set up solver here\n",
        "def MLPSolverBuilder2(W, B, bandwidth, delta_range, check = False):\n",
        "  \"\"\"\n",
        "  This function builds a solver for an MLP type of DNN. And the activation function in the hidden layers is ReLU. \n",
        "  The final neuron that is computed is the linear forward in the output layer.\n",
        "  Inputs: \n",
        "    W, B - trained weight matrix and bias matrix,\n",
        "    bandwidth - bandwidth of output value from the decision boundary\n",
        "    delta_range - a tuple, which is the range of deltas applied in the target layer; here, the output layer\n",
        "\n",
        "  Return: Solver for an MLP\n",
        "  \"\"\"\n",
        "       \n",
        "  #Activation fcn: ReLU in Z3\n",
        "  def ReLU_z3(x):\n",
        "      \"\"\"\n",
        "      This function defines ReLU in Z3.\n",
        "      \"\"\"\n",
        "      return If(x<=0, 0, x)\n",
        "\n",
        "  #Step 1: Instantiate Z3 variables as double-precision floating pt numbers\n",
        "  variables = dict()\n",
        "\n",
        "  #Linear forward variables\n",
        "  for layer in range(len(W)):\n",
        "      variables['z' + str(layer+1)] = list()\n",
        "      for neuron in range(W['W'+str(layer+1)].shape[0]):\n",
        "          variables['z' + str(layer+1)].append(Real('z' + str(layer+1) + \"_\" + str(neuron+1)))\n",
        "\n",
        "  #Activation variables\n",
        "  for layer in range(len(W)):\n",
        "      variables['a' + str(layer)] = list()\n",
        "      for neuron in range(W['W'+str(layer+1)].shape[0]):\n",
        "          variables['a' + str(layer)].append(Real('a' + str(layer) + \"_\" + str(neuron+1)))\n",
        "\n",
        "  #Dot product between the paramters and the z3 variables to spell out the formulas\n",
        "  formulas = dict()\n",
        "  for layer in range(len(W)):\n",
        "      weights = np.vstack((W['W'+str(layer+1)], B['B'+str(layer+1)]))\n",
        "      var = variables['a'+str(layer)].copy()\n",
        "      var.append(1)\n",
        "      formulas['z'+str(layer+1)] = np.dot(weights.T, var)\n",
        "\n",
        "  #Step 2. Set up the solver\n",
        "  S = Solver()\n",
        "\n",
        "  #Linear formulas\n",
        "  for layer in range(len(W)):\n",
        "      for neuron in range(len(formulas['z'+str(layer+1)])):\n",
        "          S.add(variables['z' + str(layer+1)][neuron] == formulas['z'+str(layer+1)][neuron])\n",
        "          \n",
        "  #Activation formulas\n",
        "  if len(W)>1:\n",
        "      for layer in range(1, len(W)):\n",
        "          for neuron in range(len(variables['a'+str(layer)])):\n",
        "              S.add(variables['a'+str(layer)][neuron] == ReLU_z3(variables['z'+str(layer)][neuron]))\n",
        "\n",
        "  #Instantiate delta variables in the output layer\n",
        "  deltas = list()\n",
        "  for neuron in range(len(variables['a'+str(len(W)-1)])):\n",
        "      deltas.append(Real('d'+str(neuron)))\n",
        "  \n",
        "  # print(\"Debug dimensions\")\n",
        "  # print(\"Length of deltas:\", len(deltas))\n",
        "  # print(\"Shape of W:\", [W[k].shape for k in W.keys()])\n",
        "  # print(\"Shape of B:\", [B[k].shape for k in B.keys()])\n",
        "  # print(\"Shape of Z:\", [Z[k].shape for k in Z.keys()])\n",
        "  # print(\"Shape of A:\", [A[k].shape for k in A.keys()])\n",
        "\n",
        "  #Additional conditions/formula(s)\n",
        "  # S.add(And(variables['z'+str(len(W))][0] >= m.log((0.50-bandwidth)/(0.50+bandwidth)), variables['z'+str(len(W))][0] < 0))\n",
        "  # S.add(And(variables['z'+str(len(W))][0] + np.dot(variables['a'+str(len(W)-1)], deltas) > 0,\n",
        "  #         variables['z'+str(len(W))][0] + np.dot(variables['a'+str(len(W)-1)], deltas) <= m.log((0.50+bandwidth)/(0.50-bandwidth))))\n",
        "\n",
        "  S.add(variables['z'+str(len(W))][0] <= m.log((0.50-bandwidth)/(0.50+bandwidth)))\n",
        "  S.add(m.log((0.50+bandwidth)/(0.50-bandwidth)) <= variables['z'+str(len(W))][0] + np.dot(variables['a'+str(len(W)-1)], deltas))\n",
        "\n",
        "\n",
        "  #Range of each delta\n",
        "  dmin = delta_range[0] #min delta\n",
        "  dmax = delta_range[1] #max delta\n",
        "  for delta in deltas:\n",
        "      S.add(And(delta>=dmin, delta<=dmax))\n",
        "  S.add(np.sum(np.array(deltas)**2)!=0) #the deltas should not all be equal to zero\n",
        "  \n",
        "  #Check model\n",
        "  runtime = CheckModel(S, check)\n",
        "  if check is True:\n",
        "    S\n",
        "  #Store the solutions if satisfiable\n",
        "  sens_sample = SensitiveSample(S, variables['a0'])\n",
        "  solved_deltas = SensitiveSample(S, deltas)\n",
        "  print(\"Solved sample:\", sens_sample)\n",
        "  print(\"Solved deltas:\", solved_deltas)\n",
        "  \n",
        "  output = dict()\n",
        "  output['model'] = S\n",
        "  output['sens_sample'] = sens_sample\n",
        "  output['runtime'] = runtime\n",
        "  output['deltas'] = solved_deltas\n",
        "  return output"
      ],
      "execution_count": 0,
      "outputs": []
    },
    {
      "cell_type": "code",
      "metadata": {
        "id": "KJz7-_QtzeYh",
        "colab_type": "code",
        "colab": {}
      },
      "source": [
        "def printOutputStats2(sens_sample, W, B, deltas):\n",
        "  \"\"\"\n",
        "  This function prints output stats for Alternative 3.\n",
        "  Inputs:\n",
        "    sample - the given sample\n",
        "    W - weight matrix\n",
        "    deltas - the solved deltas applied to the target weights in W\n",
        "  \"\"\"\n",
        "  tweaked_W = W.copy()\n",
        "  tweaked_W['W3'] = tweaked_W['W3'] + deltas.T\n",
        "  print(\"Sensitive sample:\", sens_sample)\n",
        "  print(\"Norm of sample:\", np.linalg.norm(sens_sample))\n",
        "  print(\"Solved deltas:\", deltas)\n",
        "  print(\"Original prediction:\", ForwardProp(sens_sample, W, B)['yhat'][0][0])\n",
        "  print(\"Tweaked prediction:\", ForwardProp(sens_sample, tweaked_W, B)['yhat'][0][0])\n",
        "  print(\"Sensitivity:\", np.abs(ForwardProp(sens_sample, W, B)['yhat'] - ForwardProp(sens_sample, tweaked_W, B)['yhat'])[0][0])"
      ],
      "execution_count": 0,
      "outputs": []
    },
    {
      "cell_type": "code",
      "metadata": {
        "id": "QeYmkUzq9Axt",
        "colab_type": "code",
        "outputId": "037d40e3-1391-4141-9662-2df30a0c0138",
        "colab": {
          "base_uri": "https://localhost:8080/",
          "height": 34
        }
      },
      "source": [
        "model = tf.keras.models.load_model(\"/content/gdrive/My Drive/simulated_mlp_feats5.h5\")\n",
        "params = StoreParams(model.get_weights())\n",
        "W = params['W']\n",
        "B = params['B']"
      ],
      "execution_count": 0,
      "outputs": [
        {
          "output_type": "stream",
          "text": [
            "WARNING:tensorflow:Error in loading the saved optimizer state. As a result, your model is starting with a freshly initialized optimizer.\n"
          ],
          "name": "stdout"
        }
      ]
    },
    {
      "cell_type": "code",
      "metadata": {
        "id": "l9idRf7dr-hG",
        "colab_type": "code",
        "outputId": "008049e5-4c01-4119-ac50-d273c6717226",
        "colab": {
          "base_uri": "https://localhost:8080/",
          "height": 649
        }
      },
      "source": [
        "#Experiment 1\n",
        "S2 = MLPSolverBuilder2(W, B, bandwidth= 0.001, delta_range = (0, 10), check = True)"
      ],
      "execution_count": 0,
      "outputs": [
        {
          "output_type": "stream",
          "text": [
            "sat\n",
            "[d0 = 1,\n",
            " d1 = 1,\n",
            " d2 = 1,\n",
            " d3 = 1,\n",
            " d4 = 1,\n",
            " a0_1 = 86198834770133223060418056056072386940415583867800528920449909973462401375047452751827/19811348458998681566241523080082531903445683197319807181963361801090265114418956612700,\n",
            " a0_2 = 1007871313271797292651526385642900743211095205557644293843830933689588598117049504517/396226969179973631324830461601650638068913663946396143639267236021805302288379132254,\n",
            " a0_3 = 119585291984786615934655264289924134726417719036084794318048889768857314976572457623669/69339719606495385481845330780288861662059891190619325136871766303815927900466348144450,\n",
            " a0_4 = 68774127199601094209383370083051035907911235278920486697459138079397370821688476929657/13867943921299077096369066156057772332411978238123865027374353260763185580093269628890,\n",
            " a0_5 = 49025501215366886176536668194913872848337437079082523100923795794246605999781368574218/6933971960649538548184533078028886166205989119061932513687176630381592790046634814445,\n",
            " z3_1 = -43992063449904256413555715698749/4000000000000000000000000000000000,\n",
            " a2_5 = 0,\n",
            " a2_4 = 0,\n",
            " a2_3 = 0,\n",
            " a2_2 = 12558525800704953/800000000000000000,\n",
            " a2_1 = 0,\n",
            " z2_5 = -4334590882062913/160000000000000000,\n",
            " z2_4 = -1645559094287455109/800000000000000000,\n",
            " z2_3 = -531888626702129837/800000000000000000,\n",
            " z2_2 = 12558525800704953/800000000000000000,\n",
            " z2_1 = -1254705584049224877/800000000000000000,\n",
            " a1_5 = 31/16,\n",
            " a1_4 = 1,\n",
            " a1_3 = 1/8,\n",
            " a1_2 = 1/4,\n",
            " a1_1 = 1/8,\n",
            " z1_5 = 31/16,\n",
            " z1_4 = 1,\n",
            " z1_3 = 1/8,\n",
            " z1_2 = 1/4,\n",
            " z1_1 = 1/8]\n",
            "\n",
            "Computation time = 1280.9137259999995ms\n",
            "Solved sample: [86198834770133223060418056056072386940415583867800528920449909973462401375047452751827/19811348458998681566241523080082531903445683197319807181963361801090265114418956612700, 1007871313271797292651526385642900743211095205557644293843830933689588598117049504517/396226969179973631324830461601650638068913663946396143639267236021805302288379132254, 119585291984786615934655264289924134726417719036084794318048889768857314976572457623669/69339719606495385481845330780288861662059891190619325136871766303815927900466348144450, 68774127199601094209383370083051035907911235278920486697459138079397370821688476929657/13867943921299077096369066156057772332411978238123865027374353260763185580093269628890, 49025501215366886176536668194913872848337437079082523100923795794246605999781368574218/6933971960649538548184533078028886166205989119061932513687176630381592790046634814445]\n",
            "Solved deltas: [1, 1, 1, 1, 1]\n"
          ],
          "name": "stdout"
        }
      ]
    },
    {
      "cell_type": "code",
      "metadata": {
        "id": "jVM_EaWRZpCn",
        "colab_type": "code",
        "outputId": "30fdc86e-070c-4cf7-95ad-672bde746c2a",
        "colab": {
          "base_uri": "https://localhost:8080/",
          "height": 51
        }
      },
      "source": [
        "sensitive_sample2 = np.array([[86198834770133223060418056056072386940415583867800528920449909973462401375047452751827/19811348458998681566241523080082531903445683197319807181963361801090265114418956612700, 1007871313271797292651526385642900743211095205557644293843830933689588598117049504517/396226969179973631324830461601650638068913663946396143639267236021805302288379132254, 119585291984786615934655264289924134726417719036084794318048889768857314976572457623669/69339719606495385481845330780288861662059891190619325136871766303815927900466348144450, 68774127199601094209383370083051035907911235278920486697459138079397370821688476929657/13867943921299077096369066156057772332411978238123865027374353260763185580093269628890, 49025501215366886176536668194913872848337437079082523100923795794246605999781368574218/6933971960649538548184533078028886166205989119061932513687176630381592790046634814445]])\n",
        "deltas = np.array([[1, 1, 1, 1, 1]])\n",
        "print(\"sensitive sample:\", sensitive_sample2)\n",
        "print(\"deltas:\", deltas)"
      ],
      "execution_count": 0,
      "outputs": [
        {
          "output_type": "stream",
          "text": [
            "sensitive sample: [[4.35098272 2.54367166 1.72462901 4.95921584 7.07033451]]\n",
            "deltas: [[1 1 1 1 1]]\n"
          ],
          "name": "stdout"
        }
      ]
    },
    {
      "cell_type": "code",
      "metadata": {
        "id": "G3Zpy8_E0FFu",
        "colab_type": "code",
        "outputId": "7fafb36e-8029-43b0-ae1c-e280179bd985",
        "colab": {
          "base_uri": "https://localhost:8080/",
          "height": 119
        }
      },
      "source": [
        "printOutputStats2(sensitive_sample2, W, B, deltas)"
      ],
      "execution_count": 0,
      "outputs": [
        {
          "output_type": "stream",
          "text": [
            "Sensitive sample: [[4.35098272 2.54367166 1.72462901 4.95921584 7.07033451]]\n",
            "Norm of sample: 10.146877015071626\n",
            "Solved deltas: [[1 1 1 1 1]]\n",
            "Original prediction: 0.4972505237482101\n",
            "Tweaked prediction: 0.501175033183932\n",
            "Sensitivity: 0.003924509435721868\n"
          ],
          "name": "stdout"
        }
      ]
    },
    {
      "cell_type": "code",
      "metadata": {
        "id": "zmsT866N0_u1",
        "colab_type": "code",
        "outputId": "fd9d0e8a-98a7-49eb-c97a-84eb0c92090b",
        "colab": {
          "base_uri": "https://localhost:8080/",
          "height": 649
        }
      },
      "source": [
        "#Experiment 2\n",
        "S2 = MLPSolverBuilder2(W, B, bandwidth= 0.005, delta_range = (0, 10), check = True)"
      ],
      "execution_count": 0,
      "outputs": [
        {
          "output_type": "stream",
          "text": [
            "sat\n",
            "[d0 = 1,\n",
            " d1 = 1,\n",
            " d2 = 1,\n",
            " d3 = 1,\n",
            " d4 = 1,\n",
            " a0_1 = 22366592833376564336189681705465713571223980408647609481940521438264349617234952751827/19811348458998681566241523080082531903445683197319807181963361801090265114418956612700,\n",
            " a0_2 = 353851261512337300029408641533355043219809228824304594222717006291511205538924504517/396226969179973631324830461601650638068913663946396143639267236021805302288379132254,\n",
            " a0_3 = 23300023393207158589555142246294970903425992675063278908273774845778223667978707623669/69339719606495385481845330780288861662059891190619325136871766303815927900466348144450,\n",
            " a0_4 = 15320070181016478160912248181211513481059642756968962986287376394071680392000976929657/13867943921299077096369066156057772332411978238123865027374353260763185580093269628890,\n",
            " a0_5 = 12616799009942618241577903766741894159794786062264261479694289032034285199000118574218/6933971960649538548184533078028886166205989119061932513687176630381592790046634814445,\n",
            " z3_1 = -102992458537288227688622402682449181/5120000000000000000000000000000000000,\n",
            " a2_5 = 0,\n",
            " a2_4 = 0,\n",
            " a2_3 = 3271217718347906993/102400000000000000000,\n",
            " a2_2 = 430930117331445329/51200000000000000000,\n",
            " a2_1 = 0,\n",
            " z2_5 = -322344279408454909/4096000000000000000,\n",
            " z2_4 = -17294712615013123591/102400000000000000000,\n",
            " z2_3 = 3271217718347906993/102400000000000000000,\n",
            " z2_2 = 430930117331445329/51200000000000000000,\n",
            " z2_1 = -13599575260281563179/102400000000000000000,\n",
            " a1_5 = 247/1024,\n",
            " a1_4 = 1/2048,\n",
            " a1_3 = 1/2048,\n",
            " a1_2 = 1/128,\n",
            " a1_1 = 1/256,\n",
            " z1_5 = 247/1024,\n",
            " z1_4 = 1/2048,\n",
            " z1_3 = 1/2048,\n",
            " z1_2 = 1/128,\n",
            " z1_1 = 1/256]\n",
            "\n",
            "Computation time = 7717.541129000001ms\n",
            "Solved sample: [22366592833376564336189681705465713571223980408647609481940521438264349617234952751827/19811348458998681566241523080082531903445683197319807181963361801090265114418956612700, 353851261512337300029408641533355043219809228824304594222717006291511205538924504517/396226969179973631324830461601650638068913663946396143639267236021805302288379132254, 23300023393207158589555142246294970903425992675063278908273774845778223667978707623669/69339719606495385481845330780288861662059891190619325136871766303815927900466348144450, 15320070181016478160912248181211513481059642756968962986287376394071680392000976929657/13867943921299077096369066156057772332411978238123865027374353260763185580093269628890, 12616799009942618241577903766741894159794786062264261479694289032034285199000118574218/6933971960649538548184533078028886166205989119061932513687176630381592790046634814445]\n",
            "Solved deltas: [1, 1, 1, 1, 1]\n"
          ],
          "name": "stdout"
        }
      ]
    },
    {
      "cell_type": "code",
      "metadata": {
        "id": "Z3pJmLUE-dyz",
        "colab_type": "code",
        "outputId": "ade4b8ce-1c47-47f5-9326-be1940109c6d",
        "colab": {
          "base_uri": "https://localhost:8080/",
          "height": 51
        }
      },
      "source": [
        "sensitive_sample2 = np.array([[22366592833376564336189681705465713571223980408647609481940521438264349617234952751827/19811348458998681566241523080082531903445683197319807181963361801090265114418956612700, 353851261512337300029408641533355043219809228824304594222717006291511205538924504517/396226969179973631324830461601650638068913663946396143639267236021805302288379132254, 23300023393207158589555142246294970903425992675063278908273774845778223667978707623669/69339719606495385481845330780288861662059891190619325136871766303815927900466348144450, 15320070181016478160912248181211513481059642756968962986287376394071680392000976929657/13867943921299077096369066156057772332411978238123865027374353260763185580093269628890, 12616799009942618241577903766741894159794786062264261479694289032034285199000118574218/6933971960649538548184533078028886166205989119061932513687176630381592790046634814445]])\n",
        "deltas = np.array([[1, 1, 1, 1, 1]])\n",
        "print(\"sensitive sample:\", sensitive_sample2)\n",
        "print(\"deltas:\", deltas)"
      ],
      "execution_count": 0,
      "outputs": [
        {
          "output_type": "stream",
          "text": [
            "sensitive sample: [[1.12897882 0.89305193 0.33602708 1.104711   1.81956303]]\n",
            "deltas: [[1 1 1 1 1]]\n"
          ],
          "name": "stdout"
        }
      ]
    },
    {
      "cell_type": "code",
      "metadata": {
        "id": "GE5huFpW-oaA",
        "colab_type": "code",
        "outputId": "cf41c316-23d4-427a-cf51-ea9692a7c48a",
        "colab": {
          "base_uri": "https://localhost:8080/",
          "height": 119
        }
      },
      "source": [
        "printOutputStats2(sensitive_sample2, W, B, deltas)"
      ],
      "execution_count": 0,
      "outputs": [
        {
          "output_type": "stream",
          "text": [
            "Sensitive sample: [[1.12897882 0.89305193 0.33602708 1.104711   1.81956303]]\n",
            "Norm of sample: 2.5915719429122053\n",
            "Solved deltas: [[1 1 1 1 1]]\n",
            "Original prediction: 0.49497124092992273\n",
            "Tweaked prediction: 0.5050614208115642\n",
            "Sensitivity: 0.010090179881641514\n"
          ],
          "name": "stdout"
        }
      ]
    },
    {
      "cell_type": "code",
      "metadata": {
        "id": "Y2epcy9u1BSY",
        "colab_type": "code",
        "outputId": "74d0c9ed-3272-4693-cb56-8a1fa3d20cb6",
        "colab": {
          "base_uri": "https://localhost:8080/",
          "height": 136
        }
      },
      "source": [
        "#Experiment 3\n",
        "S2 = MLPSolverBuilder2(W, B, bandwidth= 0.40, delta_range = (0, 10), check = True)"
      ],
      "execution_count": 0,
      "outputs": [
        {
          "output_type": "stream",
          "text": [
            "unsat\n",
            "\n",
            "Computation time = 50331.43004899989ms\n",
            "Model unsatisfiable\n",
            "Model unsatisfiable\n",
            "Solved sample: None\n",
            "Solved deltas: None\n"
          ],
          "name": "stdout"
        }
      ]
    },
    {
      "cell_type": "markdown",
      "metadata": {
        "id": "-fOn5A4p3TGk",
        "colab_type": "text"
      },
      "source": [
        "## Runtime experiment"
      ]
    },
    {
      "cell_type": "code",
      "metadata": {
        "id": "UKBDIIVg2g_m",
        "colab_type": "code",
        "outputId": "addbe360-4aee-4565-b4a8-850731f8933e",
        "colab": {
          "base_uri": "https://localhost:8080/",
          "height": 1000
        }
      },
      "source": [
        "#Store the weights and the parameters\n",
        "weights = dict()\n",
        "biases = dict()\n",
        "for feats in numfeats:\n",
        "  params = StoreParams(models['model_'+str(feats)].get_weights())\n",
        "  weights['W_'+str(feats)] = params['W']\n",
        "  biases['B_'+str(feats)] = params['B']\n",
        "print(\"Weights:\", weights)\n",
        "print(\"Biases:\", biases)"
      ],
      "execution_count": 0,
      "outputs": [
        {
          "output_type": "stream",
          "text": [
            "Weights: {'W_5': {'W1': array([[ 0.7703323 , -0.8067729 , -0.03532959,  0.64081645,  0.7005477 ],\n",
            "       [-0.01093027,  0.33719328, -0.69159704, -0.7158318 , -0.4553106 ],\n",
            "       [-0.5958419 ,  0.20884591, -0.48109892,  0.24704055,  0.622141  ],\n",
            "       [ 0.6359703 ,  0.46684733, -0.46495172,  0.41178158,  0.43125564],\n",
            "       [-0.75547785,  0.03724517,  0.73134416, -0.34545216, -0.44479498]],\n",
            "      dtype=float32), 'W2': array([[-0.2714678 , -0.72273475, -0.70515466, -0.59152657,  0.1153154 ],\n",
            "       [-0.76323545, -0.14775497, -0.5385842 ,  0.08037765,  0.5311325 ],\n",
            "       [-0.7341662 ,  0.08326998, -0.29556715, -0.72263074,  0.16269356],\n",
            "       [-0.24535537, -0.26626685, -0.5410328 , -0.5580511 ,  0.2513275 ],\n",
            "       [-0.51949084,  0.22776388,  0.05694318, -0.700433  , -0.2136744 ]],\n",
            "      dtype=float32), 'W3': array([[-0.18612099],\n",
            "       [ 0.6291296 ],\n",
            "       [-0.14201249],\n",
            "       [-0.6986526 ],\n",
            "       [ 0.34453383]], dtype=float32)}, 'W_10': {'W1': array([[ 0.36210126, -0.14881432, -0.38526982,  0.49726608,  0.45425832,\n",
            "        -0.46072298, -0.3511556 ,  0.29518718, -0.58554435,  0.04112979],\n",
            "       [ 0.22808294, -0.29827553, -0.20708202, -0.39766774, -0.20450406,\n",
            "        -0.2908564 , -0.32787   , -0.36167464, -0.01186969, -0.12100648],\n",
            "       [ 0.18961774,  0.06796362,  0.27035475,  0.05829887, -0.4210819 ,\n",
            "         0.32880217,  0.27230862, -0.54905385, -0.03580241, -0.41244364],\n",
            "       [ 0.25734848,  0.4806608 ,  0.46807814, -0.41046396, -0.04939274,\n",
            "         0.32574794, -0.01004655,  0.3737707 ,  0.27978638, -0.48804343],\n",
            "       [-0.2961356 ,  0.09584221, -0.02157382,  0.34536004, -0.26451385,\n",
            "        -0.50221825, -0.03753671, -0.08020553,  0.03815727, -0.06477081],\n",
            "       [-0.03992704, -0.12518203, -0.38990268,  0.05893176,  0.2125459 ,\n",
            "         0.4818187 , -0.00458756, -0.36324838, -0.51246977, -0.52748585],\n",
            "       [-0.5072197 , -0.31725857,  0.35500637,  0.34966794,  0.15234509,\n",
            "        -0.26233602,  0.28000548,  0.41677782,  0.37903923,  0.23152761],\n",
            "       [-0.54798985,  0.303681  ,  0.28137824,  0.41747957,  0.3303123 ,\n",
            "        -0.2234948 ,  0.2650869 ,  0.25476635,  0.03862242, -0.11382075],\n",
            "       [ 0.30892256,  0.32116026, -0.5414051 , -0.02185616,  0.5279393 ,\n",
            "         0.19537054, -0.55980533, -0.5225576 , -0.50213903,  0.3804227 ],\n",
            "       [-0.5280936 ,  0.1764969 , -0.5365542 , -0.32252255,  0.43020633,\n",
            "        -0.00116522, -0.28349134, -0.1867941 ,  0.0463798 ,  0.5318753 ]],\n",
            "      dtype=float32), 'W2': array([[-0.5071113 ,  0.21398309,  0.22510666, -0.46247336, -0.52371055,\n",
            "         0.07923807, -0.16134171, -0.3594966 , -0.22131243, -0.3387718 ],\n",
            "       [-0.5158088 , -0.15095675, -0.303722  ,  0.05457558, -0.3053819 ,\n",
            "        -0.5326469 ,  0.03599497, -0.17422295,  0.15728363, -0.18173853],\n",
            "       [ 0.48755968,  0.05399044, -0.30235916,  0.29564577,  0.10477619,\n",
            "        -0.02018039,  0.1733024 ,  0.15953326, -0.47808236, -0.17221096],\n",
            "       [ 0.5361484 , -0.34141344, -0.21996582, -0.04358776,  0.2853969 ,\n",
            "         0.0251806 , -0.11004072, -0.37258697, -0.19450343, -0.27536607],\n",
            "       [-0.5046183 ,  0.36853135, -0.3786881 ,  0.09304019, -0.13394368,\n",
            "        -0.22094917,  0.04423035,  0.1537632 , -0.3687579 ,  0.18519123],\n",
            "       [ 0.14767879,  0.42721668,  0.09192903,  0.36100453,  0.29608083,\n",
            "        -0.10234865, -0.47151986, -0.07686643,  0.37891585,  0.3966314 ],\n",
            "       [ 0.31278574, -0.44445613, -0.37297982, -0.22433965,  0.39618224,\n",
            "        -0.48167402, -0.36586484, -0.15961704,  0.23150745, -0.531635  ],\n",
            "       [ 0.08349889, -0.07976333, -0.28585765, -0.47711664,  0.18810822,\n",
            "        -0.11888142, -0.39059177,  0.30870628,  0.15854988, -0.33532292],\n",
            "       [-0.13647784, -0.07802241, -0.1413868 ,  0.18113275,  0.19396897,\n",
            "        -0.1763692 , -0.31596434,  0.25068733, -0.12457066, -0.0194954 ],\n",
            "       [ 0.44823483, -0.5422965 , -0.17270909, -0.03706582,  0.2037083 ,\n",
            "        -0.36848533,  0.24506418, -0.48009998,  0.28737134, -0.05785502]],\n",
            "      dtype=float32), 'W3': array([[ 0.41901577],\n",
            "       [-0.34699416],\n",
            "       [-0.67693615],\n",
            "       [ 0.5303381 ],\n",
            "       [ 0.55873793],\n",
            "       [ 0.05591651],\n",
            "       [ 0.56384397],\n",
            "       [ 0.59031624],\n",
            "       [ 0.4309042 ],\n",
            "       [ 0.54321486]], dtype=float32)}, 'W_20': {'W1': array([[ 0.16182345,  0.02221777,  0.13500276,  0.02405304,  0.0737524 ,\n",
            "        -0.17279609,  0.3227257 ,  0.00310433,  0.1037719 ,  0.31578332,\n",
            "        -0.27243668,  0.33248076, -0.33301362, -0.29559618, -0.33466133,\n",
            "        -0.24069451, -0.39827943, -0.3308126 , -0.38464952, -0.3477341 ],\n",
            "       [ 0.36910462,  0.31265798,  0.22196156,  0.3326577 ,  0.23951446,\n",
            "        -0.31271452,  0.08010709, -0.14379491, -0.24463944,  0.24069355,\n",
            "        -0.06837659,  0.21042462, -0.17324252,  0.01051597,  0.37471607,\n",
            "        -0.06983237, -0.03386987, -0.07262078, -0.36800236,  0.31895196],\n",
            "       [-0.12315103,  0.03751254,  0.08097922, -0.02864148, -0.39085516,\n",
            "        -0.3348143 , -0.05379904,  0.25100547,  0.19298989, -0.21736632,\n",
            "        -0.02098477,  0.04341374, -0.34855396, -0.1796552 , -0.327718  ,\n",
            "         0.20025265, -0.10066883, -0.14124084,  0.2007754 , -0.10345595],\n",
            "       [-0.11275676,  0.05113483,  0.18920764,  0.34538347,  0.18520728,\n",
            "         0.20756291, -0.03820381, -0.36100596,  0.14078046,  0.05170911,\n",
            "        -0.3470488 ,  0.3013277 ,  0.13220741,  0.3264486 , -0.02186097,\n",
            "         0.3225076 , -0.24217674,  0.2645716 ,  0.11899827,  0.33544832],\n",
            "       [-0.14502425,  0.12615533, -0.18140352, -0.01154377, -0.29551315,\n",
            "        -0.2807889 ,  0.09064239, -0.03213835,  0.02924052, -0.00254699,\n",
            "         0.33709258, -0.01613999,  0.0199867 , -0.39478722,  0.3125617 ,\n",
            "         0.10702041, -0.31451616,  0.29655147, -0.17004754,  0.19314489],\n",
            "       [-0.2197057 , -0.22163484,  0.09082069, -0.1231501 , -0.0919349 ,\n",
            "         0.02202588, -0.06791143,  0.32229882, -0.30628717, -0.0640583 ,\n",
            "         0.03463865, -0.3560754 , -0.03873784,  0.04243271,  0.05238367,\n",
            "         0.07293318, -0.19986942,  0.21506271, -0.15669239,  0.18505552],\n",
            "       [-0.04470794, -0.03163726, -0.30915835,  0.33168837, -0.18578964,\n",
            "         0.00396939,  0.33091977,  0.15467158,  0.40142542,  0.22796163,\n",
            "        -0.04126636, -0.26425892,  0.3683878 ,  0.2366013 ,  0.2164083 ,\n",
            "         0.35553396,  0.11761889, -0.18180196,  0.04862918, -0.10491774],\n",
            "       [ 0.33896816, -0.24290991, -0.14681454, -0.0914653 ,  0.16976343,\n",
            "        -0.36599705,  0.00724299,  0.05047072,  0.0368667 , -0.20959145,\n",
            "        -0.24359241,  0.26741648, -0.33846742,  0.25424156, -0.14748776,\n",
            "        -0.02889627, -0.38842294,  0.08216374,  0.10421979, -0.3151573 ],\n",
            "       [-0.24751815,  0.19387764,  0.20881574, -0.19251285,  0.18971786,\n",
            "        -0.12680042,  0.39915016, -0.1386214 ,  0.05646651, -0.12663281,\n",
            "         0.15959083,  0.33168137,  0.19008164, -0.3640262 ,  0.08364572,\n",
            "        -0.21674028,  0.01987548,  0.2466652 ,  0.02623459,  0.21632867],\n",
            "       [-0.13653481, -0.20702837, -0.11029771, -0.35639   , -0.22998458,\n",
            "        -0.3387489 , -0.08068936, -0.327274  ,  0.12520084,  0.2959795 ,\n",
            "         0.04485229,  0.19842061,  0.23622574,  0.03864884, -0.12372442,\n",
            "        -0.08693937,  0.03058603,  0.17432646,  0.23429449,  0.08265471],\n",
            "       [-0.00712441,  0.126693  ,  0.25874072, -0.15525627,  0.2736097 ,\n",
            "         0.2789232 ,  0.17628428,  0.16377304, -0.3104867 , -0.252487  ,\n",
            "         0.04857548, -0.30393505, -0.22374511, -0.29519197,  0.10522973,\n",
            "         0.20374836, -0.143428  ,  0.21743874, -0.40785244,  0.03185216],\n",
            "       [ 0.10395604,  0.23944703,  0.06630587,  0.07904671,  0.2002656 ,\n",
            "         0.41220176,  0.06890849, -0.32607034, -0.00526829,  0.04305801,\n",
            "         0.0324042 ,  0.35329983, -0.25903445, -0.25804484,  0.38949177,\n",
            "         0.07657749,  0.10326955,  0.3318386 , -0.10629778, -0.21661076],\n",
            "       [-0.19156915,  0.31619003, -0.10394937,  0.17824326, -0.17368035,\n",
            "        -0.30927145, -0.0649322 , -0.106921  , -0.00561005, -0.37094805,\n",
            "         0.29854688, -0.17693025, -0.03418063, -0.40567663,  0.1800208 ,\n",
            "         0.31042942,  0.04505304, -0.01018142,  0.23622593, -0.07685462],\n",
            "       [ 0.17817013, -0.10530706, -0.2767395 , -0.29631466,  0.21954283,\n",
            "        -0.21706758,  0.26297942,  0.19895475, -0.02286646,  0.24129695,\n",
            "         0.18746278, -0.27348223, -0.37246108, -0.0139936 , -0.26731572,\n",
            "        -0.19903706,  0.3187377 ,  0.17613626, -0.1212606 , -0.0563625 ],\n",
            "       [ 0.05482782,  0.25383666, -0.36728826,  0.1395738 ,  0.21394677,\n",
            "         0.12413278, -0.0627731 , -0.3297204 ,  0.10622317, -0.32215625,\n",
            "         0.05918112,  0.1988793 , -0.29125065, -0.36325514, -0.33959115,\n",
            "         0.2897915 ,  0.04488819, -0.34869897,  0.2745524 , -0.24823551],\n",
            "       [-0.10569011,  0.32027885, -0.02861098,  0.3390257 , -0.20744677,\n",
            "         0.39826328,  0.05391604, -0.21488078, -0.02697313, -0.01415561,\n",
            "         0.05369294,  0.08291709,  0.06826232, -0.18974075, -0.30642003,\n",
            "         0.16803792, -0.34613532,  0.09854686, -0.2148675 ,  0.02436177],\n",
            "       [-0.06757481,  0.21948847, -0.15664135, -0.04235823, -0.04053868,\n",
            "        -0.24962157, -0.3170665 , -0.32052624, -0.09249886,  0.14108893,\n",
            "        -0.01184188, -0.39893115, -0.19875565,  0.2831695 ,  0.2215893 ,\n",
            "        -0.15883338,  0.15609413, -0.3650948 ,  0.08114178, -0.18948315],\n",
            "       [-0.36381143, -0.149108  , -0.34818408, -0.13152137, -0.15531501,\n",
            "        -0.24173409, -0.07346979, -0.30279583, -0.32411113, -0.18443108,\n",
            "         0.03569165, -0.11652207, -0.3246774 , -0.25207847,  0.28807697,\n",
            "         0.32119358,  0.37688214, -0.17321612,  0.300108  ,  0.15856926],\n",
            "       [ 0.10300169, -0.32873765,  0.04446286, -0.10894132, -0.3754953 ,\n",
            "         0.12658678, -0.2472311 , -0.07484604,  0.2131373 , -0.32623842,\n",
            "        -0.12681876, -0.2207028 ,  0.371398  , -0.17479241, -0.01426164,\n",
            "         0.25378662,  0.3434714 , -0.18298967,  0.12511568,  0.09753782],\n",
            "       [ 0.04431119,  0.02873492,  0.03803744,  0.01389562,  0.05130047,\n",
            "        -0.18006103,  0.10570183,  0.3231952 ,  0.13210103, -0.27143428,\n",
            "         0.32830843, -0.01442039, -0.13056564,  0.147398  , -0.10899287,\n",
            "        -0.14133495, -0.22248368,  0.35535365, -0.02374244,  0.2771953 ]],\n",
            "      dtype=float32), 'W2': array([[ 0.17356502,  0.00472521,  0.13044438, -0.15927634,  0.05326167,\n",
            "        -0.01069032,  0.3933232 ,  0.11138906,  0.30168197, -0.36997294,\n",
            "        -0.12122875, -0.25216636,  0.20943859, -0.08733609,  0.33892   ,\n",
            "         0.1297993 , -0.03840382, -0.14620297, -0.26577345, -0.15511705],\n",
            "       [ 0.10630068, -0.3211942 ,  0.03633298, -0.14766346, -0.09648809,\n",
            "         0.01154173, -0.1965187 , -0.006011  , -0.18095732,  0.22794598,\n",
            "        -0.09463224, -0.3608519 , -0.16108228, -0.24870002, -0.22783338,\n",
            "         0.07933763, -0.00180105, -0.14803171,  0.01066478,  0.08333513],\n",
            "       [-0.08691808,  0.2348243 ,  0.11823136,  0.08673783,  0.08979759,\n",
            "         0.09077538, -0.01641832, -0.32418603,  0.08808812,  0.03035146,\n",
            "         0.2921788 , -0.29037377, -0.21608138, -0.25400808,  0.2580085 ,\n",
            "        -0.111789  ,  0.04101923, -0.13968305,  0.1769883 ,  0.27769595],\n",
            "       [-0.21436371, -0.1046102 ,  0.21624142,  0.2624682 , -0.3781469 ,\n",
            "         0.22482474,  0.08556108, -0.00788985,  0.01499913, -0.07839965,\n",
            "        -0.13475339, -0.18287273, -0.04302979,  0.17088294, -0.17742932,\n",
            "        -0.2009348 , -0.29282704, -0.40239948, -0.04095272, -0.06128546],\n",
            "       [-0.18394828, -0.15292169, -0.23535426,  0.13518468, -0.27277234,\n",
            "        -0.23473904, -0.20850874,  0.37906596,  0.38392603, -0.2765106 ,\n",
            "        -0.31961286,  0.31211555, -0.10542838, -0.34941927,  0.08517767,\n",
            "         0.2955021 , -0.23232292, -0.16858861,  0.03850007,  0.09191515],\n",
            "       [ 0.31930447,  0.28760064,  0.31502205,  0.39414936, -0.21726555,\n",
            "         0.01167575, -0.31700113, -0.21196249, -0.09579708, -0.13748695,\n",
            "         0.05248824,  0.15204749, -0.40841132,  0.12656242,  0.18828845,\n",
            "         0.17471002,  0.3432051 , -0.08319355,  0.3338277 , -0.15392514],\n",
            "       [-0.12111962,  0.31496647,  0.14700015,  0.01679593, -0.34758347,\n",
            "         0.21420905, -0.19381186,  0.19094147, -0.17567296, -0.19282794,\n",
            "        -0.05016625, -0.1346749 , -0.28384498,  0.28105024,  0.07750586,\n",
            "        -0.06189739,  0.01852453,  0.10168517,  0.13384157,  0.2507343 ],\n",
            "       [ 0.10462943,  0.15680733, -0.05048823, -0.2582223 ,  0.2567829 ,\n",
            "         0.25144023, -0.2276592 , -0.14905554, -0.20136088, -0.06464211,\n",
            "         0.08123506,  0.02556387,  0.17764874, -0.24598004,  0.29678187,\n",
            "         0.17753051, -0.06186986,  0.12669195, -0.1829469 , -0.15008302],\n",
            "       [-0.05962753, -0.09924147, -0.23888515,  0.21986133, -0.2745978 ,\n",
            "        -0.18083894, -0.37308004,  0.10244849,  0.01424223, -0.06852198,\n",
            "        -0.2931698 , -0.37729153,  0.03585012, -0.33972707, -0.13691999,\n",
            "        -0.03736407, -0.16543856, -0.1248579 ,  0.33516172, -0.21424392],\n",
            "       [-0.30489346, -0.06881347,  0.21518283,  0.07202543, -0.08821183,\n",
            "         0.22391807,  0.17670316, -0.29154584,  0.14941594, -0.13304467,\n",
            "         0.23266253, -0.28080508, -0.1654634 , -0.39704144, -0.04551566,\n",
            "        -0.12329932,  0.31152213, -0.3764848 , -0.25773957, -0.30294782],\n",
            "       [ 0.2822037 ,  0.04907417, -0.11488235, -0.03523432,  0.07589492,\n",
            "        -0.03122789,  0.3553847 , -0.17440112, -0.07430063, -0.15340835,\n",
            "         0.07309478, -0.25676608,  0.34004852, -0.01921397, -0.06744552,\n",
            "        -0.09789257, -0.08952604, -0.05505696,  0.18726477, -0.3341349 ],\n",
            "       [ 0.10074863,  0.07215176,  0.17446432, -0.1457345 , -0.2513651 ,\n",
            "        -0.18692441, -0.09293704,  0.05201678,  0.28207126, -0.3583346 ,\n",
            "         0.17897545,  0.19404775,  0.24904297, -0.13160595, -0.20391834,\n",
            "        -0.33082363, -0.33467636, -0.24488151,  0.24039215, -0.23697215],\n",
            "       [ 0.11012141, -0.12124974, -0.2657053 ,  0.30138177, -0.18035021,\n",
            "         0.31795782, -0.10022835,  0.2701329 , -0.28714582, -0.19114494,\n",
            "         0.0766232 , -0.177788  ,  0.00565591, -0.10588535,  0.29774308,\n",
            "         0.01588273,  0.16004866,  0.26923466,  0.18036853,  0.31643265],\n",
            "       [-0.15096395,  0.11670756, -0.14697054,  0.10699643,  0.09592658,\n",
            "         0.12468543, -0.02537486,  0.09166487, -0.2507336 , -0.08916093,\n",
            "        -0.32199213,  0.3418587 ,  0.2876087 , -0.0546893 ,  0.3522871 ,\n",
            "         0.35119015, -0.02927365, -0.35173532, -0.25541905, -0.30928352],\n",
            "       [ 0.3517279 , -0.19900884,  0.21548115,  0.14678432, -0.261414  ,\n",
            "        -0.00250404,  0.14132336, -0.13191815,  0.2919867 ,  0.06782807,\n",
            "        -0.22965452, -0.08641978,  0.10190762, -0.1897246 , -0.37588978,\n",
            "         0.32871014, -0.24095815, -0.16030622,  0.07652058, -0.1515682 ],\n",
            "       [-0.14712222,  0.24760574, -0.04133167,  0.3823779 , -0.3241608 ,\n",
            "        -0.04148088, -0.07046941,  0.21211259,  0.19942968,  0.16160345,\n",
            "        -0.17801566,  0.24763694,  0.21263792, -0.02689456, -0.33108732,\n",
            "        -0.00834711,  0.38519937,  0.1423478 , -0.17314118,  0.10325127],\n",
            "       [ 0.23153523,  0.07067712,  0.24146947,  0.3093606 , -0.37127364,\n",
            "         0.28074262,  0.31408483, -0.1995097 , -0.3663281 ,  0.1448867 ,\n",
            "        -0.24697244,  0.15379849, -0.24050035,  0.03171363,  0.20568317,\n",
            "         0.05096146, -0.0676574 ,  0.34678537, -0.35362548,  0.13255228],\n",
            "       [ 0.19481122, -0.07764176, -0.0722516 , -0.07974051,  0.13755065,\n",
            "        -0.17945686, -0.15186232, -0.07512261,  0.22175136,  0.30661714,\n",
            "        -0.22882909, -0.10309866, -0.28295144,  0.26484376, -0.03522503,\n",
            "        -0.38142103, -0.06143534, -0.32992664, -0.37469417,  0.12701544],\n",
            "       [-0.29565996, -0.363234  ,  0.1269188 ,  0.33253512, -0.21707062,\n",
            "        -0.07841638,  0.04071424,  0.02588535, -0.28096354, -0.02935968,\n",
            "         0.2056276 ,  0.09117379,  0.16169144,  0.08915817, -0.18743198,\n",
            "        -0.21593988, -0.3109852 , -0.08433603, -0.16505389, -0.14368924],\n",
            "       [-0.04400895, -0.3175599 , -0.1152488 ,  0.28507307, -0.04271856,\n",
            "         0.23802127, -0.01299118, -0.07086043, -0.02881936, -0.18203081,\n",
            "        -0.27353996,  0.13780056, -0.1200139 , -0.3691746 ,  0.04125984,\n",
            "        -0.22635254, -0.03612867, -0.17792207,  0.22472517,  0.2544441 ]],\n",
            "      dtype=float32), 'W3': array([[-0.13977006],\n",
            "       [-0.00479912],\n",
            "       [ 0.08177252],\n",
            "       [ 0.24761896],\n",
            "       [ 0.11294597],\n",
            "       [-0.3925378 ],\n",
            "       [-0.2009687 ],\n",
            "       [-0.49823114],\n",
            "       [-0.03328785],\n",
            "       [-0.16231501],\n",
            "       [-0.07666621],\n",
            "       [-0.45863184],\n",
            "       [-0.42470506],\n",
            "       [-0.11246351],\n",
            "       [-0.16027322],\n",
            "       [-0.33733553],\n",
            "       [ 0.20153357],\n",
            "       [ 0.41408932],\n",
            "       [ 0.3381723 ],\n",
            "       [ 0.2872464 ]], dtype=float32)}, 'W_30': {'W1': array([[ 0.18071544,  0.22914563,  0.31238052,  0.30432585,  0.18902773,\n",
            "        -0.16551939,  0.15756993, -0.2828662 , -0.30629253, -0.17014249,\n",
            "         0.1544488 , -0.18217897, -0.03311252, -0.25983348, -0.16444309,\n",
            "         0.12312301,  0.2316422 ,  0.2933381 , -0.08120372,  0.22261977,\n",
            "        -0.20002592, -0.22736363,  0.18963802,  0.27415034, -0.25371897,\n",
            "        -0.12172994,  0.2640055 ,  0.1348157 , -0.10103023, -0.07443772],\n",
            "       [-0.01277148, -0.04767523,  0.16033003, -0.06511898, -0.17505185,\n",
            "        -0.17462604,  0.28950462, -0.08176395,  0.28992948, -0.13253303,\n",
            "        -0.12668127,  0.03294797,  0.22520868,  0.12579814, -0.2425311 ,\n",
            "        -0.19146459, -0.2540507 ,  0.22381927, -0.00534592,  0.07668844,\n",
            "        -0.14600903, -0.13513671,  0.26671293, -0.21696188,  0.26451942,\n",
            "        -0.086691  ,  0.09560781,  0.13203195, -0.13455157, -0.03103613],\n",
            "       [-0.21638733, -0.0950289 ,  0.24487457, -0.09498118, -0.25594968,\n",
            "        -0.09665254, -0.10295067,  0.04363789, -0.20214547,  0.00109588,\n",
            "        -0.17315656, -0.24091348, -0.13883056, -0.27131036,  0.2556286 ,\n",
            "        -0.14890137,  0.2178792 ,  0.00826921,  0.01748954, -0.14946854,\n",
            "        -0.19507755,  0.05218962,  0.11675911,  0.20803152, -0.28752103,\n",
            "        -0.13531289,  0.02899175,  0.03331369,  0.26666442, -0.09070823],\n",
            "       [ 0.06414073,  0.0874835 ,  0.17803182, -0.2224044 ,  0.06877025,\n",
            "         0.08409277, -0.25349048, -0.20844859, -0.06174144,  0.15593901,\n",
            "         0.01105976,  0.11281403, -0.1680564 ,  0.16386224, -0.15707822,\n",
            "        -0.2511489 , -0.27991882,  0.06443932, -0.28634438, -0.14951771,\n",
            "        -0.24459603, -0.28879827,  0.0522825 ,  0.24976252,  0.04677945,\n",
            "        -0.24725008, -0.19340931,  0.22595468, -0.2675071 ,  0.04383557],\n",
            "       [-0.13798952, -0.18408033, -0.11497181,  0.10124972, -0.0779555 ,\n",
            "        -0.12501031,  0.29482448, -0.29584184,  0.0034331 ,  0.07422487,\n",
            "        -0.19076057, -0.03428734,  0.2596658 ,  0.27147895, -0.09800405,\n",
            "         0.00234943,  0.22337872,  0.07499441,  0.23815534,  0.13760135,\n",
            "        -0.11799113, -0.19865637,  0.19654597,  0.05213549, -0.06974687,\n",
            "         0.0654173 , -0.24406125,  0.04817251,  0.20359686,  0.16096272],\n",
            "       [-0.10430621, -0.24991767,  0.20306833,  0.10972696, -0.01048087,\n",
            "        -0.17340305, -0.12741923,  0.2127437 , -0.01556285,  0.0208104 ,\n",
            "         0.02868423,  0.2545392 , -0.04530353,  0.15992068, -0.27790466,\n",
            "        -0.05546564,  0.10849323,  0.09669777, -0.12824479,  0.07746844,\n",
            "         0.07929143,  0.32061663,  0.08134063,  0.03242431, -0.1718795 ,\n",
            "         0.01287015, -0.02319692, -0.23231946, -0.13048124,  0.08207094],\n",
            "       [-0.24922816, -0.03769004,  0.1945908 ,  0.09694631,  0.15347587,\n",
            "         0.29172105, -0.03413425,  0.15318646,  0.14856626, -0.25920925,\n",
            "         0.07864773, -0.00555953,  0.29647622,  0.17610623, -0.23584597,\n",
            "        -0.17199397,  0.03285104,  0.20573592, -0.14827499,  0.04991528,\n",
            "        -0.20785725,  0.24726307,  0.2049083 ,  0.05690185,  0.01653316,\n",
            "        -0.24937475, -0.02996621,  0.04825342, -0.26071918,  0.1477516 ],\n",
            "       [ 0.09814781, -0.01422374,  0.29470628, -0.09813774, -0.1129815 ,\n",
            "        -0.00039435,  0.27226794, -0.03703554, -0.18170089,  0.08811867,\n",
            "        -0.22972396, -0.25872466, -0.2643067 , -0.25847468,  0.20092045,\n",
            "         0.02047649, -0.3217965 , -0.12221915,  0.23557167, -0.07778163,\n",
            "         0.1400402 ,  0.21755855, -0.04033073, -0.24230687, -0.20209588,\n",
            "        -0.13340566,  0.20468232, -0.02410429,  0.01118132, -0.23682196],\n",
            "       [ 0.08071064, -0.11614253, -0.06441434, -0.01368242, -0.19958512,\n",
            "         0.23001546, -0.03013353, -0.16687602, -0.20476332, -0.10109153,\n",
            "        -0.28797248, -0.09164385,  0.08425737, -0.11996926,  0.07405933,\n",
            "         0.06587309,  0.2257542 , -0.01448963,  0.10497151, -0.01547664,\n",
            "         0.11446805,  0.02562424, -0.08383367,  0.22519681,  0.04427081,\n",
            "         0.19400063,  0.07061853,  0.29821935,  0.0855518 ,  0.07440126],\n",
            "       [-0.23394363,  0.16439986,  0.21372873, -0.2211322 , -0.22220811,\n",
            "        -0.11669055,  0.24581102, -0.30749726,  0.22023572,  0.00416168,\n",
            "        -0.05893731,  0.01067242, -0.22122566,  0.23021263,  0.18025002,\n",
            "        -0.03232152,  0.23236082,  0.27058873, -0.1733505 , -0.14104818,\n",
            "         0.14582247,  0.00637721, -0.10722376, -0.12351754,  0.01601129,\n",
            "         0.13645615, -0.3227915 , -0.22720289, -0.25181705,  0.11192525],\n",
            "       [-0.07377978,  0.1571622 , -0.23046495,  0.05206903, -0.0360668 ,\n",
            "        -0.23804052,  0.03229266, -0.2653551 , -0.24325351,  0.27311885,\n",
            "        -0.3158679 , -0.0005386 ,  0.01573016, -0.2841773 ,  0.1725785 ,\n",
            "        -0.16731875, -0.07579682, -0.03404819, -0.1745084 , -0.14758287,\n",
            "        -0.24265029,  0.19326214,  0.27581936,  0.30240816, -0.18795781,\n",
            "        -0.06056957,  0.08357814, -0.04386431,  0.10487846,  0.01964144],\n",
            "       [-0.14942142,  0.08944855,  0.24346876,  0.23164667, -0.17696643,\n",
            "        -0.17404065, -0.12699527,  0.17241505,  0.23621474, -0.1560892 ,\n",
            "        -0.2803122 , -0.30224782, -0.0140898 ,  0.15833907,  0.21140267,\n",
            "        -0.07556228,  0.11618175,  0.22547933, -0.11552299, -0.02734131,\n",
            "        -0.3003062 ,  0.15581974,  0.2002498 , -0.27240565, -0.03863795,\n",
            "         0.03393962,  0.15495957,  0.00611112,  0.31486258,  0.21777605],\n",
            "       [-0.00881391, -0.15582484,  0.24780117,  0.30269155,  0.17858951,\n",
            "         0.28501302,  0.0116729 , -0.16366449,  0.28149635, -0.03185838,\n",
            "        -0.00886707, -0.1994463 , -0.22948258, -0.22188832,  0.14282627,\n",
            "        -0.24865349, -0.11965754, -0.21870331,  0.12921838,  0.25429466,\n",
            "         0.19419956, -0.18001032,  0.23974442,  0.17727108,  0.3315933 ,\n",
            "         0.17409503, -0.32197738,  0.0077458 ,  0.06166026, -0.18952522],\n",
            "       [-0.00703518, -0.30024704,  0.13432927, -0.07646267,  0.2887761 ,\n",
            "         0.16618013, -0.00399745,  0.12015168, -0.19586858,  0.16917433,\n",
            "         0.2904536 ,  0.08694882, -0.21596994, -0.27628028, -0.13879338,\n",
            "        -0.23964079, -0.2655838 ,  0.15363744,  0.25603876,  0.17607103,\n",
            "         0.2407766 ,  0.31511086,  0.17643192, -0.19323243,  0.02541233,\n",
            "         0.04949368, -0.28444389,  0.17440261, -0.28037515, -0.05643887],\n",
            "       [-0.11962859,  0.0442159 , -0.2329578 , -0.19705538, -0.16305064,\n",
            "         0.0571653 , -0.13268602, -0.01466431, -0.10361262,  0.09307195,\n",
            "         0.2709716 ,  0.05911198,  0.12948117,  0.26765206, -0.13576351,\n",
            "         0.15932731,  0.14035226,  0.09927271,  0.15758345,  0.22239518,\n",
            "         0.22747596,  0.03967381,  0.20303796,  0.00831363,  0.14517584,\n",
            "        -0.05934479, -0.01740547, -0.09241766, -0.22097313, -0.20854518],\n",
            "       [ 0.27337858,  0.2440015 , -0.23123907,  0.09316589, -0.24736667,\n",
            "        -0.13112809, -0.23291743, -0.28164   ,  0.15374655, -0.07754368,\n",
            "         0.12426101,  0.02857475, -0.17801848,  0.26517627, -0.02131595,\n",
            "         0.1908448 ,  0.2737039 , -0.07256926,  0.05208996,  0.1105206 ,\n",
            "         0.21184985,  0.18684256, -0.18280615,  0.2050492 , -0.18705001,\n",
            "         0.03456919, -0.14160785,  0.23113467, -0.28075334, -0.19085845],\n",
            "       [-0.16030216, -0.10990298, -0.16358909, -0.06990822, -0.23790719,\n",
            "        -0.19877125,  0.18189883, -0.16126996,  0.19381574,  0.03666975,\n",
            "        -0.07629224, -0.28018957, -0.2371306 , -0.22305699, -0.17727317,\n",
            "         0.31102902, -0.07641603,  0.16568518, -0.05835599,  0.18028264,\n",
            "         0.0897084 ,  0.21763419, -0.0255012 ,  0.0890199 ,  0.02214473,\n",
            "         0.2704118 , -0.3337883 , -0.21412566, -0.07959646, -0.27178583],\n",
            "       [ 0.15494989, -0.3390915 , -0.27876034, -0.0612372 , -0.15924007,\n",
            "        -0.15498172,  0.16777693, -0.00945337, -0.2523419 , -0.23206791,\n",
            "        -0.29603088,  0.14508636, -0.15137212,  0.2810559 ,  0.28872004,\n",
            "         0.1572419 , -0.05488128, -0.03964976, -0.06384524, -0.00367839,\n",
            "         0.24745505, -0.15654275, -0.05816402, -0.21805894,  0.23419894,\n",
            "        -0.18357846, -0.19240203, -0.19581513, -0.21697918, -0.14448023],\n",
            "       [ 0.21030077,  0.28484994, -0.2579397 ,  0.10787644,  0.19489506,\n",
            "        -0.2065224 ,  0.16595156,  0.22769257, -0.1944572 ,  0.22048779,\n",
            "        -0.2973678 ,  0.05692863,  0.00721956, -0.20260347,  0.20121852,\n",
            "         0.22627468, -0.28536814, -0.2063826 , -0.27679485,  0.06277329,\n",
            "         0.22943546, -0.1513157 , -0.24028476,  0.07426175,  0.08074757,\n",
            "        -0.11371399, -0.19557719, -0.02945762, -0.18459344,  0.07856472],\n",
            "       [-0.1724263 , -0.08916395,  0.08814382, -0.27323937,  0.2490818 ,\n",
            "        -0.32973343, -0.27449426,  0.11198304, -0.31805834,  0.03140031,\n",
            "        -0.18115881,  0.05373217, -0.2909561 ,  0.06927367, -0.18265581,\n",
            "        -0.1568282 ,  0.20523594,  0.13310735,  0.27361637, -0.05933994,\n",
            "         0.02493916, -0.10793193,  0.26635933, -0.28290305,  0.26425964,\n",
            "         0.1158161 , -0.16497578, -0.06961863, -0.26663804,  0.21118237],\n",
            "       [-0.15466611,  0.24122791, -0.17120871, -0.28269312,  0.11251498,\n",
            "         0.13368009,  0.20624627, -0.08242293, -0.2793183 , -0.28852534,\n",
            "        -0.04019026, -0.05576774,  0.17897564,  0.25527474, -0.02925699,\n",
            "         0.2135058 , -0.19315453,  0.23351148, -0.05438823, -0.0493324 ,\n",
            "        -0.30767924, -0.27626252,  0.07228837, -0.06086616, -0.15415475,\n",
            "         0.18006603, -0.09234062, -0.2649561 , -0.28072047,  0.16073148],\n",
            "       [ 0.25725722, -0.17628615, -0.25189105,  0.04735024, -0.06213747,\n",
            "        -0.05697107,  0.17398047,  0.21438597, -0.13671847, -0.23446782,\n",
            "        -0.2902409 ,  0.10773201,  0.23022193,  0.15274942, -0.1493367 ,\n",
            "         0.24614792, -0.1835315 ,  0.18699451,  0.24671063,  0.14831264,\n",
            "        -0.17994982,  0.0536276 ,  0.14858505, -0.24885444, -0.04392805,\n",
            "         0.21124202,  0.0468398 , -0.320029  , -0.20507196, -0.01872161],\n",
            "       [ 0.10296716, -0.07804825,  0.3373601 ,  0.05239893, -0.22502597,\n",
            "         0.23263486, -0.07662474,  0.10743713, -0.10289578, -0.15445684,\n",
            "         0.28166887,  0.09640904,  0.23347266,  0.00209331, -0.01319162,\n",
            "         0.10765108,  0.09474945, -0.28242633,  0.21930331,  0.09652048,\n",
            "        -0.14117596, -0.04662351,  0.13600747, -0.24967335, -0.20762186,\n",
            "        -0.2692164 , -0.15284614,  0.20650642, -0.30389315, -0.01223832],\n",
            "       [-0.24369428, -0.05215279,  0.18332092,  0.02812883, -0.08215111,\n",
            "         0.28134942,  0.22534296, -0.05283769,  0.03540463, -0.09624203,\n",
            "        -0.01766578, -0.1290818 ,  0.1744031 , -0.08224278,  0.21930422,\n",
            "         0.23236595, -0.04544882,  0.14255345, -0.16072024, -0.08254122,\n",
            "         0.05686637,  0.0319213 ,  0.24563168,  0.11543416, -0.3060589 ,\n",
            "         0.12563184, -0.05346606, -0.16592419, -0.10434157, -0.02143679],\n",
            "       [-0.23327945, -0.05436147,  0.27826533,  0.18379094, -0.21454705,\n",
            "         0.07331983, -0.18247715, -0.03047171, -0.29052576,  0.09724175,\n",
            "        -0.07043452,  0.05348608, -0.23318203,  0.06655167,  0.00750354,\n",
            "        -0.03154197,  0.11931702, -0.00659152,  0.19196895,  0.14858258,\n",
            "        -0.22373301,  0.16846907, -0.20464303, -0.12698229, -0.3368291 ,\n",
            "        -0.16672859,  0.1045024 , -0.02316752, -0.14147581, -0.05165233],\n",
            "       [-0.21230903, -0.0808562 ,  0.06804309,  0.333807  ,  0.00095839,\n",
            "         0.03271365, -0.2931995 ,  0.2348594 , -0.14171766,  0.03609772,\n",
            "        -0.14957933, -0.18530074,  0.2752051 ,  0.1154405 ,  0.09012747,\n",
            "         0.19833235, -0.03182638,  0.22797938, -0.08077636,  0.01797664,\n",
            "         0.21927351,  0.23564552, -0.27247652, -0.0658202 ,  0.277292  ,\n",
            "         0.24777912,  0.25899085,  0.12927184, -0.16440737,  0.10555286],\n",
            "       [-0.0139498 , -0.29730183, -0.06214313, -0.08672184,  0.08666448,\n",
            "        -0.20270488, -0.18048644,  0.17204542,  0.29817006, -0.05153254,\n",
            "         0.15500045,  0.22850955, -0.05576271, -0.31516925,  0.11793251,\n",
            "         0.26527566, -0.28020465, -0.1065112 ,  0.2321017 , -0.03549422,\n",
            "         0.08175583, -0.23428151,  0.07122773,  0.23047198,  0.242909  ,\n",
            "        -0.21996883, -0.03623689, -0.24761406,  0.24545893, -0.28248656],\n",
            "       [-0.07054796,  0.31461707, -0.18058418, -0.00135556,  0.21069321,\n",
            "        -0.11850174,  0.11563197, -0.19546211,  0.09368379, -0.27561754,\n",
            "        -0.15988916, -0.1408369 , -0.06355025, -0.13527852,  0.22914566,\n",
            "        -0.17169097, -0.25188598, -0.27623048,  0.2652689 , -0.15277609,\n",
            "         0.01882784,  0.03529021,  0.08136629, -0.11015528,  0.29926988,\n",
            "        -0.17555161, -0.14736623,  0.15323775, -0.14154924,  0.24420556],\n",
            "       [ 0.28590375,  0.14144929,  0.28306386,  0.21351093,  0.0498981 ,\n",
            "         0.15399265,  0.01527065,  0.02286847,  0.05409856,  0.00361623,\n",
            "         0.1142728 , -0.08963092, -0.01697036,  0.04466981, -0.06418552,\n",
            "         0.20684932,  0.2542528 ,  0.21225896,  0.25664347, -0.18448386,\n",
            "         0.20022133,  0.03301599, -0.09779828,  0.15821284,  0.07409502,\n",
            "         0.12839189,  0.17164278, -0.32455876,  0.03432843,  0.29986623],\n",
            "       [-0.10089175,  0.04372067,  0.10838489,  0.25974986,  0.13307858,\n",
            "         0.20142291, -0.279135  , -0.21682529,  0.12731966,  0.0885948 ,\n",
            "         0.13880694, -0.04638394,  0.27143905, -0.0399905 , -0.15793893,\n",
            "         0.0546982 , -0.17921022, -0.24302946, -0.05292238, -0.05682936,\n",
            "         0.27102584,  0.0447349 ,  0.00967577,  0.2613989 ,  0.02257665,\n",
            "        -0.1175829 , -0.01565878, -0.15026625, -0.05874482, -0.24602859]],\n",
            "      dtype=float32), 'W2': array([[ 2.16646835e-01,  2.12226123e-01, -3.27673703e-01,\n",
            "         2.13133439e-01, -1.66499913e-01,  5.83633296e-02,\n",
            "        -8.86954889e-02,  2.80238152e-01,  8.08512047e-02,\n",
            "         1.29427224e-01,  2.31176600e-01,  2.99317747e-01,\n",
            "         1.64334744e-01, -2.22004935e-01, -1.97328910e-01,\n",
            "         1.75934121e-01,  1.28550395e-01,  1.32670984e-01,\n",
            "        -7.33669056e-03,  9.26287919e-02,  1.11315936e-01,\n",
            "         2.15163440e-01, -1.42157689e-01,  6.21979162e-02,\n",
            "        -1.19752884e-01,  2.91689634e-01, -1.60134971e-01,\n",
            "        -3.08963805e-01, -1.69788048e-01, -1.75158396e-01],\n",
            "       [-6.97539598e-02,  1.29000902e-01,  5.68733253e-02,\n",
            "         3.08837056e-01,  2.87748367e-01, -2.01642528e-01,\n",
            "        -2.57973433e-01,  2.60995835e-01, -2.83553123e-01,\n",
            "         2.80232728e-02, -2.33912289e-01, -5.53219989e-02,\n",
            "        -5.19043170e-02, -9.02978405e-02,  1.98034465e-01,\n",
            "         5.80287315e-02, -3.39522541e-01, -2.28859186e-01,\n",
            "         2.95980424e-02, -2.69865125e-01,  2.02633485e-01,\n",
            "        -3.08120400e-01, -4.92546074e-02, -1.86890081e-01,\n",
            "        -8.09191614e-02,  1.40605122e-01,  2.63982296e-01,\n",
            "        -1.03637807e-01, -2.77420133e-01, -3.37929010e-01],\n",
            "       [-8.26033130e-02, -2.07197562e-01, -1.17085367e-01,\n",
            "         2.46780738e-01, -4.21173684e-02, -8.22764337e-02,\n",
            "        -8.18788931e-02, -5.68652786e-02,  1.77017614e-01,\n",
            "        -1.67120397e-01, -4.54837456e-02,  5.73290028e-02,\n",
            "         2.36950919e-01,  1.71407089e-01, -3.03917080e-01,\n",
            "         9.00467858e-02, -3.00919823e-03, -1.72680363e-01,\n",
            "         3.17708729e-03, -1.70793291e-02, -1.59420386e-01,\n",
            "        -1.12518676e-01, -8.36266205e-02, -1.65339205e-02,\n",
            "        -2.47413456e-01, -2.60900676e-01, -1.69570938e-01,\n",
            "        -9.31755155e-02, -2.74786502e-01,  3.96074690e-02],\n",
            "       [-6.21482246e-02, -1.48276806e-01,  1.54090315e-01,\n",
            "        -2.14836419e-01,  4.75883558e-02, -1.97067961e-01,\n",
            "        -2.31013730e-01, -2.15427384e-01, -3.34016532e-02,\n",
            "        -1.56478941e-01,  2.97116358e-02, -1.19840629e-01,\n",
            "         2.76350915e-01,  3.04924011e-01, -9.10316557e-02,\n",
            "         3.15666854e-01,  1.92144662e-01,  1.69772699e-01,\n",
            "        -2.03058064e-01, -2.62388617e-01, -2.39868656e-01,\n",
            "        -2.31652364e-01,  2.45311469e-01, -1.46126524e-01,\n",
            "         5.66390716e-02, -2.59484142e-01, -3.26065987e-01,\n",
            "         3.06129545e-01, -1.50648609e-01,  9.55438912e-02],\n",
            "       [ 1.34586217e-02,  1.83274105e-01,  1.04486436e-01,\n",
            "        -1.83389738e-01,  3.08390319e-01,  1.31613344e-01,\n",
            "        -2.41594896e-01,  9.97428223e-02,  2.30131954e-01,\n",
            "         1.73036873e-01, -1.42819867e-01, -9.02499184e-02,\n",
            "        -1.11994706e-01,  2.60001332e-01,  2.15392947e-01,\n",
            "        -2.20707551e-01, -2.94851899e-01,  9.59285870e-02,\n",
            "         2.84707516e-01, -2.72099197e-01,  6.56611770e-02,\n",
            "        -1.89136803e-01, -5.56756044e-03, -1.98170632e-01,\n",
            "         2.64576554e-01, -9.04845446e-03, -4.12155017e-02,\n",
            "        -2.75882721e-01, -5.78346550e-02,  2.55011201e-01],\n",
            "       [ 2.38883160e-02, -1.33003756e-01, -2.83676028e-01,\n",
            "        -2.59913374e-02, -2.81584769e-01,  2.52901316e-01,\n",
            "         1.06506981e-01,  1.18247129e-01, -2.54388601e-01,\n",
            "        -1.43009081e-01,  1.67841449e-01, -1.04990806e-02,\n",
            "         2.95662999e-01,  2.80988514e-01,  1.53563231e-01,\n",
            "        -1.96889862e-01, -2.23179236e-01,  1.46498099e-01,\n",
            "        -5.57956519e-04,  3.00423920e-01,  5.43333888e-02,\n",
            "        -8.04480985e-02, -9.60324183e-02, -2.79367454e-02,\n",
            "         3.22353065e-01,  9.33466703e-02,  2.51151145e-01,\n",
            "        -1.58947423e-01, -1.46553487e-01, -1.97152510e-01],\n",
            "       [ 1.31348416e-01, -2.96075165e-01, -4.49222513e-02,\n",
            "         1.73713580e-01,  6.50705397e-02, -2.31708542e-01,\n",
            "         5.21460287e-02,  1.38952797e-02, -3.34891200e-01,\n",
            "        -1.66184425e-01, -1.95541486e-01,  2.46688485e-01,\n",
            "         7.14667216e-02,  1.07347503e-01,  1.39403000e-01,\n",
            "        -2.72620291e-01, -3.25751156e-01,  2.61048168e-01,\n",
            "        -1.21096335e-01,  2.22622618e-01,  2.83130080e-01,\n",
            "        -9.57277790e-02,  3.94846573e-02, -3.70151214e-02,\n",
            "        -1.29499823e-01, -2.09334213e-02,  2.52968639e-01,\n",
            "         5.03328778e-02,  4.04372774e-02,  2.31579617e-01],\n",
            "       [-2.13343024e-01, -7.63579607e-02, -2.58891523e-01,\n",
            "         3.11218351e-01,  3.47602040e-01,  2.18260754e-02,\n",
            "        -8.39463845e-02, -3.08158267e-02, -2.82186091e-01,\n",
            "        -5.38016558e-02, -2.94237852e-01,  2.18347255e-02,\n",
            "        -1.81805834e-01, -2.86420226e-01, -3.36639673e-01,\n",
            "         2.40918308e-01,  8.28429386e-02, -2.11084634e-01,\n",
            "        -1.82320401e-01,  9.63314027e-02, -4.06531878e-02,\n",
            "        -2.33911052e-02,  1.24523871e-01, -9.69455913e-02,\n",
            "         2.28630722e-01,  1.66984558e-01,  1.65135726e-01,\n",
            "         2.69014955e-01,  2.49637216e-01,  1.61858320e-01],\n",
            "       [-1.74183533e-01, -2.03965232e-01, -2.04816952e-01,\n",
            "        -2.23176762e-01,  2.42688507e-02, -1.88355148e-02,\n",
            "         1.47895023e-01, -2.17282735e-02,  4.65926938e-02,\n",
            "        -1.34433344e-01, -2.40081206e-01, -1.97680458e-01,\n",
            "        -9.30482242e-03, -8.39875340e-02, -3.13815981e-01,\n",
            "        -2.57627249e-01,  8.84375870e-02, -2.47802749e-01,\n",
            "        -3.58385630e-02,  1.02216430e-01, -1.98179439e-01,\n",
            "         2.26389706e-01, -1.46296993e-01,  2.55447835e-01,\n",
            "        -1.24060765e-01,  3.13256751e-03,  1.60576269e-01,\n",
            "        -1.51050553e-01,  1.42435342e-01,  1.07613824e-01],\n",
            "       [ 1.52807847e-01,  2.15431601e-01, -2.58282125e-01,\n",
            "        -1.27725303e-02,  8.39247853e-02, -9.58965197e-02,\n",
            "        -3.03552985e-01,  2.90972382e-01,  4.31420356e-02,\n",
            "        -2.92249560e-01,  2.78466105e-01,  2.03768611e-01,\n",
            "        -1.81692746e-02,  2.05963477e-01, -2.31476370e-02,\n",
            "        -2.99271733e-01, -9.93589461e-02,  1.12134874e-01,\n",
            "        -3.81127410e-02, -2.22804055e-01,  1.11757614e-01,\n",
            "        -3.05524439e-01,  2.29187489e-01,  4.40012626e-02,\n",
            "         2.27299288e-01, -2.62916297e-01, -1.37475550e-01,\n",
            "         2.66533613e-01,  5.60418367e-02,  3.35742533e-01],\n",
            "       [ 1.39142111e-01, -1.46407843e-01,  8.39040950e-02,\n",
            "         1.33685142e-01, -1.81838855e-01, -1.99254677e-01,\n",
            "        -1.15067653e-01,  3.42796087e-01,  2.95255899e-01,\n",
            "        -2.42560029e-01, -2.33409986e-01, -2.81759173e-01,\n",
            "        -7.25460798e-02, -3.00254345e-01,  2.16520458e-01,\n",
            "         1.62797213e-01,  2.31175825e-01, -8.82087201e-02,\n",
            "         4.00409736e-02,  1.60056993e-01, -3.10349584e-01,\n",
            "        -4.44738939e-02, -2.27883771e-01,  2.80859172e-02,\n",
            "         3.23461443e-01,  1.50331989e-01,  1.55512139e-01,\n",
            "        -1.89295679e-01,  1.27885550e-01,  2.83700079e-01],\n",
            "       [-3.01764578e-01,  1.68492541e-01, -1.30538225e-01,\n",
            "         2.70107150e-01, -1.80894434e-01, -1.89798623e-01,\n",
            "        -2.70149112e-01,  1.26888469e-01,  2.14142367e-01,\n",
            "        -3.13539714e-01,  1.29162982e-01,  2.54148781e-01,\n",
            "        -2.67710149e-01, -3.35318297e-01, -2.66942441e-01,\n",
            "        -2.28158310e-01,  1.23803049e-01,  6.53334185e-02,\n",
            "         1.12296000e-01,  1.01496458e-01,  1.53993264e-01,\n",
            "         2.07079142e-01, -4.51754667e-02, -1.66766450e-01,\n",
            "         6.40525296e-02,  2.63653964e-01, -2.52882689e-01,\n",
            "        -2.10573018e-01, -2.36537665e-01, -2.66549528e-01],\n",
            "       [ 2.76959717e-01,  5.98463118e-02, -1.61466628e-01,\n",
            "        -1.24037229e-01,  3.31607126e-02, -8.16343203e-02,\n",
            "        -7.67393038e-02, -7.64721632e-02,  1.18552342e-01,\n",
            "         1.44578189e-01, -7.44783506e-02,  1.39400065e-01,\n",
            "        -2.83675790e-01,  2.48206392e-01, -9.26960111e-02,\n",
            "         2.38027155e-01,  1.45594060e-01, -1.89708009e-01,\n",
            "        -3.04829422e-02, -1.22133575e-01, -7.00988024e-02,\n",
            "         1.35291800e-01, -1.39689799e-02,  1.17606498e-01,\n",
            "        -8.41299891e-02, -2.81256735e-01,  5.03675118e-02,\n",
            "         2.19436940e-02, -2.22962201e-02, -2.43570641e-01],\n",
            "       [ 2.36038730e-01,  2.02901706e-01,  2.57422358e-01,\n",
            "        -4.68030684e-02,  9.90808196e-03,  9.83389840e-02,\n",
            "         2.07124591e-01,  1.34937093e-01, -1.28472656e-01,\n",
            "         2.71915913e-01, -7.56239444e-02, -6.24146359e-03,\n",
            "        -1.78424925e-01,  4.14164849e-02, -1.22579977e-01,\n",
            "         2.96942651e-01, -2.62230337e-01,  1.55150428e-01,\n",
            "         1.11533649e-01, -3.04555953e-01,  2.95256376e-01,\n",
            "         2.75548548e-01,  2.44733438e-01, -7.59975836e-02,\n",
            "         3.02915841e-01,  2.91724265e-01, -5.18781208e-02,\n",
            "         2.74609089e-01,  1.46488264e-01,  2.92679220e-01],\n",
            "       [-3.13408226e-01, -2.72827029e-01,  6.46905228e-02,\n",
            "         2.83323545e-02, -2.05361709e-01, -1.85811922e-01,\n",
            "         1.98020086e-01,  2.36144811e-01,  2.18618605e-02,\n",
            "        -1.76018655e-01, -6.97474331e-02, -8.10194612e-02,\n",
            "         2.20411748e-01, -1.39210761e-01,  8.89188573e-02,\n",
            "        -4.25625183e-02, -1.33611113e-01,  8.98031220e-02,\n",
            "        -5.96678965e-02,  2.08321005e-01, -1.66473642e-01,\n",
            "        -2.55299032e-01, -6.09287396e-02,  2.57359724e-02,\n",
            "        -7.61309192e-02,  3.26077700e-01, -1.44016251e-01,\n",
            "        -1.12794317e-01, -1.32882267e-01, -2.70660758e-01],\n",
            "       [-1.90832406e-01, -3.23595017e-01,  2.89426088e-01,\n",
            "         1.09490752e-01,  2.22495064e-01,  2.35424399e-01,\n",
            "         1.87443972e-01, -2.63366461e-01, -8.45179558e-02,\n",
            "        -1.88568801e-01,  8.70417506e-02, -8.77548307e-02,\n",
            "         1.65720493e-01,  1.29551575e-01, -7.95688480e-02,\n",
            "         4.24294248e-02,  2.60066897e-01, -3.12405974e-01,\n",
            "        -2.82870710e-01, -8.85331258e-02,  4.17413525e-02,\n",
            "        -3.10932146e-03,  2.15987995e-01, -2.82341242e-01,\n",
            "         1.04214743e-01, -9.24685150e-02, -1.78330362e-01,\n",
            "         1.66683286e-01, -2.98866481e-01, -7.45798573e-02],\n",
            "       [-1.53669298e-01, -9.45191756e-02, -1.66013211e-01,\n",
            "        -4.67342474e-02, -9.78820324e-02,  1.14479221e-01,\n",
            "        -1.06620781e-01, -2.48855993e-01,  6.66702632e-03,\n",
            "         1.80767134e-01, -1.28959358e-01,  2.50118166e-01,\n",
            "        -2.77509600e-01,  1.62108138e-01,  1.48318484e-01,\n",
            "        -4.14622314e-02,  1.01461962e-01, -1.19808890e-01,\n",
            "         1.14421234e-01, -1.91002712e-01, -2.10873425e-01,\n",
            "         2.71193594e-01,  2.07063407e-01,  2.19233811e-01,\n",
            "         2.00824425e-01,  1.98045075e-01,  2.26434514e-01,\n",
            "         6.72406554e-02,  2.30465323e-01,  9.41538960e-02],\n",
            "       [-2.89577842e-01,  2.32662871e-01, -3.07758033e-01,\n",
            "        -2.01564521e-01,  2.81389207e-01,  1.76190346e-01,\n",
            "         2.51082808e-01,  2.14545503e-01,  2.87390441e-01,\n",
            "        -2.82662004e-01,  1.58126891e-01,  2.64704712e-02,\n",
            "         2.64064074e-01,  2.46664092e-01, -4.34885360e-02,\n",
            "         3.13906103e-01,  1.53208554e-01,  1.56413645e-01,\n",
            "        -9.09430534e-02, -2.62985118e-02,  1.72734335e-01,\n",
            "         2.62834668e-01,  1.58268765e-01,  1.06008351e-02,\n",
            "         9.52277556e-02,  8.74615908e-02, -1.80860213e-03,\n",
            "        -2.08425179e-01, -2.58561403e-01, -3.12724352e-01],\n",
            "       [ 1.69206783e-01, -1.95202008e-01, -1.43424854e-01,\n",
            "        -1.18031442e-01, -2.04634383e-01,  2.44036406e-01,\n",
            "        -1.25445604e-01,  3.04571033e-01, -4.88437936e-02,\n",
            "        -2.01734006e-01, -3.08698565e-01,  1.55039892e-01,\n",
            "        -2.84583390e-01,  4.25780490e-02, -1.27398074e-01,\n",
            "         2.68522441e-01, -1.65888742e-01, -1.85108811e-01,\n",
            "         2.39002615e-01,  1.22197149e-02, -1.51382700e-01,\n",
            "        -1.04021318e-01,  1.64194271e-01,  2.91540444e-01,\n",
            "         2.30078280e-01, -2.85100311e-01,  1.31808311e-01,\n",
            "        -1.94347739e-01,  9.57129598e-02,  1.72468305e-01],\n",
            "       [ 2.55013436e-01, -3.52536445e-03,  6.50700182e-02,\n",
            "        -1.27180010e-01, -2.28631765e-01, -1.65725425e-01,\n",
            "        -8.17269906e-02, -2.83157200e-01, -7.43480027e-02,\n",
            "        -2.91496545e-01, -9.86779556e-02,  2.96512008e-01,\n",
            "         1.20252043e-01,  5.53457662e-02,  7.99721852e-02,\n",
            "         1.79477945e-01,  2.02123463e-01,  8.62827972e-02,\n",
            "        -3.04896712e-01,  7.25982264e-02,  2.24690378e-01,\n",
            "        -9.28942952e-03,  1.95564836e-01, -5.83430454e-02,\n",
            "        -9.01707560e-02,  1.17584355e-01, -8.04997087e-02,\n",
            "         1.83946043e-01,  1.02490917e-01,  6.05878718e-02],\n",
            "       [ 3.00773736e-02,  9.18887332e-02,  2.52224207e-01,\n",
            "        -2.25127012e-01,  2.70507336e-01, -3.66997607e-02,\n",
            "         1.59382150e-01,  1.08439587e-02, -2.58405954e-01,\n",
            "        -2.67155856e-01, -1.15551464e-01, -1.44282550e-01,\n",
            "         1.55779079e-01,  6.48799464e-02,  1.45253956e-01,\n",
            "        -1.03838898e-01,  2.66171783e-01, -7.81449005e-02,\n",
            "        -2.94568278e-02,  2.57732362e-01,  2.77312964e-01,\n",
            "        -3.26253802e-01, -2.71983027e-01, -1.92553531e-02,\n",
            "         2.41677836e-01, -2.72449255e-01,  1.39781266e-01,\n",
            "         2.90569872e-01, -2.45811045e-01,  9.03046578e-02],\n",
            "       [-1.19799353e-01, -1.30531460e-01,  2.91905049e-02,\n",
            "        -2.77135968e-01, -9.36176330e-02, -1.16818681e-01,\n",
            "        -2.12797150e-01,  6.20417446e-02, -9.11170617e-02,\n",
            "        -4.15093005e-02, -2.10025221e-01, -1.29997041e-02,\n",
            "         2.69035637e-01, -2.40253061e-01, -5.91229973e-03,\n",
            "         7.52241816e-03,  8.89307484e-02, -2.72109360e-01,\n",
            "        -8.91606957e-02, -2.37873152e-01, -2.28378400e-01,\n",
            "         1.67502925e-01, -2.89948553e-01, -1.73299700e-01,\n",
            "         2.14551151e-01,  2.58018613e-01,  4.81142998e-02,\n",
            "         1.41333103e-01, -5.74307702e-02, -9.97304916e-02],\n",
            "       [-1.61288679e-01,  1.04021328e-02,  1.68652385e-01,\n",
            "        -2.56522954e-01, -1.86551120e-02, -1.40119299e-01,\n",
            "        -2.97008045e-02,  1.48168802e-01,  2.71028608e-01,\n",
            "        -5.54806776e-02,  1.31755590e-01,  1.33950040e-01,\n",
            "        -4.38606925e-02,  2.30864286e-01,  1.16148330e-01,\n",
            "        -4.29405011e-02, -1.21924415e-01, -1.50218695e-01,\n",
            "        -5.59808221e-03,  5.09093106e-02, -3.05393368e-01,\n",
            "         2.22736925e-01, -9.86646041e-02, -1.95116058e-01,\n",
            "         2.93564767e-01,  7.97431543e-02,  1.87230483e-01,\n",
            "         6.20247647e-02, -2.08809927e-01,  2.13198975e-01],\n",
            "       [ 4.06966805e-02, -2.50479192e-01,  2.81040192e-01,\n",
            "        -2.80546725e-01,  1.09272741e-01, -1.60804391e-01,\n",
            "        -1.08834319e-01, -1.32962912e-01, -4.47784178e-02,\n",
            "        -1.14864677e-01, -3.02392572e-01, -4.36248742e-02,\n",
            "         1.69539630e-01, -1.50541544e-01,  1.85187057e-01,\n",
            "         2.10174099e-01,  9.61944461e-02,  4.89896983e-02,\n",
            "        -2.39568353e-01, -1.94259167e-01,  1.18015800e-02,\n",
            "        -2.73704920e-02,  3.02285761e-01,  1.60122529e-01,\n",
            "        -7.85814375e-02, -1.34453952e-01, -2.42522568e-01,\n",
            "        -1.37832552e-01,  9.51647311e-02,  1.00980103e-01],\n",
            "       [-1.06327340e-01, -1.06106706e-01, -1.46511987e-01,\n",
            "        -1.36781976e-01, -2.70157695e-01, -2.97436446e-01,\n",
            "        -2.27101576e-02,  2.07670048e-01, -5.54554835e-02,\n",
            "        -2.49309197e-01,  2.90169418e-01, -4.21236791e-02,\n",
            "        -1.74900711e-01, -2.29035884e-01,  1.18924931e-01,\n",
            "        -1.10683531e-01, -3.00167948e-01, -1.84774429e-01,\n",
            "         5.79578392e-02, -3.17373991e-01, -2.21271291e-01,\n",
            "        -3.20658386e-01, -3.61664742e-02, -2.89894436e-02,\n",
            "         1.37424693e-01, -1.13434739e-01,  1.13780923e-01,\n",
            "         2.32580915e-01,  1.90529391e-01,  1.65516622e-02],\n",
            "       [-3.17399710e-01, -2.59256542e-01,  8.46435409e-03,\n",
            "         2.65924811e-01,  2.05172077e-01, -1.00231193e-01,\n",
            "         3.02092612e-01, -1.42690256e-01, -2.94815749e-01,\n",
            "        -1.26919672e-01,  2.22261533e-01, -5.53976633e-02,\n",
            "         2.74551272e-01,  2.61977315e-01,  4.03302796e-02,\n",
            "        -2.11217403e-01,  6.20635785e-03,  6.48668483e-02,\n",
            "        -2.33711556e-01,  1.00635596e-01, -3.61951850e-02,\n",
            "         1.12764956e-02, -2.14890197e-01, -1.50007740e-01,\n",
            "         1.11746423e-01,  2.81465918e-01,  2.04543546e-01,\n",
            "         8.29844326e-02,  2.71126419e-01, -1.32329971e-01],\n",
            "       [ 1.51147604e-01, -1.27207115e-01, -2.71201104e-01,\n",
            "         5.90249896e-02,  2.94850916e-01, -6.59082457e-03,\n",
            "        -1.79142803e-01, -3.65431830e-02,  8.18716642e-03,\n",
            "         1.21362358e-01,  2.19675153e-01, -2.14872286e-01,\n",
            "        -1.58448994e-01,  2.75214702e-01, -4.06947080e-03,\n",
            "        -1.54153153e-01,  2.14858308e-01,  2.62505591e-01,\n",
            "        -2.17681482e-01,  3.92160900e-02,  5.33075444e-02,\n",
            "         9.03573185e-02,  3.23410064e-01, -1.90999135e-01,\n",
            "         5.59197702e-02, -2.26429090e-01,  1.06703818e-01,\n",
            "        -1.42119586e-01, -2.88562089e-01, -1.83667298e-02],\n",
            "       [ 2.66347557e-01,  2.03427136e-01, -2.67689794e-01,\n",
            "        -1.43978894e-01,  4.59484458e-02,  3.68192792e-02,\n",
            "         2.07782313e-01, -5.94820045e-02,  1.26839960e-02,\n",
            "         1.35493994e-01, -2.35600382e-01,  7.90054724e-03,\n",
            "         2.06268489e-01,  9.44937989e-02,  1.58525169e-01,\n",
            "        -5.49152903e-02, -2.18744174e-01, -1.77971162e-02,\n",
            "         1.14349753e-01,  1.76173672e-01, -9.94699597e-02,\n",
            "        -1.47646409e-04, -3.00360918e-01, -3.44772637e-02,\n",
            "         1.87640116e-01,  2.92287946e-01,  2.35587239e-01,\n",
            "         4.68996130e-02,  4.96589318e-02, -1.45953819e-01],\n",
            "       [-6.24862015e-02,  5.62607050e-02, -2.67549098e-01,\n",
            "        -1.74814314e-01, -7.16868937e-02,  1.98843330e-01,\n",
            "         1.32981390e-01, -1.90641746e-01,  1.31549358e-01,\n",
            "         2.01279789e-01, -7.53132254e-02, -8.14955831e-02,\n",
            "        -1.38516426e-02,  1.66078776e-01,  1.71183765e-01,\n",
            "        -7.14927912e-03, -1.59652457e-01,  1.86370403e-01,\n",
            "         8.71929824e-02,  3.04891258e-01,  2.87731320e-01,\n",
            "         2.54794359e-02,  1.32930279e-01, -1.00317001e-02,\n",
            "         1.92798764e-01, -2.53224820e-01, -1.61359772e-01,\n",
            "         1.90544575e-01, -1.32047191e-01,  1.32369280e-01],\n",
            "       [ 1.30566061e-01, -5.86903654e-02, -1.63099393e-01,\n",
            "         1.72366217e-01,  7.64583871e-02,  2.16924787e-01,\n",
            "         1.67168304e-01, -1.89925745e-01, -7.60188550e-02,\n",
            "        -1.67167410e-01,  2.08328009e-01, -4.49953228e-02,\n",
            "         2.22804189e-01, -2.84888506e-01, -1.55721173e-01,\n",
            "        -2.13907719e-01,  3.11440349e-01,  1.45705253e-01,\n",
            "         1.80736139e-01,  2.06861228e-01, -6.80991262e-02,\n",
            "         2.69040257e-01, -1.99879333e-01,  3.15959185e-01,\n",
            "        -1.13063738e-01, -1.11828350e-01, -2.23842546e-01,\n",
            "         3.01487923e-01,  2.36366913e-01, -4.28463742e-02]], dtype=float32), 'W3': array([[-0.31167254],\n",
            "       [-0.30298585],\n",
            "       [-0.28102335],\n",
            "       [ 0.30170873],\n",
            "       [ 0.08890441],\n",
            "       [ 0.29728407],\n",
            "       [ 0.2192596 ],\n",
            "       [ 0.18890782],\n",
            "       [-0.1336521 ],\n",
            "       [ 0.07420678],\n",
            "       [-0.33155715],\n",
            "       [ 0.17423643],\n",
            "       [ 0.1659374 ],\n",
            "       [-0.37590906],\n",
            "       [-0.22872098],\n",
            "       [ 0.38522342],\n",
            "       [-0.30330318],\n",
            "       [-0.24859689],\n",
            "       [-0.2060964 ],\n",
            "       [ 0.02115303],\n",
            "       [-0.37814274],\n",
            "       [-0.379618  ],\n",
            "       [ 0.25517526],\n",
            "       [ 0.11410017],\n",
            "       [ 0.09040171],\n",
            "       [-0.21838284],\n",
            "       [-0.29822943],\n",
            "       [-0.03057048],\n",
            "       [ 0.1641662 ],\n",
            "       [-0.2516978 ]], dtype=float32)}, 'W_40': {'W1': array([[ 0.20383458, -0.01516428,  0.22492371, ..., -0.06564424,\n",
            "         0.00291939,  0.04594959],\n",
            "       [ 0.12249655, -0.24269111,  0.2451792 , ..., -0.19311966,\n",
            "        -0.04915072,  0.24765387],\n",
            "       [-0.18827648,  0.18392885, -0.01616655, ...,  0.0987842 ,\n",
            "         0.26546377, -0.18037157],\n",
            "       ...,\n",
            "       [ 0.15558098, -0.04833285,  0.22458725, ...,  0.05144781,\n",
            "         0.25328225, -0.12632409],\n",
            "       [-0.1581854 ,  0.22799182,  0.15547109, ...,  0.07742268,\n",
            "         0.24559386, -0.28344288],\n",
            "       [ 0.2737953 ,  0.24523899,  0.1744713 , ..., -0.19579232,\n",
            "        -0.05358221, -0.25422218]], dtype=float32), 'W2': array([[-0.22108455,  0.21836734, -0.19630642, ..., -0.10139745,\n",
            "        -0.16748115,  0.16386844],\n",
            "       [ 0.16545285,  0.08531407,  0.076515  , ...,  0.14497077,\n",
            "         0.16023706, -0.03406155],\n",
            "       [ 0.12377995, -0.17390607, -0.21070848, ...,  0.17927068,\n",
            "        -0.18494959, -0.18007216],\n",
            "       ...,\n",
            "       [ 0.23109975, -0.02085164,  0.20510092, ...,  0.06419641,\n",
            "         0.28059494, -0.18400283],\n",
            "       [ 0.11583791, -0.21572126, -0.22621949, ..., -0.14664574,\n",
            "         0.1455226 , -0.1821484 ],\n",
            "       [ 0.12348378, -0.14088751,  0.14325869, ...,  0.22145994,\n",
            "        -0.21872342, -0.1521262 ]], dtype=float32), 'W3': array([[-0.04641756],\n",
            "       [-0.11196819],\n",
            "       [-0.29235724],\n",
            "       [-0.12803435],\n",
            "       [-0.20819312],\n",
            "       [-0.02651642],\n",
            "       [-0.25322205],\n",
            "       [-0.18964529],\n",
            "       [ 0.25431734],\n",
            "       [-0.3718146 ],\n",
            "       [ 0.2831369 ],\n",
            "       [ 0.11408553],\n",
            "       [-0.1741553 ],\n",
            "       [ 0.16102771],\n",
            "       [ 0.06473953],\n",
            "       [ 0.2699917 ],\n",
            "       [-0.33705065],\n",
            "       [-0.20460099],\n",
            "       [ 0.15257713],\n",
            "       [ 0.3520437 ],\n",
            "       [-0.06377015],\n",
            "       [-0.24078706],\n",
            "       [-0.25547084],\n",
            "       [ 0.31829178],\n",
            "       [ 0.17953542],\n",
            "       [ 0.36540183],\n",
            "       [ 0.25620005],\n",
            "       [ 0.04365125],\n",
            "       [-0.10999457],\n",
            "       [-0.24872874],\n",
            "       [-0.08238202],\n",
            "       [-0.24396609],\n",
            "       [ 0.35371965],\n",
            "       [-0.2656853 ],\n",
            "       [-0.04468376],\n",
            "       [ 0.20346192],\n",
            "       [-0.26309565],\n",
            "       [-0.31660712],\n",
            "       [-0.21472976],\n",
            "       [ 0.04252855]], dtype=float32)}, 'W_45': {'W1': array([[ 0.08174798,  0.12724769,  0.14410135, ...,  0.22715469,\n",
            "         0.00997296,  0.23514673],\n",
            "       [ 0.0714607 ,  0.00873197,  0.2172324 , ...,  0.1292515 ,\n",
            "         0.08993403, -0.20382918],\n",
            "       [ 0.05600334,  0.00172447,  0.07786688, ...,  0.05517525,\n",
            "        -0.18398851, -0.21007851],\n",
            "       ...,\n",
            "       [ 0.02106807, -0.08915851, -0.21847694, ...,  0.11831479,\n",
            "        -0.23027925,  0.12060199],\n",
            "       [ 0.17139307,  0.08712728, -0.07372102, ...,  0.10442472,\n",
            "        -0.19258894, -0.2815149 ],\n",
            "       [-0.09519608, -0.01355402, -0.16521302, ...,  0.15649556,\n",
            "        -0.09743997,  0.14958866]], dtype=float32), 'W2': array([[-0.18287438, -0.10597137, -0.24357471, ...,  0.07729974,\n",
            "        -0.01614667,  0.22242822],\n",
            "       [-0.08583582,  0.12782045,  0.16276154, ...,  0.14279759,\n",
            "         0.12365936,  0.12768812],\n",
            "       [ 0.09624839, -0.02972704, -0.16714445, ..., -0.1543907 ,\n",
            "         0.05096793,  0.16604087],\n",
            "       ...,\n",
            "       [-0.02021781,  0.2164206 ,  0.06860802, ...,  0.26142034,\n",
            "         0.11386754,  0.07632724],\n",
            "       [-0.12784848,  0.18073823,  0.22472775, ..., -0.02183815,\n",
            "        -0.16475664,  0.16848382],\n",
            "       [-0.13530523,  0.18151633, -0.24920857, ..., -0.12964857,\n",
            "         0.19019932, -0.12785481]], dtype=float32), 'W3': array([[ 0.18737994],\n",
            "       [-0.14699656],\n",
            "       [-0.02224058],\n",
            "       [ 0.1679244 ],\n",
            "       [ 0.2585613 ],\n",
            "       [-0.32625148],\n",
            "       [-0.33284083],\n",
            "       [-0.06191073],\n",
            "       [ 0.27031216],\n",
            "       [ 0.29756674],\n",
            "       [ 0.22937024],\n",
            "       [ 0.3247834 ],\n",
            "       [ 0.27618057],\n",
            "       [ 0.24915716],\n",
            "       [ 0.17195722],\n",
            "       [-0.2793145 ],\n",
            "       [ 0.047717  ],\n",
            "       [-0.3068255 ],\n",
            "       [-0.19312678],\n",
            "       [ 0.15243584],\n",
            "       [ 0.10341045],\n",
            "       [ 0.1568768 ],\n",
            "       [-0.29150137],\n",
            "       [ 0.07464361],\n",
            "       [-0.24927123],\n",
            "       [-0.06319643],\n",
            "       [-0.1456355 ],\n",
            "       [-0.18080832],\n",
            "       [-0.20433177],\n",
            "       [ 0.22721297],\n",
            "       [ 0.34000695],\n",
            "       [ 0.12803513],\n",
            "       [ 0.16980077],\n",
            "       [ 0.02766716],\n",
            "       [ 0.09707168],\n",
            "       [-0.30794817],\n",
            "       [ 0.00527643],\n",
            "       [-0.27333963],\n",
            "       [ 0.21581405],\n",
            "       [ 0.3004159 ],\n",
            "       [-0.24013358],\n",
            "       [ 0.21630129],\n",
            "       [ 0.06228192],\n",
            "       [-0.00490437],\n",
            "       [-0.30131465]], dtype=float32)}, 'W_50': {'W1': array([[-0.09086954,  0.00647087,  0.23698436, ...,  0.12034436,\n",
            "         0.23115243, -0.20899063],\n",
            "       [ 0.15458037,  0.01397529,  0.02121245, ...,  0.21607512,\n",
            "         0.1732987 , -0.18630482],\n",
            "       [ 0.06519142,  0.17116007,  0.12872899, ..., -0.01662291,\n",
            "        -0.22061041,  0.20543128],\n",
            "       ...,\n",
            "       [ 0.13521354,  0.07820905, -0.1256956 , ..., -0.17990842,\n",
            "        -0.11137616,  0.12586364],\n",
            "       [ 0.19666736, -0.08282246, -0.11461862, ..., -0.20465584,\n",
            "        -0.07947785, -0.14850657],\n",
            "       [-0.19932558,  0.10384151, -0.01166196, ..., -0.16930313,\n",
            "        -0.1038987 ,  0.22227895]], dtype=float32), 'W2': array([[-0.01447545, -0.04284299,  0.17117251, ...,  0.1548143 ,\n",
            "         0.22865531, -0.06468632],\n",
            "       [ 0.00925123, -0.24150108, -0.01105663, ...,  0.23302226,\n",
            "         0.14972621,  0.14552407],\n",
            "       [ 0.20562033,  0.15295827, -0.15623869, ..., -0.11010735,\n",
            "        -0.1738413 ,  0.1849267 ],\n",
            "       ...,\n",
            "       [ 0.03751527, -0.22252707,  0.0709418 , ..., -0.06269475,\n",
            "         0.25866345, -0.2582486 ],\n",
            "       [-0.07559393, -0.138594  ,  0.17240661, ...,  0.13463104,\n",
            "         0.18432695,  0.01413105],\n",
            "       [-0.21745127, -0.19753486, -0.23610708, ...,  0.15252204,\n",
            "        -0.21044825, -0.23367338]], dtype=float32), 'W3': array([[-0.06549735],\n",
            "       [-0.28820586],\n",
            "       [ 0.20809565],\n",
            "       [-0.10822497],\n",
            "       [-0.14819255],\n",
            "       [-0.2754714 ],\n",
            "       [ 0.14766052],\n",
            "       [-0.19233453],\n",
            "       [-0.21873607],\n",
            "       [-0.20295267],\n",
            "       [-0.02812325],\n",
            "       [-0.04125883],\n",
            "       [ 0.15572502],\n",
            "       [-0.00827589],\n",
            "       [ 0.2637368 ],\n",
            "       [ 0.3485493 ],\n",
            "       [-0.00397207],\n",
            "       [-0.29351413],\n",
            "       [ 0.3134196 ],\n",
            "       [ 0.20425299],\n",
            "       [-0.00619966],\n",
            "       [ 0.10772397],\n",
            "       [ 0.12889096],\n",
            "       [ 0.20057905],\n",
            "       [-0.03121922],\n",
            "       [ 0.13172704],\n",
            "       [-0.169496  ],\n",
            "       [ 0.00590689],\n",
            "       [ 0.20708248],\n",
            "       [ 0.04333798],\n",
            "       [-0.14502369],\n",
            "       [ 0.18703517],\n",
            "       [ 0.07389258],\n",
            "       [-0.05166581],\n",
            "       [ 0.30326807],\n",
            "       [-0.28379586],\n",
            "       [ 0.11319724],\n",
            "       [-0.06384236],\n",
            "       [-0.288547  ],\n",
            "       [ 0.18986198],\n",
            "       [-0.27321061],\n",
            "       [ 0.21723521],\n",
            "       [ 0.12900293],\n",
            "       [ 0.07681414],\n",
            "       [-0.22345035],\n",
            "       [ 0.06125508],\n",
            "       [ 0.02873652],\n",
            "       [-0.09434641],\n",
            "       [-0.18245742],\n",
            "       [-0.07899504]], dtype=float32)}, 'W_100': {'W1': array([[-0.03445853, -0.08395913,  0.02143748, ..., -0.05711464,\n",
            "        -0.01778242, -0.16812792],\n",
            "       [ 0.11514541, -0.13498823,  0.03308846, ..., -0.18570296,\n",
            "         0.13236792,  0.05692851],\n",
            "       [-0.10055011, -0.012143  , -0.17169854, ...,  0.06719471,\n",
            "         0.15643127, -0.04033957],\n",
            "       ...,\n",
            "       [ 0.06043331, -0.11287154, -0.05328474, ..., -0.13143553,\n",
            "        -0.15362448, -0.14040066],\n",
            "       [ 0.024922  , -0.18061252,  0.10569389, ..., -0.06575537,\n",
            "        -0.09825103, -0.10015023],\n",
            "       [-0.04030792,  0.08825968,  0.1359413 , ..., -0.12000865,\n",
            "         0.05989202, -0.04588812]], dtype=float32), 'W2': array([[ 0.07943353, -0.14658408, -0.12049596, ...,  0.01456141,\n",
            "         0.16041669,  0.16811812],\n",
            "       [-0.1496618 ,  0.06137856,  0.08222358, ..., -0.13255438,\n",
            "        -0.00238758, -0.03831063],\n",
            "       [ 0.06193016, -0.01886793, -0.08246244, ..., -0.06726239,\n",
            "         0.08140156, -0.05390944],\n",
            "       ...,\n",
            "       [ 0.05282387, -0.14359298,  0.03677563, ...,  0.14263994,\n",
            "         0.00448003,  0.0645965 ],\n",
            "       [-0.06830602,  0.0302996 ,  0.2003304 , ...,  0.13207343,\n",
            "        -0.11036951, -0.02100817],\n",
            "       [ 0.14139575, -0.1103742 ,  0.06693088, ..., -0.07992279,\n",
            "         0.05289556,  0.03619473]], dtype=float32), 'W3': array([[ 0.14116575],\n",
            "       [ 0.09017237],\n",
            "       [-0.17312345],\n",
            "       [-0.22778688],\n",
            "       [ 0.04029942],\n",
            "       [ 0.09977767],\n",
            "       [-0.14337032],\n",
            "       [ 0.06550923],\n",
            "       [ 0.14427155],\n",
            "       [ 0.09432726],\n",
            "       [ 0.05231128],\n",
            "       [-0.08288717],\n",
            "       [ 0.22400598],\n",
            "       [ 0.07522691],\n",
            "       [-0.091789  ],\n",
            "       [-0.01901276],\n",
            "       [-0.04700583],\n",
            "       [-0.27203363],\n",
            "       [ 0.13760361],\n",
            "       [ 0.08516666],\n",
            "       [ 0.20319432],\n",
            "       [-0.14703454],\n",
            "       [ 0.22010857],\n",
            "       [ 0.05993063],\n",
            "       [-0.14928578],\n",
            "       [-0.09853007],\n",
            "       [-0.04676735],\n",
            "       [-0.20587663],\n",
            "       [ 0.16571936],\n",
            "       [ 0.0263645 ],\n",
            "       [-0.16813204],\n",
            "       [ 0.08744019],\n",
            "       [ 0.21877159],\n",
            "       [ 0.20830286],\n",
            "       [ 0.22358406],\n",
            "       [-0.01578648],\n",
            "       [-0.10373742],\n",
            "       [-0.17071322],\n",
            "       [-0.14047499],\n",
            "       [ 0.23192242],\n",
            "       [ 0.07663621],\n",
            "       [-0.19064316],\n",
            "       [ 0.17203683],\n",
            "       [ 0.10389027],\n",
            "       [ 0.04189462],\n",
            "       [-0.12508571],\n",
            "       [ 0.18912044],\n",
            "       [-0.2471926 ],\n",
            "       [-0.12047195],\n",
            "       [-0.2537204 ],\n",
            "       [ 0.1982633 ],\n",
            "       [-0.10358871],\n",
            "       [-0.05101695],\n",
            "       [ 0.20712425],\n",
            "       [ 0.20324165],\n",
            "       [ 0.11527362],\n",
            "       [ 0.2055187 ],\n",
            "       [-0.03804347],\n",
            "       [-0.05507611],\n",
            "       [-0.01209863],\n",
            "       [-0.20096244],\n",
            "       [ 0.23047522],\n",
            "       [-0.24594145],\n",
            "       [ 0.191678  ],\n",
            "       [ 0.05340253],\n",
            "       [-0.19827248],\n",
            "       [-0.23455076],\n",
            "       [ 0.16160631],\n",
            "       [ 0.27711493],\n",
            "       [ 0.16042489],\n",
            "       [-0.19998075],\n",
            "       [ 0.02411637],\n",
            "       [-0.24977094],\n",
            "       [ 0.18623045],\n",
            "       [-0.06510209],\n",
            "       [-0.03619043],\n",
            "       [ 0.06654081],\n",
            "       [-0.20243157],\n",
            "       [-0.02024319],\n",
            "       [-0.15513487],\n",
            "       [ 0.1716754 ],\n",
            "       [ 0.02373838],\n",
            "       [-0.20376594],\n",
            "       [ 0.12703606],\n",
            "       [ 0.22762865],\n",
            "       [-0.12492059],\n",
            "       [-0.06784611],\n",
            "       [ 0.10032973],\n",
            "       [-0.18064044],\n",
            "       [ 0.05290851],\n",
            "       [ 0.24451384],\n",
            "       [-0.2380886 ],\n",
            "       [ 0.06476918],\n",
            "       [-0.15383328],\n",
            "       [ 0.0453916 ],\n",
            "       [-0.18446967],\n",
            "       [ 0.16589141],\n",
            "       [ 0.19684044],\n",
            "       [ 0.1100556 ],\n",
            "       [-0.033209  ]], dtype=float32)}}\n",
            "Biases: {'B_5': {'B1': array([ 0.0162739 , -0.0361683 ,  0.00257946,  0.00695509, -0.01921312],\n",
            "      dtype=float32), 'B2': array([ 0.        , -0.04245566,  0.02558086,  0.00236646, -0.03195881],\n",
            "      dtype=float32), 'B3': array([-0.02087419], dtype=float32)}, 'B_10': {'B1': array([-0.03410118,  0.04462334, -0.03975178, -0.0257979 ,  0.01099551,\n",
            "       -0.0320304 , -0.03425966, -0.02786101, -0.04994806, -0.00880332],\n",
            "      dtype=float32), 'B2': array([-2.3510430e-02, -1.4365209e-02,  2.4258018e-02, -9.0295356e-03,\n",
            "       -3.5271157e-02, -1.3723766e-02,  1.1374868e-02, -1.9053966e-02,\n",
            "       -1.9000636e-02,  9.7119948e-05], dtype=float32), 'B3': array([-0.02519009], dtype=float32)}, 'B_20': {'B1': array([-0.01162687,  0.03473745, -0.02316126, -0.00870111, -0.02216731,\n",
            "        0.03343462, -0.00109741, -0.01579684,  0.02555787,  0.00900752,\n",
            "        0.00602638, -0.0165103 ,  0.00027495, -0.05707575,  0.00985267,\n",
            "       -0.01714423,  0.01060683,  0.01308328, -0.03198381, -0.01856492],\n",
            "      dtype=float32), 'B2': array([ 0.0267092 , -0.00696018,  0.00733688,  0.00063136,  0.        ,\n",
            "       -0.00782897, -0.024996  , -0.00532783, -0.00661379,  0.00184652,\n",
            "       -0.03610156, -0.02580316, -0.00161678,  0.00328122,  0.03595296,\n",
            "        0.03695096,  0.01188905, -0.00202217,  0.00298614,  0.00989436],\n",
            "      dtype=float32), 'B3': array([0.00375638], dtype=float32)}, 'B_30': {'B1': array([ 0.00784605,  0.01590171,  0.02333057,  0.02129872, -0.01947584,\n",
            "       -0.01587381, -0.01136531,  0.00480858, -0.0019235 ,  0.01502252,\n",
            "        0.00741627, -0.01936702,  0.01971707, -0.02437183,  0.01713376,\n",
            "        0.01818261, -0.0089372 , -0.00662302,  0.00835925, -0.00082876,\n",
            "        0.00647213,  0.01165786, -0.01195165,  0.01322831, -0.01011046,\n",
            "       -0.02673758, -0.01793112, -0.02372504,  0.        ,  0.01700387],\n",
            "      dtype=float32), 'B2': array([-0.02327645, -0.01185299, -0.0067552 ,  0.00637955,  0.01699314,\n",
            "       -0.01482481,  0.02060297,  0.00942717, -0.01067239, -0.00313202,\n",
            "       -0.02459643,  0.00759583,  0.00955558, -0.00839109, -0.00287409,\n",
            "        0.00803051, -0.00080965, -0.02051488, -0.01372616, -0.01775765,\n",
            "       -0.02627776, -0.01311835,  0.00699138,  0.02645414,  0.00877687,\n",
            "       -0.00948264, -0.03158041,  0.00480245,  0.00434971, -0.01017773],\n",
            "      dtype=float32), 'B3': array([0.00808986], dtype=float32)}, 'B_40': {'B1': array([-7.07724690e-03, -7.08798319e-03,  5.15684485e-03,  2.29996722e-02,\n",
            "        2.87833100e-05, -4.95582819e-03, -7.70249451e-03,  7.14385463e-03,\n",
            "        3.74503643e-03,  7.77701940e-03,  1.52584026e-03, -5.81979332e-03,\n",
            "       -8.89926963e-03, -3.94247286e-03, -3.62827006e-04, -1.21580334e-02,\n",
            "       -1.81431267e-02, -1.27019524e-03, -5.45406248e-04,  2.87682540e-03,\n",
            "        6.55896123e-03, -4.91992617e-03,  0.00000000e+00, -2.39404887e-02,\n",
            "        1.90239528e-03, -4.90502967e-03, -3.68388230e-03,  6.45863684e-03,\n",
            "        1.35929026e-02,  4.25915653e-03,  1.41780067e-03, -5.38812717e-03,\n",
            "        5.55842044e-03, -1.11813126e-02,  1.15912855e-02, -7.68065453e-03,\n",
            "        9.89964698e-03,  1.34232910e-02,  1.42926928e-02, -2.83828424e-03],\n",
            "      dtype=float32), 'B2': array([-0.00586169, -0.00960965, -0.01662518, -0.00192628,  0.0087885 ,\n",
            "       -0.0088345 , -0.02663474, -0.00781409, -0.00293285, -0.00127511,\n",
            "        0.00628582, -0.00038461, -0.00492497,  0.0157924 ,  0.03241038,\n",
            "        0.00777356,  0.00354162, -0.00771698,  0.0114768 ,  0.00561162,\n",
            "       -0.00501159, -0.03290677, -0.01408122,  0.00640261, -0.00557478,\n",
            "        0.        ,  0.00729467,  0.00479973,  0.00423311, -0.00136694,\n",
            "       -0.01415776, -0.00993146, -0.00774123, -0.02301   , -0.00200291,\n",
            "        0.01253293, -0.00845078,  0.00227105, -0.01637719,  0.00670194],\n",
            "      dtype=float32), 'B3': array([0.00757659], dtype=float32)}, 'B_45': {'B1': array([ 1.1369477e-03,  1.9585723e-02,  0.0000000e+00,  1.1550818e-03,\n",
            "       -7.6586814e-03,  6.4958553e-03,  3.7223003e-03,  1.5362371e-02,\n",
            "       -7.7488641e-03,  1.1348794e-04,  1.0879225e-02,  6.4575667e-03,\n",
            "        0.0000000e+00,  3.5789851e-03,  4.2691822e-03,  2.1789279e-03,\n",
            "       -6.9820639e-03, -4.8835604e-03, -1.7363355e-02, -8.1511969e-03,\n",
            "       -2.5790508e-03, -7.8223879e-03, -5.7197325e-03,  0.0000000e+00,\n",
            "       -2.0633293e-03, -1.0481584e-02,  9.2918314e-03,  3.4864475e-03,\n",
            "        2.3540821e-02,  3.0199604e-03,  1.3016927e-02, -2.2629740e-02,\n",
            "        1.4570189e-02, -1.4384644e-02, -6.0678227e-04,  1.0711739e-02,\n",
            "       -1.3033345e-02, -4.8881825e-03,  1.0533442e-02, -1.8790936e-02,\n",
            "        9.6254982e-05,  3.3160662e-03, -5.3643682e-03, -1.4313541e-03,\n",
            "        7.8296033e-04], dtype=float32), 'B2': array([ 0.00080279, -0.01075438,  0.        ,  0.00683417, -0.00092021,\n",
            "       -0.01845815, -0.01344148, -0.00764033,  0.00720858,  0.00676784,\n",
            "       -0.00077083,  0.00359002, -0.00489357, -0.0157348 ,  0.00891516,\n",
            "       -0.0076082 ,  0.00625978, -0.00523725,  0.01370942,  0.00403565,\n",
            "        0.00242002,  0.00667413,  0.00682659,  0.00986036, -0.00867492,\n",
            "       -0.01448395, -0.00805474, -0.01436065, -0.00701126,  0.00089052,\n",
            "        0.00282341,  0.0063454 ,  0.0042838 ,  0.00688279,  0.03440525,\n",
            "       -0.00419859, -0.00108072, -0.00718854,  0.01416129,  0.00764882,\n",
            "       -0.00886461,  0.00741946,  0.03082231, -0.01465685, -0.00272462],\n",
            "      dtype=float32), 'B3': array([0.00687049], dtype=float32)}, 'B_50': {'B1': array([-0.01315917, -0.002325  , -0.00278679, -0.00735919, -0.00015486,\n",
            "       -0.00043257,  0.00293001,  0.00289967, -0.00015358, -0.00044406,\n",
            "       -0.00597217,  0.00214021,  0.00629177, -0.00520415,  0.00364688,\n",
            "       -0.01474749,  0.00117409,  0.00123629, -0.01184784, -0.00111839,\n",
            "        0.00047646,  0.00767964, -0.0017331 , -0.00311432,  0.00357007,\n",
            "        0.00033562, -0.00615023, -0.02059035, -0.00722697,  0.00907667,\n",
            "        0.0222605 , -0.00574975,  0.00217234,  0.00111205, -0.00272393,\n",
            "       -0.01465581, -0.00286262, -0.01440757,  0.00104396, -0.02038347,\n",
            "       -0.01725281,  0.01506519, -0.00369376,  0.01571671,  0.00515382,\n",
            "        0.00476285, -0.00460429, -0.00695746, -0.00065057,  0.01061392],\n",
            "      dtype=float32), 'B2': array([ 0.00618162, -0.02610866, -0.00375181, -0.00636705, -0.00362168,\n",
            "        0.00770264,  0.00083052,  0.0023414 , -0.02143531,  0.00625172,\n",
            "       -0.00300666,  0.00278966, -0.01019234, -0.00624672, -0.01029541,\n",
            "        0.0029383 , -0.00221518, -0.00194427, -0.00201644,  0.00665446,\n",
            "       -0.004643  ,  0.0071342 ,  0.01092708, -0.00300291, -0.0110556 ,\n",
            "       -0.00135651,  0.00149232, -0.00464527,  0.00287557,  0.00111577,\n",
            "        0.00751441,  0.00616773,  0.00776822,  0.01391105, -0.00737007,\n",
            "       -0.00393811,  0.00149772, -0.00985042,  0.02837522,  0.00847561,\n",
            "       -0.00558533, -0.00083721, -0.00672801, -0.01625798,  0.01491541,\n",
            "        0.00248417,  0.02258941, -0.0026059 ,  0.00614761, -0.0220405 ],\n",
            "      dtype=float32), 'B3': array([0.00227114], dtype=float32)}, 'B_100': {'B1': array([-4.71378677e-03, -2.44601234e-03,  1.35030411e-03,  9.02046333e-04,\n",
            "       -2.59535480e-03,  5.60972281e-03, -7.29736057e-04,  2.38409452e-03,\n",
            "       -4.42490634e-03, -6.60043396e-03, -1.17074903e-02,  5.74533455e-03,\n",
            "       -3.51102045e-03,  4.69938852e-03,  3.19987512e-03, -7.65589019e-03,\n",
            "        3.37207830e-03,  2.20459327e-03,  5.36646554e-03, -2.47168657e-03,\n",
            "       -8.60383734e-05,  2.96891178e-03, -9.01468471e-03,  1.91848818e-03,\n",
            "       -1.22638792e-03, -5.39274327e-03,  2.85823713e-03,  6.89223967e-03,\n",
            "       -3.65556404e-03,  3.17802653e-03, -2.63247173e-04,  5.17539121e-03,\n",
            "       -3.20512499e-03,  8.86359485e-05, -4.14997153e-03,  1.05246727e-03,\n",
            "        1.02877934e-02,  4.08608466e-03, -2.78112385e-03, -8.39863066e-03,\n",
            "       -4.13032249e-03, -1.26909930e-03,  5.79040172e-03, -1.05059939e-02,\n",
            "        1.05259055e-02, -4.56585316e-03, -1.25860551e-03, -1.83028786e-03,\n",
            "       -2.99777905e-03,  6.72312500e-03,  1.23985764e-03,  0.00000000e+00,\n",
            "       -7.13876821e-03,  4.59404895e-03, -5.60051715e-03, -2.01592338e-03,\n",
            "       -3.97199905e-03, -3.51178367e-03, -5.60851581e-03, -3.06882872e-03,\n",
            "       -1.48330990e-03,  2.17409525e-03,  1.28648535e-03,  1.15367230e-02,\n",
            "       -3.86087364e-03, -7.04662316e-03,  4.97734873e-03, -2.41362280e-03,\n",
            "       -4.07150900e-03,  1.17876125e-03, -1.99129991e-03,  7.06514344e-03,\n",
            "       -1.93058141e-03, -3.28081613e-03,  3.57187679e-03, -7.50012835e-03,\n",
            "        0.00000000e+00,  5.27781202e-03, -4.61581047e-04, -3.69072892e-03,\n",
            "        2.44189939e-03,  1.08784828e-02,  3.68020311e-03, -5.34155685e-03,\n",
            "       -2.31964327e-03, -3.44962347e-03,  1.24214133e-02, -1.38666248e-04,\n",
            "       -9.48526023e-04,  1.55185871e-02, -6.55082229e-04,  2.83694360e-04,\n",
            "        1.96767855e-04, -4.89845546e-03, -4.98669036e-03, -1.02756452e-03,\n",
            "       -8.25284421e-03, -1.45890592e-02,  3.73941055e-03,  1.53318215e-02],\n",
            "      dtype=float32), 'B2': array([-3.3957278e-04,  1.4954817e-03, -8.7866802e-03, -1.0634563e-04,\n",
            "       -5.6023952e-03, -4.3369676e-03, -3.4091412e-04, -2.0930166e-03,\n",
            "       -9.7453664e-04, -3.9704847e-03,  8.0679767e-03, -1.1236011e-04,\n",
            "        1.3406754e-03,  2.6509436e-03, -1.3991948e-03, -1.2038992e-03,\n",
            "       -2.2816581e-03,  1.0484268e-03,  3.8516135e-03, -5.0004218e-03,\n",
            "        7.0910258e-03, -5.4550782e-04,  3.5732002e-03,  1.1231814e-03,\n",
            "        1.1781880e-02,  8.3678379e-04, -7.6409765e-03,  5.2671088e-03,\n",
            "        9.4566289e-03, -1.8280009e-02, -2.1781975e-02, -3.8198859e-03,\n",
            "        1.1649701e-02, -8.1470730e-03,  1.9419515e-03,  1.1808708e-03,\n",
            "        3.5689462e-03, -1.9651810e-02, -8.1780953e-03, -1.1304871e-03,\n",
            "       -6.8604946e-03, -7.5185217e-04,  0.0000000e+00, -1.1179189e-03,\n",
            "        7.2125969e-03,  1.3374437e-03,  8.0015389e-03,  1.6365628e-03,\n",
            "       -8.2832179e-04,  3.1015840e-03,  9.0761380e-03,  3.8768025e-03,\n",
            "       -1.0876291e-03, -2.2763554e-03,  1.1442564e-03, -1.2385639e-03,\n",
            "        2.6135810e-02,  5.3134509e-03, -1.5277410e-02, -1.4620197e-03,\n",
            "       -1.9372555e-03,  1.2919772e-04,  3.9985194e-03, -1.6764159e-03,\n",
            "       -1.4590868e-03,  3.5475555e-03, -6.3516209e-03, -1.6949637e-02,\n",
            "        1.9947677e-03,  8.7337987e-03,  1.3110908e-03, -3.9331866e-03,\n",
            "        8.9031495e-03,  1.4446215e-03,  8.6639007e-04, -5.6798803e-05,\n",
            "        1.4759538e-03, -2.9557953e-03, -6.6359369e-03, -4.4890731e-03,\n",
            "       -7.2589847e-03, -2.3608315e-03, -8.6935703e-05,  1.6654420e-03,\n",
            "       -5.1348465e-03, -4.6857027e-03,  2.0613498e-03,  1.0323652e-02,\n",
            "        5.1779873e-03,  5.6391391e-03,  1.0634143e-02,  4.9624015e-03,\n",
            "       -2.0033787e-03,  8.2819052e-03, -9.9406438e-04, -6.5955794e-03,\n",
            "        0.0000000e+00, -2.2241247e-03,  4.0091453e-03,  4.0634717e-03],\n",
            "      dtype=float32), 'B3': array([-0.00109652], dtype=float32)}}\n"
          ],
          "name": "stdout"
        }
      ]
    },
    {
      "cell_type": "code",
      "metadata": {
        "id": "Cd6N0C613XTT",
        "colab_type": "code",
        "outputId": "736d6258-dd4c-4604-9c0f-ee9072d881bb",
        "colab": {
          "base_uri": "https://localhost:8080/",
          "height": 870
        }
      },
      "source": [
        "rt_output = dict()\n",
        "for feats in numfeats:\n",
        "  print(\"Processing:\", feats)\n",
        "  weight = weights['W_'+str(feats)]\n",
        "  bias = biases['B_'+str(feats)]\n",
        "  rt_output['output_'+str(feats)] = MLPSolverBuilder2(weight, bias, bandwidth= 0.05, delta_range = (-2, 2), check = True)"
      ],
      "execution_count": 0,
      "outputs": [
        {
          "output_type": "stream",
          "text": [
            "Processing: 5\n",
            "Debug dimensions\n",
            "Length of deltas: 5\n",
            "Shape of W: [(5, 5), (5, 5), (5, 1)]\n",
            "Shape of B: [(5,), (5,), (1,)]\n",
            "Shape of Z: [(5, 10000), (5, 10000), (1, 10000)]\n",
            "Shape of A: [(5, 10000), (5, 10000), (5, 10000)]\n",
            "sat\n",
            "[d0 = -1,\n",
            " d1 = -1,\n",
            " d2 = -1,\n",
            " d3 = -1,\n",
            " d4 = 1,\n",
            " a0_1 = 94225060756083054895915396895715645408596387824345188149937408873398807625047452751827/19811348458998681566241523080082531903445683197319807181963361801090265114418956612700,\n",
            " a0_2 = 1180734474187617157813772341247490183836323959635906844944102779038826879367049504517/396226969179973631324830461601650638068913663946396143639267236021805302288379132254,\n",
            " a0_3 = 133067299805261291385169077099100710679643473234691898384719683375462959507822457623669/69339719606495385481845330780288861662059891190619325136871766303815927900466348144450,\n",
            " a0_4 = 79343357046010409560126112601170664473235333927083617421442029877655573946688476929657/13867943921299077096369066156057772332411978238123865027374353260763185580093269628890,\n",
            " a0_5 = 55231480339197565343756093377527140595040818851887769656187048250609682171656368574218/6933971960649538548184533078028886166205989119061932513687176630381592790046634814445,\n",
            " z3_1 = -10092302430071572774172675563037/64000000000000000000000000000000000,\n",
            " a2_5 = 37557780668139453/640000000000000000,\n",
            " a2_4 = 0,\n",
            " a2_3 = 0,\n",
            " a2_2 = 10129334777593569/12800000000000000000,\n",
            " a2_1 = 0,\n",
            " z2_5 = 37557780668139453/640000000000000000,\n",
            " z2_4 = -26285811761021614633/12800000000000000000,\n",
            " z2_3 = -9720242794789373817/12800000000000000000,\n",
            " z2_2 = 10129334777593569/12800000000000000000,\n",
            " z2_1 = -22398919063806534257/12800000000000000000,\n",
            " a1_5 = 531/256,\n",
            " a1_4 = 1,\n",
            " a1_3 = 1/64,\n",
            " a1_2 = 1/2,\n",
            " a1_1 = 1/8,\n",
            " z1_5 = 531/256,\n",
            " z1_4 = 1,\n",
            " z1_3 = 1/64,\n",
            " z1_2 = 1/2,\n",
            " z1_1 = 1/8]\n",
            "\n",
            "Computation time = 553.6203010000022ms\n",
            "Solved sample: [94225060756083054895915396895715645408596387824345188149937408873398807625047452751827/19811348458998681566241523080082531903445683197319807181963361801090265114418956612700, 1180734474187617157813772341247490183836323959635906844944102779038826879367049504517/396226969179973631324830461601650638068913663946396143639267236021805302288379132254, 133067299805261291385169077099100710679643473234691898384719683375462959507822457623669/69339719606495385481845330780288861662059891190619325136871766303815927900466348144450, 79343357046010409560126112601170664473235333927083617421442029877655573946688476929657/13867943921299077096369066156057772332411978238123865027374353260763185580093269628890, 55231480339197565343756093377527140595040818851887769656187048250609682171656368574218/6933971960649538548184533078028886166205989119061932513687176630381592790046634814445]\n",
            "Processing: 10\n",
            "Debug dimensions\n",
            "Length of deltas: 10\n",
            "Shape of W: [(10, 10), (10, 10), (10, 1)]\n",
            "Shape of B: [(10,), (10,), (1,)]\n",
            "Shape of Z: [(5, 10000), (5, 10000), (1, 10000)]\n",
            "Shape of A: [(5, 10000), (5, 10000), (5, 10000)]\n"
          ],
          "name": "stdout"
        }
      ]
    },
    {
      "cell_type": "code",
      "metadata": {
        "id": "kn9jTzep42v-",
        "colab_type": "code",
        "outputId": "3dd6a11d-9953-4917-9d2a-94547dfc8f77",
        "colab": {
          "base_uri": "https://localhost:8080/",
          "height": 34
        }
      },
      "source": [
        "type(W)"
      ],
      "execution_count": 0,
      "outputs": [
        {
          "output_type": "execute_result",
          "data": {
            "text/plain": [
              "dict"
            ]
          },
          "metadata": {
            "tags": []
          },
          "execution_count": 64
        }
      ]
    },
    {
      "cell_type": "markdown",
      "metadata": {
        "id": "yQkDayMNPRpm",
        "colab_type": "text"
      },
      "source": [
        "Show some experiments where they are satisfiable and unsatisfiable plus RT, ratio of k and m."
      ]
    },
    {
      "cell_type": "markdown",
      "metadata": {
        "id": "NXsMVAY30Jng",
        "colab_type": "text"
      },
      "source": [
        "## Alternative 3. Transformed input"
      ]
    },
    {
      "cell_type": "code",
      "metadata": {
        "id": "gzmmGzQQ0fYj",
        "colab_type": "code",
        "colab": {}
      },
      "source": [
        "#Set up solver here\n",
        "def MLPSolverBuilder3(W, B, sample, change_range, delta_range, target_value, check = False):\n",
        "  \"\"\"\n",
        "  This function builds a solver for an MLP type of DNN. And the activation function in the hidden layers is ReLU. \n",
        "  The final neuron that is computed is the linear forward in the output layer.\n",
        "  Inputs: \n",
        "    W, B - trained weight matrix and bias matrix,\n",
        "    sample - sample input\n",
        "    change_rng - range of possible values for the change applied to each input\n",
        "    delta_rng - range of weight delta applied in target weight layer; here, the output layer\n",
        "    target_value - the target tweaked value from the original output\n",
        "    check - prints out Solver output; default is False\n",
        "\n",
        "  Return: A dictionary containing solver output, sensitive sample, and runtime\n",
        "  \"\"\"\n",
        "\n",
        "  #Step 1: Instantiate Z3 variables\n",
        "  variables = dict()\n",
        "\n",
        "  #Linear forward variables\n",
        "  for layer in range(len(W)):\n",
        "      variables['z' + str(layer+1)] = list()\n",
        "      variables['z' + str(layer+1) + \"_c\"] = list()\n",
        "      for neuron in range(W['W'+str(layer+1)].shape[0]):\n",
        "          variables['z' + str(layer+1)].append(Real('z' + str(layer+1) + \"_\" + str(neuron+1)))\n",
        "          variables['z' + str(layer+1) + \"_c\"].append(Real('z' + str(layer+1) + \"_c\" + str(neuron+1)))\n",
        "\n",
        "  #Activation variables\n",
        "  for layer in range(len(W)):\n",
        "      variables['a' + str(layer)] = list()\n",
        "      variables['a' + str(layer) + \"_c\"] = list()\n",
        "      for neuron in range(W['W'+str(layer+1)].shape[0]):\n",
        "          variables['a' + str(layer)].append(Real('a' + str(layer) + \"_\" + str(neuron+1)))\n",
        "          variables['a' + str(layer) + \"_c\"].append(Real('a' + str(layer) + \"_c\" + str(neuron+1)))\n",
        "  print(variables['a0_c'])\n",
        "  #Transformed inputs and change variables for the inputs\n",
        "  variables['c'] = list()\n",
        "  for neuron in range(len(variables['a0'])):\n",
        "    variables['c'].append(Real('c'+str(neuron+1)))\n",
        "  \n",
        "\n",
        "  #Dot product between the parameters and the z3 variables to spell out the formulas\n",
        "  formulas = dict()\n",
        "  for layer in range(len(W)):\n",
        "      #Original\n",
        "      weights = np.vstack((W['W'+str(layer+1)], B['B'+str(layer+1)]))\n",
        "      var = variables['a'+str(layer)].copy()\n",
        "      var.append(1)\n",
        "      formulas['z'+str(layer+1)] = np.dot(weights.T, var)\n",
        "\n",
        "      #Transformed\n",
        "      var_c = variables['a'+str(layer) + \"_c\"].copy()\n",
        "      var_c.append(1)\n",
        "      formulas['z'+str(layer+1) + \"_c\"] = np.dot(weights.T, var_c)\n",
        "  \n",
        "  # for input in range(len(variables['a0_c'])):\n",
        "  #   formulas['a0_c'][input] = variables['a0'][input] + variables['c'][input]\n",
        "  # print(formulas['a0_c'])\n",
        "  #I was born a leader after all. This time I will not leave my subjects behind!\n",
        "  \n",
        "  #Review from here.\n",
        "  #Step 2. Set up the solver\n",
        "  S = Solver()\n",
        "\n",
        "  #Linear formulas\n",
        "  for layer in range(len(W)):\n",
        "      for neuron in range(len(formulas['z'+str(layer+1)])):\n",
        "          #Original\n",
        "          S.add(variables['z' + str(layer+1)][neuron] == formulas['z'+str(layer+1)][neuron])\n",
        "\n",
        "          #Transformed\n",
        "          S.add(variables['z' + str(layer+1) + \"_c\"][neuron] == formulas['z'+str(layer+1)+\"_c\"][neuron])\n",
        "          \n",
        "  #Activation formulas\n",
        "  if len(W)>1:\n",
        "      for layer in range(1, len(W)):\n",
        "          #Original\n",
        "          for neuron in range(len(variables['a'+str(layer)])):\n",
        "              S.add(variables['a'+str(layer)][neuron] == ReLU_z3(variables['z'+str(layer)][neuron]))\n",
        "          \n",
        "          #Transformed\n",
        "          for neuron in range(len(variables['a'+str(layer)])):\n",
        "              S.add(variables['a'+str(layer)+\"_c\"][neuron] == ReLU_z3(variables['z'+str(layer)+\"_c\"][neuron]))\n",
        "\n",
        "\n",
        "  #Instantiate delta variables in the output layer\n",
        "  deltas = list()\n",
        "  for neuron in range(len(A['A'+str(len(W)-1)])):\n",
        "      deltas.append(Real('d'+str(neuron)))\n",
        "\n",
        "  #Additional conditions/formula(s)\n",
        "  ##Given sample input\n",
        "  for input in range(len(variables['a0'])):\n",
        "    S.add(variables['a0'][input] == sample[0, input]) #Here we fix the points of the sample input\n",
        "\n",
        "  ##Transformed input\n",
        "  for input in range(len(variables['a0_c'])):\n",
        "    S.add(variables['a0_c'][input] == variables['a0'][input] + variables['c'][input])\n",
        "\n",
        "  ##Range of each input change\n",
        "  for change in range(len(variables['c'])):\n",
        "    S.add(And(variables['c'][change] >= change_range[0], variables['c'][change] <= change_range[1]))\n",
        "  S.add(np.sum(np.array(variables['c'])**2)!=0) #the change variables should not all be equal to zero\n",
        "\n",
        "  ##We add z[3] + target value\n",
        "  S.add(variables['z'+str(len(W))][0] + target_value < variables['z'+str(len(W))+\"_c\"][0])\n",
        "\n",
        "  ##Range of each delta\n",
        "  dmin = delta_range[0] #min delta\n",
        "  dmax = delta_range[1] #max delta\n",
        "  for delta in deltas:\n",
        "      S.add(And(delta>=dmin, delta<=dmax))\n",
        "  S.add(np.sum(np.array(deltas)**2)!=0) #the deltas should not all be equal to zero\n",
        "  \n",
        "  #Check model\n",
        "  runtime = CheckModel(S, check)\n",
        "  if check is True:\n",
        "    S\n",
        "  #Store the change variables if satisfiable\n",
        "  change_vars = SensitiveSample(S, variables['c'])\n",
        "  solved_deltas = SensitiveSample(S, deltas)\n",
        "  print(\"Solved change variables:\", change_vars)\n",
        "  print(\"Solved weight deltas:\", solved_deltas)\n",
        "\n",
        "  output = dict()\n",
        "  output['model'] = S\n",
        "  output['change_vars'] = change_vars\n",
        "  output['solved_deltas'] = solved_deltas\n",
        "  output['runtime'] = runtime\n",
        "  return output               "
      ],
      "execution_count": 0,
      "outputs": []
    },
    {
      "cell_type": "code",
      "metadata": {
        "id": "zpBNjqEaWoon",
        "colab_type": "code",
        "colab": {}
      },
      "source": [
        "def printOutputStats3(sample, W, B, change, deltas):\n",
        "  \"\"\"\n",
        "  This function prints output stats for Alternative 3.\n",
        "  Inputs:\n",
        "    sample - the given sample\n",
        "    W - weight matrix\n",
        "    change - the solved change variables applied to the sample\n",
        "    deltas - the solved deltas applied to the target weights in W\n",
        "  \"\"\"\n",
        "  sens_sample = sample + change\n",
        "  tweaked_W = W.copy()\n",
        "  tweaked_W['W3'] = tweaked_W['W3'] + deltas.T\n",
        "  print(\"Sample:\", x)\n",
        "  print(\"Norm of sample:\", np.linalg.norm(x))\n",
        "  print(\"Solved change vars:\", change)\n",
        "  print(\"Solved deltas:\", deltas)\n",
        "  print(\"Transformed sample:\", sens_sample)\n",
        "  print(\"Norm of sens sample:\", np.linalg.norm(sens_sample))\n",
        "  print(\"Original prediction:\", ForwardProp(sens_sample, W, B)['yhat'][0][0])\n",
        "  print(\"Tweaked prediction:\", ForwardProp(sens_sample, tweaked_W, B)['yhat'][0][0])\n",
        "  print(\"Sensitivity:\", np.abs(ForwardProp(sens_sample, W, B)['yhat'] - ForwardProp(sens_sample, tweaked_W, B)['yhat'])[0][0])"
      ],
      "execution_count": 0,
      "outputs": []
    },
    {
      "cell_type": "code",
      "metadata": {
        "id": "JquhLZ5CVoAX",
        "colab_type": "code",
        "outputId": "679ed0a8-baff-4480-c6eb-07e91c65c7f0",
        "colab": {
          "base_uri": "https://localhost:8080/",
          "height": 68
        }
      },
      "source": [
        "#We take a training sample\n",
        "x = np.array([data['feats_5'][0]])\n",
        "\n",
        "model = tf.keras.models.load_model(\"/content/gdrive/My Drive/simulated_mlp_feats5.h5\")\n",
        "params = StoreParams(model.get_weights())\n",
        "W = params['W']\n",
        "B = params['B']\n",
        "print(\"Sample:\", x, \"\\nModel prediction:\", ForwardProp(x, W, B)['yhat'][0][0])"
      ],
      "execution_count": 0,
      "outputs": [
        {
          "output_type": "stream",
          "text": [
            "WARNING:tensorflow:Error in loading the saved optimizer state. As a result, your model is starting with a freshly initialized optimizer.\n",
            "Sample: [[0.18431373 0.82745098 0.14901961 0.20784314 0.8       ]] \n",
            "Model prediction: 0.49960906626611296\n"
          ],
          "name": "stdout"
        }
      ]
    },
    {
      "cell_type": "code",
      "metadata": {
        "id": "mIDpDtl7yMlr",
        "colab_type": "code",
        "outputId": "46bafaee-349e-4b9e-aad0-b6adb010c5bd",
        "colab": {
          "base_uri": "https://localhost:8080/",
          "height": 119
        }
      },
      "source": [
        "#Experiment 1\n",
        "exp1 = MLPSolverBuilder3(W, B, x, change_range = (-0.10, 0.10), delta_range = (-0.5, 0.5), target_value = 0.01, check = False)"
      ],
      "execution_count": 0,
      "outputs": [
        {
          "output_type": "stream",
          "text": [
            "[a0_c1, a0_c2, a0_c3, a0_c4, a0_c5]\n",
            "sat\n",
            "\n",
            "Computation time = 182.10486200001696ms\n",
            "Solved change variables: [0, 1/16, 1/16, 3/32, 1/16]\n",
            "Solved weight deltas: [0, 0, 0, 0, -1/4]\n"
          ],
          "name": "stdout"
        }
      ]
    },
    {
      "cell_type": "code",
      "metadata": {
        "id": "8bfiS4ioTuC8",
        "colab_type": "code",
        "outputId": "1625764a-ad00-4567-f394-41a296200f20",
        "colab": {
          "base_uri": "https://localhost:8080/",
          "height": 170
        }
      },
      "source": [
        "change = np.array([0, 1/16, 1/16, 3/32, 1/16])\n",
        "deltas = np.array([[0, 0, 0, 0, -1/4]])\n",
        "printOutputStats3(x, W, B, change, deltas)"
      ],
      "execution_count": 0,
      "outputs": [
        {
          "output_type": "stream",
          "text": [
            "Sample: [[0.18431373 0.82745098 0.14901961 0.20784314 0.8       ]]\n",
            "Norm of sample: 1.1933366195595019\n",
            "Solved change vars: [0.      0.0625  0.0625  0.09375 0.0625 ]\n",
            "Solved deltas: [[ 0.    0.    0.    0.   -0.25]]\n",
            "Transformed sample: [[0.18431373 0.88995098 0.21151961 0.30159314 0.8625    ]]\n",
            "Norm of sens sample: 1.3059822019638725\n",
            "Original prediction: 0.5021528402583426\n",
            "Tweaked prediction: 0.4931192645488588\n",
            "Sensitivity: 0.009033575709483821\n"
          ],
          "name": "stdout"
        }
      ]
    },
    {
      "cell_type": "code",
      "metadata": {
        "id": "zyZ652lNRkYK",
        "colab_type": "code",
        "outputId": "279ed09e-a295-45bd-c1ae-6fc45fd58669",
        "colab": {
          "base_uri": "https://localhost:8080/",
          "height": 119
        }
      },
      "source": [
        "#Experiment 2\n",
        "exp2 = MLPSolverBuilder3(W, B, x, change_range = (-0.10, 0.10), delta_range = (-0.5, 0.5), target_value = 0.02, check = False)"
      ],
      "execution_count": 0,
      "outputs": [
        {
          "output_type": "stream",
          "text": [
            "[a0_c1, a0_c2, a0_c3, a0_c4, a0_c5]\n",
            "sat\n",
            "\n",
            "Computation time = 243.0367139999987ms\n",
            "Solved change variables: [-3/32, -1/16, -819/8192, -861/16384, 6553/65536]\n",
            "Solved weight deltas: [0, 0, 0, 0, -1/4]\n"
          ],
          "name": "stdout"
        }
      ]
    },
    {
      "cell_type": "code",
      "metadata": {
        "id": "LEy_V7FCYYgL",
        "colab_type": "code",
        "outputId": "0210c92a-7688-4381-88fc-64d55c54c626",
        "colab": {
          "base_uri": "https://localhost:8080/",
          "height": 170
        }
      },
      "source": [
        "change = np.array([-3/32, -1/16, -819/8192, -861/16384, 6553/65536])\n",
        "deltas = np.array([[0, 0, 0, 0, -1/4]])\n",
        "printOutputStats3(x, W, B, change, deltas)"
      ],
      "execution_count": 0,
      "outputs": [
        {
          "output_type": "stream",
          "text": [
            "Sample: [[0.18431373 0.82745098 0.14901961 0.20784314 0.8       ]]\n",
            "Norm of sample: 1.1933366195595019\n",
            "Solved change vars: [-0.09375    -0.0625     -0.09997559 -0.05255127  0.09999084]\n",
            "Solved deltas: [[ 0.    0.    0.    0.   -0.25]]\n",
            "Transformed sample: [[0.09056373 0.76495098 0.04904402 0.15529187 0.89999084]]\n",
            "Norm of sens sample: 1.195765943500231\n",
            "Original prediction: 0.5046091491587059\n",
            "Tweaked prediction: 0.4974780511347754\n",
            "Sensitivity: 0.007131098023930527\n"
          ],
          "name": "stdout"
        }
      ]
    },
    {
      "cell_type": "code",
      "metadata": {
        "id": "0wPQ2lCHagg_",
        "colab_type": "code",
        "outputId": "fe7e7512-71ec-442e-de1a-19a6374ad435",
        "colab": {
          "base_uri": "https://localhost:8080/",
          "height": 153
        }
      },
      "source": [
        "#Experiment 3\n",
        "S3 = MLPSolverBuilder3(W, B, x, change_range = (-0.10, 0.10), delta_range = (-0.5, 0.5), target_value = 0.10, check = False)"
      ],
      "execution_count": 0,
      "outputs": [
        {
          "output_type": "stream",
          "text": [
            "[a0_c1, a0_c2, a0_c3, a0_c4, a0_c5]\n",
            "unsat\n",
            "\n",
            "Computation time = 179.46273800004064ms\n",
            "Model unsatisfiable\n",
            "Model unsatisfiable\n",
            "Solved change variables: None\n",
            "Solved weight deltas: None\n"
          ],
          "name": "stdout"
        }
      ]
    },
    {
      "cell_type": "markdown",
      "metadata": {
        "id": "JVFpBg5WRDbS",
        "colab_type": "text"
      },
      "source": [
        "## Graphs to show/explore\n",
        "1. Sensitivity of sensitive sample compared to other possibles samples (norm).\n",
        "2. For a given target layer, the sensitivity of our sample based on our presumed level of delta compared to other possible levels of delta.\n",
        "3. Runtime of solving sensitive samples as we increase the number of neurons in the network: larger sample features, more nuerons in the hidden layers.\n",
        "4. Sensitivity of different samples taken from different layers but all amount to the same target output value\n"
      ]
    }
  ]
}